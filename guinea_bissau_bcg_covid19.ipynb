{
  "nbformat": 4,
  "nbformat_minor": 0,
  "metadata": {
    "kernelspec": {
      "language": "python",
      "display_name": "Python 3",
      "name": "python3"
    },
    "language_info": {
      "pygments_lexer": "ipython3",
      "nbconvert_exporter": "python",
      "version": "3.6.4",
      "file_extension": ".py",
      "codemirror_mode": {
        "name": "ipython",
        "version": 3
      },
      "name": "python",
      "mimetype": "text/x-python"
    },
    "colab": {
      "name": "guinea-bissau-bcg-covid19.ipynb",
      "provenance": [],
      "collapsed_sections": [
        "gkLspakIQ988",
        "bcuSZaffQ988",
        "67fFQGhaQ98_",
        "iJnLpunCQ99A",
        "QeB1h6hhQ99B",
        "PwO002iWQ99B"
      ],
      "include_colab_link": true
    }
  },
  "cells": [
    {
      "cell_type": "markdown",
      "metadata": {
        "id": "view-in-github",
        "colab_type": "text"
      },
      "source": [
        "<a href=\"https://colab.research.google.com/github/everestso/Fall2021/blob/main/guinea_bissau_bcg_covid19.ipynb\" target=\"_parent\"><img src=\"https://colab.research.google.com/assets/colab-badge.svg\" alt=\"Open In Colab\"/></a>"
      ]
    },
    {
      "cell_type": "markdown",
      "metadata": {
        "id": "QcBwfpY2Q98y"
      },
      "source": [
        "#Low birth weight infants and Calmette-Guérin bacillus vaccination at birth: community study from Guinea-Bissau\n",
        "\n",
        "By Adam Roth , Henrik Jensen, May-Lill Garly, Queba Djana, Cesário Lourenco Martins, Morten Sodemann, Amabelia Rodrigues, Peter Aaby\n",
        "PMID: 15194836 DOI: 10.1097/01.inf.0000129693.81082.a0\n",
        "\n",
        "In developing countries, low birth weight (LBW) children are often not vaccinated with Calmette-Guérin bacillus (BCG) at birth. Recent studies have suggested that BCG may have a nonspecific beneficial effect on infant mortality. They evaluated the consequences of not vaccinating LBW (low birth weight) children at birth in Guinea-Bissau.\n",
        "\n",
        "Between 1989 and 1999, 7138 children born at the central hospital had a birth weight registered. They assessed BCG coverage until 3 years of age. Data on tuberculin skin test (TST) for 297 children and BCG scar for 1319 children in the study population were reanalyzed for differences between normal birth weight (NBW) children and LBW children. They assessed the effect of early BCG vaccination on mortality to 12 months of age.\n",
        "\n",
        "Among LBW children there were 1.5- to 3-fold more unvaccinated individuals than among NBW children up to 4 months of age. There was no overall difference between LBW and NBW children in TST or BCG scarring; LBW children vaccinated early may have had slightly reduced reactions to tuberculin. Among 845 LBW children, 182 had received BCG within the first week of life. Controlling for background factors and censoring at first diphtheria-tetanuspertussis vaccination, measles vaccination or at 6 months of age (whichever came first), the mortality rate ratio for BCG-vaccinated versus -unvaccinated LBW children was 0.17 (95 per cent confidence interval, 0.06-0.49), with an even stronger effect for LBW children vaccinated in the first week of life (mortality rate ratio, 0.07; 95 per cent confidence interval, 0.01-0.62).\n",
        "\n",
        "The policy of not vaccinating with BCG at birth had a negative impact on vaccination coverage for LBW children. Early BCG vaccination had no large negative impact on TST and BCG scarring. Mortality was lower for BCG-vaccinated than for unvaccinated LBW children controlling for available background factors. BCG vaccination of LBW children may have a beneficial effect on survival that cannot be explained by protection against tuberculosis. Future studies should examine possible adverse effects from equalizing BCG policy for LBW and NBW children.https://pubmed.ncbi.nlm.nih.gov/15194836/"
      ]
    },
    {
      "cell_type": "markdown",
      "metadata": {
        "id": "QpDIgIthQ981"
      },
      "source": [
        "![](https://encrypted-tbn0.gstatic.com/images?q=tbn%3AANd9GcTQXRC8iSNx0JbH7N0C_bA-bmOPqbJtVN1gG_3bi0536aQL9LEnM3_5eCRG0r8wOyxo0hMTP4NsQHrM00oac5MNIQ&usqp=CAU&ec=45687378)covid19gb.com"
      ]
    },
    {
      "cell_type": "code",
      "metadata": {
        "_uuid": "8f2839f25d086af736a60e9eeb907d3b93b6e0e5",
        "_cell_guid": "b1076dfc-b9ad-4769-8c92-a6c4dae69d19",
        "_kg_hide-output": true,
        "collapsed": true,
        "jupyter": {
          "outputs_hidden": true
        },
        "trusted": true,
        "id": "DXrbMZ3VQ982"
      },
      "source": [
        "# This Python 3 environment comes with many helpful analytics libraries installed\n",
        "# It is defined by the kaggle/python Docker image: https://github.com/kaggle/docker-python\n",
        "# For example, here's several helpful packages to load\n",
        "\n",
        "import numpy as np # linear algebra\n",
        "import pandas as pd # data processing, CSV file I/O (e.g. pd.read_csv)\n",
        "import matplotlib.pyplot as plt\n",
        "%matplotlib inline\n",
        "import seaborn as sns\n",
        "import plotly.express as px\n",
        "import plotly.graph_objects as go\n",
        "import plotly.offline as py\n",
        "import plotly.express as px\n",
        "\n",
        "# Input data files are available in the read-only \"../input/\" directory\n",
        "# For example, running this (by clicking run or pressing Shift+Enter) will list all files under the input directory\n",
        "\n",
        "import os\n",
        "for dirname, _, filenames in os.walk('/kaggle/input'):\n",
        "    for filename in filenames:\n",
        "        print(os.path.join(dirname, filename))\n",
        "\n",
        "# You can write up to 5GB to the current directory (/kaggle/working/) that gets preserved as output when you create a version using \"Save & Run All\" \n",
        "# You can also write temporary files to /kaggle/temp/, but they won't be saved outside of the current session"
      ],
      "execution_count": 15,
      "outputs": []
    },
    {
      "cell_type": "markdown",
      "metadata": {
        "id": "QcHLrVEnQ984"
      },
      "source": [
        "#Coronavirus Drugs—To Have and Have Not by Joelle Dountio O.\n",
        "Africa's least developed countries should apply a WTO patent waiver, to import generic versions of future COVID-19 drugs\n",
        "\n",
        "![](https://www.thinkglobalhealth.org/sites/default/files/2020-05/Joelle.Ofimboudem-CoV-Patents-4.30.20-RTX7EKXB-THREE-TWO.jpg)https://www.thinkglobalhealth.org/tag/guinea-bissau"
      ]
    },
    {
      "cell_type": "markdown",
      "metadata": {
        "id": "lOmJ0RCHQ984"
      },
      "source": [
        "#Covid-19: State of emergency extended until August 24 in Guinea-Bissau\n",
        "\n",
        "President Umaro Sissoco Embaló decided to prolong the state of emergency for the seventh time, \"considering the evolution of the epidemiological situation in the country, translated by the increase in the number of confirmed cases\".\n",
        "\n",
        "\n",
        "The state of emergency ended this Saturday (25.07) at 00:00 local time. The head of state also took into account the fact that the country is in the rainy season, when there is an \"increase in morbidity and mortality in the population\" and when there is \"a significant increase in respiratory infections and malaria\".\n",
        "\n",
        "\"Although the situation described above deserves special attention, it should be noted that positive results were achieved in the fight against the Covid-19 pandemic thanks to a great and multiple human solidarity. The gains achieved must be maintained, consolidated and increased\", says Umaro Sissoco Embaló in the presidential decree released to the press this Saturday.\n",
        "\n",
        "International circulation\n",
        "\n",
        "The Guinean President also announced that he decided to lift the suspension of international circulation, taking into account the decision of the Economic Community of West African States (ECOWAS), an organization of which Guinea-Bissau is a part, to open up space for cross-border circulation. .\n",
        "\n",
        "In the decree, the head of state maintains the mandatory use of an individual protection mask and respect for physical distance.\n",
        "\n",
        "Umaro Sissoco Embaló declared the state of emergency in the country for the first time in March, after the first cases of infection with the new coronavirus had been confirmed.\n",
        "\n",
        "Guinea-Bissau, with around two million inhabitants, has almost an accumulated total of 2,000 cases of infections, including 26 fatalities.https://translate.google.com.br/translate?hl=en&sl=pt&u=https://www.dw.com/pt-002/coronav%25C3%25ADrus-na-guin%25C3%25A9-bissau/t-52892587&prev=search&pto=aue"
      ]
    },
    {
      "cell_type": "code",
      "metadata": {
        "_uuid": "d629ff2d2480ee46fbb7e2d37f6b5fab8052498a",
        "_cell_guid": "79c7e3d0-c299-4dcb-8224-4455121ee9b0",
        "trusted": true,
        "id": "dSau9MOTQ985"
      },
      "source": [
        "import matplotlib.pyplot as plt\n",
        "import seaborn as sns\n",
        "%matplotlib inline\n",
        "pd.options.display.float_format = '{:.2f}'.format\n",
        "from sklearn.model_selection import train_test_split\n",
        "from sklearn.metrics import confusion_matrix\n",
        "from sklearn.metrics import roc_auc_score\n",
        "from sklearn.metrics import plot_roc_curve\n",
        "from sklearn.model_selection import cross_val_score\n",
        "from sklearn.model_selection import GridSearchCV\n",
        "from sklearn.metrics import classification_report\n",
        "from sklearn.model_selection import RepeatedStratifiedKFold\n",
        "from sklearn.metrics import precision_recall_curve"
      ],
      "execution_count": 16,
      "outputs": []
    },
    {
      "cell_type": "code",
      "metadata": {
        "_kg_hide-input": true,
        "trusted": true,
        "id": "pnolZt21Q985",
        "colab": {
          "base_uri": "https://localhost:8080/",
          "height": 309
        },
        "outputId": "3f414839-b531-4e7c-c092-0e2ab9f451c0"
      },
      "source": [
        "df = pd.read_csv('https://raw.githubusercontent.com/everestso/Fall2021/main/task_2-owid_covid_data-21_June_2020.csv')\n",
        "df.head()"
      ],
      "execution_count": 17,
      "outputs": [
        {
          "output_type": "execute_result",
          "data": {
            "text/html": [
              "<div>\n",
              "<style scoped>\n",
              "    .dataframe tbody tr th:only-of-type {\n",
              "        vertical-align: middle;\n",
              "    }\n",
              "\n",
              "    .dataframe tbody tr th {\n",
              "        vertical-align: top;\n",
              "    }\n",
              "\n",
              "    .dataframe thead th {\n",
              "        text-align: right;\n",
              "    }\n",
              "</style>\n",
              "<table border=\"1\" class=\"dataframe\">\n",
              "  <thead>\n",
              "    <tr style=\"text-align: right;\">\n",
              "      <th></th>\n",
              "      <th>iso_code</th>\n",
              "      <th>continent</th>\n",
              "      <th>location</th>\n",
              "      <th>date</th>\n",
              "      <th>total_cases</th>\n",
              "      <th>new_cases</th>\n",
              "      <th>total_deaths</th>\n",
              "      <th>new_deaths</th>\n",
              "      <th>total_cases_per_million</th>\n",
              "      <th>new_cases_per_million</th>\n",
              "      <th>total_deaths_per_million</th>\n",
              "      <th>new_deaths_per_million</th>\n",
              "      <th>total_tests</th>\n",
              "      <th>new_tests</th>\n",
              "      <th>total_tests_per_thousand</th>\n",
              "      <th>new_tests_per_thousand</th>\n",
              "      <th>new_tests_smoothed</th>\n",
              "      <th>new_tests_smoothed_per_thousand</th>\n",
              "      <th>tests_units</th>\n",
              "      <th>stringency_index</th>\n",
              "      <th>population</th>\n",
              "      <th>population_density</th>\n",
              "      <th>median_age</th>\n",
              "      <th>aged_65_older</th>\n",
              "      <th>aged_70_older</th>\n",
              "      <th>gdp_per_capita</th>\n",
              "      <th>extreme_poverty</th>\n",
              "      <th>cvd_death_rate</th>\n",
              "      <th>diabetes_prevalence</th>\n",
              "      <th>female_smokers</th>\n",
              "      <th>male_smokers</th>\n",
              "      <th>handwashing_facilities</th>\n",
              "      <th>hospital_beds_per_thousand</th>\n",
              "      <th>life_expectancy</th>\n",
              "    </tr>\n",
              "  </thead>\n",
              "  <tbody>\n",
              "    <tr>\n",
              "      <th>0</th>\n",
              "      <td>AFG</td>\n",
              "      <td>Asia</td>\n",
              "      <td>Afghanistan</td>\n",
              "      <td>2019-12-31</td>\n",
              "      <td>0.00</td>\n",
              "      <td>0.00</td>\n",
              "      <td>0.00</td>\n",
              "      <td>0.00</td>\n",
              "      <td>0.00</td>\n",
              "      <td>0.00</td>\n",
              "      <td>0.00</td>\n",
              "      <td>0.00</td>\n",
              "      <td>nan</td>\n",
              "      <td>nan</td>\n",
              "      <td>nan</td>\n",
              "      <td>nan</td>\n",
              "      <td>nan</td>\n",
              "      <td>nan</td>\n",
              "      <td>NaN</td>\n",
              "      <td>nan</td>\n",
              "      <td>38928341</td>\n",
              "      <td>54.42</td>\n",
              "      <td>18.60</td>\n",
              "      <td>2.58</td>\n",
              "      <td>1.34</td>\n",
              "      <td>1803.99</td>\n",
              "      <td>nan</td>\n",
              "      <td>597.03</td>\n",
              "      <td>9.59</td>\n",
              "      <td>nan</td>\n",
              "      <td>nan</td>\n",
              "      <td>37.75</td>\n",
              "      <td>0.50</td>\n",
              "      <td>64.83</td>\n",
              "    </tr>\n",
              "    <tr>\n",
              "      <th>1</th>\n",
              "      <td>AFG</td>\n",
              "      <td>Asia</td>\n",
              "      <td>Afghanistan</td>\n",
              "      <td>2020-01-01</td>\n",
              "      <td>0.00</td>\n",
              "      <td>0.00</td>\n",
              "      <td>0.00</td>\n",
              "      <td>0.00</td>\n",
              "      <td>0.00</td>\n",
              "      <td>0.00</td>\n",
              "      <td>0.00</td>\n",
              "      <td>0.00</td>\n",
              "      <td>nan</td>\n",
              "      <td>nan</td>\n",
              "      <td>nan</td>\n",
              "      <td>nan</td>\n",
              "      <td>nan</td>\n",
              "      <td>nan</td>\n",
              "      <td>NaN</td>\n",
              "      <td>0.00</td>\n",
              "      <td>38928341</td>\n",
              "      <td>54.42</td>\n",
              "      <td>18.60</td>\n",
              "      <td>2.58</td>\n",
              "      <td>1.34</td>\n",
              "      <td>1803.99</td>\n",
              "      <td>nan</td>\n",
              "      <td>597.03</td>\n",
              "      <td>9.59</td>\n",
              "      <td>nan</td>\n",
              "      <td>nan</td>\n",
              "      <td>37.75</td>\n",
              "      <td>0.50</td>\n",
              "      <td>64.83</td>\n",
              "    </tr>\n",
              "    <tr>\n",
              "      <th>2</th>\n",
              "      <td>AFG</td>\n",
              "      <td>Asia</td>\n",
              "      <td>Afghanistan</td>\n",
              "      <td>2020-01-02</td>\n",
              "      <td>0.00</td>\n",
              "      <td>0.00</td>\n",
              "      <td>0.00</td>\n",
              "      <td>0.00</td>\n",
              "      <td>0.00</td>\n",
              "      <td>0.00</td>\n",
              "      <td>0.00</td>\n",
              "      <td>0.00</td>\n",
              "      <td>nan</td>\n",
              "      <td>nan</td>\n",
              "      <td>nan</td>\n",
              "      <td>nan</td>\n",
              "      <td>nan</td>\n",
              "      <td>nan</td>\n",
              "      <td>NaN</td>\n",
              "      <td>0.00</td>\n",
              "      <td>38928341</td>\n",
              "      <td>54.42</td>\n",
              "      <td>18.60</td>\n",
              "      <td>2.58</td>\n",
              "      <td>1.34</td>\n",
              "      <td>1803.99</td>\n",
              "      <td>nan</td>\n",
              "      <td>597.03</td>\n",
              "      <td>9.59</td>\n",
              "      <td>nan</td>\n",
              "      <td>nan</td>\n",
              "      <td>37.75</td>\n",
              "      <td>0.50</td>\n",
              "      <td>64.83</td>\n",
              "    </tr>\n",
              "    <tr>\n",
              "      <th>3</th>\n",
              "      <td>AFG</td>\n",
              "      <td>Asia</td>\n",
              "      <td>Afghanistan</td>\n",
              "      <td>2020-01-03</td>\n",
              "      <td>0.00</td>\n",
              "      <td>0.00</td>\n",
              "      <td>0.00</td>\n",
              "      <td>0.00</td>\n",
              "      <td>0.00</td>\n",
              "      <td>0.00</td>\n",
              "      <td>0.00</td>\n",
              "      <td>0.00</td>\n",
              "      <td>nan</td>\n",
              "      <td>nan</td>\n",
              "      <td>nan</td>\n",
              "      <td>nan</td>\n",
              "      <td>nan</td>\n",
              "      <td>nan</td>\n",
              "      <td>NaN</td>\n",
              "      <td>0.00</td>\n",
              "      <td>38928341</td>\n",
              "      <td>54.42</td>\n",
              "      <td>18.60</td>\n",
              "      <td>2.58</td>\n",
              "      <td>1.34</td>\n",
              "      <td>1803.99</td>\n",
              "      <td>nan</td>\n",
              "      <td>597.03</td>\n",
              "      <td>9.59</td>\n",
              "      <td>nan</td>\n",
              "      <td>nan</td>\n",
              "      <td>37.75</td>\n",
              "      <td>0.50</td>\n",
              "      <td>64.83</td>\n",
              "    </tr>\n",
              "    <tr>\n",
              "      <th>4</th>\n",
              "      <td>AFG</td>\n",
              "      <td>Asia</td>\n",
              "      <td>Afghanistan</td>\n",
              "      <td>2020-01-04</td>\n",
              "      <td>0.00</td>\n",
              "      <td>0.00</td>\n",
              "      <td>0.00</td>\n",
              "      <td>0.00</td>\n",
              "      <td>0.00</td>\n",
              "      <td>0.00</td>\n",
              "      <td>0.00</td>\n",
              "      <td>0.00</td>\n",
              "      <td>nan</td>\n",
              "      <td>nan</td>\n",
              "      <td>nan</td>\n",
              "      <td>nan</td>\n",
              "      <td>nan</td>\n",
              "      <td>nan</td>\n",
              "      <td>NaN</td>\n",
              "      <td>0.00</td>\n",
              "      <td>38928341</td>\n",
              "      <td>54.42</td>\n",
              "      <td>18.60</td>\n",
              "      <td>2.58</td>\n",
              "      <td>1.34</td>\n",
              "      <td>1803.99</td>\n",
              "      <td>nan</td>\n",
              "      <td>597.03</td>\n",
              "      <td>9.59</td>\n",
              "      <td>nan</td>\n",
              "      <td>nan</td>\n",
              "      <td>37.75</td>\n",
              "      <td>0.50</td>\n",
              "      <td>64.83</td>\n",
              "    </tr>\n",
              "  </tbody>\n",
              "</table>\n",
              "</div>"
            ],
            "text/plain": [
              "  iso_code continent  ... hospital_beds_per_thousand life_expectancy\n",
              "0      AFG      Asia  ...                       0.50           64.83\n",
              "1      AFG      Asia  ...                       0.50           64.83\n",
              "2      AFG      Asia  ...                       0.50           64.83\n",
              "3      AFG      Asia  ...                       0.50           64.83\n",
              "4      AFG      Asia  ...                       0.50           64.83\n",
              "\n",
              "[5 rows x 34 columns]"
            ]
          },
          "metadata": {},
          "execution_count": 17
        }
      ]
    },
    {
      "cell_type": "code",
      "metadata": {
        "trusted": true,
        "id": "DVBWLTCwQ985",
        "colab": {
          "base_uri": "https://localhost:8080/",
          "height": 309
        },
        "outputId": "692da706-a436-4c1d-e179-dff76eba8c99"
      },
      "source": [
        "guinea = df[(df['location']=='Guinea-Bissau')].reset_index(drop=True)\n",
        "guinea.head()"
      ],
      "execution_count": 18,
      "outputs": [
        {
          "output_type": "execute_result",
          "data": {
            "text/html": [
              "<div>\n",
              "<style scoped>\n",
              "    .dataframe tbody tr th:only-of-type {\n",
              "        vertical-align: middle;\n",
              "    }\n",
              "\n",
              "    .dataframe tbody tr th {\n",
              "        vertical-align: top;\n",
              "    }\n",
              "\n",
              "    .dataframe thead th {\n",
              "        text-align: right;\n",
              "    }\n",
              "</style>\n",
              "<table border=\"1\" class=\"dataframe\">\n",
              "  <thead>\n",
              "    <tr style=\"text-align: right;\">\n",
              "      <th></th>\n",
              "      <th>iso_code</th>\n",
              "      <th>continent</th>\n",
              "      <th>location</th>\n",
              "      <th>date</th>\n",
              "      <th>total_cases</th>\n",
              "      <th>new_cases</th>\n",
              "      <th>total_deaths</th>\n",
              "      <th>new_deaths</th>\n",
              "      <th>total_cases_per_million</th>\n",
              "      <th>new_cases_per_million</th>\n",
              "      <th>total_deaths_per_million</th>\n",
              "      <th>new_deaths_per_million</th>\n",
              "      <th>total_tests</th>\n",
              "      <th>new_tests</th>\n",
              "      <th>total_tests_per_thousand</th>\n",
              "      <th>new_tests_per_thousand</th>\n",
              "      <th>new_tests_smoothed</th>\n",
              "      <th>new_tests_smoothed_per_thousand</th>\n",
              "      <th>tests_units</th>\n",
              "      <th>stringency_index</th>\n",
              "      <th>population</th>\n",
              "      <th>population_density</th>\n",
              "      <th>median_age</th>\n",
              "      <th>aged_65_older</th>\n",
              "      <th>aged_70_older</th>\n",
              "      <th>gdp_per_capita</th>\n",
              "      <th>extreme_poverty</th>\n",
              "      <th>cvd_death_rate</th>\n",
              "      <th>diabetes_prevalence</th>\n",
              "      <th>female_smokers</th>\n",
              "      <th>male_smokers</th>\n",
              "      <th>handwashing_facilities</th>\n",
              "      <th>hospital_beds_per_thousand</th>\n",
              "      <th>life_expectancy</th>\n",
              "    </tr>\n",
              "  </thead>\n",
              "  <tbody>\n",
              "    <tr>\n",
              "      <th>0</th>\n",
              "      <td>GNB</td>\n",
              "      <td>Africa</td>\n",
              "      <td>Guinea-Bissau</td>\n",
              "      <td>2020-03-27</td>\n",
              "      <td>2.00</td>\n",
              "      <td>2.00</td>\n",
              "      <td>0.00</td>\n",
              "      <td>0.00</td>\n",
              "      <td>1.02</td>\n",
              "      <td>1.02</td>\n",
              "      <td>0.00</td>\n",
              "      <td>0.00</td>\n",
              "      <td>nan</td>\n",
              "      <td>nan</td>\n",
              "      <td>nan</td>\n",
              "      <td>nan</td>\n",
              "      <td>nan</td>\n",
              "      <td>nan</td>\n",
              "      <td>NaN</td>\n",
              "      <td>nan</td>\n",
              "      <td>1967998</td>\n",
              "      <td>66.19</td>\n",
              "      <td>19.40</td>\n",
              "      <td>3.00</td>\n",
              "      <td>1.56</td>\n",
              "      <td>1548.67</td>\n",
              "      <td>67.10</td>\n",
              "      <td>382.47</td>\n",
              "      <td>2.42</td>\n",
              "      <td>nan</td>\n",
              "      <td>nan</td>\n",
              "      <td>6.40</td>\n",
              "      <td>nan</td>\n",
              "      <td>58.32</td>\n",
              "    </tr>\n",
              "    <tr>\n",
              "      <th>1</th>\n",
              "      <td>GNB</td>\n",
              "      <td>Africa</td>\n",
              "      <td>Guinea-Bissau</td>\n",
              "      <td>2020-03-28</td>\n",
              "      <td>2.00</td>\n",
              "      <td>0.00</td>\n",
              "      <td>0.00</td>\n",
              "      <td>0.00</td>\n",
              "      <td>1.02</td>\n",
              "      <td>0.00</td>\n",
              "      <td>0.00</td>\n",
              "      <td>0.00</td>\n",
              "      <td>nan</td>\n",
              "      <td>nan</td>\n",
              "      <td>nan</td>\n",
              "      <td>nan</td>\n",
              "      <td>nan</td>\n",
              "      <td>nan</td>\n",
              "      <td>NaN</td>\n",
              "      <td>nan</td>\n",
              "      <td>1967998</td>\n",
              "      <td>66.19</td>\n",
              "      <td>19.40</td>\n",
              "      <td>3.00</td>\n",
              "      <td>1.56</td>\n",
              "      <td>1548.67</td>\n",
              "      <td>67.10</td>\n",
              "      <td>382.47</td>\n",
              "      <td>2.42</td>\n",
              "      <td>nan</td>\n",
              "      <td>nan</td>\n",
              "      <td>6.40</td>\n",
              "      <td>nan</td>\n",
              "      <td>58.32</td>\n",
              "    </tr>\n",
              "    <tr>\n",
              "      <th>2</th>\n",
              "      <td>GNB</td>\n",
              "      <td>Africa</td>\n",
              "      <td>Guinea-Bissau</td>\n",
              "      <td>2020-03-29</td>\n",
              "      <td>2.00</td>\n",
              "      <td>0.00</td>\n",
              "      <td>0.00</td>\n",
              "      <td>0.00</td>\n",
              "      <td>1.02</td>\n",
              "      <td>0.00</td>\n",
              "      <td>0.00</td>\n",
              "      <td>0.00</td>\n",
              "      <td>nan</td>\n",
              "      <td>nan</td>\n",
              "      <td>nan</td>\n",
              "      <td>nan</td>\n",
              "      <td>nan</td>\n",
              "      <td>nan</td>\n",
              "      <td>NaN</td>\n",
              "      <td>nan</td>\n",
              "      <td>1967998</td>\n",
              "      <td>66.19</td>\n",
              "      <td>19.40</td>\n",
              "      <td>3.00</td>\n",
              "      <td>1.56</td>\n",
              "      <td>1548.67</td>\n",
              "      <td>67.10</td>\n",
              "      <td>382.47</td>\n",
              "      <td>2.42</td>\n",
              "      <td>nan</td>\n",
              "      <td>nan</td>\n",
              "      <td>6.40</td>\n",
              "      <td>nan</td>\n",
              "      <td>58.32</td>\n",
              "    </tr>\n",
              "    <tr>\n",
              "      <th>3</th>\n",
              "      <td>GNB</td>\n",
              "      <td>Africa</td>\n",
              "      <td>Guinea-Bissau</td>\n",
              "      <td>2020-03-30</td>\n",
              "      <td>2.00</td>\n",
              "      <td>0.00</td>\n",
              "      <td>0.00</td>\n",
              "      <td>0.00</td>\n",
              "      <td>1.02</td>\n",
              "      <td>0.00</td>\n",
              "      <td>0.00</td>\n",
              "      <td>0.00</td>\n",
              "      <td>nan</td>\n",
              "      <td>nan</td>\n",
              "      <td>nan</td>\n",
              "      <td>nan</td>\n",
              "      <td>nan</td>\n",
              "      <td>nan</td>\n",
              "      <td>NaN</td>\n",
              "      <td>nan</td>\n",
              "      <td>1967998</td>\n",
              "      <td>66.19</td>\n",
              "      <td>19.40</td>\n",
              "      <td>3.00</td>\n",
              "      <td>1.56</td>\n",
              "      <td>1548.67</td>\n",
              "      <td>67.10</td>\n",
              "      <td>382.47</td>\n",
              "      <td>2.42</td>\n",
              "      <td>nan</td>\n",
              "      <td>nan</td>\n",
              "      <td>6.40</td>\n",
              "      <td>nan</td>\n",
              "      <td>58.32</td>\n",
              "    </tr>\n",
              "    <tr>\n",
              "      <th>4</th>\n",
              "      <td>GNB</td>\n",
              "      <td>Africa</td>\n",
              "      <td>Guinea-Bissau</td>\n",
              "      <td>2020-03-31</td>\n",
              "      <td>2.00</td>\n",
              "      <td>0.00</td>\n",
              "      <td>0.00</td>\n",
              "      <td>0.00</td>\n",
              "      <td>1.02</td>\n",
              "      <td>0.00</td>\n",
              "      <td>0.00</td>\n",
              "      <td>0.00</td>\n",
              "      <td>nan</td>\n",
              "      <td>nan</td>\n",
              "      <td>nan</td>\n",
              "      <td>nan</td>\n",
              "      <td>nan</td>\n",
              "      <td>nan</td>\n",
              "      <td>NaN</td>\n",
              "      <td>nan</td>\n",
              "      <td>1967998</td>\n",
              "      <td>66.19</td>\n",
              "      <td>19.40</td>\n",
              "      <td>3.00</td>\n",
              "      <td>1.56</td>\n",
              "      <td>1548.67</td>\n",
              "      <td>67.10</td>\n",
              "      <td>382.47</td>\n",
              "      <td>2.42</td>\n",
              "      <td>nan</td>\n",
              "      <td>nan</td>\n",
              "      <td>6.40</td>\n",
              "      <td>nan</td>\n",
              "      <td>58.32</td>\n",
              "    </tr>\n",
              "  </tbody>\n",
              "</table>\n",
              "</div>"
            ],
            "text/plain": [
              "  iso_code continent  ... hospital_beds_per_thousand life_expectancy\n",
              "0      GNB    Africa  ...                        nan           58.32\n",
              "1      GNB    Africa  ...                        nan           58.32\n",
              "2      GNB    Africa  ...                        nan           58.32\n",
              "3      GNB    Africa  ...                        nan           58.32\n",
              "4      GNB    Africa  ...                        nan           58.32\n",
              "\n",
              "[5 rows x 34 columns]"
            ]
          },
          "metadata": {},
          "execution_count": 18
        }
      ]
    },
    {
      "cell_type": "markdown",
      "metadata": {
        "id": "aO1YvdGwQ986"
      },
      "source": [
        "#Codes by Tanmay Deshpande https://www.kaggle.com/tanmay111999/handling-imbalanced-datasets-for-high-scores/comments"
      ]
    },
    {
      "cell_type": "code",
      "metadata": {
        "trusted": true,
        "id": "XYbCVtzFQ986"
      },
      "source": [
        "cases = len(df[df['total_cases'] == 1])/len(df)*100\n",
        "no_cases = len(df[df['total_cases'] == 0])/len(df)*100\n",
        "cases_percentage = [cases,no_cases]"
      ],
      "execution_count": 19,
      "outputs": []
    },
    {
      "cell_type": "markdown",
      "metadata": {
        "id": "yoyGNwh1Q986"
      },
      "source": [
        "#There are complaints of lack of conditions in a hospital dedicated to tuberculosis.\n",
        "\n",
        "In Bissau, staff and patients at Raoul Follereau Hospital, dedicated to the treatment of tuberculosis, complain about the lack of conditions and protective materials. Hospital administration says that is not so.\n",
        "\n",
        "On Monday (20.07), employees boycotted the operation of Raoul Follereau hospital, complaining about the lack of materials and minimum conditions for work, without protective masks and gloves.\n",
        "\n",
        "The hospital is the only center specialized in tuberculosis treatment in Guinea-Bissau and is administered by the Italian NGO Aid to Health and Development (AHEAD), which has assumed the guarantee of free consultations, hospitalizations and treatments for patients with tuberculosis, entitled to five meals a day. , all for free.\n",
        "\n",
        "But patients admitted to the hospital heard by DW Africa report another reality. They prevented food from leaving home, but they put a liter of lemon in their food from the hospital  and, if they eat it, they feel stomach and chest pain. So, what is the use of preventing food from coming home? prevent us from eating inside, \"says a patient.\n",
        "\n",
        "\"Not everyone has a mosquito net here, I ordered it at home. What they gave me here is not good. But the breakfast they prepare for us is good and we eat,\" said another patient.\n",
        "\n",
        "#Government abandons hospitals?\n",
        "\n",
        "In Guinea-Bissau, there are several centers specialized in the treatment of different pathologies that are under the tutelage of NGOs or have been abandoned.\n",
        "\n",
        "Doctor Hedwis Martins asks the Government to assume its responsibilities: \"It is NGOs that help in sustainability, in the administrative functioning and in the functioning of hospital structures\".\n",
        "\n",
        "\"Government should take over specialized institutions and see them as a source of revenue”, calls on Martins.\n",
        "\n",
        "The doctor also defends that \"it is only to organize and equip them, to create conditions so that the analyzes that will be requested are made in the hospital center and the patients can have a decent hospitalization\".https://translate.google.com.br/translate?hl=en&sl=pt&u=https://www.dw.com/pt-002/coronav%25C3%25ADrus-na-guin%25C3%25A9-bissau/t-52892587&prev=search&pto=aue\n"
      ]
    },
    {
      "cell_type": "code",
      "metadata": {
        "trusted": true,
        "id": "6LC6W_U9Q987",
        "colab": {
          "base_uri": "https://localhost:8080/",
          "height": 528
        },
        "outputId": "ac9806bd-aead-485f-ebef-1c00e2862e19"
      },
      "source": [
        "fig,ax = plt.subplots(nrows = 1,ncols = 3,figsize = (20,5))\n",
        "plt.subplot(1,3,1)\n",
        "plt.pie(cases_percentage,labels = ['Cases','No Cases'],autopct='%1.1f%%',startangle = 90,)\n",
        "plt.title('Guinea-Bissau Total Cases Percentage')\n",
        "\n",
        "plt.subplot(1,3,2)\n",
        "sns.countplot('total_cases',data = guinea,)\n",
        "plt.xticks(rotation=45)\n",
        "plt.title('Guinea-Bissau Total Cases')\n",
        "\n",
        "plt.subplot(1,3,3)\n",
        "sns.scatterplot('total_cases_per_million','total_deaths',data = guinea,hue = 'total_cases')\n",
        "plt.title('Guinea-Bissau Total Cases Per Million vs Total Deaths w.r.t (with respect to) Total Cases')\n",
        "plt.show()"
      ],
      "execution_count": 20,
      "outputs": [
        {
          "output_type": "stream",
          "name": "stderr",
          "text": [
            "/usr/local/lib/python3.7/dist-packages/seaborn/_decorators.py:43: FutureWarning:\n",
            "\n",
            "Pass the following variable as a keyword arg: x. From version 0.12, the only valid positional argument will be `data`, and passing other arguments without an explicit keyword will result in an error or misinterpretation.\n",
            "\n",
            "/usr/local/lib/python3.7/dist-packages/seaborn/_decorators.py:43: FutureWarning:\n",
            "\n",
            "Pass the following variables as keyword args: x, y. From version 0.12, the only valid positional argument will be `data`, and passing other arguments without an explicit keyword will result in an error or misinterpretation.\n",
            "\n"
          ]
        },
        {
          "output_type": "display_data",
          "data": {
            "image/png": "[encoded data removed]",
            "text/plain": [
              "<Figure size 1440x360 with 3 Axes>"
            ]
          },
          "metadata": {
            "needs_background": "light"
          }
        }
      ]
    },
    {
      "cell_type": "code",
      "metadata": {
        "trusted": true,
        "id": "7pTN9ZdjQ987",
        "colab": {
          "base_uri": "https://localhost:8080/",
          "height": 402
        },
        "outputId": "81f35d71-85f9-44b3-b092-32a6f0150e38"
      },
      "source": [
        "sns.heatmap(guinea.corr(),cmap = 'RdBu',cbar = True)"
      ],
      "execution_count": 21,
      "outputs": [
        {
          "output_type": "execute_result",
          "data": {
            "text/plain": [
              "<matplotlib.axes._subplots.AxesSubplot at 0x7f15c97e3a50>"
            ]
          },
          "metadata": {},
          "execution_count": 21
        },
        {
          "output_type": "display_data",
          "data": {
            "image/png": "[encoded data removed]",
            "text/plain": [
              "<Figure size 432x288 with 2 Axes>"
            ]
          },
          "metadata": {
            "needs_background": "light"
          }
        }
      ]
    },
    {
      "cell_type": "markdown",
      "metadata": {
        "id": "QJX9wbGuQ987"
      },
      "source": [
        "#w.r.t = with respect to"
      ]
    },
    {
      "cell_type": "code",
      "metadata": {
        "trusted": true,
        "id": "Tf0U18YwQ987",
        "colab": {
          "base_uri": "https://localhost:8080/",
          "height": 1000
        },
        "outputId": "c6b3c1de-77b7-4e74-b72c-c2bb90aeb857"
      },
      "source": [
        "corr = df.corrwith(guinea['total_cases']).sort_values(ascending = False).to_frame()\n",
        "corr.columns = ['Correlations']\n",
        "plt.subplots(figsize = (5,25))\n",
        "sns.heatmap(corr,annot = True,cmap = 'RdBu',linewidths = 0.4,linecolor = 'black')\n",
        "plt.title('Guinea-Bissau Correlation w.r.t Total Cases')"
      ],
      "execution_count": 22,
      "outputs": [
        {
          "output_type": "execute_result",
          "data": {
            "text/plain": [
              "Text(0.5, 1.0, 'Guinea-Bissau Correlation w.r.t Total Cases')"
            ]
          },
          "metadata": {},
          "execution_count": 22
        },
        {
          "output_type": "display_data",
          "data": {
            "image/png": "[encoded data removed]",
            "text/plain": [
              "<Figure size 360x1800 with 2 Axes>"
            ]
          },
          "metadata": {
            "needs_background": "light"
          }
        }
      ]
    },
    {
      "cell_type": "markdown",
      "metadata": {
        "id": "gkLspakIQ988"
      },
      "source": [
        "#Bissau: Deputies donate 25% of salary to fight Covid-19\n",
        "\n",
        "The National People's Assembly of Guinea-Bissau handed over a check for more than 40,000 euros to the High Commission for the Fight against Covid-19 for support in combating the pandemic caused by the new coronavirus.\n",
        "Guinean deputies decided to contribute 25 per cent of their salary to help fight Covid-19, donating a total of 27,964,528 cfa francs (about 42,600 euros).\n",
        "\n",
        "\"I am grateful on behalf of the High Commissioner for the check resulting from the contribution of all the deputies of the Nation to the work of the fight against Covid-19,\" said the high commissioner for the fight against Covid-19, Magda Robalo da Silva.\n",
        "\n",
        "In the words of thanks, the former Minister of Health asked the deputies to also contribute to the fight against the pandemic among their constituencies by raising awareness for prevention.\n",
        "\n",
        "\"Thank you very much on behalf of the Guinean people, whom you represent at the National People's Assembly,\" said Magda Robalo da Silva.\n",
        "\n",
        "https://translate.google.com.br/translate?hl=en&sl=pt&u=https://www.dw.com/pt-002/coronav%25C3%25ADrus-na-guin%25C3%25A9-bissau/t-52892587&prev=search&pto=aue"
      ]
    },
    {
      "cell_type": "code",
      "metadata": {
        "trusted": true,
        "id": "oOuBq9ctQ988",
        "colab": {
          "base_uri": "https://localhost:8080/",
          "height": 418
        },
        "outputId": "5db4f0ad-2a0d-4087-a6f7-b2ddae5f6855"
      },
      "source": [
        "sns.heatmap(guinea.isnull(),cmap = 'winter',cbar = False)"
      ],
      "execution_count": 23,
      "outputs": [
        {
          "output_type": "execute_result",
          "data": {
            "text/plain": [
              "<matplotlib.axes._subplots.AxesSubplot at 0x7f15c073a390>"
            ]
          },
          "metadata": {},
          "execution_count": 23
        },
        {
          "output_type": "display_data",
          "data": {
            "image/png": "[encoded data removed]",
            "text/plain": [
              "<Figure size 432x288 with 1 Axes>"
            ]
          },
          "metadata": {
            "needs_background": "light"
          }
        }
      ]
    },
    {
      "cell_type": "markdown",
      "metadata": {
        "id": "bcuSZaffQ988"
      },
      "source": [
        "#Handling Missing Values"
      ]
    },
    {
      "cell_type": "code",
      "metadata": {
        "_kg_hide-output": true,
        "trusted": true,
        "id": "u1ga6V5eQ989",
        "colab": {
          "base_uri": "https://localhost:8080/"
        },
        "outputId": "b69eb23d-8598-40fe-deb5-81e61e6860b0"
      },
      "source": [
        "# Lets first handle numerical features with nan value\n",
        "numerical_nan = [feature for feature in guinea.columns if guinea[feature].isna().sum()>1 and guinea[feature].dtypes!='O']\n",
        "numerical_nan"
      ],
      "execution_count": 24,
      "outputs": [
        {
          "output_type": "execute_result",
          "data": {
            "text/plain": [
              "['total_tests',\n",
              " 'new_tests',\n",
              " 'total_tests_per_thousand',\n",
              " 'new_tests_per_thousand',\n",
              " 'new_tests_smoothed',\n",
              " 'new_tests_smoothed_per_thousand',\n",
              " 'stringency_index',\n",
              " 'female_smokers',\n",
              " 'male_smokers',\n",
              " 'hospital_beds_per_thousand']"
            ]
          },
          "metadata": {},
          "execution_count": 24
        }
      ]
    },
    {
      "cell_type": "code",
      "metadata": {
        "_kg_hide-output": true,
        "trusted": true,
        "id": "OrtzR4zFQ989",
        "colab": {
          "base_uri": "https://localhost:8080/"
        },
        "outputId": "7c57e451-046d-4344-c326-a0116a157746"
      },
      "source": [
        "guinea[numerical_nan].isna().sum()"
      ],
      "execution_count": 25,
      "outputs": [
        {
          "output_type": "execute_result",
          "data": {
            "text/plain": [
              "total_tests                        87\n",
              "new_tests                          87\n",
              "total_tests_per_thousand           87\n",
              "new_tests_per_thousand             87\n",
              "new_tests_smoothed                 87\n",
              "new_tests_smoothed_per_thousand    87\n",
              "stringency_index                   87\n",
              "female_smokers                     87\n",
              "male_smokers                       87\n",
              "hospital_beds_per_thousand         87\n",
              "dtype: int64"
            ]
          },
          "metadata": {},
          "execution_count": 25
        }
      ]
    },
    {
      "cell_type": "code",
      "metadata": {
        "_kg_hide-output": true,
        "trusted": true,
        "id": "DhFZJa28Q98-",
        "colab": {
          "base_uri": "https://localhost:8080/"
        },
        "outputId": "153a98f6-8247-40f8-a852-55370dbd590e"
      },
      "source": [
        "## Replacing the numerical Missing Values\n",
        "\n",
        "for feature in numerical_nan:\n",
        "    ## We will replace by using median since there are outliers\n",
        "    median_value=df[feature].median()\n",
        "    \n",
        "    guinea[feature].fillna(median_value,inplace=True)\n",
        "    \n",
        "guinea[numerical_nan].isnull().sum()"
      ],
      "execution_count": 26,
      "outputs": [
        {
          "output_type": "execute_result",
          "data": {
            "text/plain": [
              "total_tests                        0\n",
              "new_tests                          0\n",
              "total_tests_per_thousand           0\n",
              "new_tests_per_thousand             0\n",
              "new_tests_smoothed                 0\n",
              "new_tests_smoothed_per_thousand    0\n",
              "stringency_index                   0\n",
              "female_smokers                     0\n",
              "male_smokers                       0\n",
              "hospital_beds_per_thousand         0\n",
              "dtype: int64"
            ]
          },
          "metadata": {},
          "execution_count": 26
        }
      ]
    },
    {
      "cell_type": "code",
      "metadata": {
        "_kg_hide-output": true,
        "trusted": true,
        "id": "VBcH0A-bQ98-",
        "colab": {
          "base_uri": "https://localhost:8080/"
        },
        "outputId": "aa1a6c9b-890a-4a88-bf77-b9291e7626c2"
      },
      "source": [
        "# categorical features with missing values\n",
        "categorical_nan = [feature for feature in guinea.columns if guinea[feature].isna().sum()>1 and guinea[feature].dtypes=='O']\n",
        "print(categorical_nan)"
      ],
      "execution_count": 27,
      "outputs": [
        {
          "output_type": "stream",
          "name": "stdout",
          "text": [
            "['tests_units']\n"
          ]
        }
      ]
    },
    {
      "cell_type": "code",
      "metadata": {
        "_kg_hide-output": true,
        "trusted": true,
        "id": "NMiX69cnQ98-",
        "colab": {
          "base_uri": "https://localhost:8080/"
        },
        "outputId": "af24aa5d-a786-4d8a-e3e7-9cd1d235215d"
      },
      "source": [
        "guinea[categorical_nan].isna().sum()"
      ],
      "execution_count": 28,
      "outputs": [
        {
          "output_type": "execute_result",
          "data": {
            "text/plain": [
              "tests_units    87\n",
              "dtype: int64"
            ]
          },
          "metadata": {},
          "execution_count": 28
        }
      ]
    },
    {
      "cell_type": "code",
      "metadata": {
        "trusted": true,
        "id": "y7ZYFjsUQ98-"
      },
      "source": [
        "# replacing missing values in categorical features\n",
        "for feature in categorical_nan:\n",
        "    guinea[feature] = guinea[feature].fillna('None')"
      ],
      "execution_count": 29,
      "outputs": []
    },
    {
      "cell_type": "code",
      "metadata": {
        "_kg_hide-output": true,
        "trusted": true,
        "id": "1bvQxSU0Q98_",
        "colab": {
          "base_uri": "https://localhost:8080/"
        },
        "outputId": "35eea773-54f6-493e-f452-f18c2dae2059"
      },
      "source": [
        "guinea[categorical_nan].isna().sum()"
      ],
      "execution_count": 30,
      "outputs": [
        {
          "output_type": "execute_result",
          "data": {
            "text/plain": [
              "tests_units    0\n",
              "dtype: int64"
            ]
          },
          "metadata": {},
          "execution_count": 30
        }
      ]
    },
    {
      "cell_type": "markdown",
      "metadata": {
        "id": "67fFQGhaQ98_"
      },
      "source": [
        "#Feature Selection"
      ]
    },
    {
      "cell_type": "code",
      "metadata": {
        "trusted": true,
        "id": "eo3dLenrQ98_",
        "colab": {
          "base_uri": "https://localhost:8080/",
          "height": 204
        },
        "outputId": "d2ac975f-61f4-42f5-adfa-056251c267ac"
      },
      "source": [
        "guinea = guinea[['total_cases', 'stringency_index','new_cases','new_cases_per_million','total_cases_per_million', 'total_deaths_per_million', 'total_deaths']]\n",
        "guinea.head()"
      ],
      "execution_count": 31,
      "outputs": [
        {
          "output_type": "execute_result",
          "data": {
            "text/html": [
              "<div>\n",
              "<style scoped>\n",
              "    .dataframe tbody tr th:only-of-type {\n",
              "        vertical-align: middle;\n",
              "    }\n",
              "\n",
              "    .dataframe tbody tr th {\n",
              "        vertical-align: top;\n",
              "    }\n",
              "\n",
              "    .dataframe thead th {\n",
              "        text-align: right;\n",
              "    }\n",
              "</style>\n",
              "<table border=\"1\" class=\"dataframe\">\n",
              "  <thead>\n",
              "    <tr style=\"text-align: right;\">\n",
              "      <th></th>\n",
              "      <th>total_cases</th>\n",
              "      <th>stringency_index</th>\n",
              "      <th>new_cases</th>\n",
              "      <th>new_cases_per_million</th>\n",
              "      <th>total_cases_per_million</th>\n",
              "      <th>total_deaths_per_million</th>\n",
              "      <th>total_deaths</th>\n",
              "    </tr>\n",
              "  </thead>\n",
              "  <tbody>\n",
              "    <tr>\n",
              "      <th>0</th>\n",
              "      <td>2.00</td>\n",
              "      <td>70.37</td>\n",
              "      <td>2.00</td>\n",
              "      <td>1.02</td>\n",
              "      <td>1.02</td>\n",
              "      <td>0.00</td>\n",
              "      <td>0.00</td>\n",
              "    </tr>\n",
              "    <tr>\n",
              "      <th>1</th>\n",
              "      <td>2.00</td>\n",
              "      <td>70.37</td>\n",
              "      <td>0.00</td>\n",
              "      <td>0.00</td>\n",
              "      <td>1.02</td>\n",
              "      <td>0.00</td>\n",
              "      <td>0.00</td>\n",
              "    </tr>\n",
              "    <tr>\n",
              "      <th>2</th>\n",
              "      <td>2.00</td>\n",
              "      <td>70.37</td>\n",
              "      <td>0.00</td>\n",
              "      <td>0.00</td>\n",
              "      <td>1.02</td>\n",
              "      <td>0.00</td>\n",
              "      <td>0.00</td>\n",
              "    </tr>\n",
              "    <tr>\n",
              "      <th>3</th>\n",
              "      <td>2.00</td>\n",
              "      <td>70.37</td>\n",
              "      <td>0.00</td>\n",
              "      <td>0.00</td>\n",
              "      <td>1.02</td>\n",
              "      <td>0.00</td>\n",
              "      <td>0.00</td>\n",
              "    </tr>\n",
              "    <tr>\n",
              "      <th>4</th>\n",
              "      <td>2.00</td>\n",
              "      <td>70.37</td>\n",
              "      <td>0.00</td>\n",
              "      <td>0.00</td>\n",
              "      <td>1.02</td>\n",
              "      <td>0.00</td>\n",
              "      <td>0.00</td>\n",
              "    </tr>\n",
              "  </tbody>\n",
              "</table>\n",
              "</div>"
            ],
            "text/plain": [
              "   total_cases  stringency_index  ...  total_deaths_per_million  total_deaths\n",
              "0         2.00             70.37  ...                      0.00          0.00\n",
              "1         2.00             70.37  ...                      0.00          0.00\n",
              "2         2.00             70.37  ...                      0.00          0.00\n",
              "3         2.00             70.37  ...                      0.00          0.00\n",
              "4         2.00             70.37  ...                      0.00          0.00\n",
              "\n",
              "[5 rows x 7 columns]"
            ]
          },
          "metadata": {},
          "execution_count": 31
        }
      ]
    },
    {
      "cell_type": "code",
      "metadata": {
        "_kg_hide-output": true,
        "trusted": true,
        "id": "VYlHCbV7Q98_",
        "colab": {
          "base_uri": "https://localhost:8080/",
          "height": 191
        },
        "outputId": "be3c5d2a-1e0f-47c5-8b93-77c447654393"
      },
      "source": [
        "import imblearn\n",
        "from collections import Counter\n",
        "from imblearn.over_sampling import SMOTE\n",
        "from imblearn.under_sampling import RandomUnderSampler\n",
        "from imblearn.pipeline import Pipeline\n",
        "\n",
        "imblearn.__version__"
      ],
      "execution_count": 32,
      "outputs": [
        {
          "output_type": "stream",
          "name": "stderr",
          "text": [
            "/usr/local/lib/python3.7/dist-packages/sklearn/externals/six.py:31: FutureWarning:\n",
            "\n",
            "The module is deprecated in version 0.21 and will be removed in version 0.23 since we've dropped support for Python 2.7. Please rely on the official version of six (https://pypi.org/project/six/).\n",
            "\n",
            "/usr/local/lib/python3.7/dist-packages/sklearn/utils/deprecation.py:144: FutureWarning:\n",
            "\n",
            "The sklearn.neighbors.base module is  deprecated in version 0.22 and will be removed in version 0.24. The corresponding classes / functions should instead be imported from sklearn.neighbors. Anything that cannot be imported from sklearn.neighbors is now part of the private API.\n",
            "\n"
          ]
        },
        {
          "output_type": "execute_result",
          "data": {
            "application/vnd.google.colaboratory.intrinsic+json": {
              "type": "string"
            },
            "text/plain": [
              "'0.4.3'"
            ]
          },
          "metadata": {},
          "execution_count": 32
        }
      ]
    },
    {
      "cell_type": "code",
      "metadata": {
        "trusted": true,
        "id": "Fr7CLGD3Q99A"
      },
      "source": [
        "def model(classifier):\n",
        "    \n",
        "    classifier.fit(x_train,y_train)\n",
        "    prediction = classifier.predict(x_test)\n",
        "    cv = RepeatedStratifiedKFold(n_splits = 10,n_repeats = 3,random_state = 1)\n",
        "    print(\"CROSS VALIDATION SCORE : \",'{0:.2%}'.format(cross_val_score(classifier,x_train,y_train,cv = cv,scoring = 'roc_auc').mean()))\n",
        "    print(\"ROC_AUC SCORE : \",'{0:.2%}'.format(roc_auc_score(y_test,prediction)))\n",
        "    plot_roc_curve(classifier, x_test,y_test)\n",
        "    plt.title('ROC_AUC_PLOT')\n",
        "    plt.show()"
      ],
      "execution_count": 33,
      "outputs": []
    },
    {
      "cell_type": "markdown",
      "metadata": {
        "id": "iJnLpunCQ99A"
      },
      "source": [
        "#EVALUATION METRICS\n",
        "\n",
        "FOR IMBALANCED DATASETS, WE CANNOT USE THE TRADITIONAL METRIC LIKE ACCURACY. THIS IS BECAUSE THE DATA IS SKEWED TOWARDS THE MAJORITY CLASS AND THE MODEL WILL FAVOUR ITS PREDICTIONS TOWARDS MAJORITY CLASS. NOW AFTER RESAMPLING, WE HAVE DUPLICATED THE DATA AND ADDED NEW DATA POINTS.THUS USING ACCURACY WOULD BE MISLEADING TO EVALUATE THE MODEL. WE WILL USE THE CONFUSION MATRIX,ROC-AUC GRAPH AND ROC-AUC SCORE TO EVALUATE THE MODEL. ROC-AUC GIVES US THE RELATION ABOUT TRUE POSITIVE & FALSE POSITIVE RATE. WE WILL ALSO USE THE F1 SCORE,RECALL AND PRECISION."
      ]
    },
    {
      "cell_type": "code",
      "metadata": {
        "trusted": true,
        "id": "jlqK3VilQ99A"
      },
      "source": [
        "def model_evaluation(classifier):\n",
        "    \n",
        "    # CONFUSION MATRIX\n",
        "    cm = confusion_matrix(y_test,classifier.predict(x_test))\n",
        "    names = ['True Neg','False Pos','False Neg','True Pos']\n",
        "    counts = [value for value in cm.flatten()]\n",
        "    percentages = ['{0:.2%}'.format(value) for value in cm.flatten()/np.sum(cm)]\n",
        "    labels = [f'{v1}\\n{v2}\\n{v3}' for v1, v2, v3 in zip(names,counts,percentages)]\n",
        "    labels = np.asarray(labels).reshape(2,2)\n",
        "    sns.heatmap(cm,annot = labels,cmap = 'Blues',fmt ='')\n",
        "    \n",
        "    # CLASSIFICATION REPORT\n",
        "    print(classification_report(y_test,classifier.predict(x_test)))"
      ],
      "execution_count": 34,
      "outputs": []
    },
    {
      "cell_type": "markdown",
      "metadata": {
        "id": "QeB1h6hhQ99B"
      },
      "source": [
        "#I changed to iloc 6 since there are 7 columns, after feature selection"
      ]
    },
    {
      "cell_type": "code",
      "metadata": {
        "trusted": true,
        "id": "gOwsADhPQ99B"
      },
      "source": [
        "over = SMOTE(sampling_strategy= 0.5)\n",
        "under = RandomUnderSampler(sampling_strategy = 0.1)\n",
        "features = guinea.iloc[:,:6].values\n",
        "target = guinea.iloc[:,6].values"
      ],
      "execution_count": 35,
      "outputs": []
    },
    {
      "cell_type": "markdown",
      "metadata": {
        "id": "PwO002iWQ99B"
      },
      "source": [
        "#Multi class classification problem can be solved in different ways:\n",
        "\n",
        "Create a binary variable for each class and predict them individually as binary classification after that combine the results but it is not the right choice if we have high number of classes because it takes good processing time. This binary classifier for multiclass can be used with one-vs-all or all-vs-all reduction method. Here you can go with logistic regression, decision tree algorithms.\n",
        "\n",
        "You can go with algorithms like Naive Bayes, Neural Networks and SVM to solve multi class problem.\n",
        "\n",
        "You can also go with multi layers modeling also, first group classes in different categories and then apply other modeling techniques over it.https://discuss.analyticsvidhya.com/t/which-algorithms-are-good-for-multiclass-classification-problems/2561\n",
        "\n",
        "I tried Naive Bayes and SVM and didn't work. I'll have to learn how to deal with binary variables and multilayers."
      ]
    },
    {
      "cell_type": "code",
      "metadata": {
        "_kg_hide-output": true,
        "trusted": true,
        "id": "6yojSLDAQ99B",
        "colab": {
          "base_uri": "https://localhost:8080/",
          "height": 357
        },
        "outputId": "5c0c297a-19dc-4dc5-b85b-1ed356076c55"
      },
      "source": [
        "steps = [('under', under),('over', over)]\n",
        "pipeline = Pipeline(steps=steps)\n",
        "features, target = pipeline.fit_resample(features, target)\n",
        "Counter(target)"
      ],
      "execution_count": 39,
      "outputs": [
        {
          "output_type": "error",
          "ename": "ValueError",
          "evalue": "ignored",
          "traceback": [
            "\u001b[0;31m---------------------------------------------------------------------------\u001b[0m",
            "\u001b[0;31mValueError\u001b[0m                                Traceback (most recent call last)",
            "\u001b[0;32m<ipython-input-39-f840b166d908>\u001b[0m in \u001b[0;36m<module>\u001b[0;34m()\u001b[0m\n\u001b[1;32m      1\u001b[0m \u001b[0msteps\u001b[0m \u001b[0;34m=\u001b[0m \u001b[0;34m[\u001b[0m\u001b[0;34m(\u001b[0m\u001b[0;34m'under'\u001b[0m\u001b[0;34m,\u001b[0m \u001b[0munder\u001b[0m\u001b[0;34m)\u001b[0m\u001b[0;34m,\u001b[0m\u001b[0;34m(\u001b[0m\u001b[0;34m'over'\u001b[0m\u001b[0;34m,\u001b[0m \u001b[0mover\u001b[0m\u001b[0;34m)\u001b[0m\u001b[0;34m]\u001b[0m\u001b[0;34m\u001b[0m\u001b[0;34m\u001b[0m\u001b[0m\n\u001b[1;32m      2\u001b[0m \u001b[0mpipeline\u001b[0m \u001b[0;34m=\u001b[0m \u001b[0mPipeline\u001b[0m\u001b[0;34m(\u001b[0m\u001b[0msteps\u001b[0m\u001b[0;34m=\u001b[0m\u001b[0msteps\u001b[0m\u001b[0;34m)\u001b[0m\u001b[0;34m\u001b[0m\u001b[0;34m\u001b[0m\u001b[0m\n\u001b[0;32m----> 3\u001b[0;31m \u001b[0mfeatures\u001b[0m\u001b[0;34m,\u001b[0m \u001b[0mtarget\u001b[0m \u001b[0;34m=\u001b[0m \u001b[0mpipeline\u001b[0m\u001b[0;34m.\u001b[0m\u001b[0mfit_resample\u001b[0m\u001b[0;34m(\u001b[0m\u001b[0mfeatures\u001b[0m\u001b[0;34m,\u001b[0m \u001b[0mtarget\u001b[0m\u001b[0;34m)\u001b[0m\u001b[0;34m\u001b[0m\u001b[0;34m\u001b[0m\u001b[0m\n\u001b[0m\u001b[1;32m      4\u001b[0m \u001b[0mCounter\u001b[0m\u001b[0;34m(\u001b[0m\u001b[0mtarget\u001b[0m\u001b[0;34m)\u001b[0m\u001b[0;34m\u001b[0m\u001b[0;34m\u001b[0m\u001b[0m\n",
            "\u001b[0;32m/usr/local/lib/python3.7/dist-packages/sklearn/utils/metaestimators.py\u001b[0m in \u001b[0;36m<lambda>\u001b[0;34m(*args, **kwargs)\u001b[0m\n\u001b[1;32m    114\u001b[0m \u001b[0;34m\u001b[0m\u001b[0m\n\u001b[1;32m    115\u001b[0m         \u001b[0;31m# lambda, but not partial, allows help() to work with update_wrapper\u001b[0m\u001b[0;34m\u001b[0m\u001b[0;34m\u001b[0m\u001b[0;34m\u001b[0m\u001b[0m\n\u001b[0;32m--> 116\u001b[0;31m         \u001b[0mout\u001b[0m \u001b[0;34m=\u001b[0m \u001b[0;32mlambda\u001b[0m \u001b[0;34m*\u001b[0m\u001b[0margs\u001b[0m\u001b[0;34m,\u001b[0m \u001b[0;34m**\u001b[0m\u001b[0mkwargs\u001b[0m\u001b[0;34m:\u001b[0m \u001b[0mself\u001b[0m\u001b[0;34m.\u001b[0m\u001b[0mfn\u001b[0m\u001b[0;34m(\u001b[0m\u001b[0mobj\u001b[0m\u001b[0;34m,\u001b[0m \u001b[0;34m*\u001b[0m\u001b[0margs\u001b[0m\u001b[0;34m,\u001b[0m \u001b[0;34m**\u001b[0m\u001b[0mkwargs\u001b[0m\u001b[0;34m)\u001b[0m\u001b[0;34m\u001b[0m\u001b[0;34m\u001b[0m\u001b[0m\n\u001b[0m\u001b[1;32m    117\u001b[0m         \u001b[0;31m# update the docstring of the returned function\u001b[0m\u001b[0;34m\u001b[0m\u001b[0;34m\u001b[0m\u001b[0;34m\u001b[0m\u001b[0m\n\u001b[1;32m    118\u001b[0m         \u001b[0mupdate_wrapper\u001b[0m\u001b[0;34m(\u001b[0m\u001b[0mout\u001b[0m\u001b[0;34m,\u001b[0m \u001b[0mself\u001b[0m\u001b[0;34m.\u001b[0m\u001b[0mfn\u001b[0m\u001b[0;34m)\u001b[0m\u001b[0;34m\u001b[0m\u001b[0;34m\u001b[0m\u001b[0m\n",
            "\u001b[0;32m/usr/local/lib/python3.7/dist-packages/imblearn/pipeline.py\u001b[0m in \u001b[0;36mfit_resample\u001b[0;34m(self, X, y, **fit_params)\u001b[0m\n\u001b[1;32m    310\u001b[0m         \"\"\"\n\u001b[1;32m    311\u001b[0m         \u001b[0mlast_step\u001b[0m \u001b[0;34m=\u001b[0m \u001b[0mself\u001b[0m\u001b[0;34m.\u001b[0m\u001b[0m_final_estimator\u001b[0m\u001b[0;34m\u001b[0m\u001b[0;34m\u001b[0m\u001b[0m\n\u001b[0;32m--> 312\u001b[0;31m         \u001b[0mXt\u001b[0m\u001b[0;34m,\u001b[0m \u001b[0myt\u001b[0m\u001b[0;34m,\u001b[0m \u001b[0mfit_params\u001b[0m \u001b[0;34m=\u001b[0m \u001b[0mself\u001b[0m\u001b[0;34m.\u001b[0m\u001b[0m_fit\u001b[0m\u001b[0;34m(\u001b[0m\u001b[0mX\u001b[0m\u001b[0;34m,\u001b[0m \u001b[0my\u001b[0m\u001b[0;34m,\u001b[0m \u001b[0;34m**\u001b[0m\u001b[0mfit_params\u001b[0m\u001b[0;34m)\u001b[0m\u001b[0;34m\u001b[0m\u001b[0;34m\u001b[0m\u001b[0m\n\u001b[0m\u001b[1;32m    313\u001b[0m         \u001b[0;32mif\u001b[0m \u001b[0mlast_step\u001b[0m \u001b[0;32mis\u001b[0m \u001b[0;32mNone\u001b[0m\u001b[0;34m:\u001b[0m\u001b[0;34m\u001b[0m\u001b[0;34m\u001b[0m\u001b[0m\n\u001b[1;32m    314\u001b[0m             \u001b[0;32mreturn\u001b[0m \u001b[0mXt\u001b[0m\u001b[0;34m\u001b[0m\u001b[0;34m\u001b[0m\u001b[0m\n",
            "\u001b[0;32m/usr/local/lib/python3.7/dist-packages/imblearn/pipeline.py\u001b[0m in \u001b[0;36m_fit\u001b[0;34m(self, X, y, **fit_params)\u001b[0m\n\u001b[1;32m    198\u001b[0m                 \u001b[0;32melif\u001b[0m \u001b[0mhasattr\u001b[0m\u001b[0;34m(\u001b[0m\u001b[0mcloned_transformer\u001b[0m\u001b[0;34m,\u001b[0m \u001b[0;34m\"fit_resample\"\u001b[0m\u001b[0;34m)\u001b[0m\u001b[0;34m:\u001b[0m\u001b[0;34m\u001b[0m\u001b[0;34m\u001b[0m\u001b[0m\n\u001b[1;32m    199\u001b[0m                     Xt, yt, fitted_transformer = fit_resample_one_cached(\n\u001b[0;32m--> 200\u001b[0;31m                         cloned_transformer, Xt, yt, **fit_params_steps[name])\n\u001b[0m\u001b[1;32m    201\u001b[0m                 \u001b[0;31m# Replace the transformer of the step with the fitted\u001b[0m\u001b[0;34m\u001b[0m\u001b[0;34m\u001b[0m\u001b[0;34m\u001b[0m\u001b[0m\n\u001b[1;32m    202\u001b[0m                 \u001b[0;31m# transformer. This is necessary when loading the transformer\u001b[0m\u001b[0;34m\u001b[0m\u001b[0;34m\u001b[0m\u001b[0;34m\u001b[0m\u001b[0m\n",
            "\u001b[0;32m/usr/local/lib/python3.7/dist-packages/joblib/memory.py\u001b[0m in \u001b[0;36m__call__\u001b[0;34m(self, *args, **kwargs)\u001b[0m\n\u001b[1;32m    350\u001b[0m \u001b[0;34m\u001b[0m\u001b[0m\n\u001b[1;32m    351\u001b[0m     \u001b[0;32mdef\u001b[0m \u001b[0m__call__\u001b[0m\u001b[0;34m(\u001b[0m\u001b[0mself\u001b[0m\u001b[0;34m,\u001b[0m \u001b[0;34m*\u001b[0m\u001b[0margs\u001b[0m\u001b[0;34m,\u001b[0m \u001b[0;34m**\u001b[0m\u001b[0mkwargs\u001b[0m\u001b[0;34m)\u001b[0m\u001b[0;34m:\u001b[0m\u001b[0;34m\u001b[0m\u001b[0;34m\u001b[0m\u001b[0m\n\u001b[0;32m--> 352\u001b[0;31m         \u001b[0;32mreturn\u001b[0m \u001b[0mself\u001b[0m\u001b[0;34m.\u001b[0m\u001b[0mfunc\u001b[0m\u001b[0;34m(\u001b[0m\u001b[0;34m*\u001b[0m\u001b[0margs\u001b[0m\u001b[0;34m,\u001b[0m \u001b[0;34m**\u001b[0m\u001b[0mkwargs\u001b[0m\u001b[0;34m)\u001b[0m\u001b[0;34m\u001b[0m\u001b[0;34m\u001b[0m\u001b[0m\n\u001b[0m\u001b[1;32m    353\u001b[0m \u001b[0;34m\u001b[0m\u001b[0m\n\u001b[1;32m    354\u001b[0m     \u001b[0;32mdef\u001b[0m \u001b[0mcall_and_shelve\u001b[0m\u001b[0;34m(\u001b[0m\u001b[0mself\u001b[0m\u001b[0;34m,\u001b[0m \u001b[0;34m*\u001b[0m\u001b[0margs\u001b[0m\u001b[0;34m,\u001b[0m \u001b[0;34m**\u001b[0m\u001b[0mkwargs\u001b[0m\u001b[0;34m)\u001b[0m\u001b[0;34m:\u001b[0m\u001b[0;34m\u001b[0m\u001b[0;34m\u001b[0m\u001b[0m\n",
            "\u001b[0;32m/usr/local/lib/python3.7/dist-packages/imblearn/pipeline.py\u001b[0m in \u001b[0;36m_fit_resample_one\u001b[0;34m(sampler, X, y, **fit_params)\u001b[0m\n\u001b[1;32m    574\u001b[0m \u001b[0;34m\u001b[0m\u001b[0m\n\u001b[1;32m    575\u001b[0m \u001b[0;32mdef\u001b[0m \u001b[0m_fit_resample_one\u001b[0m\u001b[0;34m(\u001b[0m\u001b[0msampler\u001b[0m\u001b[0;34m,\u001b[0m \u001b[0mX\u001b[0m\u001b[0;34m,\u001b[0m \u001b[0my\u001b[0m\u001b[0;34m,\u001b[0m \u001b[0;34m**\u001b[0m\u001b[0mfit_params\u001b[0m\u001b[0;34m)\u001b[0m\u001b[0;34m:\u001b[0m\u001b[0;34m\u001b[0m\u001b[0;34m\u001b[0m\u001b[0m\n\u001b[0;32m--> 576\u001b[0;31m     \u001b[0mX_res\u001b[0m\u001b[0;34m,\u001b[0m \u001b[0my_res\u001b[0m \u001b[0;34m=\u001b[0m \u001b[0msampler\u001b[0m\u001b[0;34m.\u001b[0m\u001b[0mfit_resample\u001b[0m\u001b[0;34m(\u001b[0m\u001b[0mX\u001b[0m\u001b[0;34m,\u001b[0m \u001b[0my\u001b[0m\u001b[0;34m,\u001b[0m \u001b[0;34m**\u001b[0m\u001b[0mfit_params\u001b[0m\u001b[0;34m)\u001b[0m\u001b[0;34m\u001b[0m\u001b[0;34m\u001b[0m\u001b[0m\n\u001b[0m\u001b[1;32m    577\u001b[0m \u001b[0;34m\u001b[0m\u001b[0m\n\u001b[1;32m    578\u001b[0m     \u001b[0;32mreturn\u001b[0m \u001b[0mX_res\u001b[0m\u001b[0;34m,\u001b[0m \u001b[0my_res\u001b[0m\u001b[0;34m,\u001b[0m \u001b[0msampler\u001b[0m\u001b[0;34m\u001b[0m\u001b[0;34m\u001b[0m\u001b[0m\n",
            "\u001b[0;32m/usr/local/lib/python3.7/dist-packages/imblearn/base.py\u001b[0m in \u001b[0;36mfit_resample\u001b[0;34m(self, X, y)\u001b[0m\n\u001b[1;32m     81\u001b[0m \u001b[0;34m\u001b[0m\u001b[0m\n\u001b[1;32m     82\u001b[0m         self.sampling_strategy_ = check_sampling_strategy(\n\u001b[0;32m---> 83\u001b[0;31m             self.sampling_strategy, y, self._sampling_type)\n\u001b[0m\u001b[1;32m     84\u001b[0m \u001b[0;34m\u001b[0m\u001b[0m\n\u001b[1;32m     85\u001b[0m         \u001b[0moutput\u001b[0m \u001b[0;34m=\u001b[0m \u001b[0mself\u001b[0m\u001b[0;34m.\u001b[0m\u001b[0m_fit_resample\u001b[0m\u001b[0;34m(\u001b[0m\u001b[0mX\u001b[0m\u001b[0;34m,\u001b[0m \u001b[0my\u001b[0m\u001b[0;34m)\u001b[0m\u001b[0;34m\u001b[0m\u001b[0;34m\u001b[0m\u001b[0m\n",
            "\u001b[0;32m/usr/local/lib/python3.7/dist-packages/imblearn/utils/_validation.py\u001b[0m in \u001b[0;36mcheck_sampling_strategy\u001b[0;34m(sampling_strategy, y, sampling_type, **kwargs)\u001b[0m\n\u001b[1;32m    456\u001b[0m                 .format(sampling_strategy))\n\u001b[1;32m    457\u001b[0m         return OrderedDict(sorted(\n\u001b[0;32m--> 458\u001b[0;31m             \u001b[0m_sampling_strategy_float\u001b[0m\u001b[0;34m(\u001b[0m\u001b[0msampling_strategy\u001b[0m\u001b[0;34m,\u001b[0m \u001b[0my\u001b[0m\u001b[0;34m,\u001b[0m \u001b[0msampling_type\u001b[0m\u001b[0;34m)\u001b[0m\u001b[0;34m\u001b[0m\u001b[0;34m\u001b[0m\u001b[0m\n\u001b[0m\u001b[1;32m    459\u001b[0m             .items()))\n\u001b[1;32m    460\u001b[0m     \u001b[0;32melif\u001b[0m \u001b[0mcallable\u001b[0m\u001b[0;34m(\u001b[0m\u001b[0msampling_strategy\u001b[0m\u001b[0;34m)\u001b[0m\u001b[0;34m:\u001b[0m\u001b[0;34m\u001b[0m\u001b[0;34m\u001b[0m\u001b[0m\n",
            "\u001b[0;32m/usr/local/lib/python3.7/dist-packages/imblearn/utils/_validation.py\u001b[0m in \u001b[0;36m_sampling_strategy_float\u001b[0;34m(sampling_strategy, y, sampling_type)\u001b[0m\n\u001b[1;32m    311\u001b[0m     \u001b[0;32mif\u001b[0m \u001b[0mtype_y\u001b[0m \u001b[0;34m!=\u001b[0m \u001b[0;34m'binary'\u001b[0m\u001b[0;34m:\u001b[0m\u001b[0;34m\u001b[0m\u001b[0;34m\u001b[0m\u001b[0m\n\u001b[1;32m    312\u001b[0m         raise ValueError(\n\u001b[0;32m--> 313\u001b[0;31m             \u001b[0;34m'\"sampling_strategy\" can be a float only when the type '\u001b[0m\u001b[0;34m\u001b[0m\u001b[0;34m\u001b[0m\u001b[0m\n\u001b[0m\u001b[1;32m    314\u001b[0m             'of target is binary. For multi-class, use a dict.')\n\u001b[1;32m    315\u001b[0m     \u001b[0mtarget_stats\u001b[0m \u001b[0;34m=\u001b[0m \u001b[0m_count_class_sample\u001b[0m\u001b[0;34m(\u001b[0m\u001b[0my\u001b[0m\u001b[0;34m)\u001b[0m\u001b[0;34m\u001b[0m\u001b[0;34m\u001b[0m\u001b[0m\n",
            "\u001b[0;31mValueError\u001b[0m: \"sampling_strategy\" can be a float only when the type of target is binary. For multi-class, use a dict."
          ]
        }
      ]
    },
    {
      "cell_type": "code",
      "metadata": {
        "trusted": true,
        "id": "ZUTI3RqAQ99C"
      },
      "source": [
        "x_train, x_test, y_train, y_test = train_test_split(features, target, test_size = 0.20, random_state = 2)"
      ],
      "execution_count": null,
      "outputs": []
    },
    {
      "cell_type": "code",
      "metadata": {
        "trusted": true,
        "id": "Z1qsbE1gQ99C"
      },
      "source": [
        "from sklearn.linear_model import LogisticRegression"
      ],
      "execution_count": null,
      "outputs": []
    },
    {
      "cell_type": "code",
      "metadata": {
        "trusted": true,
        "id": "q8eMtr2QQ99C"
      },
      "source": [
        "classifier_lr = LogisticRegression(random_state = 0,C=10,penalty= 'l2')"
      ],
      "execution_count": null,
      "outputs": []
    },
    {
      "cell_type": "code",
      "metadata": {
        "_kg_hide-output": true,
        "trusted": true,
        "id": "Scg4iVV4Q99C"
      },
      "source": [
        "from imblearn.over_sampling import SMOTE\n",
        "smote=SMOTE(\"minority\")\n",
        "X,Y=smote.fit_sample(x_train,y_train)"
      ],
      "execution_count": null,
      "outputs": []
    },
    {
      "cell_type": "code",
      "metadata": {
        "_kg_hide-output": true,
        "trusted": true,
        "id": "cltaBiuoQ99D"
      },
      "source": [
        "model(classifier_lr)"
      ],
      "execution_count": null,
      "outputs": []
    },
    {
      "cell_type": "code",
      "metadata": {
        "_kg_hide-output": true,
        "trusted": true,
        "id": "7sBsMGiyQ99D"
      },
      "source": [
        "model_evaluation(classifier_lr)"
      ],
      "execution_count": null,
      "outputs": []
    },
    {
      "cell_type": "code",
      "metadata": {
        "trusted": true,
        "id": "mchga7BEQ99D"
      },
      "source": [
        "X_train = guinea.iloc[:, 2:].values.astype('float64')\n",
        "y_train = guinea['total_cases'].values"
      ],
      "execution_count": null,
      "outputs": []
    },
    {
      "cell_type": "code",
      "metadata": {
        "_kg_hide-output": true,
        "trusted": true,
        "id": "097TZXyiQ99D"
      },
      "source": [
        "from sklearn.preprocessing import QuantileTransformer\n",
        "\n",
        "transformed = pd.DataFrame(QuantileTransformer(output_distribution='normal').fit_transform(X_train))"
      ],
      "execution_count": null,
      "outputs": []
    },
    {
      "cell_type": "code",
      "metadata": {
        "trusted": true,
        "id": "tpR-GFq-Q99D"
      },
      "source": [
        "from sklearn.pipeline import make_pipeline\n",
        "from sklearn.naive_bayes import GaussianNB\n",
        "\n",
        "pipeline = make_pipeline(QuantileTransformer(output_distribution='normal'), GaussianNB())\n",
        "pipeline.fit(X_train, y_train)"
      ],
      "execution_count": null,
      "outputs": []
    },
    {
      "cell_type": "code",
      "metadata": {
        "_kg_hide-output": true,
        "trusted": true,
        "id": "pwibvMwLQ99E"
      },
      "source": [
        "from sklearn.metrics import roc_curve, auc\n",
        "\n",
        "fpr, tpr, thr = roc_curve(y_train, pipeline.predict_proba(X_train)[:,1])\n",
        "plt.plot(fpr, tpr)\n",
        "plt.xlabel('False Positive Rate')\n",
        "plt.ylabel('True Positive Rate')\n",
        "plt.title('Receiver Operating Characteristic Plot', **title_config)\n",
        "auc(fpr, tpr)"
      ],
      "execution_count": null,
      "outputs": []
    },
    {
      "cell_type": "code",
      "metadata": {
        "_kg_hide-output": true,
        "collapsed": true,
        "jupyter": {
          "outputs_hidden": true
        },
        "trusted": true,
        "id": "gwrTr_VZQ99E"
      },
      "source": [
        "from sklearn.model_selection import cross_val_score\n",
        "\n",
        "cross_val_score(pipeline, X_train, y_train, scoring='roc_auc', cv=5).mean()"
      ],
      "execution_count": null,
      "outputs": []
    },
    {
      "cell_type": "code",
      "metadata": {
        "trusted": true,
        "id": "fiL-kEQaQ99E"
      },
      "source": [
        "#model_evaluation(classifier_svc)"
      ],
      "execution_count": null,
      "outputs": []
    },
    {
      "cell_type": "code",
      "metadata": {
        "_kg_hide-input": true,
        "trusted": true,
        "id": "HGN1vhbsQ99E"
      },
      "source": [
        "df1 = pd.read_csv('../input/hackathon/task_2-Tuberculosis_infection_estimates_for_2018.csv', encoding='utf8')\n",
        "df1.head()"
      ],
      "execution_count": null,
      "outputs": []
    },
    {
      "cell_type": "code",
      "metadata": {
        "trusted": true,
        "id": "-QDqSNKIQ99E"
      },
      "source": [
        "Guinea = df1[(df1['country']=='Guinea-Bissau')].reset_index(drop=True)\n",
        "Guinea.head()"
      ],
      "execution_count": null,
      "outputs": []
    },
    {
      "cell_type": "code",
      "metadata": {
        "trusted": true,
        "id": "gNXFt1WhQ99F"
      },
      "source": [
        "sns.countplot(x=\"e_hh_size\",data=Guinea,palette=\"ocean\",edgecolor=\"black\")\n",
        "plt.title('Guinea Estimated Household Size', weight='bold')\n",
        "plt.xticks(rotation=45)\n",
        "plt.yticks(rotation=45)\n",
        "# changing the font size\n",
        "sns.set(font_scale=1)"
      ],
      "execution_count": null,
      "outputs": []
    },
    {
      "cell_type": "code",
      "metadata": {
        "trusted": true,
        "id": "sxyfR1ybQ99F"
      },
      "source": [
        "sns.countplot(x=\"e_prevtx_kids_pct_hi\",data=Guinea,palette=\"autumn\",edgecolor=\"black\")\n",
        "plt.title('Guinea Preventive Index Kids under 5y High Bound', weight='bold')\n",
        "plt.xticks(rotation=45)\n",
        "plt.yticks(rotation=45)\n",
        "# changing the font size\n",
        "sns.set(font_scale=1)"
      ],
      "execution_count": null,
      "outputs": []
    },
    {
      "cell_type": "code",
      "metadata": {
        "_kg_hide-input": true,
        "trusted": true,
        "id": "hWpeLjfyQ99F"
      },
      "source": [
        "df2 = pd.read_csv('../input/hackathon/task_2-BCG_world_atlas_data-bcg_strain-7July2020.csv', encoding='utf8')\n",
        "df2.head()"
      ],
      "execution_count": null,
      "outputs": []
    },
    {
      "cell_type": "code",
      "metadata": {
        "trusted": true,
        "id": "vp5FjzMWQ99F"
      },
      "source": [
        "guinea_bissau = df2[(df2['country_name']=='Guinea-Bissau')].reset_index(drop=True)\n",
        "guinea_bissau.head()"
      ],
      "execution_count": null,
      "outputs": []
    },
    {
      "cell_type": "code",
      "metadata": {
        "trusted": true,
        "id": "CQABeKEZQ99F"
      },
      "source": [
        "sns.countplot(x=\"vaccination_timing\",data=guinea_bissau,palette=\"flag\",edgecolor=\"black\")\n",
        "plt.title('Guinea-Bissau BCG Vacccination Timing', weight='bold')\n",
        "plt.xticks(rotation=45)\n",
        "plt.yticks(rotation=45)\n",
        "# changing the font size\n",
        "sns.set(font_scale=1)"
      ],
      "execution_count": null,
      "outputs": []
    },
    {
      "cell_type": "code",
      "metadata": {
        "_kg_hide-output": true,
        "collapsed": true,
        "jupyter": {
          "outputs_hidden": true
        },
        "trusted": true,
        "id": "09qUBug8Q99F"
      },
      "source": [
        "ls ../input/hackathon/task_1-google_search_txt_files_v2/GW/"
      ],
      "execution_count": null,
      "outputs": []
    },
    {
      "cell_type": "code",
      "metadata": {
        "trusted": true,
        "id": "e1x6CFTrQ99G"
      },
      "source": [
        "Guinea_Bissau = '../input/hackathon/task_1-google_search_txt_files_v2/GW/Guinea-Bissau-pt-result-13.txt'"
      ],
      "execution_count": null,
      "outputs": []
    },
    {
      "cell_type": "code",
      "metadata": {
        "trusted": true,
        "id": "ycxNTNaeQ99G"
      },
      "source": [
        "text = open(Guinea_Bissau, 'r',encoding='utf-8',\n",
        "                 errors='ignore').read()"
      ],
      "execution_count": null,
      "outputs": []
    },
    {
      "cell_type": "code",
      "metadata": {
        "trusted": true,
        "id": "_Wo3Z05uQ99G"
      },
      "source": [
        "print(text[:2000])"
      ],
      "execution_count": null,
      "outputs": []
    },
    {
      "cell_type": "code",
      "metadata": {
        "_kg_hide-input": true,
        "trusted": true,
        "id": "OBTRzzMIQ99G"
      },
      "source": [
        "#word cloud\n",
        "from wordcloud import WordCloud, ImageColorGenerator\n",
        "text = \" \".join(str(each) for each in guinea_bissau.country_name)\n",
        "# Create and generate a word cloud image:\n",
        "wordcloud = WordCloud(max_words=200,colormap='Set3', background_color=\"black\").generate(text)\n",
        "plt.figure(figsize=(10,6))\n",
        "plt.figure(figsize=(15,10))\n",
        "# Display the generated image:\n",
        "plt.imshow(wordcloud, interpolation='Bilinear')\n",
        "plt.axis(\"off\")\n",
        "plt.figure(1,figsize=(12, 12))\n",
        "plt.show()"
      ],
      "execution_count": null,
      "outputs": []
    },
    {
      "cell_type": "markdown",
      "metadata": {
        "id": "5fSssSWEQ99G"
      },
      "source": [
        "Das War's Kaggle Notebook Runner: Marília Prata   @mpwolke"
      ]
    }
  ]
}