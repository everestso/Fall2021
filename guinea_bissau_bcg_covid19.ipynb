{
  "nbformat": 4,
  "nbformat_minor": 0,
  "metadata": {
    "kernelspec": {
      "language": "python",
      "display_name": "Python 3",
      "name": "python3"
    },
    "language_info": {
      "pygments_lexer": "ipython3",
      "nbconvert_exporter": "python",
      "version": "3.6.4",
      "file_extension": ".py",
      "codemirror_mode": {
        "name": "ipython",
        "version": 3
      },
      "name": "python",
      "mimetype": "text/x-python"
    },
    "colab": {
      "name": "guinea-bissau-bcg-covid19.ipynb",
      "provenance": [],
      "collapsed_sections": [
        "gkLspakIQ988",
        "bcuSZaffQ988",
        "67fFQGhaQ98_",
        "iJnLpunCQ99A",
        "QeB1h6hhQ99B",
        "PwO002iWQ99B"
      ],
      "include_colab_link": true
    }
  },
  "cells": [
    {
      "cell_type": "markdown",
      "metadata": {
        "id": "view-in-github",
        "colab_type": "text"
      },
      "source": [
        "<a href=\"https://colab.research.google.com/github/everestso/Fall2021/blob/main/guinea_bissau_bcg_covid19.ipynb\" target=\"_parent\"><img src=\"https://colab.research.google.com/assets/colab-badge.svg\" alt=\"Open In Colab\"/></a>"
      ]
    },
    {
      "cell_type": "markdown",
      "metadata": {
        "id": "QcBwfpY2Q98y"
      },
      "source": [
        "#Low birth weight infants and Calmette-Guérin bacillus vaccination at birth: community study from Guinea-Bissau\n",
        "\n",
        "By Adam Roth , Henrik Jensen, May-Lill Garly, Queba Djana, Cesário Lourenco Martins, Morten Sodemann, Amabelia Rodrigues, Peter Aaby\n",
        "PMID: 15194836 DOI: 10.1097/01.inf.0000129693.81082.a0\n",
        "\n",
        "In developing countries, low birth weight (LBW) children are often not vaccinated with Calmette-Guérin bacillus (BCG) at birth. Recent studies have suggested that BCG may have a nonspecific beneficial effect on infant mortality. They evaluated the consequences of not vaccinating LBW (low birth weight) children at birth in Guinea-Bissau.\n",
        "\n",
        "Between 1989 and 1999, 7138 children born at the central hospital had a birth weight registered. They assessed BCG coverage until 3 years of age. Data on tuberculin skin test (TST) for 297 children and BCG scar for 1319 children in the study population were reanalyzed for differences between normal birth weight (NBW) children and LBW children. They assessed the effect of early BCG vaccination on mortality to 12 months of age.\n",
        "\n",
        "Among LBW children there were 1.5- to 3-fold more unvaccinated individuals than among NBW children up to 4 months of age. There was no overall difference between LBW and NBW children in TST or BCG scarring; LBW children vaccinated early may have had slightly reduced reactions to tuberculin. Among 845 LBW children, 182 had received BCG within the first week of life. Controlling for background factors and censoring at first diphtheria-tetanuspertussis vaccination, measles vaccination or at 6 months of age (whichever came first), the mortality rate ratio for BCG-vaccinated versus -unvaccinated LBW children was 0.17 (95 per cent confidence interval, 0.06-0.49), with an even stronger effect for LBW children vaccinated in the first week of life (mortality rate ratio, 0.07; 95 per cent confidence interval, 0.01-0.62).\n",
        "\n",
        "The policy of not vaccinating with BCG at birth had a negative impact on vaccination coverage for LBW children. Early BCG vaccination had no large negative impact on TST and BCG scarring. Mortality was lower for BCG-vaccinated than for unvaccinated LBW children controlling for available background factors. BCG vaccination of LBW children may have a beneficial effect on survival that cannot be explained by protection against tuberculosis. Future studies should examine possible adverse effects from equalizing BCG policy for LBW and NBW children.https://pubmed.ncbi.nlm.nih.gov/15194836/"
      ]
    },
    {
      "cell_type": "markdown",
      "metadata": {
        "id": "QpDIgIthQ981"
      },
      "source": [
        "![](https://encrypted-tbn0.gstatic.com/images?q=tbn%3AANd9GcTQXRC8iSNx0JbH7N0C_bA-bmOPqbJtVN1gG_3bi0536aQL9LEnM3_5eCRG0r8wOyxo0hMTP4NsQHrM00oac5MNIQ&usqp=CAU&ec=45687378)covid19gb.com"
      ]
    },
    {
      "cell_type": "code",
      "metadata": {
        "_uuid": "8f2839f25d086af736a60e9eeb907d3b93b6e0e5",
        "_cell_guid": "b1076dfc-b9ad-4769-8c92-a6c4dae69d19",
        "_kg_hide-output": true,
        "collapsed": true,
        "jupyter": {
          "outputs_hidden": true
        },
        "trusted": true,
        "id": "DXrbMZ3VQ982"
      },
      "source": [
        "# This Python 3 environment comes with many helpful analytics libraries installed\n",
        "# It is defined by the kaggle/python Docker image: https://github.com/kaggle/docker-python\n",
        "# For example, here's several helpful packages to load\n",
        "\n",
        "import numpy as np # linear algebra\n",
        "import pandas as pd # data processing, CSV file I/O (e.g. pd.read_csv)\n",
        "import matplotlib.pyplot as plt\n",
        "%matplotlib inline\n",
        "import seaborn as sns\n",
        "import plotly.express as px\n",
        "import plotly.graph_objects as go\n",
        "import plotly.offline as py\n",
        "import plotly.express as px\n",
        "\n",
        "# Input data files are available in the read-only \"../input/\" directory\n",
        "# For example, running this (by clicking run or pressing Shift+Enter) will list all files under the input directory\n",
        "\n",
        "import os\n",
        "for dirname, _, filenames in os.walk('/kaggle/input'):\n",
        "    for filename in filenames:\n",
        "        print(os.path.join(dirname, filename))\n",
        "\n",
        "# You can write up to 5GB to the current directory (/kaggle/working/) that gets preserved as output when you create a version using \"Save & Run All\" \n",
        "# You can also write temporary files to /kaggle/temp/, but they won't be saved outside of the current session"
      ],
      "execution_count": null,
      "outputs": []
    },
    {
      "cell_type": "markdown",
      "metadata": {
        "id": "QcHLrVEnQ984"
      },
      "source": [
        "#Coronavirus Drugs—To Have and Have Not by Joelle Dountio O.\n",
        "Africa's least developed countries should apply a WTO patent waiver, to import generic versions of future COVID-19 drugs\n",
        "\n",
        "![](https://www.thinkglobalhealth.org/sites/default/files/2020-05/Joelle.Ofimboudem-CoV-Patents-4.30.20-RTX7EKXB-THREE-TWO.jpg)https://www.thinkglobalhealth.org/tag/guinea-bissau"
      ]
    },
    {
      "cell_type": "markdown",
      "metadata": {
        "id": "lOmJ0RCHQ984"
      },
      "source": [
        "#Covid-19: State of emergency extended until August 24 in Guinea-Bissau\n",
        "\n",
        "President Umaro Sissoco Embaló decided to prolong the state of emergency for the seventh time, \"considering the evolution of the epidemiological situation in the country, translated by the increase in the number of confirmed cases\".\n",
        "\n",
        "\n",
        "The state of emergency ended this Saturday (25.07) at 00:00 local time. The head of state also took into account the fact that the country is in the rainy season, when there is an \"increase in morbidity and mortality in the population\" and when there is \"a significant increase in respiratory infections and malaria\".\n",
        "\n",
        "\"Although the situation described above deserves special attention, it should be noted that positive results were achieved in the fight against the Covid-19 pandemic thanks to a great and multiple human solidarity. The gains achieved must be maintained, consolidated and increased\", says Umaro Sissoco Embaló in the presidential decree released to the press this Saturday.\n",
        "\n",
        "International circulation\n",
        "\n",
        "The Guinean President also announced that he decided to lift the suspension of international circulation, taking into account the decision of the Economic Community of West African States (ECOWAS), an organization of which Guinea-Bissau is a part, to open up space for cross-border circulation. .\n",
        "\n",
        "In the decree, the head of state maintains the mandatory use of an individual protection mask and respect for physical distance.\n",
        "\n",
        "Umaro Sissoco Embaló declared the state of emergency in the country for the first time in March, after the first cases of infection with the new coronavirus had been confirmed.\n",
        "\n",
        "Guinea-Bissau, with around two million inhabitants, has almost an accumulated total of 2,000 cases of infections, including 26 fatalities.https://translate.google.com.br/translate?hl=en&sl=pt&u=https://www.dw.com/pt-002/coronav%25C3%25ADrus-na-guin%25C3%25A9-bissau/t-52892587&prev=search&pto=aue"
      ]
    },
    {
      "cell_type": "code",
      "metadata": {
        "_uuid": "d629ff2d2480ee46fbb7e2d37f6b5fab8052498a",
        "_cell_guid": "79c7e3d0-c299-4dcb-8224-4455121ee9b0",
        "trusted": true,
        "id": "dSau9MOTQ985"
      },
      "source": [
        "import matplotlib.pyplot as plt\n",
        "import seaborn as sns\n",
        "%matplotlib inline\n",
        "pd.options.display.float_format = '{:.2f}'.format\n",
        "from sklearn.model_selection import train_test_split\n",
        "from sklearn.metrics import confusion_matrix\n",
        "from sklearn.metrics import roc_auc_score\n",
        "from sklearn.metrics import plot_roc_curve\n",
        "from sklearn.model_selection import cross_val_score\n",
        "from sklearn.model_selection import GridSearchCV\n",
        "from sklearn.metrics import classification_report\n",
        "from sklearn.model_selection import RepeatedStratifiedKFold\n",
        "from sklearn.metrics import precision_recall_curve"
      ],
      "execution_count": null,
      "outputs": []
    },
    {
      "cell_type": "code",
      "metadata": {
        "_kg_hide-input": true,
        "trusted": true,
        "id": "pnolZt21Q985"
      },
      "source": [
        "df = pd.read_csv('../input/hackathon/task_2-owid_covid_data-21_June_2020.csv')\n",
        "df.head()"
      ],
      "execution_count": null,
      "outputs": []
    },
    {
      "cell_type": "code",
      "metadata": {
        "trusted": true,
        "id": "DVBWLTCwQ985"
      },
      "source": [
        "guinea = df[(df['location']=='Guinea-Bissau')].reset_index(drop=True)\n",
        "guinea.head()"
      ],
      "execution_count": null,
      "outputs": []
    },
    {
      "cell_type": "markdown",
      "metadata": {
        "id": "aO1YvdGwQ986"
      },
      "source": [
        "#Codes by Tanmay Deshpande https://www.kaggle.com/tanmay111999/handling-imbalanced-datasets-for-high-scores/comments"
      ]
    },
    {
      "cell_type": "code",
      "metadata": {
        "trusted": true,
        "id": "XYbCVtzFQ986"
      },
      "source": [
        "cases = len(df[df['total_cases'] == 1])/len(df)*100\n",
        "no_cases = len(df[df['total_cases'] == 0])/len(df)*100\n",
        "cases_percentage = [cases,no_cases]"
      ],
      "execution_count": null,
      "outputs": []
    },
    {
      "cell_type": "markdown",
      "metadata": {
        "id": "yoyGNwh1Q986"
      },
      "source": [
        "#There are complaints of lack of conditions in a hospital dedicated to tuberculosis.\n",
        "\n",
        "In Bissau, staff and patients at Raoul Follereau Hospital, dedicated to the treatment of tuberculosis, complain about the lack of conditions and protective materials. Hospital administration says that is not so.\n",
        "\n",
        "On Monday (20.07), employees boycotted the operation of Raoul Follereau hospital, complaining about the lack of materials and minimum conditions for work, without protective masks and gloves.\n",
        "\n",
        "The hospital is the only center specialized in tuberculosis treatment in Guinea-Bissau and is administered by the Italian NGO Aid to Health and Development (AHEAD), which has assumed the guarantee of free consultations, hospitalizations and treatments for patients with tuberculosis, entitled to five meals a day. , all for free.\n",
        "\n",
        "But patients admitted to the hospital heard by DW Africa report another reality. They prevented food from leaving home, but they put a liter of lemon in their food from the hospital  and, if they eat it, they feel stomach and chest pain. So, what is the use of preventing food from coming home? prevent us from eating inside, \"says a patient.\n",
        "\n",
        "\"Not everyone has a mosquito net here, I ordered it at home. What they gave me here is not good. But the breakfast they prepare for us is good and we eat,\" said another patient.\n",
        "\n",
        "#Government abandons hospitals?\n",
        "\n",
        "In Guinea-Bissau, there are several centers specialized in the treatment of different pathologies that are under the tutelage of NGOs or have been abandoned.\n",
        "\n",
        "Doctor Hedwis Martins asks the Government to assume its responsibilities: \"It is NGOs that help in sustainability, in the administrative functioning and in the functioning of hospital structures\".\n",
        "\n",
        "\"Government should take over specialized institutions and see them as a source of revenue”, calls on Martins.\n",
        "\n",
        "The doctor also defends that \"it is only to organize and equip them, to create conditions so that the analyzes that will be requested are made in the hospital center and the patients can have a decent hospitalization\".https://translate.google.com.br/translate?hl=en&sl=pt&u=https://www.dw.com/pt-002/coronav%25C3%25ADrus-na-guin%25C3%25A9-bissau/t-52892587&prev=search&pto=aue\n"
      ]
    },
    {
      "cell_type": "code",
      "metadata": {
        "trusted": true,
        "id": "6LC6W_U9Q987"
      },
      "source": [
        "fig,ax = plt.subplots(nrows = 1,ncols = 3,figsize = (20,5))\n",
        "plt.subplot(1,3,1)\n",
        "plt.pie(cases_percentage,labels = ['Cases','No Cases'],autopct='%1.1f%%',startangle = 90,)\n",
        "plt.title('Guinea-Bissau Total Cases Percentage')\n",
        "\n",
        "plt.subplot(1,3,2)\n",
        "sns.countplot('total_cases',data = guinea,)\n",
        "plt.xticks(rotation=45)\n",
        "plt.title('Guinea-Bissau Total Cases')\n",
        "\n",
        "plt.subplot(1,3,3)\n",
        "sns.scatterplot('total_cases_per_million','total_deaths',data = guinea,hue = 'total_cases')\n",
        "plt.title('Guinea-Bissau Total Cases Per Million vs Total Deaths w.r.t (with respect to) Total Cases')\n",
        "plt.show()"
      ],
      "execution_count": null,
      "outputs": []
    },
    {
      "cell_type": "code",
      "metadata": {
        "trusted": true,
        "id": "7pTN9ZdjQ987"
      },
      "source": [
        "sns.heatmap(guinea.corr(),cmap = 'RdBu',cbar = True)"
      ],
      "execution_count": null,
      "outputs": []
    },
    {
      "cell_type": "markdown",
      "metadata": {
        "id": "QJX9wbGuQ987"
      },
      "source": [
        "#w.r.t = with respect to"
      ]
    },
    {
      "cell_type": "code",
      "metadata": {
        "trusted": true,
        "id": "Tf0U18YwQ987"
      },
      "source": [
        "corr = df.corrwith(guinea['total_cases']).sort_values(ascending = False).to_frame()\n",
        "corr.columns = ['Correlations']\n",
        "plt.subplots(figsize = (5,25))\n",
        "sns.heatmap(corr,annot = True,cmap = 'RdBu',linewidths = 0.4,linecolor = 'black')\n",
        "plt.title('Guinea-Bissau Correlation w.r.t Total Cases')"
      ],
      "execution_count": null,
      "outputs": []
    },
    {
      "cell_type": "markdown",
      "metadata": {
        "id": "gkLspakIQ988"
      },
      "source": [
        "#Bissau: Deputies donate 25% of salary to fight Covid-19\n",
        "\n",
        "The National People's Assembly of Guinea-Bissau handed over a check for more than 40,000 euros to the High Commission for the Fight against Covid-19 for support in combating the pandemic caused by the new coronavirus.\n",
        "Guinean deputies decided to contribute 25 per cent of their salary to help fight Covid-19, donating a total of 27,964,528 cfa francs (about 42,600 euros).\n",
        "\n",
        "\"I am grateful on behalf of the High Commissioner for the check resulting from the contribution of all the deputies of the Nation to the work of the fight against Covid-19,\" said the high commissioner for the fight against Covid-19, Magda Robalo da Silva.\n",
        "\n",
        "In the words of thanks, the former Minister of Health asked the deputies to also contribute to the fight against the pandemic among their constituencies by raising awareness for prevention.\n",
        "\n",
        "\"Thank you very much on behalf of the Guinean people, whom you represent at the National People's Assembly,\" said Magda Robalo da Silva.\n",
        "\n",
        "https://translate.google.com.br/translate?hl=en&sl=pt&u=https://www.dw.com/pt-002/coronav%25C3%25ADrus-na-guin%25C3%25A9-bissau/t-52892587&prev=search&pto=aue"
      ]
    },
    {
      "cell_type": "code",
      "metadata": {
        "trusted": true,
        "id": "oOuBq9ctQ988"
      },
      "source": [
        "sns.heatmap(guinea.isnull(),cmap = 'winter',cbar = False)"
      ],
      "execution_count": null,
      "outputs": []
    },
    {
      "cell_type": "markdown",
      "metadata": {
        "id": "bcuSZaffQ988"
      },
      "source": [
        "#Handling Missing Values"
      ]
    },
    {
      "cell_type": "code",
      "metadata": {
        "_kg_hide-output": true,
        "trusted": true,
        "id": "u1ga6V5eQ989"
      },
      "source": [
        "# Lets first handle numerical features with nan value\n",
        "numerical_nan = [feature for feature in guinea.columns if guinea[feature].isna().sum()>1 and guinea[feature].dtypes!='O']\n",
        "numerical_nan"
      ],
      "execution_count": null,
      "outputs": []
    },
    {
      "cell_type": "code",
      "metadata": {
        "_kg_hide-output": true,
        "trusted": true,
        "id": "OrtzR4zFQ989"
      },
      "source": [
        "guinea[numerical_nan].isna().sum()"
      ],
      "execution_count": null,
      "outputs": []
    },
    {
      "cell_type": "code",
      "metadata": {
        "_kg_hide-output": true,
        "trusted": true,
        "id": "DhFZJa28Q98-"
      },
      "source": [
        "## Replacing the numerical Missing Values\n",
        "\n",
        "for feature in numerical_nan:\n",
        "    ## We will replace by using median since there are outliers\n",
        "    median_value=df[feature].median()\n",
        "    \n",
        "    guinea[feature].fillna(median_value,inplace=True)\n",
        "    \n",
        "guinea[numerical_nan].isnull().sum()"
      ],
      "execution_count": null,
      "outputs": []
    },
    {
      "cell_type": "code",
      "metadata": {
        "_kg_hide-output": true,
        "trusted": true,
        "id": "VBcH0A-bQ98-"
      },
      "source": [
        "# categorical features with missing values\n",
        "categorical_nan = [feature for feature in guinea.columns if guinea[feature].isna().sum()>1 and guinea[feature].dtypes=='O']\n",
        "print(categorical_nan)"
      ],
      "execution_count": null,
      "outputs": []
    },
    {
      "cell_type": "code",
      "metadata": {
        "_kg_hide-output": true,
        "trusted": true,
        "id": "NMiX69cnQ98-"
      },
      "source": [
        "guinea[categorical_nan].isna().sum()"
      ],
      "execution_count": null,
      "outputs": []
    },
    {
      "cell_type": "code",
      "metadata": {
        "trusted": true,
        "id": "y7ZYFjsUQ98-"
      },
      "source": [
        "# replacing missing values in categorical features\n",
        "for feature in categorical_nan:\n",
        "    guinea[feature] = guinea[feature].fillna('None')"
      ],
      "execution_count": null,
      "outputs": []
    },
    {
      "cell_type": "code",
      "metadata": {
        "_kg_hide-output": true,
        "trusted": true,
        "id": "1bvQxSU0Q98_"
      },
      "source": [
        "guinea[categorical_nan].isna().sum()"
      ],
      "execution_count": null,
      "outputs": []
    },
    {
      "cell_type": "markdown",
      "metadata": {
        "id": "67fFQGhaQ98_"
      },
      "source": [
        "#Feature Selection"
      ]
    },
    {
      "cell_type": "code",
      "metadata": {
        "trusted": true,
        "id": "eo3dLenrQ98_"
      },
      "source": [
        "guinea = guinea[['total_cases', 'stringency_index','new_cases','new_cases_per_million','total_cases_per_million', 'total_deaths_per_million', 'total_deaths']]\n",
        "guinea.head()"
      ],
      "execution_count": null,
      "outputs": []
    },
    {
      "cell_type": "code",
      "metadata": {
        "_kg_hide-output": true,
        "trusted": true,
        "id": "VYlHCbV7Q98_"
      },
      "source": [
        "import imblearn\n",
        "from collections import Counter\n",
        "from imblearn.over_sampling import SMOTE\n",
        "from imblearn.under_sampling import RandomUnderSampler\n",
        "from imblearn.pipeline import Pipeline\n",
        "\n",
        "imblearn.__version__"
      ],
      "execution_count": null,
      "outputs": []
    },
    {
      "cell_type": "code",
      "metadata": {
        "trusted": true,
        "id": "Fr7CLGD3Q99A"
      },
      "source": [
        "def model(classifier):\n",
        "    \n",
        "    classifier.fit(x_train,y_train)\n",
        "    prediction = classifier.predict(x_test)\n",
        "    cv = RepeatedStratifiedKFold(n_splits = 10,n_repeats = 3,random_state = 1)\n",
        "    print(\"CROSS VALIDATION SCORE : \",'{0:.2%}'.format(cross_val_score(classifier,x_train,y_train,cv = cv,scoring = 'roc_auc').mean()))\n",
        "    print(\"ROC_AUC SCORE : \",'{0:.2%}'.format(roc_auc_score(y_test,prediction)))\n",
        "    plot_roc_curve(classifier, x_test,y_test)\n",
        "    plt.title('ROC_AUC_PLOT')\n",
        "    plt.show()"
      ],
      "execution_count": null,
      "outputs": []
    },
    {
      "cell_type": "markdown",
      "metadata": {
        "id": "iJnLpunCQ99A"
      },
      "source": [
        "#EVALUATION METRICS\n",
        "\n",
        "FOR IMBALANCED DATASETS, WE CANNOT USE THE TRADITIONAL METRIC LIKE ACCURACY. THIS IS BECAUSE THE DATA IS SKEWED TOWARDS THE MAJORITY CLASS AND THE MODEL WILL FAVOUR ITS PREDICTIONS TOWARDS MAJORITY CLASS. NOW AFTER RESAMPLING, WE HAVE DUPLICATED THE DATA AND ADDED NEW DATA POINTS.THUS USING ACCURACY WOULD BE MISLEADING TO EVALUATE THE MODEL. WE WILL USE THE CONFUSION MATRIX,ROC-AUC GRAPH AND ROC-AUC SCORE TO EVALUATE THE MODEL. ROC-AUC GIVES US THE RELATION ABOUT TRUE POSITIVE & FALSE POSITIVE RATE. WE WILL ALSO USE THE F1 SCORE,RECALL AND PRECISION."
      ]
    },
    {
      "cell_type": "code",
      "metadata": {
        "trusted": true,
        "id": "jlqK3VilQ99A"
      },
      "source": [
        "def model_evaluation(classifier):\n",
        "    \n",
        "    # CONFUSION MATRIX\n",
        "    cm = confusion_matrix(y_test,classifier.predict(x_test))\n",
        "    names = ['True Neg','False Pos','False Neg','True Pos']\n",
        "    counts = [value for value in cm.flatten()]\n",
        "    percentages = ['{0:.2%}'.format(value) for value in cm.flatten()/np.sum(cm)]\n",
        "    labels = [f'{v1}\\n{v2}\\n{v3}' for v1, v2, v3 in zip(names,counts,percentages)]\n",
        "    labels = np.asarray(labels).reshape(2,2)\n",
        "    sns.heatmap(cm,annot = labels,cmap = 'Blues',fmt ='')\n",
        "    \n",
        "    # CLASSIFICATION REPORT\n",
        "    print(classification_report(y_test,classifier.predict(x_test)))"
      ],
      "execution_count": null,
      "outputs": []
    },
    {
      "cell_type": "markdown",
      "metadata": {
        "id": "QeB1h6hhQ99B"
      },
      "source": [
        "#I changed to iloc 6 since there are 7 columns, after feature selection"
      ]
    },
    {
      "cell_type": "code",
      "metadata": {
        "trusted": true,
        "id": "gOwsADhPQ99B"
      },
      "source": [
        "over = SMOTE(sampling_strategy= 0.5)\n",
        "under = RandomUnderSampler(sampling_strategy = 0.1)\n",
        "features = guinea.iloc[:,:6].values\n",
        "target = guinea.iloc[:,6].values"
      ],
      "execution_count": null,
      "outputs": []
    },
    {
      "cell_type": "markdown",
      "metadata": {
        "id": "PwO002iWQ99B"
      },
      "source": [
        "#Multi class classification problem can be solved in different ways:\n",
        "\n",
        "Create a binary variable for each class and predict them individually as binary classification after that combine the results but it is not the right choice if we have high number of classes because it takes good processing time. This binary classifier for multiclass can be used with one-vs-all or all-vs-all reduction method. Here you can go with logistic regression, decision tree algorithms.\n",
        "\n",
        "You can go with algorithms like Naive Bayes, Neural Networks and SVM to solve multi class problem.\n",
        "\n",
        "You can also go with multi layers modeling also, first group classes in different categories and then apply other modeling techniques over it.https://discuss.analyticsvidhya.com/t/which-algorithms-are-good-for-multiclass-classification-problems/2561\n",
        "\n",
        "I tried Naive Bayes and SVM and didn't work. I'll have to learn how to deal with binary variables and multilayers."
      ]
    },
    {
      "cell_type": "code",
      "metadata": {
        "_kg_hide-output": true,
        "trusted": true,
        "id": "6yojSLDAQ99B"
      },
      "source": [
        "steps = [('under', under),('over', over)]\n",
        "pipeline = Pipeline(steps=steps)\n",
        "features, target = pipeline.fit_resample(features, target)\n",
        "Counter(target)"
      ],
      "execution_count": null,
      "outputs": []
    },
    {
      "cell_type": "code",
      "metadata": {
        "trusted": true,
        "id": "ZUTI3RqAQ99C"
      },
      "source": [
        "x_train, x_test, y_train, y_test = train_test_split(features, target, test_size = 0.20, random_state = 2)"
      ],
      "execution_count": null,
      "outputs": []
    },
    {
      "cell_type": "code",
      "metadata": {
        "trusted": true,
        "id": "Z1qsbE1gQ99C"
      },
      "source": [
        "from sklearn.linear_model import LogisticRegression"
      ],
      "execution_count": null,
      "outputs": []
    },
    {
      "cell_type": "code",
      "metadata": {
        "trusted": true,
        "id": "q8eMtr2QQ99C"
      },
      "source": [
        "classifier_lr = LogisticRegression(random_state = 0,C=10,penalty= 'l2')"
      ],
      "execution_count": null,
      "outputs": []
    },
    {
      "cell_type": "code",
      "metadata": {
        "_kg_hide-output": true,
        "trusted": true,
        "id": "Scg4iVV4Q99C"
      },
      "source": [
        "from imblearn.over_sampling import SMOTE\n",
        "smote=SMOTE(\"minority\")\n",
        "X,Y=smote.fit_sample(x_train,y_train)"
      ],
      "execution_count": null,
      "outputs": []
    },
    {
      "cell_type": "code",
      "metadata": {
        "_kg_hide-output": true,
        "trusted": true,
        "id": "cltaBiuoQ99D"
      },
      "source": [
        "model(classifier_lr)"
      ],
      "execution_count": null,
      "outputs": []
    },
    {
      "cell_type": "code",
      "metadata": {
        "_kg_hide-output": true,
        "trusted": true,
        "id": "7sBsMGiyQ99D"
      },
      "source": [
        "model_evaluation(classifier_lr)"
      ],
      "execution_count": null,
      "outputs": []
    },
    {
      "cell_type": "code",
      "metadata": {
        "trusted": true,
        "id": "mchga7BEQ99D"
      },
      "source": [
        "X_train = guinea.iloc[:, 2:].values.astype('float64')\n",
        "y_train = guinea['total_cases'].values"
      ],
      "execution_count": null,
      "outputs": []
    },
    {
      "cell_type": "code",
      "metadata": {
        "_kg_hide-output": true,
        "trusted": true,
        "id": "097TZXyiQ99D"
      },
      "source": [
        "from sklearn.preprocessing import QuantileTransformer\n",
        "\n",
        "transformed = pd.DataFrame(QuantileTransformer(output_distribution='normal').fit_transform(X_train))"
      ],
      "execution_count": null,
      "outputs": []
    },
    {
      "cell_type": "code",
      "metadata": {
        "trusted": true,
        "id": "tpR-GFq-Q99D"
      },
      "source": [
        "from sklearn.pipeline import make_pipeline\n",
        "from sklearn.naive_bayes import GaussianNB\n",
        "\n",
        "pipeline = make_pipeline(QuantileTransformer(output_distribution='normal'), GaussianNB())\n",
        "pipeline.fit(X_train, y_train)"
      ],
      "execution_count": null,
      "outputs": []
    },
    {
      "cell_type": "code",
      "metadata": {
        "_kg_hide-output": true,
        "trusted": true,
        "id": "pwibvMwLQ99E"
      },
      "source": [
        "from sklearn.metrics import roc_curve, auc\n",
        "\n",
        "fpr, tpr, thr = roc_curve(y_train, pipeline.predict_proba(X_train)[:,1])\n",
        "plt.plot(fpr, tpr)\n",
        "plt.xlabel('False Positive Rate')\n",
        "plt.ylabel('True Positive Rate')\n",
        "plt.title('Receiver Operating Characteristic Plot', **title_config)\n",
        "auc(fpr, tpr)"
      ],
      "execution_count": null,
      "outputs": []
    },
    {
      "cell_type": "code",
      "metadata": {
        "_kg_hide-output": true,
        "collapsed": true,
        "jupyter": {
          "outputs_hidden": true
        },
        "trusted": true,
        "id": "gwrTr_VZQ99E"
      },
      "source": [
        "from sklearn.model_selection import cross_val_score\n",
        "\n",
        "cross_val_score(pipeline, X_train, y_train, scoring='roc_auc', cv=5).mean()"
      ],
      "execution_count": null,
      "outputs": []
    },
    {
      "cell_type": "code",
      "metadata": {
        "trusted": true,
        "id": "fiL-kEQaQ99E"
      },
      "source": [
        "#model_evaluation(classifier_svc)"
      ],
      "execution_count": null,
      "outputs": []
    },
    {
      "cell_type": "code",
      "metadata": {
        "_kg_hide-input": true,
        "trusted": true,
        "id": "HGN1vhbsQ99E"
      },
      "source": [
        "df1 = pd.read_csv('../input/hackathon/task_2-Tuberculosis_infection_estimates_for_2018.csv', encoding='utf8')\n",
        "df1.head()"
      ],
      "execution_count": null,
      "outputs": []
    },
    {
      "cell_type": "code",
      "metadata": {
        "trusted": true,
        "id": "-QDqSNKIQ99E"
      },
      "source": [
        "Guinea = df1[(df1['country']=='Guinea-Bissau')].reset_index(drop=True)\n",
        "Guinea.head()"
      ],
      "execution_count": null,
      "outputs": []
    },
    {
      "cell_type": "code",
      "metadata": {
        "trusted": true,
        "id": "gNXFt1WhQ99F"
      },
      "source": [
        "sns.countplot(x=\"e_hh_size\",data=Guinea,palette=\"ocean\",edgecolor=\"black\")\n",
        "plt.title('Guinea Estimated Household Size', weight='bold')\n",
        "plt.xticks(rotation=45)\n",
        "plt.yticks(rotation=45)\n",
        "# changing the font size\n",
        "sns.set(font_scale=1)"
      ],
      "execution_count": null,
      "outputs": []
    },
    {
      "cell_type": "code",
      "metadata": {
        "trusted": true,
        "id": "sxyfR1ybQ99F"
      },
      "source": [
        "sns.countplot(x=\"e_prevtx_kids_pct_hi\",data=Guinea,palette=\"autumn\",edgecolor=\"black\")\n",
        "plt.title('Guinea Preventive Index Kids under 5y High Bound', weight='bold')\n",
        "plt.xticks(rotation=45)\n",
        "plt.yticks(rotation=45)\n",
        "# changing the font size\n",
        "sns.set(font_scale=1)"
      ],
      "execution_count": null,
      "outputs": []
    },
    {
      "cell_type": "code",
      "metadata": {
        "_kg_hide-input": true,
        "trusted": true,
        "id": "hWpeLjfyQ99F"
      },
      "source": [
        "df2 = pd.read_csv('../input/hackathon/task_2-BCG_world_atlas_data-bcg_strain-7July2020.csv', encoding='utf8')\n",
        "df2.head()"
      ],
      "execution_count": null,
      "outputs": []
    },
    {
      "cell_type": "code",
      "metadata": {
        "trusted": true,
        "id": "vp5FjzMWQ99F"
      },
      "source": [
        "guinea_bissau = df2[(df2['country_name']=='Guinea-Bissau')].reset_index(drop=True)\n",
        "guinea_bissau.head()"
      ],
      "execution_count": null,
      "outputs": []
    },
    {
      "cell_type": "code",
      "metadata": {
        "trusted": true,
        "id": "CQABeKEZQ99F"
      },
      "source": [
        "sns.countplot(x=\"vaccination_timing\",data=guinea_bissau,palette=\"flag\",edgecolor=\"black\")\n",
        "plt.title('Guinea-Bissau BCG Vacccination Timing', weight='bold')\n",
        "plt.xticks(rotation=45)\n",
        "plt.yticks(rotation=45)\n",
        "# changing the font size\n",
        "sns.set(font_scale=1)"
      ],
      "execution_count": null,
      "outputs": []
    },
    {
      "cell_type": "code",
      "metadata": {
        "_kg_hide-output": true,
        "collapsed": true,
        "jupyter": {
          "outputs_hidden": true
        },
        "trusted": true,
        "id": "09qUBug8Q99F"
      },
      "source": [
        "ls ../input/hackathon/task_1-google_search_txt_files_v2/GW/"
      ],
      "execution_count": null,
      "outputs": []
    },
    {
      "cell_type": "code",
      "metadata": {
        "trusted": true,
        "id": "e1x6CFTrQ99G"
      },
      "source": [
        "Guinea_Bissau = '../input/hackathon/task_1-google_search_txt_files_v2/GW/Guinea-Bissau-pt-result-13.txt'"
      ],
      "execution_count": null,
      "outputs": []
    },
    {
      "cell_type": "code",
      "metadata": {
        "trusted": true,
        "id": "ycxNTNaeQ99G"
      },
      "source": [
        "text = open(Guinea_Bissau, 'r',encoding='utf-8',\n",
        "                 errors='ignore').read()"
      ],
      "execution_count": null,
      "outputs": []
    },
    {
      "cell_type": "code",
      "metadata": {
        "trusted": true,
        "id": "_Wo3Z05uQ99G"
      },
      "source": [
        "print(text[:2000])"
      ],
      "execution_count": null,
      "outputs": []
    },
    {
      "cell_type": "code",
      "metadata": {
        "_kg_hide-input": true,
        "trusted": true,
        "id": "OBTRzzMIQ99G"
      },
      "source": [
        "#word cloud\n",
        "from wordcloud import WordCloud, ImageColorGenerator\n",
        "text = \" \".join(str(each) for each in guinea_bissau.country_name)\n",
        "# Create and generate a word cloud image:\n",
        "wordcloud = WordCloud(max_words=200,colormap='Set3', background_color=\"black\").generate(text)\n",
        "plt.figure(figsize=(10,6))\n",
        "plt.figure(figsize=(15,10))\n",
        "# Display the generated image:\n",
        "plt.imshow(wordcloud, interpolation='Bilinear')\n",
        "plt.axis(\"off\")\n",
        "plt.figure(1,figsize=(12, 12))\n",
        "plt.show()"
      ],
      "execution_count": null,
      "outputs": []
    },
    {
      "cell_type": "markdown",
      "metadata": {
        "id": "5fSssSWEQ99G"
      },
      "source": [
        "Das War's Kaggle Notebook Runner: Marília Prata   @mpwolke"
      ]
    }
  ]
}