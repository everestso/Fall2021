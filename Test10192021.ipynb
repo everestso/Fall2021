{
  "nbformat": 4,
  "nbformat_minor": 0,
  "metadata": {
    "colab": {
      "name": "Test10192021.ipynb",
      "provenance": [],
      "collapsed_sections": [],
      "authorship_tag": "ABX9TyNgVp7xcSuuwxja0SMYYt+E",
      "include_colab_link": true
    },
    "kernelspec": {
      "name": "python3",
      "display_name": "Python 3"
    },
    "language_info": {
      "name": "python"
    }
  },
  "cells": [
    {
      "cell_type": "markdown",
      "metadata": {
        "id": "view-in-github",
        "colab_type": "text"
      },
      "source": [
        "<a href=\"https://colab.research.google.com/github/everestso/Fall2021/blob/main/Test10192021.ipynb\" target=\"_parent\"><img src=\"https://colab.research.google.com/assets/colab-badge.svg\" alt=\"Open In Colab\"/></a>"
      ]
    },
    {
      "cell_type": "code",
      "metadata": {
        "id": "wsF1zD8d7MOt"
      },
      "source": [
        "import numpy as np\n",
        "import cvxopt as cvxopt\n",
        "import pylab as pl"
      ],
      "execution_count": 1,
      "outputs": []
    },
    {
      "cell_type": "code",
      "metadata": {
        "id": "YbddUm8B7Gjn"
      },
      "source": [
        "#data = [((-7, 10), -1), ((-3, 4), -1), ((8, 7), 1), ((1, 16), -1), ((8, -4), 1), ((9, 5), 1), ((-4, 14), -1), ((-1, -8), 1), ((-8, 0), -1), ((8, 3), 1)] ## data2## data2\n",
        "\n",
        "data = [((-8.0, 0.0), -1.0), ((-7.0, 10.0), -1.0), ((-4.0, 14.0), -1.0), ((-3.0, 4.0), -1.0), ((1.0, 16.0), -1.0), ((-1.0, -8.0), 1.0), ((8.0, -4.0), 1.0), ((8.0, 3.0), 1.0), ((8.0, 7.0), 1.0), ((9.0, 5.0), 1.0)] ## data2## data2"
      ],
      "execution_count": 41,
      "outputs": []
    },
    {
      "cell_type": "code",
      "metadata": {
        "colab": {
          "base_uri": "https://localhost:8080/",
          "height": 435
        },
        "id": "MjwnxJod7oOI",
        "outputId": "c79e8b56-a127-4659-e866-2cca8cc51637"
      },
      "source": [
        "m =len(X)  \n",
        "d = len(data[0][0])\n",
        "targets = np.reshape([t for _,t in data], (m,1))\n",
        "X = np.reshape([x for x,_ in data], (m,d))\n",
        "for i in range(m): print (targets[i,0], X[i])\n",
        "\n",
        "l1 =  np.where(targets==1)[0]\n",
        "l2 =  np.where(targets==-1)[0]\n",
        "pl.plot(X[l1,0],X[l1,1],'rs')\n",
        "pl.plot(X[l2,0],X[l2,1],'ko')\n",
        "pl.show()"
      ],
      "execution_count": 42,
      "outputs": [
        {
          "output_type": "stream",
          "name": "stdout",
          "text": [
            "-1.0 [-8.  0.]\n",
            "-1.0 [-7. 10.]\n",
            "-1.0 [-4. 14.]\n",
            "-1.0 [-3.  4.]\n",
            "-1.0 [ 1. 16.]\n",
            "1.0 [-1. -8.]\n",
            "1.0 [ 8. -4.]\n",
            "1.0 [8. 3.]\n",
            "1.0 [8. 7.]\n",
            "1.0 [9. 5.]\n"
          ]
        },
        {
          "output_type": "display_data",
          "data": {
            "image/png": "[encoded data removed]",
            "text/plain": [
              "<Figure size 432x288 with 1 Axes>"
            ]
          },
          "metadata": {
            "needs_background": "light"
          }
        }
      ]
    },
    {
      "cell_type": "code",
      "metadata": {
        "colab": {
          "base_uri": "https://localhost:8080/"
        },
        "id": "VXU2fjQg8vxx",
        "outputId": "fc91f99b-5bd2-4cae-a587-96483afaf6a8"
      },
      "source": [
        "K = np.dot(X,X.T)\n",
        "P=targets*targets.transpose()*K\n",
        "q = -np.ones((m,1))\n",
        "G = -np.eye(m)\n",
        "h = np.zeros((m,1))\n",
        "\n",
        "A = targets.reshape(1,m)\n",
        "b = 0.0\n",
        "\n",
        "print (P, P.shape)\n",
        "print (\"K\", K, K.shape)\n",
        "print (\"X\", X.shape)\n",
        "print (\"A\", A, A.shape)"
      ],
      "execution_count": 43,
      "outputs": [
        {
          "output_type": "stream",
          "name": "stdout",
          "text": [
            "[[  64.   56.   32.   24.   -8.   -8.   64.   64.   64.   72.]\n",
            " [  56.  149.  168.   61.  153.   73.   96.   26.  -14.   13.]\n",
            " [  32.  168.  212.   68.  220.  108.   88.  -10.  -66.  -34.]\n",
            " [  24.   61.   68.   25.   61.   29.   40.   12.   -4.    7.]\n",
            " [  -8.  153.  220.   61.  257.  129.   56.  -56. -120.  -89.]\n",
            " [  -8.   73.  108.   29.  129.   65.   24.  -32.  -64.  -49.]\n",
            " [  64.   96.   88.   40.   56.   24.   80.   52.   36.   52.]\n",
            " [  64.   26.  -10.   12.  -56.  -32.   52.   73.   85.   87.]\n",
            " [  64.  -14.  -66.   -4. -120.  -64.   36.   85.  113.  107.]\n",
            " [  72.   13.  -34.    7.  -89.  -49.   52.   87.  107.  106.]] (10, 10)\n",
            "K [[  64.   56.   32.   24.   -8.    8.  -64.  -64.  -64.  -72.]\n",
            " [  56.  149.  168.   61.  153.  -73.  -96.  -26.   14.  -13.]\n",
            " [  32.  168.  212.   68.  220. -108.  -88.   10.   66.   34.]\n",
            " [  24.   61.   68.   25.   61.  -29.  -40.  -12.    4.   -7.]\n",
            " [  -8.  153.  220.   61.  257. -129.  -56.   56.  120.   89.]\n",
            " [   8.  -73. -108.  -29. -129.   65.   24.  -32.  -64.  -49.]\n",
            " [ -64.  -96.  -88.  -40.  -56.   24.   80.   52.   36.   52.]\n",
            " [ -64.  -26.   10.  -12.   56.  -32.   52.   73.   85.   87.]\n",
            " [ -64.   14.   66.    4.  120.  -64.   36.   85.  113.  107.]\n",
            " [ -72.  -13.   34.   -7.   89.  -49.   52.   87.  107.  106.]] (10, 10)\n",
            "X (10, 2)\n",
            "A [[-1. -1. -1. -1. -1.  1.  1.  1.  1.  1.]] (1, 10)\n"
          ]
        }
      ]
    },
    {
      "cell_type": "code",
      "metadata": {
        "colab": {
          "base_uri": "https://localhost:8080/"
        },
        "id": "60Oz6diO8yho",
        "outputId": "9071cf1a-1a69-4219-ebef-2623b557ea39"
      },
      "source": [
        "sol = cvxopt.solvers.qp(cvxopt.matrix(P),cvxopt.matrix(q),cvxopt.matrix(G),cvxopt.matrix(h), cvxopt.matrix(A), cvxopt.matrix(b))\n",
        "print(sol)"
      ],
      "execution_count": 44,
      "outputs": [
        {
          "output_type": "stream",
          "name": "stdout",
          "text": [
            "     pcost       dcost       gap    pres   dres\n",
            " 0: -1.0198e+00 -1.6045e+00  2e+01  4e+00  2e+00\n",
            " 1: -5.2594e-01 -2.1167e-01  3e+00  7e-01  2e-01\n",
            " 2: -1.3279e-03 -8.1289e-02  8e-02  3e-16  4e-15\n",
            " 3: -2.6697e-02 -3.3244e-02  7e-03  2e-18  3e-16\n",
            " 4: -3.2054e-02 -3.2194e-02  1e-04  1e-17  5e-16\n",
            " 5: -3.2135e-02 -3.2137e-02  1e-06  1e-17  3e-16\n",
            " 6: -3.2136e-02 -3.2136e-02  1e-08  5e-18  2e-16\n",
            "Optimal solution found.\n",
            "{'x': <10x1 matrix, tc='d'>, 'y': <1x1 matrix, tc='d'>, 's': <10x1 matrix, tc='d'>, 'z': <10x1 matrix, tc='d'>, 'status': 'optimal', 'gap': 1.3979928338791115e-08, 'relative gap': 4.3502258706909544e-07, 'primal objective': -0.03213609765179999, 'dual objective': -0.03213611163172833, 'primal infeasibility': 4.906538933778981e-18, 'dual infeasibility': 2.0692715557160056e-16, 'primal slack': 9.375047784967286e-10, 'dual slack': 5.1711529896648424e-08, 'iterations': 6}\n"
          ]
        }
      ]
    },
    {
      "cell_type": "code",
      "metadata": {
        "colab": {
          "base_uri": "https://localhost:8080/"
        },
        "id": "uDtNgRp7BkW-",
        "outputId": "c2611cb9-c1b5-470c-8648-68eebd7f9d6b"
      },
      "source": [
        "threshold=1e-3\n",
        "\n",
        "# Get the Lagrange multipliers out of the solution dictionary\n",
        "lambdas = np.array(sol['x'])\n",
        "\n",
        "# Find the (indices of the) support vectors, which are the vectors with non-zero Lagrange multipliers\n",
        "sv = np.where(lambdas>threshold)[0]\n",
        "nsupport = len(sv)\n",
        "print (nsupport, \"support vectors found\" )\n",
        "\n",
        "# Just retain the data corresponding to the support vectors\n",
        "SVMx = X[sv,:]\n",
        "SVMlambdas = lambdas[sv]\n",
        "SVMtargets = targets[sv]\n",
        "\n",
        "    #self.b = np.sum(self.targets)\n",
        "    #for n in range(self.nsupport):\n",
        "    #self.b -= np.sum(self.lambdas*self.targets.T*np.reshape(self.K[self.sv[n],self.sv],(self.nsupport,1)))\n",
        "    #self.b /= len(self.lambdas)\n",
        "    #print \"b=\",self.b\n",
        "\n",
        "b = np.sum(SVMtargets)\n",
        "for n in range(nsupport):\n",
        "  b -= np.sum(SVMlambdas*SVMtargets*np.reshape(K[sv[n],sv],(nsupport,1)))\n",
        "b /= len(SVMlambdas)"
      ],
      "execution_count": 45,
      "outputs": [
        {
          "output_type": "stream",
          "name": "stdout",
          "text": [
            "3 support vectors found\n"
          ]
        }
      ]
    },
    {
      "cell_type": "code",
      "metadata": {
        "colab": {
          "base_uri": "https://localhost:8080/"
        },
        "id": "SQgEHu-vBns0",
        "outputId": "cf5068a6-62a2-4c04-845e-20bb120d1b75"
      },
      "source": [
        "print(SVMlambdas)\n",
        "roundedLambdas = [round(l[0],3) for l in SVMlambdas]\n",
        "print (roundedLambdas)\n",
        "print (round(b,3))\n",
        "print (SVMx)"
      ],
      "execution_count": 46,
      "outputs": [
        {
          "output_type": "stream",
          "name": "stdout",
          "text": [
            "[[0.0321361 ]\n",
            " [0.01512287]\n",
            " [0.01701323]]\n",
            "[0.032, 0.015, 0.017]\n",
            "0.174\n",
            "[[-3.  4.]\n",
            " [-1. -8.]\n",
            " [ 8.  7.]]\n"
          ]
        }
      ]
    },
    {
      "cell_type": "code",
      "metadata": {
        "colab": {
          "base_uri": "https://localhost:8080/"
        },
        "id": "65z3fVbPBs9c",
        "outputId": "fa1d3798-258e-4c28-b87d-2f0c3047c3f9"
      },
      "source": [
        "#SVM for Prediction\n",
        "x = (0.04967142, -0.01382643 )\n",
        "\n",
        "K = lambda a, b: np.dot(np.transpose(a), b)\n",
        "def Predict(SVx, SVl, SVt, b, x):\n",
        "  tot = 0\n",
        "  for i in range(len(SVx)):\n",
        "    tot += SVt[i] * SVl[i] * K(SVx[i], x)\n",
        "  #print (tot)\n",
        "  #print (tot + b)\n",
        "  #print (SVt[i])\n",
        "  return tot+b\n",
        "\n",
        "for x, r in zip(X, targets):\n",
        "  print(x, Predict(SVMx,SVMlambdas, SVMtargets, b, x), r)"
      ],
      "execution_count": 47,
      "outputs": [
        {
          "output_type": "stream",
          "name": "stdout",
          "text": [
            "[-8.  0.] [-1.5652171] [-1.]\n",
            "[-7. 10.] [-2.65217337] [-1.]\n",
            "[-4. 14.] [-2.52173858] [-1.]\n",
            "[-3.  4.] [-0.99999977] [-1.]\n",
            "[ 1. 16.] [-1.69565173] [-1.]\n",
            "[-1. -8.] [0.99999982] [1.]\n",
            "[ 8. -4.] [2.43478224] [1.]\n",
            "[8. 3.] [1.52173896] [1.]\n",
            "[8. 7.] [0.99999995] [1.]\n",
            "[9. 5.] [1.47826073] [1.]\n"
          ]
        }
      ]
    },
    {
      "cell_type": "code",
      "metadata": {
        "colab": {
          "base_uri": "https://localhost:8080/",
          "height": 265
        },
        "id": "uVItzrDDBzKP",
        "outputId": "cc122e63-90c5-4b12-d2e2-18039bb08186"
      },
      "source": [
        "pl.figure()\n",
        "l1 =  np.where(targets==1)[0]\n",
        "l2 =  np.where(targets==-1)[0]\n",
        "pl.plot(X[sv,0],X[sv,1],'o',markeredgewidth=5)\n",
        "pl.plot(X[l1,0],X[l1,1],'rs')\n",
        "pl.plot(X[l2,0],X[l2,1],'ko')\n",
        "pl.show()"
      ],
      "execution_count": 48,
      "outputs": [
        {
          "output_type": "display_data",
          "data": {
            "image/png": "[encoded data removed]",
            "text/plain": [
              "<Figure size 432x288 with 1 Axes>"
            ]
          },
          "metadata": {
            "needs_background": "light"
          }
        }
      ]
    },
    {
      "cell_type": "code",
      "metadata": {
        "colab": {
          "base_uri": "https://localhost:8080/"
        },
        "id": "WeHPhK1dB-om",
        "outputId": "3e696a4e-5da0-4112-8384-79dbd99d5f0e"
      },
      "source": [
        "Wmodel = sum([a*r*x for x,a,r in zip(SVMx,SVMlambdas, SVMtargets)])\n",
        "print (Wmodel, b)\n"
      ],
      "execution_count": 53,
      "outputs": [
        {
          "output_type": "stream",
          "name": "stdout",
          "text": [
            "[ 0.21739127 -0.13043475] 0.17391305979326885\n"
          ]
        }
      ]
    },
    {
      "cell_type": "code",
      "metadata": {
        "id": "JX4YVKLND-i2"
      },
      "source": [
        "Fx2 = lambda W, x: (b+W[0]*x)/(-1*W[1])\n"
      ],
      "execution_count": 59,
      "outputs": []
    },
    {
      "cell_type": "code",
      "metadata": {
        "colab": {
          "base_uri": "https://localhost:8080/",
          "height": 265
        },
        "id": "_X7PyctfEaFO",
        "outputId": "d72f466e-5283-4c93-8e3f-328d23b8b6ce"
      },
      "source": [
        "pl.figure()\n",
        "l1 =  np.where(targets==1)[0]\n",
        "l2 =  np.where(targets==-1)[0]\n",
        "pl.plot(X[sv,0],X[sv,1],'o',markeredgewidth=5)\n",
        "pl.plot(X[l1,0],X[l1,1],'rs')\n",
        "pl.plot(X[l2,0],X[l2,1],'ko')\n",
        "pl.plot([-10, 10], [Fx2(Wmodel, -10), Fx2(Wmodel, 10)], 'b-' )\n",
        "pl.show()"
      ],
      "execution_count": 60,
      "outputs": [
        {
          "output_type": "display_data",
          "data": {
            "image/png": "[encoded data removed]",
            "text/plain": [
              "<Figure size 432x288 with 1 Axes>"
            ]
          },
          "metadata": {
            "needs_background": "light"
          }
        }
      ]
    }
  ]
}