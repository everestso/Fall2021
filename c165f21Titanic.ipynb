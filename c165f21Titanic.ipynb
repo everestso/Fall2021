{
  "nbformat": 4,
  "nbformat_minor": 0,
  "metadata": {
    "colab": {
      "name": "c165f21Titanic.ipynb",
      "provenance": [],
      "authorship_tag": "ABX9TyNOUqywXryF6/f1cA3c8ae0",
      "include_colab_link": true
    },
    "kernelspec": {
      "name": "python3",
      "display_name": "Python 3"
    },
    "language_info": {
      "name": "python"
    }
  },
  "cells": [
    {
      "cell_type": "markdown",
      "metadata": {
        "id": "view-in-github",
        "colab_type": "text"
      },
      "source": [
        "<a href=\"https://colab.research.google.com/github/everestso/Fall2021/blob/main/c165f21Titanic.ipynb\" target=\"_parent\"><img src=\"https://colab.research.google.com/assets/colab-badge.svg\" alt=\"Open In Colab\"/></a>"
      ]
    },
    {
      "cell_type": "code",
      "metadata": {
        "id": "-DJsGA5Nwh2E"
      },
      "source": [
        "import numpy as np \n",
        "import pandas as pd \n",
        "\n",
        "import matplotlib.pyplot as plt \n",
        "\n",
        "from sklearn.linear_model import LogisticRegression\n",
        "from sklearn.metrics import accuracy_score"
      ],
      "execution_count": 48,
      "outputs": []
    },
    {
      "cell_type": "code",
      "metadata": {
        "colab": {
          "base_uri": "https://localhost:8080/"
        },
        "id": "MiBKmRvwxIJx",
        "outputId": "c5b69892-7b8e-461f-dc11-5d4df420c68e"
      },
      "source": [
        "# Read CSV train data file into DataFrame\n",
        "train_df = pd.read_csv(\"TitanicTrain.csv\")\n",
        "\n",
        "print(train_df.info())\n",
        "print(train_df.head())"
      ],
      "execution_count": 12,
      "outputs": [
        {
          "output_type": "stream",
          "name": "stdout",
          "text": [
            "<class 'pandas.core.frame.DataFrame'>\n",
            "RangeIndex: 891 entries, 0 to 890\n",
            "Data columns (total 12 columns):\n",
            " #   Column       Non-Null Count  Dtype  \n",
            "---  ------       --------------  -----  \n",
            " 0   PassengerId  891 non-null    int64  \n",
            " 1   Survived     891 non-null    int64  \n",
            " 2   Pclass       891 non-null    int64  \n",
            " 3   Name         891 non-null    object \n",
            " 4   Sex          891 non-null    object \n",
            " 5   Age          714 non-null    float64\n",
            " 6   SibSp        891 non-null    int64  \n",
            " 7   Parch        891 non-null    int64  \n",
            " 8   Ticket       891 non-null    object \n",
            " 9   Fare         891 non-null    float64\n",
            " 10  Cabin        204 non-null    object \n",
            " 11  Embarked     889 non-null    object \n",
            "dtypes: float64(2), int64(5), object(5)\n",
            "memory usage: 83.7+ KB\n",
            "None\n",
            "   PassengerId  Survived  Pclass  ...     Fare Cabin  Embarked\n",
            "0            1         0       3  ...   7.2500   NaN         S\n",
            "1            2         1       1  ...  71.2833   C85         C\n",
            "2            3         1       3  ...   7.9250   NaN         S\n",
            "3            4         1       1  ...  53.1000  C123         S\n",
            "4            5         0       3  ...   8.0500   NaN         S\n",
            "\n",
            "[5 rows x 12 columns]\n"
          ]
        }
      ]
    },
    {
      "cell_type": "code",
      "metadata": {
        "colab": {
          "base_uri": "https://localhost:8080/"
        },
        "id": "Oy-zGPXHxcm5",
        "outputId": "83056a45-6612-42fe-fb97-04a9f4aa886b"
      },
      "source": [
        "# check missing values in train data\n",
        "print(\"Missing Values: \")\n",
        "print(train_df.isnull().sum())"
      ],
      "execution_count": 10,
      "outputs": [
        {
          "output_type": "stream",
          "name": "stdout",
          "text": [
            "Missing Values: \n",
            "PassengerId      0\n",
            "Survived         0\n",
            "Pclass           0\n",
            "Name             0\n",
            "Sex              0\n",
            "Age            177\n",
            "SibSp            0\n",
            "Parch            0\n",
            "Ticket           0\n",
            "Fare             0\n",
            "Cabin          687\n",
            "Embarked         2\n",
            "dtype: int64\n"
          ]
        }
      ]
    },
    {
      "cell_type": "code",
      "metadata": {
        "colab": {
          "base_uri": "https://localhost:8080/",
          "height": 279
        },
        "id": "CK4KQoibyRJz",
        "outputId": "394aaafd-e605-44c5-bab3-dfe10710cbde"
      },
      "source": [
        "#ax = train_df[\"Age\"].hist(bins=15, density=True, stacked=True, color='teal', alpha=0.6)\n",
        "ax = train_df[\"Age\"].hist(bins=13, density=True, alpha=0.3)\n",
        "train_df[\"Age\"].plot(kind='density', color='red')\n",
        "ax.set(xlabel='Age')\n",
        "plt.xlim(-10,85)\n",
        "plt.show()"
      ],
      "execution_count": 33,
      "outputs": [
        {
          "output_type": "display_data",
          "data": {
            "image/png": "[encoded data removed]",
            "text/plain": [
              "<Figure size 432x288 with 1 Axes>"
            ]
          },
          "metadata": {
            "needs_background": "light"
          }
        }
      ]
    },
    {
      "cell_type": "code",
      "metadata": {
        "colab": {
          "base_uri": "https://localhost:8080/",
          "height": 265
        },
        "id": "8DhRrovV254k",
        "outputId": "d737a3be-94c5-4a6a-9086-44fdfdbde0db"
      },
      "source": [
        "train_df['Embarked'].hist()\n",
        "plt.show()"
      ],
      "execution_count": 41,
      "outputs": [
        {
          "output_type": "display_data",
          "data": {
            "image/png": "[encoded data removed]",
            "text/plain": [
              "<Figure size 432x288 with 1 Axes>"
            ]
          },
          "metadata": {
            "needs_background": "light"
          }
        }
      ]
    },
    {
      "cell_type": "code",
      "metadata": {
        "colab": {
          "base_uri": "https://localhost:8080/"
        },
        "id": "H8QVf1Nf04aQ",
        "outputId": "88c05bdc-436d-4fe7-bbed-9c9a178129d5"
      },
      "source": [
        "train_data = train_df.copy()\n",
        "train_data[\"Age\"].fillna(train_df[\"Age\"].median(skipna=True), inplace=True)\n",
        "train_data[\"Embarked\"].fillna(train_df['Embarked'].value_counts().idxmax(), inplace=True)\n",
        "\n",
        "training=pd.get_dummies(train_data, columns=[\"Embarked\"])\n",
        "training.drop(columns=['PassengerId', 'Survived', 'Pclass', 'Name', 'Sex', 'SibSp', 'Parch', 'Ticket', 'Fare', 'Cabin', 'PassengerId'], axis=1, inplace=True)\n",
        "print(training.info())\n",
        "print(training.head())"
      ],
      "execution_count": 47,
      "outputs": [
        {
          "output_type": "stream",
          "name": "stdout",
          "text": [
            "<class 'pandas.core.frame.DataFrame'>\n",
            "RangeIndex: 891 entries, 0 to 890\n",
            "Data columns (total 4 columns):\n",
            " #   Column      Non-Null Count  Dtype  \n",
            "---  ------      --------------  -----  \n",
            " 0   Age         891 non-null    float64\n",
            " 1   Embarked_C  891 non-null    uint8  \n",
            " 2   Embarked_Q  891 non-null    uint8  \n",
            " 3   Embarked_S  891 non-null    uint8  \n",
            "dtypes: float64(1), uint8(3)\n",
            "memory usage: 9.7 KB\n",
            "None\n",
            "    Age  Embarked_C  Embarked_Q  Embarked_S\n",
            "0  22.0           0           0           1\n",
            "1  38.0           1           0           0\n",
            "2  26.0           0           0           1\n",
            "3  35.0           0           0           1\n",
            "4  35.0           0           0           1\n"
          ]
        }
      ]
    },
    {
      "cell_type": "code",
      "metadata": {
        "colab": {
          "base_uri": "https://localhost:8080/"
        },
        "id": "hc_n4PgU4k8-",
        "outputId": "c17b701b-241d-4eee-b06e-6bfff9373094"
      },
      "source": [
        "clf1 = LogisticRegression(solver='lbfgs',\n",
        "                        max_iter=10000)\n",
        "clf1.fit(training, train_df['Survived'] )\n",
        "clf1.predict()"
      ],
      "execution_count": 49,
      "outputs": [
        {
          "output_type": "execute_result",
          "data": {
            "text/plain": [
              "LogisticRegression(max_iter=10000)"
            ]
          },
          "metadata": {},
          "execution_count": 49
        }
      ]
    },
    {
      "cell_type": "code",
      "metadata": {
        "colab": {
          "base_uri": "https://localhost:8080/"
        },
        "id": "22MeFt_E5IDH",
        "outputId": "5ed4265a-5a77-431c-f756-6b3d9120c9de"
      },
      "source": [
        "predict = clf1.predict(training)\n",
        "print(\"Accuracy = \", accuracy_score(predict, train_df['Survived']))"
      ],
      "execution_count": 51,
      "outputs": [
        {
          "output_type": "stream",
          "name": "stdout",
          "text": [
            "Accuracy =  0.6341189674523008\n"
          ]
        }
      ]
    },
    {
      "cell_type": "code",
      "metadata": {
        "id": "YKdG5tn95Utn"
      },
      "source": [
        "TitanicTest = pd.read_csv('TitanicTest.csv')\n"
      ],
      "execution_count": 56,
      "outputs": []
    },
    {
      "cell_type": "code",
      "metadata": {
        "colab": {
          "base_uri": "https://localhost:8080/"
        },
        "id": "PVj0u71d5fSf",
        "outputId": "9749b14b-8fa6-41a2-eb22-c17a09f0ace2"
      },
      "source": [
        "test_data = TitanicTest.copy()\n",
        "test_data[\"Age\"].fillna(train_df[\"Age\"].median(skipna=True), inplace=True)\n",
        "testing=pd.get_dummies(test_data, columns=[\"Embarked\"])\n",
        "testing.drop(columns=['PassengerId', 'Pclass', 'Name', 'Sex', 'SibSp', 'Parch', 'Ticket', 'Fare', 'Cabin', 'PassengerId'], axis=1, inplace=True)\n",
        "print(testing.info())\n",
        "print(testing.head())"
      ],
      "execution_count": 60,
      "outputs": [
        {
          "output_type": "stream",
          "name": "stdout",
          "text": [
            "<class 'pandas.core.frame.DataFrame'>\n",
            "RangeIndex: 418 entries, 0 to 417\n",
            "Data columns (total 4 columns):\n",
            " #   Column      Non-Null Count  Dtype  \n",
            "---  ------      --------------  -----  \n",
            " 0   Age         418 non-null    float64\n",
            " 1   Embarked_C  418 non-null    uint8  \n",
            " 2   Embarked_Q  418 non-null    uint8  \n",
            " 3   Embarked_S  418 non-null    uint8  \n",
            "dtypes: float64(1), uint8(3)\n",
            "memory usage: 4.6 KB\n",
            "None\n",
            "    Age  Embarked_C  Embarked_Q  Embarked_S\n",
            "0  34.5           0           1           0\n",
            "1  47.0           0           0           1\n",
            "2  62.0           0           1           0\n",
            "3  27.0           0           0           1\n",
            "4  22.0           0           0           1\n"
          ]
        }
      ]
    },
    {
      "cell_type": "code",
      "metadata": {
        "id": "0xk4hyx-6BZh"
      },
      "source": [
        "predict = clf1.predict(testing)"
      ],
      "execution_count": 61,
      "outputs": []
    },
    {
      "cell_type": "code",
      "metadata": {
        "id": "R-B-Lj1N6IB4"
      },
      "source": [
        "TitanicTest['Survived']=predict\n",
        "\n",
        "TitanicTest[['PassengerId','Survived']].to_csv('Titanic2.csv', index=False, header=True)"
      ],
      "execution_count": 64,
      "outputs": []
    },
    {
      "cell_type": "markdown",
      "metadata": {
        "id": "6c8Q_4_-w6KQ"
      },
      "source": [
        ""
      ]
    }
  ]
}