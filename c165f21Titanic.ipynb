{
  "nbformat": 4,
  "nbformat_minor": 0,
  "metadata": {
    "colab": {
      "name": "c165f21Titanic.ipynb",
      "provenance": [],
      "collapsed_sections": [],
      "authorship_tag": "ABX9TyOFV8m6KhSliGte+2ZHzjmP",
      "include_colab_link": true
    },
    "kernelspec": {
      "name": "python3",
      "display_name": "Python 3"
    },
    "language_info": {
      "name": "python"
    }
  },
  "cells": [
    {
      "cell_type": "markdown",
      "metadata": {
        "id": "view-in-github",
        "colab_type": "text"
      },
      "source": [
        "<a href=\"https://colab.research.google.com/github/everestso/Fall2021/blob/main/c165f21Titanic.ipynb\" target=\"_parent\"><img src=\"https://colab.research.google.com/assets/colab-badge.svg\" alt=\"Open In Colab\"/></a>"
      ]
    },
    {
      "cell_type": "code",
      "metadata": {
        "id": "-DJsGA5Nwh2E"
      },
      "source": [
        "import numpy as np \n",
        "import pandas as pd \n",
        "\n",
        "import matplotlib.pyplot as plt \n",
        "\n",
        "from sklearn.linear_model import LogisticRegression\n",
        "from sklearn.metrics import accuracy_score"
      ],
      "execution_count": 1,
      "outputs": []
    },
    {
      "cell_type": "code",
      "metadata": {
        "colab": {
          "base_uri": "https://localhost:8080/"
        },
        "id": "MiBKmRvwxIJx",
        "outputId": "53d3f360-543c-409a-9b5d-03194327e853"
      },
      "source": [
        "# Read CSV train data file into DataFrame\n",
        "train_df = pd.read_csv(\"TitanicTrain.csv\")\n",
        "\n",
        "print(train_df.info())\n",
        "print(train_df.head())"
      ],
      "execution_count": 2,
      "outputs": [
        {
          "output_type": "stream",
          "name": "stdout",
          "text": [
            "<class 'pandas.core.frame.DataFrame'>\n",
            "RangeIndex: 891 entries, 0 to 890\n",
            "Data columns (total 12 columns):\n",
            " #   Column       Non-Null Count  Dtype  \n",
            "---  ------       --------------  -----  \n",
            " 0   PassengerId  891 non-null    int64  \n",
            " 1   Survived     891 non-null    int64  \n",
            " 2   Pclass       891 non-null    int64  \n",
            " 3   Name         891 non-null    object \n",
            " 4   Sex          891 non-null    object \n",
            " 5   Age          714 non-null    float64\n",
            " 6   SibSp        891 non-null    int64  \n",
            " 7   Parch        891 non-null    int64  \n",
            " 8   Ticket       891 non-null    object \n",
            " 9   Fare         891 non-null    float64\n",
            " 10  Cabin        204 non-null    object \n",
            " 11  Embarked     889 non-null    object \n",
            "dtypes: float64(2), int64(5), object(5)\n",
            "memory usage: 83.7+ KB\n",
            "None\n",
            "   PassengerId  Survived  Pclass  ...     Fare Cabin  Embarked\n",
            "0            1         0       3  ...   7.2500   NaN         S\n",
            "1            2         1       1  ...  71.2833   C85         C\n",
            "2            3         1       3  ...   7.9250   NaN         S\n",
            "3            4         1       1  ...  53.1000  C123         S\n",
            "4            5         0       3  ...   8.0500   NaN         S\n",
            "\n",
            "[5 rows x 12 columns]\n"
          ]
        }
      ]
    },
    {
      "cell_type": "code",
      "metadata": {
        "colab": {
          "base_uri": "https://localhost:8080/"
        },
        "id": "Oy-zGPXHxcm5",
        "outputId": "e16bdf5f-6901-48cb-d83d-983bf6ad47da"
      },
      "source": [
        "# check missing values in train data\n",
        "print(\"Missing Values: \")\n",
        "print(train_df.isnull().sum())"
      ],
      "execution_count": 6,
      "outputs": [
        {
          "output_type": "stream",
          "name": "stdout",
          "text": [
            "Missing Values: \n",
            "PassengerId      0\n",
            "Survived         0\n",
            "Pclass           0\n",
            "Name             0\n",
            "Sex              0\n",
            "Age            177\n",
            "SibSp            0\n",
            "Parch            0\n",
            "Ticket           0\n",
            "Fare             0\n",
            "Cabin          687\n",
            "Embarked         2\n",
            "dtype: int64\n"
          ]
        }
      ]
    },
    {
      "cell_type": "code",
      "metadata": {
        "colab": {
          "base_uri": "https://localhost:8080/",
          "height": 279
        },
        "id": "CK4KQoibyRJz",
        "outputId": "07e244cf-031f-45a8-b17e-77e51a9f39fc"
      },
      "source": [
        "ax = train_df[\"Age\"].hist(bins=13, density=True, alpha=0.3)\n",
        "train_df[\"Age\"].plot(kind='density', color='red')\n",
        "ax.set(xlabel='Age')\n",
        "plt.xlim(-10,85)\n",
        "plt.show()"
      ],
      "execution_count": 23,
      "outputs": [
        {
          "output_type": "display_data",
          "data": {
            "image/png": "[encoded data removed]",
            "text/plain": [
              "<Figure size 432x288 with 1 Axes>"
            ]
          },
          "metadata": {
            "needs_background": "light"
          }
        }
      ]
    },
    {
      "cell_type": "code",
      "metadata": {
        "colab": {
          "base_uri": "https://localhost:8080/",
          "height": 265
        },
        "id": "8DhRrovV254k",
        "outputId": "950bba80-f45a-4aea-8411-7c06694b572a"
      },
      "source": [
        "train_df['Embarked'].hist()\n",
        "plt.show()"
      ],
      "execution_count": 8,
      "outputs": [
        {
          "output_type": "display_data",
          "data": {
            "image/png": "[encoded data removed]",
            "text/plain": [
              "<Figure size 432x288 with 1 Axes>"
            ]
          },
          "metadata": {
            "needs_background": "light"
          }
        }
      ]
    },
    {
      "cell_type": "code",
      "metadata": {
        "colab": {
          "base_uri": "https://localhost:8080/"
        },
        "id": "H8QVf1Nf04aQ",
        "outputId": "366657b7-4e1e-4dff-de85-857a8a5064ef"
      },
      "source": [
        "train_data = train_df.copy()\n",
        "train_data[\"Age\"].fillna(train_df[\"Age\"].median(skipna=True), inplace=True)\n",
        "train_data[\"Embarked\"].fillna(train_df['Embarked'].value_counts().idxmax(), inplace=True)\n",
        "\n",
        "training=pd.get_dummies(train_data, columns=[\"Embarked\"])\n",
        "training.drop(columns=['PassengerId', 'Survived', 'Pclass', 'Name', 'Sex', 'SibSp', 'Parch', 'Ticket', 'Fare', 'Cabin', 'PassengerId'], axis=1, inplace=True)\n",
        "print(training.info())\n",
        "print(training.head())"
      ],
      "execution_count": 15,
      "outputs": [
        {
          "output_type": "stream",
          "name": "stdout",
          "text": [
            "<class 'pandas.core.frame.DataFrame'>\n",
            "RangeIndex: 891 entries, 0 to 890\n",
            "Data columns (total 4 columns):\n",
            " #   Column      Non-Null Count  Dtype  \n",
            "---  ------      --------------  -----  \n",
            " 0   Age         891 non-null    float64\n",
            " 1   Embarked_C  891 non-null    uint8  \n",
            " 2   Embarked_Q  891 non-null    uint8  \n",
            " 3   Embarked_S  891 non-null    uint8  \n",
            "dtypes: float64(1), uint8(3)\n",
            "memory usage: 9.7 KB\n",
            "None\n",
            "    Age  Embarked_C  Embarked_Q  Embarked_S\n",
            "0  22.0           0           0           1\n",
            "1  38.0           1           0           0\n",
            "2  26.0           0           0           1\n",
            "3  35.0           0           0           1\n",
            "4  35.0           0           0           1\n"
          ]
        }
      ]
    },
    {
      "cell_type": "code",
      "metadata": {
        "colab": {
          "base_uri": "https://localhost:8080/"
        },
        "id": "hc_n4PgU4k8-",
        "outputId": "6fb4b3a8-2b53-4246-a8cd-2eb4dc244e8d"
      },
      "source": [
        "clf1 = LogisticRegression(solver='lbfgs',\n",
        "                        max_iter=10000)\n",
        "clf1.fit(training, train_df['Survived'] )"
      ],
      "execution_count": null,
      "outputs": [
        {
          "output_type": "execute_result",
          "data": {
            "text/plain": [
              "LogisticRegression(max_iter=10000)"
            ]
          },
          "metadata": {},
          "execution_count": 9
        }
      ]
    },
    {
      "cell_type": "markdown",
      "metadata": {
        "id": "2gZJeG22uKqg"
      },
      "source": [
        "# Mapping Values to 0/1"
      ]
    },
    {
      "cell_type": "code",
      "metadata": {
        "colab": {
          "base_uri": "https://localhost:8080/",
          "height": 284
        },
        "id": "RKzCSNNWswER",
        "outputId": "60315018-b83c-4115-bacd-a2613e1bf672"
      },
      "source": [
        "testing = train_data.copy()\n",
        "testing['Sex'] = testing['Sex'].apply({'male':0, 'female':1}.get)\n",
        "testing['Sex'].hist()"
      ],
      "execution_count": 33,
      "outputs": [
        {
          "output_type": "execute_result",
          "data": {
            "text/plain": [
              "<matplotlib.axes._subplots.AxesSubplot at 0x7ff65a5d2ed0>"
            ]
          },
          "metadata": {},
          "execution_count": 33
        },
        {
          "output_type": "display_data",
          "data": {
            "image/png": "[encoded data removed]",
            "text/plain": [
              "<Figure size 432x288 with 1 Axes>"
            ]
          },
          "metadata": {
            "needs_background": "light"
          }
        }
      ]
    },
    {
      "cell_type": "code",
      "metadata": {
        "colab": {
          "base_uri": "https://localhost:8080/",
          "height": 284
        },
        "id": "75xX5ga3tMA2",
        "outputId": "3d83cea9-9e7c-44e9-88c4-a7484dce3692"
      },
      "source": [
        "testing = train_data.copy()\n",
        "testing['Sex']=testing['Sex'].map({'female':0,'male':1})\n",
        "testing['Sex'].hist()"
      ],
      "execution_count": 34,
      "outputs": [
        {
          "output_type": "execute_result",
          "data": {
            "text/plain": [
              "<matplotlib.axes._subplots.AxesSubplot at 0x7ff65aa529d0>"
            ]
          },
          "metadata": {},
          "execution_count": 34
        },
        {
          "output_type": "display_data",
          "data": {
            "image/png": "[encoded data removed]",
            "text/plain": [
              "<Figure size 432x288 with 1 Axes>"
            ]
          },
          "metadata": {
            "needs_background": "light"
          }
        }
      ]
    },
    {
      "cell_type": "code",
      "metadata": {
        "colab": {
          "base_uri": "https://localhost:8080/",
          "height": 284
        },
        "id": "RW0rwDI6pVUH",
        "outputId": "400e2d68-1471-493e-a901-3dbd750187fe"
      },
      "source": [
        "testing = train_data.copy()\n",
        "testing['Sex'].replace(['male', 'female'], [0,1],inplace=True)\n",
        "testing['Sex'].hist()"
      ],
      "execution_count": 35,
      "outputs": [
        {
          "output_type": "execute_result",
          "data": {
            "text/plain": [
              "<matplotlib.axes._subplots.AxesSubplot at 0x7ff65f293b50>"
            ]
          },
          "metadata": {},
          "execution_count": 35
        },
        {
          "output_type": "display_data",
          "data": {
            "image/png": "[encoded data removed]",
            "text/plain": [
              "<Figure size 432x288 with 1 Axes>"
            ]
          },
          "metadata": {
            "needs_background": "light"
          }
        }
      ]
    },
    {
      "cell_type": "markdown",
      "metadata": {
        "id": "5Br0ibtWuDNU"
      },
      "source": [
        "## Test Data"
      ]
    },
    {
      "cell_type": "code",
      "metadata": {
        "id": "YKdG5tn95Utn"
      },
      "source": [
        "TitanicTest = pd.read_csv('TitanicTest.csv')"
      ],
      "execution_count": null,
      "outputs": []
    },
    {
      "cell_type": "code",
      "metadata": {
        "colab": {
          "base_uri": "https://localhost:8080/"
        },
        "id": "XwS25lJg88CO",
        "outputId": "58108486-f46b-4ca6-f713-9af30da06146"
      },
      "source": [
        "print(\"Missing Values: \")\n",
        "print(TitanicTest.isnull().sum())"
      ],
      "execution_count": null,
      "outputs": [
        {
          "output_type": "stream",
          "name": "stdout",
          "text": [
            "Missing Values: \n",
            "PassengerId      0\n",
            "Pclass           0\n",
            "Name             0\n",
            "Sex              0\n",
            "Age             86\n",
            "SibSp            0\n",
            "Parch            0\n",
            "Ticket           0\n",
            "Fare             1\n",
            "Cabin          327\n",
            "Embarked         0\n",
            "dtype: int64\n"
          ]
        }
      ]
    },
    {
      "cell_type": "code",
      "metadata": {
        "colab": {
          "base_uri": "https://localhost:8080/"
        },
        "id": "PVj0u71d5fSf",
        "outputId": "07867885-2ecb-4de0-af39-6583c724a203"
      },
      "source": [
        "test_data = TitanicTest.copy()\n",
        "test_data[\"Age\"].fillna(train_df[\"Age\"].median(skipna=True), inplace=True)\n",
        "testing=pd.get_dummies(test_data, columns=[\"Embarked\"])\n",
        "testing.drop(columns=['PassengerId', 'Pclass', 'Name',  'SibSp', 'Parch', 'Ticket', 'Fare', 'Cabin', 'PassengerId'], axis=1, inplace=True)\n",
        "print(testing.info())\n",
        "print(testing.head())"
      ],
      "execution_count": null,
      "outputs": [
        {
          "output_type": "stream",
          "name": "stdout",
          "text": [
            "<class 'pandas.core.frame.DataFrame'>\n",
            "RangeIndex: 418 entries, 0 to 417\n",
            "Data columns (total 6 columns):\n",
            " #   Column      Non-Null Count  Dtype  \n",
            "---  ------      --------------  -----  \n",
            " 0   Age         418 non-null    float64\n",
            " 1   Embarked_C  418 non-null    uint8  \n",
            " 2   Embarked_Q  418 non-null    uint8  \n",
            " 3   Embarked_S  418 non-null    uint8  \n",
            " 4   Sex_female  418 non-null    uint8  \n",
            " 5   Sex_male    418 non-null    uint8  \n",
            "dtypes: float64(1), uint8(5)\n",
            "memory usage: 5.4 KB\n",
            "None\n",
            "    Age  Embarked_C  Embarked_Q  Embarked_S  Sex_female  Sex_male\n",
            "0  34.5           0           1           0           0         1\n",
            "1  47.0           0           0           1           1         0\n",
            "2  62.0           0           1           0           0         1\n",
            "3  27.0           0           0           1           0         1\n",
            "4  22.0           0           0           1           1         0\n"
          ]
        }
      ]
    },
    {
      "cell_type": "code",
      "metadata": {
        "id": "0xk4hyx-6BZh"
      },
      "source": [
        "predict = clf1.predict(testing)"
      ],
      "execution_count": null,
      "outputs": []
    },
    {
      "cell_type": "code",
      "metadata": {
        "id": "R-B-Lj1N6IB4"
      },
      "source": [
        "TitanicTest['Survived']=predict\n",
        "\n",
        "TitanicTest[['PassengerId','Survived']].to_csv('Titanic2.csv', index=False, header=True)"
      ],
      "execution_count": null,
      "outputs": []
    },
    {
      "cell_type": "markdown",
      "metadata": {
        "id": "6c8Q_4_-w6KQ"
      },
      "source": [
        ""
      ]
    }
  ]
}