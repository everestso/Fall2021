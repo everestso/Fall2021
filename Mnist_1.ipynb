{
  "nbformat": 4,
  "nbformat_minor": 0,
  "metadata": {
    "colab": {
      "name": "Mnist_1.ipynb",
      "provenance": [],
      "authorship_tag": "ABX9TyORbZw8vxdpD+hsVTliJ4JL",
      "include_colab_link": true
    },
    "kernelspec": {
      "name": "python3",
      "display_name": "Python 3"
    },
    "language_info": {
      "name": "python"
    }
  },
  "cells": [
    {
      "cell_type": "markdown",
      "metadata": {
        "id": "view-in-github",
        "colab_type": "text"
      },
      "source": [
        "<a href=\"https://colab.research.google.com/github/everestso/Fall2021/blob/main/Mnist_1.ipynb\" target=\"_parent\"><img src=\"https://colab.research.google.com/assets/colab-badge.svg\" alt=\"Open In Colab\"/></a>"
      ]
    },
    {
      "cell_type": "markdown",
      "metadata": {
        "id": "T0I0TvzissyN"
      },
      "source": [
        "# Digit Recognizer"
      ]
    },
    {
      "cell_type": "code",
      "metadata": {
        "id": "UPQF35SAspYQ"
      },
      "source": [
        "import numpy as np\n",
        "import matplotlib.pyplot as plt\n",
        "\n",
        "import pandas as pd\n",
        "\n",
        "from sklearn.decomposition import PCA\n",
        "from sklearn import datasets\n",
        "\n",
        "from sklearn.linear_model import LogisticRegression\n",
        "from sklearn.metrics import accuracy_score"
      ],
      "execution_count": 1,
      "outputs": []
    },
    {
      "cell_type": "code",
      "metadata": {
        "colab": {
          "base_uri": "https://localhost:8080/"
        },
        "id": "QPQ9L3UbtZlK",
        "outputId": "c42e87c9-f841-47f9-e0a6-56cd2996c28b"
      },
      "source": [
        "mnist = pd.read_csv('MnistTrain.csv')\n",
        "data = mnist.values\n",
        "print(data.shape)\n",
        "print (data[1,1:])"
      ],
      "execution_count": 2,
      "outputs": [
        {
          "output_type": "stream",
          "name": "stdout",
          "text": [
            "(42000, 785)\n",
            "[  0   0   0   0   0   0   0   0   0   0   0   0   0   0   0   0   0   0\n",
            "   0   0   0   0   0   0   0   0   0   0   0   0   0   0   0   0   0   0\n",
            "   0   0   0   0   0   0   0   0   0   0   0   0   0   0   0   0   0   0\n",
            "   0   0   0   0   0   0   0   0   0   0   0   0   0   0   0   0   0   0\n",
            "   0   0   0   0   0   0   0   0   0   0   0   0   0   0   0   0   0   0\n",
            "   0   0   0   0   0   0   0   0   0   0   0   0   0   0   0   0   0   0\n",
            "   0   0   0   0   0   0   0   0   0   0   0   0   0   0  18  30 137 137\n",
            " 192  86  72   1   0   0   0   0   0   0   0   0   0   0   0   0   0   0\n",
            "   0   0   0   0  13  86 250 254 254 254 254 217 246 151  32   0   0   0\n",
            "   0   0   0   0   0   0   0   0   0   0   0   0   0  16 179 254 254 254\n",
            " 254 254 254 254 254 254 231  54  15   0   0   0   0   0   0   0   0   0\n",
            "   0   0   0   0   0  72 254 254 254 254 254 254 254 254 254 254 254 254\n",
            " 104   0   0   0   0   0   0   0   0   0   0   0   0   0  61 191 254 254\n",
            " 254 254 254 109  83 199 254 254 254 254 243  85   0   0   0   0   0   0\n",
            "   0   0   0   0   0   0 172 254 254 254 202 147 147  45   0  11  29 200\n",
            " 254 254 254 171   0   0   0   0   0   0   0   0   0   0   0   1 174 254\n",
            " 254  89  67   0   0   0   0   0   0 128 252 254 254 212  76   0   0   0\n",
            "   0   0   0   0   0   0   0  47 254 254 254  29   0   0   0   0   0   0\n",
            "   0   0  83 254 254 254 153   0   0   0   0   0   0   0   0   0   0  80\n",
            " 254 254 240  24   0   0   0   0   0   0   0   0  25 240 254 254 153   0\n",
            "   0   0   0   0   0   0   0   0   0  64 254 254 186   7   0   0   0   0\n",
            "   0   0   0   0   0 166 254 254 224  12   0   0   0   0   0   0   0   0\n",
            "  14 232 254 254 254  29   0   0   0   0   0   0   0   0   0  75 254 254\n",
            " 254  17   0   0   0   0   0   0   0   0  18 254 254 254 254  29   0   0\n",
            "   0   0   0   0   0   0   0  48 254 254 254  17   0   0   0   0   0   0\n",
            "   0   0   2 163 254 254 254  29   0   0   0   0   0   0   0   0   0  48\n",
            " 254 254 254  17   0   0   0   0   0   0   0   0   0  94 254 254 254 200\n",
            "  12   0   0   0   0   0   0   0  16 209 254 254 150   1   0   0   0   0\n",
            "   0   0   0   0   0  15 206 254 254 254 202  66   0   0   0   0   0  21\n",
            " 161 254 254 245  31   0   0   0   0   0   0   0   0   0   0   0  60 212\n",
            " 254 254 254 194  48  48  34  41  48 209 254 254 254 171   0   0   0   0\n",
            "   0   0   0   0   0   0   0   0   0  86 243 254 254 254 254 254 233 243\n",
            " 254 254 254 254 254  86   0   0   0   0   0   0   0   0   0   0   0   0\n",
            "   0   0 114 254 254 254 254 254 254 254 254 254 254 239  86  11   0   0\n",
            "   0   0   0   0   0   0   0   0   0   0   0   0  13 182 254 254 254 254\n",
            " 254 254 254 254 243  70   0   0   0   0   0   0   0   0   0   0   0   0\n",
            "   0   0   0   0   0   8  76 146 254 255 254 255 146  19  15   0   0   0\n",
            "   0   0   0   0   0   0   0   0   0   0   0   0   0   0   0   0   0   0\n",
            "   0   0   0   0   0   0   0   0   0   0   0   0   0   0   0   0   0   0\n",
            "   0   0   0   0   0   0   0   0   0   0   0   0   0   0   0   0   0   0\n",
            "   0   0   0   0   0   0   0   0   0   0   0   0   0   0   0   0   0   0\n",
            "   0   0   0   0   0   0   0   0   0   0   0   0   0   0   0   0   0   0\n",
            "   0   0   0   0   0   0   0   0   0   0   0   0   0   0   0   0   0   0\n",
            "   0   0   0   0   0   0   0   0   0   0]\n"
          ]
        }
      ]
    },
    {
      "cell_type": "code",
      "metadata": {
        "colab": {
          "base_uri": "https://localhost:8080/",
          "height": 863
        },
        "id": "yx-af5MRtz9D",
        "outputId": "950d716b-d71c-4554-ce71-a7cea4a8ab7a"
      },
      "source": [
        "# print one number\n",
        "myNumber = data[1,1:]\n",
        "print (myNumber[:5])\n",
        "myNumber=myNumber.reshape((28,28))\n",
        "plt.imshow(myNumber, cmap = plt.cm.binary,\n",
        "           interpolation=\"nearest\")\n",
        "plt.axis(\"off\")\n",
        "plt.show()\n",
        "mnist['label'].hist()\n",
        "plt.show()\n",
        "print(mnist.columns)\n",
        "plt.hist(data[:,0])\n",
        "plt.show()"
      ],
      "execution_count": 3,
      "outputs": [
        {
          "output_type": "stream",
          "name": "stdout",
          "text": [
            "[0 0 0 0 0]\n"
          ]
        },
        {
          "output_type": "display_data",
          "data": {
            "image/png": "[encoded data removed]",
            "text/plain": [
              "<Figure size 432x288 with 1 Axes>"
            ]
          },
          "metadata": {
            "needs_background": "light"
          }
        },
        {
          "output_type": "display_data",
          "data": {
            "image/png": "[encoded data removed]",
            "text/plain": [
              "<Figure size 432x288 with 1 Axes>"
            ]
          },
          "metadata": {
            "needs_background": "light"
          }
        },
        {
          "output_type": "stream",
          "name": "stdout",
          "text": [
            "Index(['label', 'pixel0', 'pixel1', 'pixel2', 'pixel3', 'pixel4', 'pixel5',\n",
            "       'pixel6', 'pixel7', 'pixel8',\n",
            "       ...\n",
            "       'pixel774', 'pixel775', 'pixel776', 'pixel777', 'pixel778', 'pixel779',\n",
            "       'pixel780', 'pixel781', 'pixel782', 'pixel783'],\n",
            "      dtype='object', length=785)\n"
          ]
        },
        {
          "output_type": "display_data",
          "data": {
            "image/png": "[encoded data removed]",
            "text/plain": [
              "<Figure size 432x288 with 1 Axes>"
            ]
          },
          "metadata": {
            "needs_background": "light"
          }
        }
      ]
    },
    {
      "cell_type": "code",
      "metadata": {
        "colab": {
          "base_uri": "https://localhost:8080/"
        },
        "id": "z_60mh3DzMbW",
        "outputId": "c978e88a-fdf2-46f8-ebee-b9d94f58b6cb"
      },
      "source": [
        "mnist_test = pd.read_csv('MnistTest.csv')\n",
        "mnist_test.info()\n",
        "mnist_test.index.name='ImageId'\n",
        "\n",
        "mnist_test['label']=1\n",
        "\n",
        "mnist_test.index+=1\n",
        "mnist_test['label'].to_csv('MnistOne.csv', index=True, header=True)"
      ],
      "execution_count": 4,
      "outputs": [
        {
          "output_type": "stream",
          "name": "stdout",
          "text": [
            "<class 'pandas.core.frame.DataFrame'>\n",
            "RangeIndex: 28000 entries, 0 to 27999\n",
            "Columns: 784 entries, pixel0 to pixel783\n",
            "dtypes: int64(784)\n",
            "memory usage: 167.5 MB\n"
          ]
        }
      ]
    },
    {
      "cell_type": "code",
      "metadata": {
        "colab": {
          "base_uri": "https://localhost:8080/"
        },
        "id": "cJqoh8wt3_Pp",
        "outputId": "09c570a6-91d8-4f8d-baf8-ad1857c8b7e5"
      },
      "source": [
        "#rnd_pca = PCA(n_components=154)\n",
        "#rnd_pca = PCA(n_components=169)\n",
        "rnd_pca = PCA(n_components=4)\n",
        "\n",
        "rnd_pca.fit(data[:,1:])\n",
        "X_reduced = rnd_pca.transform(data[:,1:])\n",
        "print (X_reduced.shape)"
      ],
      "execution_count": 18,
      "outputs": [
        {
          "output_type": "stream",
          "name": "stdout",
          "text": [
            "(42000, 4)\n"
          ]
        }
      ]
    },
    {
      "cell_type": "code",
      "metadata": {
        "colab": {
          "base_uri": "https://localhost:8080/",
          "height": 727
        },
        "id": "mJ87PVNN4RuG",
        "outputId": "4e276af8-5a77-4452-a804-daad33517618"
      },
      "source": [
        "#eigennumbers = rnd_pca.components_.reshape((154,28,28))\n",
        "#eigennumbers = rnd_pca.components_.reshape((169,28,28))\n",
        "eigennumbers = rnd_pca.components_.reshape((4,28,28))\n",
        "myNumber = eigennumbers[0]\n",
        "print (len(myNumber))\n",
        "myNumber=myNumber.reshape((28,28))\n",
        "plt.imshow(myNumber, cmap = plt.cm.binary,\n",
        "           interpolation=\"nearest\")\n",
        "plt.axis(\"off\")\n",
        "plt.show()\n",
        "myNumber = eigennumbers[1]\n",
        "myNumber=myNumber.reshape((28,28))\n",
        "plt.imshow(myNumber, cmap = plt.cm.binary,\n",
        "           interpolation=\"nearest\")\n",
        "plt.axis(\"off\")\n",
        "plt.show()\n",
        "myNumber = eigennumbers[2]\n",
        "myNumber=myNumber.reshape((28,28))\n",
        "plt.imshow(myNumber, cmap = plt.cm.binary,\n",
        "           interpolation=\"nearest\")\n",
        "plt.axis(\"off\")\n",
        "plt.show()"
      ],
      "execution_count": 20,
      "outputs": [
        {
          "output_type": "stream",
          "name": "stdout",
          "text": [
            "28\n"
          ]
        },
        {
          "output_type": "display_data",
          "data": {
            "image/png": "[encoded data removed]",
            "text/plain": [
              "<Figure size 432x288 with 1 Axes>"
            ]
          },
          "metadata": {
            "needs_background": "light"
          }
        },
        {
          "output_type": "display_data",
          "data": {
            "image/png": "[encoded data removed]",
            "text/plain": [
              "<Figure size 432x288 with 1 Axes>"
            ]
          },
          "metadata": {
            "needs_background": "light"
          }
        },
        {
          "output_type": "display_data",
          "data": {
            "image/png": "[encoded data removed]",
            "text/plain": [
              "<Figure size 432x288 with 1 Axes>"
            ]
          },
          "metadata": {
            "needs_background": "light"
          }
        }
      ]
    },
    {
      "cell_type": "code",
      "metadata": {
        "colab": {
          "base_uri": "https://localhost:8080/",
          "height": 269
        },
        "id": "D8Mbx4QH5U7z",
        "outputId": "cd32e5b9-7827-456c-c4bf-82d49e3719aa"
      },
      "source": [
        "import math\n",
        "myNumber = X_reduced[0,:]\n",
        "myNumber=myNumber.reshape((2,2))\n",
        "plt.imshow(myNumber, cmap = plt.cm.binary,\n",
        "           interpolation=\"nearest\")\n",
        "plt.show()"
      ],
      "execution_count": 22,
      "outputs": [
        {
          "output_type": "display_data",
          "data": {
            "image/png": "[encoded data removed]",
            "text/plain": [
              "<Figure size 432x288 with 1 Axes>"
            ]
          },
          "metadata": {
            "needs_background": "light"
          }
        }
      ]
    },
    {
      "cell_type": "code",
      "metadata": {
        "id": "9881-p8S7v6_"
      },
      "source": [
        "#clf1 = LogisticRegression(max_iter=10000, solver='saga',)\n",
        "\n",
        "clf1.fit(data[:,1:], data[:, 0] )"
      ],
      "execution_count": null,
      "outputs": []
    },
    {
      "cell_type": "code",
      "metadata": {
        "colab": {
          "base_uri": "https://localhost:8080/"
        },
        "id": "LMxirjAvG8Zi",
        "outputId": "3f88108a-af51-4a7b-992f-201cec4d7e3d"
      },
      "source": [
        "clf1 = LogisticRegression(solver='saga',\n",
        "                        max_iter=10000)\n",
        "clf1.fit(X_reduced, data[:, 0] )"
      ],
      "execution_count": 23,
      "outputs": [
        {
          "output_type": "execute_result",
          "data": {
            "text/plain": [
              "LogisticRegression(C=1.0, class_weight=None, dual=False, fit_intercept=True,\n",
              "                   intercept_scaling=1, l1_ratio=None, max_iter=10000,\n",
              "                   multi_class='auto', n_jobs=None, penalty='l2',\n",
              "                   random_state=None, solver='saga', tol=0.0001, verbose=0,\n",
              "                   warm_start=False)"
            ]
          },
          "metadata": {},
          "execution_count": 23
        }
      ]
    },
    {
      "cell_type": "code",
      "metadata": {
        "colab": {
          "base_uri": "https://localhost:8080/"
        },
        "id": "Xnn3d2PrHTai",
        "outputId": "f14a0170-0658-43c0-bc26-e154a30bfc55"
      },
      "source": [
        "predict = clf1.predict(X_reduced)\n",
        "print(\"Accuracy = \", accuracy_score(predict, data[:, 0]))"
      ],
      "execution_count": 24,
      "outputs": [
        {
          "output_type": "stream",
          "name": "stdout",
          "text": [
            "Accuracy =  0.5607619047619048\n"
          ]
        }
      ]
    },
    {
      "cell_type": "code",
      "metadata": {
        "colab": {
          "base_uri": "https://localhost:8080/"
        },
        "id": "C9BAU0xeHooL",
        "outputId": "f193364d-bcb2-4d94-9907-da30554bd92c"
      },
      "source": [
        "mnistTest = pd.read_csv('MnistTest.csv')\n",
        "test = mnistTest.values\n",
        "XTest_reduced = rnd_pca.transform(test)\n",
        "print(XTest_reduced.shape)\n",
        "predict = clf1.predict(XTest_reduced)"
      ],
      "execution_count": 28,
      "outputs": [
        {
          "output_type": "stream",
          "name": "stdout",
          "text": [
            "(28000, 4)\n"
          ]
        }
      ]
    },
    {
      "cell_type": "code",
      "metadata": {
        "colab": {
          "base_uri": "https://localhost:8080/"
        },
        "id": "318tPC6bHtFc",
        "outputId": "c6c41a06-5aac-4069-d117-1a85fb848a45"
      },
      "source": [
        "mnistTest.info()\n",
        "mnistTest.index.name='ImageId'\n",
        "\n",
        "mnistTest['label']=predict\n",
        "\n",
        "mnistTest.index+=1\n",
        "mnistTest['label'].to_csv('Mnist2x2.csv', index=True, header=True)"
      ],
      "execution_count": 29,
      "outputs": [
        {
          "output_type": "stream",
          "name": "stdout",
          "text": [
            "<class 'pandas.core.frame.DataFrame'>\n",
            "RangeIndex: 28000 entries, 0 to 27999\n",
            "Columns: 784 entries, pixel0 to pixel783\n",
            "dtypes: int64(784)\n",
            "memory usage: 167.5 MB\n"
          ]
        }
      ]
    },
    {
      "cell_type": "markdown",
      "metadata": {
        "id": "Bw9Hg1J0tI6B"
      },
      "source": [
        ""
      ]
    }
  ]
}