{
  "nbformat": 4,
  "nbformat_minor": 0,
  "metadata": {
    "colab": {
      "name": "SVM10202021.ipynb",
      "provenance": [],
      "collapsed_sections": [],
      "authorship_tag": "ABX9TyNAWHu5V5qdMqtmZgKVahoW",
      "include_colab_link": true
    },
    "kernelspec": {
      "name": "python3",
      "display_name": "Python 3"
    },
    "language_info": {
      "name": "python"
    }
  },
  "cells": [
    {
      "cell_type": "markdown",
      "metadata": {
        "id": "view-in-github",
        "colab_type": "text"
      },
      "source": [
        "<a href=\"https://colab.research.google.com/github/everestso/Fall2021/blob/main/SVM10202021.ipynb\" target=\"_parent\"><img src=\"https://colab.research.google.com/assets/colab-badge.svg\" alt=\"Open In Colab\"/></a>"
      ]
    },
    {
      "cell_type": "code",
      "metadata": {
        "id": "MjSzavu2QOKw"
      },
      "source": [
        "import numpy as np\n",
        "import cvxopt as cvxopt\n",
        "import pylab as pl"
      ],
      "execution_count": 76,
      "outputs": []
    },
    {
      "cell_type": "code",
      "metadata": {
        "colab": {
          "base_uri": "https://localhost:8080/",
          "height": 775
        },
        "id": "QsXSCkl6Qt3a",
        "outputId": "62d26e78-45b5-4592-9972-a8286823da5c"
      },
      "source": [
        "  np.random.seed(42)\n",
        "  m = 30\n",
        "  sdev=0.1\n",
        "\n",
        "  X = sdev*np.random.randn(m,2)\n",
        "  X[m//2:,0] += 1.\n",
        "  X[m//4:m//2,1] += 1.\n",
        "  X[3*m//4:,1] += 1.\n",
        "  targets = -np.ones((m,1))\n",
        "  targets[m//4:,0] = 1.\n",
        "  #targets = (np.where(X[:,0]*X[:,1]>=0,1,-1)*np.ones((1,np.shape(X)[0]))).T\n",
        "  data = [(list(X[i]), targets[i][0]) for i in range(m)]\n",
        "  for i in range(m): print (targets[i,0], X[i])\n",
        "  \n",
        "  l1 =  np.where(targets==1)[0]\n",
        "  l2 =  np.where(targets==-1)[0]\n",
        "  pl.plot(X[l1,0],X[l1,1],'rs')\n",
        "  pl.plot(X[l2,0],X[l2,1],'ko')\n",
        "  pl.show()"
      ],
      "execution_count": 77,
      "outputs": [
        {
          "output_type": "stream",
          "name": "stdout",
          "text": [
            "-1.0 [ 0.04967142 -0.01382643]\n",
            "-1.0 [0.06476885 0.15230299]\n",
            "-1.0 [-0.02341534 -0.0234137 ]\n",
            "-1.0 [0.15792128 0.07674347]\n",
            "-1.0 [-0.04694744  0.054256  ]\n",
            "-1.0 [-0.04634177 -0.04657298]\n",
            "-1.0 [ 0.02419623 -0.19132802]\n",
            "1.0 [-0.17249178  0.94377125]\n",
            "1.0 [-0.10128311  1.03142473]\n",
            "1.0 [-0.09080241  0.85876963]\n",
            "1.0 [0.14656488 0.97742237]\n",
            "1.0 [0.00675282 0.85752518]\n",
            "1.0 [-0.05443827  1.01109226]\n",
            "1.0 [-0.11509936  1.0375698 ]\n",
            "1.0 [-0.06006387  0.97083063]\n",
            "1.0 [0.93982934 0.18522782]\n",
            "1.0 [ 0.99865028 -0.10577109]\n",
            "1.0 [ 1.08225449 -0.12208436]\n",
            "1.0 [ 1.02088636 -0.19596701]\n",
            "1.0 [0.8671814  0.01968612]\n",
            "1.0 [1.07384666 0.01713683]\n",
            "1.0 [ 0.98843517 -0.03011037]\n",
            "1.0 [0.8521478  0.92801558]\n",
            "1.0 [0.95393612 1.10571222]\n",
            "1.0 [1.03436183 0.82369598]\n",
            "1.0 [1.0324084  0.96149177]\n",
            "1.0 [0.9323078  1.06116763]\n",
            "1.0 [1.10309995 1.09312801]\n",
            "1.0 [0.91607825 0.96907876]\n",
            "1.0 [1.03312634 1.09755451]\n"
          ]
        },
        {
          "output_type": "display_data",
          "data": {
            "image/png": "[encoded data removed]",
            "text/plain": [
              "<Figure size 432x288 with 1 Axes>"
            ]
          },
          "metadata": {
            "needs_background": "light"
          }
        }
      ]
    },
    {
      "cell_type": "code",
      "metadata": {
        "id": "8_xDFrPKRVAy"
      },
      "source": [
        "K = np.dot(X,X.T)\n",
        "P=targets*targets.transpose()*K\n",
        "q = -np.ones((m,1))\n",
        "G = -np.eye(m)\n",
        "h = np.zeros((m,1))\n",
        "\n",
        "A = targets.reshape(1,m)\n",
        "b = 0.0"
      ],
      "execution_count": 78,
      "outputs": []
    },
    {
      "cell_type": "code",
      "metadata": {
        "colab": {
          "base_uri": "https://localhost:8080/"
        },
        "id": "XB8Gw1F0r0PM",
        "outputId": "c84e493e-b38f-4621-a26a-c9fba9aa87ed"
      },
      "source": [
        "sol = cvxopt.solvers.qp(cvxopt.matrix(P),cvxopt.matrix(q),cvxopt.matrix(G),cvxopt.matrix(h), cvxopt.matrix(A), cvxopt.matrix(b))\n",
        "print(sol)"
      ],
      "execution_count": 79,
      "outputs": [
        {
          "output_type": "stream",
          "name": "stdout",
          "text": [
            "     pcost       dcost       gap    pres   dres\n",
            " 0: -9.7684e+00 -2.0547e+01  8e+01  8e+00  2e+00\n",
            " 1: -1.0277e+01 -1.6264e+01  2e+01  1e+00  3e-01\n",
            " 2: -1.0179e+01 -1.3633e+01  6e+00  3e-01  7e-02\n",
            " 3: -1.2326e+01 -1.2987e+01  8e-01  2e-02  5e-03\n",
            " 4: -1.2721e+01 -1.2752e+01  4e-02  5e-04  1e-04\n",
            " 5: -1.2745e+01 -1.2746e+01  4e-04  5e-06  1e-06\n",
            " 6: -1.2746e+01 -1.2746e+01  4e-06  5e-08  1e-08\n",
            "Optimal solution found.\n",
            "{'x': <30x1 matrix, tc='d'>, 'y': <1x1 matrix, tc='d'>, 's': <30x1 matrix, tc='d'>, 'z': <30x1 matrix, tc='d'>, 'status': 'optimal', 'gap': 3.5600547765144174e-06, 'relative gap': 2.7931354819142853e-07, 'primal objective': -12.745728947149106, 'dual objective': -12.745732087580226, 'primal infeasibility': 4.9085536906199196e-08, 'dual infeasibility': 1.1453504545784197e-08, 'primal slack': 2.5027200201587364e-08, 'dual slack': 1.0270529052832127e-08, 'iterations': 6}\n"
          ]
        }
      ]
    },
    {
      "cell_type": "code",
      "metadata": {
        "colab": {
          "base_uri": "https://localhost:8080/"
        },
        "id": "06aPZzhTsHpZ",
        "outputId": "778d0b03-09fc-456e-9e6d-5d4a3d626582"
      },
      "source": [
        "threshold=1e-5\n",
        "threshold=1e-3\n",
        "\n",
        "# Get the Lagrange multipliers out of the solution dictionary\n",
        "lambdas = np.array(sol['x'])\n",
        "\n",
        "# Find the (indices of the) support vectors, which are the vectors with non-zero Lagrange multipliers\n",
        "sv = np.where(lambdas>threshold)[0]\n",
        "nsupport = len(sv)\n",
        "print (nsupport, \"support vectors found\" )\n",
        "\n",
        "# Just retain the data corresponding to the support vectors\n",
        "SVMx = X[sv,:]\n",
        "SVMlambdas = lambdas[sv]\n",
        "SVMtargets = targets[sv]\n",
        "\n",
        "    #self.b = np.sum(self.targets)\n",
        "    #for n in range(self.nsupport):\n",
        "    #self.b -= np.sum(self.lambdas*self.targets.T*np.reshape(self.K[self.sv[n],self.sv],(self.nsupport,1)))\n",
        "    #self.b /= len(self.lambdas)\n",
        "    #print \"b=\",self.b\n",
        "\n",
        "b = np.sum(SVMtargets)\n",
        "for n in range(nsupport):\n",
        "  b -= np.sum(SVMlambdas*SVMtargets*np.reshape(K[sv[n],sv],(nsupport,1)))\n",
        "b /= len(SVMlambdas)"
      ],
      "execution_count": 80,
      "outputs": [
        {
          "output_type": "stream",
          "name": "stdout",
          "text": [
            "3 support vectors found\n"
          ]
        }
      ]
    },
    {
      "cell_type": "code",
      "metadata": {
        "colab": {
          "base_uri": "https://localhost:8080/"
        },
        "id": "ebjg6COesijH",
        "outputId": "1e04cf76-286e-4ff0-d816-1fe5eda55905"
      },
      "source": [
        "print(SVMlambdas)\n",
        "roundedLambdas = [round(l[0],3) for l in SVMlambdas]\n",
        "print (roundedLambdas)\n",
        "print (round(b,3))\n",
        "print (SVMx)"
      ],
      "execution_count": 81,
      "outputs": [
        {
          "output_type": "stream",
          "name": "stdout",
          "text": [
            "[[12.7457279 ]\n",
            " [ 6.76812058]\n",
            " [ 5.97759689]]\n",
            "[12.746, 6.768, 5.978]\n",
            "-1.83\n",
            "[[ 0.15792128  0.07674347]\n",
            " [-0.09080241  0.85876963]\n",
            " [ 1.02088636 -0.19596701]]\n"
          ]
        }
      ]
    },
    {
      "cell_type": "code",
      "metadata": {
        "colab": {
          "base_uri": "https://localhost:8080/"
        },
        "id": "BoU3f3iFtdwF",
        "outputId": "01a8de3d-af98-426d-de5f-eb1d55aa3db1"
      },
      "source": [
        "#SVM for Prediction\n",
        "x = (0.04967142, -0.01382643 )\n",
        "\n",
        "K = lambda a, b: np.dot(np.transpose(a), b)\n",
        "def Predict(SVx, SVl, SVt, b, x):\n",
        "  tot = 0\n",
        "  for i in range(len(SVx)):\n",
        "    tot += SVt[i] * SVl[i] * K(SVx[i], x)\n",
        "  #print (tot)\n",
        "  #print (tot + b)\n",
        "  #print (SVt[i])\n",
        "  return tot+b\n",
        "\n",
        "for x, r in zip(X, targets):\n",
        "  print(x, Predict(SVMx,SVMlambdas, SVMtargets, b, x), r)\n"
      ],
      "execution_count": 82,
      "outputs": [
        {
          "output_type": "stream",
          "name": "stdout",
          "text": [
            "[ 0.04967142 -0.01382643] [-1.70790331] [-1.]\n",
            "[0.06476885 0.15230299] [-1.04695767] [-1.]\n",
            "[-0.02341534 -0.0234137 ] [-1.99699965] [-1.]\n",
            "[0.15792128 0.07674347] [-0.99999835] [-1.]\n",
            "[-0.04694744  0.054256  ] [-1.79429492] [-1.]\n",
            "[-0.04634177 -0.04657298] [-2.1614958] [-1.]\n",
            "[ 0.02419623 -0.19132802] [-2.44656509] [-1.]\n",
            "[-0.17249178  0.94377125] [1.02745188] [1.]\n",
            "[-0.10128311  1.03142473] [1.59595438] [1.]\n",
            "[-0.09080241  0.85876963] [0.99999283] [1.]\n",
            "[0.14656488 0.97742237] [2.25944787] [1.]\n",
            "[0.00675282 0.85752518] [1.33444544] [1.]\n",
            "[-0.05443827  1.01109226] [1.68427157] [1.]\n",
            "[-0.11509936  1.0375698 ] [1.57044955] [1.]\n",
            "[-0.06006387  0.97083063] [1.51725625] [1.]\n",
            "[0.93982934 0.18522782] [2.11452691] [1.]\n",
            "[ 0.99865028 -0.10577109] [1.25309369] [1.]\n",
            "[ 1.08225449 -0.12208436] [1.48387316] [1.]\n",
            "[ 1.02088636 -0.19596701] [1.00000552] [1.]\n",
            "[0.8671814  0.01968612] [1.25574223] [1.]\n",
            "[1.07384666 0.01713683] [1.96457992] [1.]\n",
            "[ 0.98843517 -0.03011037] [1.49471757] [1.]\n",
            "[0.8521478  0.92801558] [4.53043163] [1.]\n",
            "[0.95393612 1.10571222] [5.53500083] [1.]\n",
            "[1.03436183 0.82369598] [4.78154634] [1.]\n",
            "[1.0324084  0.96149177] [5.27946172] [1.]\n",
            "[0.9323078  1.06116763] [5.29668784] [1.]\n",
            "[1.10309995 1.09312801] [6.00726255] [1.]\n",
            "[0.91607825 0.96907876] [4.90299585] [1.]\n",
            "[1.03312634 1.09755451] [5.78031271] [1.]\n"
          ]
        }
      ]
    },
    {
      "cell_type": "code",
      "metadata": {
        "colab": {
          "base_uri": "https://localhost:8080/",
          "height": 265
        },
        "id": "3bJ1akO5uIii",
        "outputId": "96d1702b-dcb3-44a3-f191-e0185b9c0e1b"
      },
      "source": [
        "pl.figure()\n",
        "l1 =  np.where(targets==1)[0]\n",
        "l2 =  np.where(targets==-1)[0]\n",
        "pl.plot(X[sv,0],X[sv,1],'o',markeredgewidth=5)\n",
        "pl.plot(X[l1,0],X[l1,1],'rs')\n",
        "pl.plot(X[l2,0],X[l2,1],'ko')\n",
        "pl.show()"
      ],
      "execution_count": 83,
      "outputs": [
        {
          "output_type": "display_data",
          "data": {
            "image/png": "[encoded data removed]",
            "text/plain": [
              "<Figure size 432x288 with 1 Axes>"
            ]
          },
          "metadata": {
            "needs_background": "light"
          }
        }
      ]
    },
    {
      "cell_type": "code",
      "metadata": {
        "colab": {
          "base_uri": "https://localhost:8080/",
          "height": 265
        },
        "id": "GloO8iXogs1O",
        "outputId": "aeda2600-25fc-49e8-b3cb-33de447a6d57"
      },
      "source": [
        "pl.figure()\n",
        "l1 =  np.where(targets==1)[0]\n",
        "l2 =  np.where(targets==-1)[0]\n",
        "pl.plot(X[l1,0],X[l1,1],'rs')\n",
        "pl.plot(X[l2,0],X[l2,1],'ko')\n",
        "\n",
        "svTargets=targets[sv]\n",
        "svX=X[sv,:]\n",
        "l1 =  np.where(svTargets==1)[0]\n",
        "l2 =  np.where(svTargets==-1)[0]\n",
        "pl.plot(svX[l1,0],svX[l1,1],'ro',markeredgewidth=7)\n",
        "pl.plot(svX[l2,0],svX[l2,1],'ks',markeredgewidth=7)\n",
        "#pl.plot(X[sv,0],X[sv,1],'o',markeredgewidth=5)\n",
        "pl.show()"
      ],
      "execution_count": 84,
      "outputs": [
        {
          "output_type": "display_data",
          "data": {
            "image/png": "[encoded data removed]",
            "text/plain": [
              "<Figure size 432x288 with 1 Axes>"
            ]
          },
          "metadata": {
            "needs_background": "light"
          }
        }
      ]
    },
    {
      "cell_type": "markdown",
      "metadata": {
        "id": "1QuIFR_D9dQE"
      },
      "source": [
        "# SVM Optimization \n",
        "\n",
        "${}_{(Ethem Alpaydin: 14.3)} $ min $\\frac{1}{2}\\| \\mathbf{w} \\| ^2$ subject to $r^t (\\mathbf{w}^T\\mathbf{x}^t +w_0) \\ge +1, \\forall{t}$ \n",
        "\n",
        "minimise  $\\frac{1}{2} \\mathbf{w}^T\\mathbf{w}$ subject to $t_i (\\mathbf{w}^T\\mathbf{x_i} +b) \\ge 1$ for all $i=1, \\ldots n$. ${}_{(8.1: Stephen Marsland)}$ "
      ]
    },
    {
      "cell_type": "markdown",
      "metadata": {
        "id": "p0l1wIBiKJSM"
      },
      "source": [
        "#Dual (Lagrangian)\n"
      ]
    },
    {
      "cell_type": "markdown",
      "metadata": {
        "id": "Dt7EpkKFDMoN"
      },
      "source": [
        "${}_{(Ethem Alpaydin: 14.7)} $\n",
        " $-\\frac{1}{2} \\sum_t\\sum_s\\alpha^t\\alpha^sr^tr^s(x^t)^Tx^s + \\sum_t\\alpha^t \n",
        "$ \n",
        "\n",
        "maximize with respect to $\\alpha^t$\n",
        "\n",
        "Subject to constraints:\n",
        "$\\sum_t\\alpha^t r^t = 0, \\alpha^t \\ge 0, \\forall t$\n"
      ]
    },
    {
      "cell_type": "markdown",
      "metadata": {
        "id": "0hP2ezAjFmAc"
      },
      "source": [
        "$\\sum_{i=1}^n\\lambda_i -\\frac{1}{2} \\sum_{i=1}^n\\sum_{j=1}^n\\lambda_i\\lambda_jt_it_j(x_i)^Tx_j \n",
        "$ ${}_{(8.9: Stephen Marsland)}$  \n",
        "\n",
        "maximise with respect to $\\lambda_i$\n",
        "\n",
        "Subject to constraints:\n",
        "$\\lambda_i \\ge 0, \\forall i$ and $\\sum_{i=1}^n\\lambda_it_i = 0$"
      ]
    },
    {
      "cell_type": "code",
      "metadata": {
        "colab": {
          "base_uri": "https://localhost:8080/"
        },
        "id": "gJBiob0_AUQ8",
        "outputId": "9a30a3b5-73d9-4811-fa7c-1575fb4dcb6a"
      },
      "source": [
        "w =np.sum(SVMlambdas*SVMtargets*svX,axis=0)\n",
        "print(w, b)\n",
        "print(SVMlambdas)"
      ],
      "execution_count": 85,
      "outputs": [
        {
          "output_type": "stream",
          "name": "stdout",
          "text": [
            "[3.4750638  3.66269318] -1.8298726728862216\n",
            "[[12.7457279 ]\n",
            " [ 6.76812058]\n",
            " [ 5.97759689]]\n"
          ]
        }
      ]
    },
    {
      "cell_type": "code",
      "metadata": {
        "colab": {
          "base_uri": "https://localhost:8080/",
          "height": 265
        },
        "id": "6c8nd-rhEOe-",
        "outputId": "89d76c98-9fdd-4ec1-81fa-16304e452475"
      },
      "source": [
        "f = lambda xIn: -b/w[1] - w[0]/w[1]*xIn\n",
        "\n",
        "xLd = [f(i) for i in np.arange( -0.15, 1.25, 0.1)]\n",
        "l1 =  np.where(targets==1)[0]\n",
        "l2 =  np.where(targets==-1)[0]\n",
        "pl.plot(X[l1,0],X[l1,1],'rs')\n",
        "pl.plot(X[l2,0],X[l2,1],'ko')\n",
        "\n",
        "svTargets=targets[sv]\n",
        "svX=X[sv,:]\n",
        "l1 =  np.where(svTargets==1)[0]\n",
        "l2 =  np.where(svTargets==-1)[0]\n",
        "pl.plot(svX[l1,0],svX[l1,1],'rs',markeredgewidth=7)\n",
        "pl.plot(svX[l2,0],svX[l2,1],'ko',markeredgewidth=7)\n",
        "pl.plot(np.arange( -0.15, 1.25, 0.1), xLd,\"g-\", linewidth=4)\n",
        "pl.plot([-0.25, 1.25], [f(-0.25), f(1.25)], \"g*\", markeredgewidth=10 )\n",
        "pl.show()"
      ],
      "execution_count": 86,
      "outputs": [
        {
          "output_type": "display_data",
          "data": {
            "image/png": "[encoded data removed]",
            "text/plain": [
              "<Figure size 432x288 with 1 Axes>"
            ]
          },
          "metadata": {
            "needs_background": "light"
          }
        }
      ]
    },
    {
      "cell_type": "markdown",
      "metadata": {
        "id": "YyfhmRsG1sRB"
      },
      "source": [
        "# Now XOR"
      ]
    },
    {
      "cell_type": "code",
      "metadata": {
        "colab": {
          "base_uri": "https://localhost:8080/",
          "height": 265
        },
        "id": "vVPKeb221ueA",
        "outputId": "0713753b-0c6d-4d36-9636-610eaf1f292b"
      },
      "source": [
        "m = 100\n",
        "X = sdev*np.random.randn(m,2)\n",
        "X[m//2:,0] += 1.\n",
        "X[m//4:m//2,1] += 1.\n",
        "X[3*m//4:,1] += 1.\n",
        "targets = -np.ones((m,1))\n",
        "targets[:m//4,0] = 1.\n",
        "targets[3*m//4:,0] = 1.\n",
        "#targets = (np.where(X[:,0]*X[:,1]>=0,1,-1)*np.ones((1,np.shape(X)[0]))).T\n",
        "l1 =  np.where(targets==1)[0]\n",
        "l2 =  np.where(targets==-1)[0]\n",
        "pl.plot(X[l1,0],X[l1,1],'rs')\n",
        "pl.plot(X[l2,0],X[l2,1],'ko')\n",
        "pl.show()"
      ],
      "execution_count": 87,
      "outputs": [
        {
          "output_type": "display_data",
          "data": {
            "image/png": "[encoded data removed]",
            "text/plain": [
              "<Figure size 432x288 with 1 Axes>"
            ]
          },
          "metadata": {
            "needs_background": "light"
          }
        }
      ]
    },
    {
      "cell_type": "markdown",
      "metadata": {
        "id": "D_IXn3Da2ceE"
      },
      "source": [
        "# Linear Kernel"
      ]
    },
    {
      "cell_type": "code",
      "metadata": {
        "id": "DKILkYeN2beU"
      },
      "source": [
        "K = np.dot(X,X.T)\n",
        "P=targets*targets.transpose()*K\n",
        "q = -np.ones((m,1))\n",
        "G = -np.eye(m)\n",
        "h = np.zeros((m,1))\n",
        "\n",
        "A = targets.reshape(1,m)\n",
        "b = 0.0"
      ],
      "execution_count": 88,
      "outputs": []
    },
    {
      "cell_type": "code",
      "metadata": {
        "colab": {
          "base_uri": "https://localhost:8080/"
        },
        "id": "RAlYhcRj2rig",
        "outputId": "2cfa7d5f-4dc9-4033-84f7-28c483a873ea"
      },
      "source": [
        "#Solve Quadratic Opt\n",
        "sol = cvxopt.solvers.qp(cvxopt.matrix(P),cvxopt.matrix(q),cvxopt.matrix(G),cvxopt.matrix(h), cvxopt.matrix(A), cvxopt.matrix(b))\n",
        "print(sol)"
      ],
      "execution_count": 89,
      "outputs": [
        {
          "output_type": "stream",
          "name": "stdout",
          "text": [
            "     pcost       dcost       gap    pres   dres\n",
            " 0: -9.9961e+01 -2.0285e+02  1e+02  2e-15  2e+00\n",
            " 1: -2.4457e+02 -2.4761e+02  3e+00  1e-14  1e+00\n",
            " 2: -1.9877e+04 -1.9881e+04  4e+00  4e-12  1e+00\n",
            " 3: -1.0243e+08 -1.0243e+08  2e+02  3e-08  1e+00\n",
            " 4: -2.4520e+10 -2.4520e+10  5e+04  4e-06  1e+00\n",
            "Terminated (singular KKT matrix).\n",
            "{'x': <100x1 matrix, tc='d'>, 'y': <1x1 matrix, tc='d'>, 's': <100x1 matrix, tc='d'>, 'z': <100x1 matrix, tc='d'>, 'status': 'unknown', 'gap': 46156.0376342772, 'relative gap': 1.8823876030699105e-06, 'primal objective': -24519943479.761112, 'dual objective': -24519989635.798748, 'primal infeasibility': 3.6954879760742188e-06, 'dual infeasibility': 1.0000018825500763, 'primal slack': 236324587.38071543, 'dual slack': 1.5639420636160734e-08, 'iterations': 4}\n"
          ]
        }
      ]
    },
    {
      "cell_type": "code",
      "metadata": {
        "colab": {
          "base_uri": "https://localhost:8080/"
        },
        "id": "kf-uAnAs62XB",
        "outputId": "6a9b5cde-74b9-43f7-80b1-daade9382abf"
      },
      "source": [
        "#Build Model\n",
        "threshold=1e-5\n",
        "\n",
        "# Get the Lagrange multipliers out of the solution dictionary\n",
        "lambdas = np.array(sol['x'])\n",
        "\n",
        "# Find the (indices of the) support vectors, which are the vectors with non-zero Lagrange multipliers\n",
        "sv = np.where(lambdas>threshold)[0]\n",
        "nsupport = len(sv)\n",
        "print (nsupport, \"support vectors found\" )\n",
        "\n",
        "# Just retain the data corresponding to the support vectors\n",
        "SVMx = X[sv,:]\n",
        "SVMlambdas = lambdas[sv]\n",
        "SVMtargets = targets[sv]\n",
        "\n",
        "    #self.b = np.sum(self.targets)\n",
        "    #for n in range(self.nsupport):\n",
        "    #self.b -= np.sum(self.lambdas*self.targets.T*np.reshape(self.K[self.sv[n],self.sv],(self.nsupport,1)))\n",
        "    #self.b /= len(self.lambdas)\n",
        "    #print \"b=\",self.b\n",
        "\n",
        "b = np.sum(SVMtargets)\n",
        "for n in range(nsupport):\n",
        "  b -= np.sum(SVMlambdas*SVMtargets*np.reshape(K[sv[n],sv],(nsupport,1)))\n",
        "b /= len(SVMlambdas)"
      ],
      "execution_count": 90,
      "outputs": [
        {
          "output_type": "stream",
          "name": "stdout",
          "text": [
            "100 support vectors found\n"
          ]
        }
      ]
    },
    {
      "cell_type": "code",
      "metadata": {
        "colab": {
          "base_uri": "https://localhost:8080/",
          "height": 265
        },
        "id": "AoF_MKYE2ze_",
        "outputId": "f5c864da-4f9d-48cb-d033-15942118a2c5"
      },
      "source": [
        "pl.figure()\n",
        "l1 =  np.where(targets==1)[0]\n",
        "l2 =  np.where(targets==-1)[0]\n",
        "pl.plot(X[l1,0],X[l1,1],'rs')\n",
        "pl.plot(X[l2,0],X[l2,1],'ko')\n",
        "\n",
        "svTargets=targets[sv]\n",
        "svX=X[sv,:]\n",
        "l1 =  np.where(svTargets==1)[0]\n",
        "l2 =  np.where(svTargets==-1)[0]\n",
        "pl.plot(svX[l1,0],svX[l1,1],'go',markeredgewidth=7)\n",
        "pl.plot(svX[l2,0],svX[l2,1],'gs',markeredgewidth=7)\n",
        "#pl.plot(X[sv,0],X[sv,1],'o',markeredgewidth=5)\n",
        "pl.show()"
      ],
      "execution_count": 91,
      "outputs": [
        {
          "output_type": "display_data",
          "data": {
            "image/png": "[encoded data removed]",
            "text/plain": [
              "<Figure size 432x288 with 1 Axes>"
            ]
          },
          "metadata": {
            "needs_background": "light"
          }
        }
      ]
    },
    {
      "cell_type": "markdown",
      "metadata": {
        "id": "MgjsfOww3NIX"
      },
      "source": [
        "# RBF"
      ]
    },
    {
      "cell_type": "code",
      "metadata": {
        "id": "HCyZ-RBC3Mnq"
      },
      "source": [
        "#Linear Kernel\n",
        "K = np.dot(X,X.T)\n"
      ],
      "execution_count": 92,
      "outputs": []
    },
    {
      "cell_type": "code",
      "metadata": {
        "id": "NZbWrs1j3b2f"
      },
      "source": [
        "# RBF Kernel\n",
        "sigma = 1.0\n",
        "xsquared = (np.diag(K)*np.ones((1,m))).T\n",
        "b = np.ones((m,1))\n",
        "K -= 0.5*(np.dot(xsquared,b.T) + np.dot(b,xsquared.T))\n",
        "K = np.exp(K/(2.0*sigma**2))"
      ],
      "execution_count": 93,
      "outputs": []
    },
    {
      "cell_type": "code",
      "metadata": {
        "id": "npgSPRCI6Twf"
      },
      "source": [
        "P=targets*targets.transpose()*K\n",
        "q = -np.ones((m,1))\n",
        "G = -np.eye(m)\n",
        "h = np.zeros((m,1))\n",
        "\n",
        "A = targets.reshape(1,m)\n",
        "b = 0.0"
      ],
      "execution_count": 94,
      "outputs": []
    },
    {
      "cell_type": "code",
      "metadata": {
        "colab": {
          "base_uri": "https://localhost:8080/"
        },
        "id": "8t-fSGdW5m4P",
        "outputId": "39e14702-af7f-46f5-c5c7-f9bcda1a9417"
      },
      "source": [
        "sol = cvxopt.solvers.qp(cvxopt.matrix(P),cvxopt.matrix(q),cvxopt.matrix(G),cvxopt.matrix(h), cvxopt.matrix(A), cvxopt.matrix(b))\n",
        "print(sol)"
      ],
      "execution_count": 95,
      "outputs": [
        {
          "output_type": "stream",
          "name": "stdout",
          "text": [
            "     pcost       dcost       gap    pres   dres\n",
            " 0: -3.5356e+01 -9.6994e+01  6e+01  7e-16  2e+00\n",
            " 1: -4.4388e+01 -6.8624e+01  2e+01  2e-15  8e-01\n",
            " 2: -5.7620e+01 -8.4193e+01  3e+01  2e-15  7e-01\n",
            " 3: -1.0594e+02 -1.2913e+02  2e+01  8e-15  3e-01\n",
            " 4: -1.2251e+02 -1.3674e+02  1e+01  2e-14  1e-01\n",
            " 5: -1.2888e+02 -1.2964e+02  8e-01  5e-14  5e-03\n",
            " 6: -1.2918e+02 -1.2919e+02  2e-02  4e-14  7e-05\n",
            " 7: -1.2919e+02 -1.2919e+02  2e-04  3e-14  7e-07\n",
            " 8: -1.2919e+02 -1.2919e+02  2e-06  3e-14  7e-09\n",
            "Optimal solution found.\n",
            "{'x': <100x1 matrix, tc='d'>, 'y': <1x1 matrix, tc='d'>, 's': <100x1 matrix, tc='d'>, 'z': <100x1 matrix, tc='d'>, 'status': 'optimal', 'gap': 1.633984005738143e-06, 'relative gap': 1.264822167771046e-08, 'primal objective': -129.1868570439162, 'dual objective': -129.1868586779002, 'primal infeasibility': 2.658607475900514e-14, 'dual infeasibility': 7.162745536663121e-09, 'primal slack': 1.4859560626303346e-09, 'dual slack': 1.7230805040662418e-09, 'iterations': 8}\n"
          ]
        }
      ]
    },
    {
      "cell_type": "code",
      "metadata": {
        "colab": {
          "base_uri": "https://localhost:8080/"
        },
        "id": "XJTrgp__7MuY",
        "outputId": "5ae68e9d-c787-44e9-a29c-2f0618486380"
      },
      "source": [
        "#Build Model\n",
        "threshold=1e-5\n",
        "\n",
        "# Get the Lagrange multipliers out of the solution dictionary\n",
        "lambdas = np.array(sol['x'])\n",
        "\n",
        "# Find the (indices of the) support vectors, which are the vectors with non-zero Lagrange multipliers\n",
        "sv = np.where(lambdas>threshold)[0]\n",
        "nsupport = len(sv)\n",
        "print (nsupport, \"support vectors found\" )\n",
        "\n",
        "# Just retain the data corresponding to the support vectors\n",
        "SVMx = X[sv,:]\n",
        "SVMlambdas = lambdas[sv]\n",
        "SVMtargets = targets[sv]\n",
        "SVMxsquared = xsquared[sv]\n",
        "    #self.b = np.sum(self.targets)\n",
        "    #for n in range(self.nsupport):\n",
        "    #self.b -= np.sum(self.lambdas*self.targets.T*np.reshape(self.K[self.sv[n],self.sv],(self.nsupport,1)))\n",
        "    #self.b /= len(self.lambdas)\n",
        "    #print \"b=\",self.b\n",
        "\n",
        "b = np.sum(SVMtargets)\n",
        "for n in range(nsupport):\n",
        "  b -= np.sum(SVMlambdas*SVMtargets*np.reshape(K[sv[n],sv],(nsupport,1)))\n",
        "b /= len(SVMlambdas)\n",
        "SVMb = b"
      ],
      "execution_count": 96,
      "outputs": [
        {
          "output_type": "stream",
          "name": "stdout",
          "text": [
            "6 support vectors found\n"
          ]
        }
      ]
    },
    {
      "cell_type": "code",
      "metadata": {
        "colab": {
          "base_uri": "https://localhost:8080/",
          "height": 282
        },
        "id": "2ubG_GcD6hk3",
        "outputId": "0342c487-5a09-48df-94fb-bf65c807ec4f"
      },
      "source": [
        "pl.figure()\n",
        "l1 =  np.where(targets==1)[0]\n",
        "l2 =  np.where(targets==-1)[0]\n",
        "pl.plot(X[l1,0],X[l1,1],'rs')\n",
        "pl.plot(X[l2,0],X[l2,1],'ko')\n",
        "\n",
        "svTargets=targets[sv]\n",
        "svX=X[sv,:]\n",
        "l1 =  np.where(svTargets==1)[0]\n",
        "l2 =  np.where(svTargets==-1)[0]\n",
        "pl.plot(svX[l1,0],svX[l1,1],'gs',markeredgewidth=7)\n",
        "pl.plot(svX[l2,0],svX[l2,1],'go',markeredgewidth=7)\n",
        "#pl.plot(X[sv,0],X[sv,1],'o',markeredgewidth=5)\n",
        "pl.show()\n",
        "print (\"RBF Support Vectors\")"
      ],
      "execution_count": 97,
      "outputs": [
        {
          "output_type": "display_data",
          "data": {
            "image/png": "[encoded data removed]",
            "text/plain": [
              "<Figure size 432x288 with 1 Axes>"
            ]
          },
          "metadata": {
            "needs_background": "light"
          }
        },
        {
          "output_type": "stream",
          "name": "stdout",
          "text": [
            "RBF Support Vectors\n"
          ]
        }
      ]
    },
    {
      "cell_type": "code",
      "metadata": {
        "id": "zOcjvRSU_3eL"
      },
      "source": [
        "def classifier(Y, xSVM, xsquaredSVM, lambdasSVM, targetsSVM, bSVM, sigmaSVM, soft=False):\n",
        "  nSupportVectors = len(xSVM)\n",
        "   \n",
        "  K = np.dot(Y,xSVM.T)\n",
        "  c = (1./sigma * np.sum(Y**2,axis=1)*np.ones((1,np.shape(Y)[0]))).T\n",
        "  c = np.dot(c,np.ones((1,np.shape(K)[1])))\n",
        "  aa = np.dot(xsquaredSVM,np.ones((1,np.shape(K)[0]))).T\n",
        "  K = K - 0.5*c - 0.5*aa\n",
        "  K = np.exp(K/(2.*sigma**2))\n",
        "\n",
        "  y = np.zeros((np.shape(Y)[0],1))\n",
        "  for j in range(np.shape(Y)[0]):\n",
        "    for i in range(nSupportVectors):\n",
        "      y[j] += lambdasSVM[i]*targetsSVM[i]*K[j,i]\n",
        "    y[j] += bSVM\n",
        "\n",
        "  if soft:\n",
        "    return y\n",
        "  else:\n",
        "    return np.sign(y)"
      ],
      "execution_count": 98,
      "outputs": []
    },
    {
      "cell_type": "code",
      "metadata": {
        "colab": {
          "base_uri": "https://localhost:8080/",
          "height": 367
        },
        "id": "1EQPkGWK-5Qg",
        "outputId": "195633af-9b2b-4513-fca4-730854e31868"
      },
      "source": [
        "pl.figure()\n",
        "l1 =  np.where(targets==1)[0]\n",
        "l2 =  np.where(targets==-1)[0]\n",
        "pl.plot(X[l1,0],X[l1,1],'rs')\n",
        "pl.plot(X[l2,0],X[l2,1],'ko')\n",
        "\n",
        "svTargets=targets[sv]\n",
        "svX=X[sv,:]\n",
        "l1 =  np.where(svTargets==1)[0]\n",
        "l2 =  np.where(svTargets==-1)[0]\n",
        "pl.plot(svX[l1,0],svX[l1,1],'gs',markeredgewidth=7)\n",
        "pl.plot(svX[l2,0],svX[l2,1],'go',markeredgewidth=7)\n",
        "#pl.plot(X[sv,0],X[sv,1],'o',markeredgewidth=5)\n",
        "\n",
        "#l1 =  np.where(test==1)[0]\n",
        "#l2 =  np.where(test==-1)[0]\n",
        "#pl.plot(Y[l1,0],Y[l1,1],'rs')\n",
        "#pl.plot(Y[l2,0],Y[l2,1],'ks')\n",
        "\n",
        "step = 0.1\n",
        "f0,f1  = np.meshgrid(np.arange(np.min(X[:,0])-0.5, np.max(X[:,0])+0.5, step), \n",
        "                     np.arange(np.min(X[:,1])-0.5, np.max(X[:,1])+0.5, step))\n",
        "\n",
        "out = classifier(np.c_[np.ravel(f0), np.ravel(f1)], SVMx, SVMxsquared, \n",
        "                 SVMlambdas, SVMtargets, SVMb, sigma, soft=True).T\n",
        "#out = classifier(X, SVMx, SVMxsquared, SVMlambdas, SVMtargets, SVMb, sigma, \n",
        "#                 soft=True).T\n",
        "\n",
        "out = out.reshape(f0.shape)\n",
        "pl.contour(f0, f1, out,2)\n",
        "\n",
        "pl.show()\n",
        "\n",
        "#print (np.c_[np.ravel(f0), np.ravel(f1)])\n",
        "print (SVMxsquared)\n",
        "\n"
      ],
      "execution_count": 99,
      "outputs": [
        {
          "output_type": "display_data",
          "data": {
            "image/png": "[encoded data removed]",
            "text/plain": [
              "<Figure size 432x288 with 1 Axes>"
            ]
          },
          "metadata": {
            "needs_background": "light"
          }
        },
        {
          "output_type": "stream",
          "name": "stdout",
          "text": [
            "[[0.02499585]\n",
            " [0.75895997]\n",
            " [1.13182291]\n",
            " [1.25409768]\n",
            " [1.84542692]\n",
            " [1.62470887]]\n"
          ]
        }
      ]
    }
  ]
}