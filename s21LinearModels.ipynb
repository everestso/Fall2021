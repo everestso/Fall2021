{
  "nbformat": 4,
  "nbformat_minor": 0,
  "metadata": {
    "colab": {
      "name": "s21LinearModels.ipynb",
      "provenance": [],
      "authorship_tag": "ABX9TyPB2WjyQNk4YVUzYhMv1Y9K",
      "include_colab_link": true
    },
    "kernelspec": {
      "name": "python3",
      "display_name": "Python 3"
    }
  },
  "cells": [
    {
      "cell_type": "markdown",
      "metadata": {
        "id": "view-in-github",
        "colab_type": "text"
      },
      "source": [
        "<a href=\"https://colab.research.google.com/github/everestso/Spring2021/blob/main/s21LinearModels.ipynb\" target=\"_parent\"><img src=\"https://colab.research.google.com/assets/colab-badge.svg\" alt=\"Open In Colab\"/></a>"
      ]
    },
    {
      "cell_type": "markdown",
      "metadata": {
        "id": "gz5NLV2RSxv5"
      },
      "source": [
        "# Linear Models"
      ]
    },
    {
      "cell_type": "code",
      "metadata": {
        "id": "dcVzbIzJSwBf"
      },
      "source": [
        "### Includes\r\n",
        "# Common imports\r\n",
        "import numpy as np\r\n",
        "\r\n",
        "# to make this notebook's output stable across runs\r\n",
        "np.random.seed(42)\r\n",
        "\r\n",
        "# To plot pretty figures\r\n",
        "%matplotlib inline\r\n",
        "import matplotlib\r\n",
        "import matplotlib.pyplot as plt\r\n",
        "\r\n",
        "import pandas as pd\r\n",
        "\r\n",
        "import math"
      ],
      "execution_count": 1,
      "outputs": []
    },
    {
      "cell_type": "code",
      "metadata": {
        "colab": {
          "base_uri": "https://localhost:8080/"
        },
        "id": "ktaEU9UyTcO3",
        "outputId": "b48b965f-34cb-4138-bcff-c08bd686cf79"
      },
      "source": [
        "import os\r\n",
        "from google.colab import drive\r\n",
        "\r\n",
        "drive.mount('/content/gdrive')"
      ],
      "execution_count": 2,
      "outputs": [
        {
          "output_type": "stream",
          "text": [
            "Mounted at /content/gdrive\n"
          ],
          "name": "stdout"
        }
      ]
    },
    {
      "cell_type": "code",
      "metadata": {
        "colab": {
          "base_uri": "https://localhost:8080/",
          "height": 298
        },
        "id": "FtTn1fMYTrDt",
        "outputId": "9e999bed-94ab-405f-f29c-71404a7751d2"
      },
      "source": [
        "Noise = lambda eps: np.random.random()*eps - (eps/2)\r\n",
        "F = lambda x: 3 + 4*x\r\n",
        "X = list(range(1, 11))\r\n",
        "print (X)\r\n",
        "\r\n",
        "Y = [round(F(x) + Noise(10),2) for x in X]\r\n",
        "\r\n",
        "print (Y)\r\n",
        "\r\n",
        "### Add a little noise \r\n",
        "plt.plot(X,Y,'.')\r\n",
        "Hxs = [F(x) for x in X]\r\n",
        "\r\n",
        "plt.plot(X, Y, '.')\r\n",
        "plt.plot(X, Hxs, '-', color=\"green\")\r\n",
        "plt.show()"
      ],
      "execution_count": 3,
      "outputs": [
        {
          "output_type": "stream",
          "text": [
            "[1, 2, 3, 4, 5, 6, 7, 8, 9, 10]\n",
            "[5.75, 15.51, 17.32, 19.99, 19.56, 23.56, 26.58, 38.66, 40.01, 45.08]\n"
          ],
          "name": "stdout"
        },
        {
          "output_type": "display_data",
          "data": {
            "image/png": "[encoded data removed]",
            "text/plain": [
              "<Figure size 432x288 with 1 Axes>"
            ]
          },
          "metadata": {
            "tags": [],
            "needs_background": "light"
          }
        }
      ]
    },
    {
      "cell_type": "code",
      "metadata": {
        "colab": {
          "base_uri": "https://localhost:8080/"
        },
        "id": "tN38iYwtTyV3",
        "outputId": "786c673f-cc15-46db-846a-2b270a162d2c"
      },
      "source": [
        "# Print Examples:\r\n",
        "\r\n",
        "Examples = list(zip(X,Y))\r\n",
        "\r\n",
        "for p in Examples:\r\n",
        "  print (p)"
      ],
      "execution_count": 4,
      "outputs": [
        {
          "output_type": "stream",
          "text": [
            "(1, 5.75)\n",
            "(2, 15.51)\n",
            "(3, 17.32)\n",
            "(4, 19.99)\n",
            "(5, 19.56)\n",
            "(6, 23.56)\n",
            "(7, 26.58)\n",
            "(8, 38.66)\n",
            "(9, 40.01)\n",
            "(10, 45.08)\n"
          ],
          "name": "stdout"
        }
      ]
    },
    {
      "cell_type": "code",
      "metadata": {
        "id": "x8Vm52RsT5FQ",
        "colab": {
          "base_uri": "https://localhost:8080/",
          "height": 282
        },
        "outputId": "9121b74d-fd79-4c0a-c683-ccf5d06d5c4a"
      },
      "source": [
        "# Plot Hypothesis\r\n",
        "Hx = lambda w, x: w[0] + w[1]*x\r\n",
        "\r\n",
        "w = 0, 0\r\n",
        "\r\n",
        "Hxs = [Hx(w,x) for x in X]\r\n",
        "print (Hxs)\r\n",
        "\r\n",
        "plt.plot(X, Y, '.')\r\n",
        "plt.plot(X, Hxs, '-', color=\"red\")\r\n",
        "plt.show()"
      ],
      "execution_count": 5,
      "outputs": [
        {
          "output_type": "stream",
          "text": [
            "[0, 0, 0, 0, 0, 0, 0, 0, 0, 0]\n"
          ],
          "name": "stdout"
        },
        {
          "output_type": "display_data",
          "data": {
            "image/png": "[encoded data removed]",
            "text/plain": [
              "<Figure size 432x288 with 1 Axes>"
            ]
          },
          "metadata": {
            "tags": [],
            "needs_background": "light"
          }
        }
      ]
    }
  ]
}