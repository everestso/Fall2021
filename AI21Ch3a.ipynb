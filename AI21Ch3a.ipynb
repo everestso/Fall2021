{
  "nbformat": 4,
  "nbformat_minor": 0,
  "metadata": {
    "colab": {
      "name": "AI21Ch3a.ipynb",
      "provenance": [],
      "collapsed_sections": [],
      "authorship_tag": "ABX9TyN4vqo32XbaVlxIIW+W7wSs",
      "include_colab_link": true
    },
    "kernelspec": {
      "name": "python3",
      "display_name": "Python 3"
    }
  },
  "cells": [
    {
      "cell_type": "markdown",
      "metadata": {
        "id": "view-in-github",
        "colab_type": "text"
      },
      "source": [
        "<a href=\"https://colab.research.google.com/github/everestso/Spring2021/blob/main/AI21Ch3a.ipynb\" target=\"_parent\"><img src=\"https://colab.research.google.com/assets/colab-badge.svg\" alt=\"Open In Colab\"/></a>"
      ]
    },
    {
      "cell_type": "code",
      "metadata": {
        "id": "Gbe5KqWcISTq"
      },
      "source": [
        "import random\r\n",
        "import heapq"
      ],
      "execution_count": 34,
      "outputs": []
    },
    {
      "cell_type": "markdown",
      "metadata": {
        "id": "PHnbnN2uV8zr"
      },
      "source": [
        "# Tile Sliding Domain: Initial State Space"
      ]
    },
    {
      "cell_type": "code",
      "metadata": {
        "id": "jPCNOa4W-5yq"
      },
      "source": [
        "StateDimension=3\r\n",
        "InitialState = [1,2,3,4,5,6,0,7,8]\r\n",
        "GoalState=[1,2,3,4,5,6,7,8,0]\r\n",
        "Actions = lambda s: ['u', 'd', 'l', 'r']\r\n",
        "Opposite=dict([('u','d'),('d','u'),('l','r'),('r','l'), (None, None)])"
      ],
      "execution_count": 35,
      "outputs": []
    },
    {
      "cell_type": "code",
      "metadata": {
        "id": "XjnzkkC8_HE8"
      },
      "source": [
        "def Result(state, action):\r\n",
        "  i = state.index(0)\r\n",
        "  newState = list(state)\r\n",
        "  row,col=i//StateDimension, i % StateDimension\r\n",
        "  if ( (action=='u' and row==0) or\r\n",
        "       (action=='d' and row==StateDimension-1) or\r\n",
        "       (action=='l' and col==0) or\r\n",
        "       (action=='r' and col==StateDimension-1)):\r\n",
        "      return newState\r\n",
        "  if action=='u':\r\n",
        "    l,r = row*StateDimension+col, (row-1)*StateDimension+col\r\n",
        "  elif action=='d':\r\n",
        "    l,r = row*StateDimension+col, (row+1)*StateDimension+col\r\n",
        "  elif action=='l':\r\n",
        "    l,r = row*StateDimension+col, row*StateDimension+col-1\r\n",
        "  elif action=='r' :\r\n",
        "    l,r = row*StateDimension+col, row*StateDimension+col+1\r\n",
        "  newState[l], newState[r] = newState[r], newState[l] \r\n",
        "  return newState\r\n",
        "\r\n",
        "def PrintState(s):\r\n",
        "  for i in range(0,len(s),StateDimension):\r\n",
        "    print(s[i:i+StateDimension])\r\n",
        "\r\n",
        "def LegalMove(state, action):\r\n",
        "  i = state.index(0)\r\n",
        "  row,col=i//StateDimension, i % StateDimension\r\n",
        "  newState = state.copy()\r\n",
        "  if ( (action=='u' and row==0) or\r\n",
        "       (action=='d' and row==StateDimension-1) or\r\n",
        "       (action=='l' and col==0) or\r\n",
        "       (action=='r' and col==StateDimension-1)):\r\n",
        "      return False\r\n",
        "  return True\r\n"
      ],
      "execution_count": 36,
      "outputs": []
    },
    {
      "cell_type": "code",
      "metadata": {
        "colab": {
          "base_uri": "https://localhost:8080/"
        },
        "id": "bE7MrTAI_t6i",
        "outputId": "179a477b-3fb7-412f-b250-3e56f72ac1e8"
      },
      "source": [
        "PrintState(InitialState)"
      ],
      "execution_count": 37,
      "outputs": [
        {
          "output_type": "stream",
          "text": [
            "[1, 2, 3]\n",
            "[4, 5, 6]\n",
            "[0, 7, 8]\n"
          ],
          "name": "stdout"
        }
      ]
    },
    {
      "cell_type": "code",
      "metadata": {
        "colab": {
          "base_uri": "https://localhost:8080/"
        },
        "id": "wRULKFeXVcp3",
        "outputId": "3d6ec752-d39f-4e0b-d295-28b296bfc419"
      },
      "source": [
        "PrintState(GoalState)"
      ],
      "execution_count": 38,
      "outputs": [
        {
          "output_type": "stream",
          "text": [
            "[1, 2, 3]\n",
            "[4, 5, 6]\n",
            "[7, 8, 0]\n"
          ],
          "name": "stdout"
        }
      ]
    },
    {
      "cell_type": "code",
      "metadata": {
        "colab": {
          "base_uri": "https://localhost:8080/"
        },
        "id": "j-EYW_gqGZtl",
        "outputId": "35a401d0-e800-486d-ca6b-4b06986a5034"
      },
      "source": [
        "PrintState(InitialState)\r\n",
        "print()\r\n",
        "state1 = Result(InitialState, 'r')\r\n",
        "PrintState(state1)"
      ],
      "execution_count": 39,
      "outputs": [
        {
          "output_type": "stream",
          "text": [
            "[1, 2, 3]\n",
            "[4, 5, 6]\n",
            "[0, 7, 8]\n",
            "\n",
            "[1, 2, 3]\n",
            "[4, 5, 6]\n",
            "[7, 0, 8]\n"
          ],
          "name": "stdout"
        }
      ]
    },
    {
      "cell_type": "markdown",
      "metadata": {
        "id": "Mp0tnomdTFoC"
      },
      "source": [
        "# Random Walk\r\n",
        "\r\n",
        "Take some random moves from a state and return the new state and the sequence of moves.\r\n",
        "\r\n",
        "Do not include moves undoing last move, or having no effect."
      ]
    },
    {
      "cell_type": "code",
      "metadata": {
        "id": "1RVh0-S9IFiy"
      },
      "source": [
        "def RandomWalk(state, steps):\r\n",
        "  actionSequence = []\r\n",
        "  for i in range(steps):\r\n",
        "    action = None\r\n",
        "    actionLast = None\r\n",
        "    while action==None:\r\n",
        "      action = random.choice(Actions(state))\r\n",
        "      action = action if (LegalMove(state, action) \r\n",
        "          and action!= Opposite[actionLast]) else None\r\n",
        "    state = Result(state, action)\r\n",
        "    actionSequence.append(action)\r\n",
        "  return state, actionSequence\r\n",
        "\r\n"
      ],
      "execution_count": 40,
      "outputs": []
    },
    {
      "cell_type": "code",
      "metadata": {
        "colab": {
          "base_uri": "https://localhost:8080/"
        },
        "id": "wcn5POkxKlER",
        "outputId": "9aa82c3c-11c2-47ce-8001-6ee870e1130f"
      },
      "source": [
        "state1, sol = RandomWalk(InitialState, 150)\r\n",
        "PrintState(state1)\r\n",
        "print (sol)\r\n",
        "\r\n",
        "state1, sol = RandomWalk(InitialState, 5)\r\n",
        "PrintState(InitialState)\r\n",
        "print (sol)\r\n",
        "PrintState(state1)"
      ],
      "execution_count": 41,
      "outputs": [
        {
          "output_type": "stream",
          "text": [
            "[0, 3, 7]\n",
            "[6, 2, 1]\n",
            "[8, 4, 5]\n",
            "['u', 'd', 'r', 'l', 'r', 'l', 'r', 'r', 'u', 'd', 'u', 'l', 'd', 'u', 'l', 'd', 'u', 'r', 'd', 'l', 'u', 'r', 'd', 'r', 'u', 'd', 'l', 'r', 'l', 'r', 'l', 'l', 'r', 'r', 'l', 'r', 'l', 'l', 'r', 'r', 'l', 'r', 'l', 'r', 'u', 'u', 'd', 'u', 'd', 'u', 'd', 'l', 'r', 'l', 'l', 'd', 'r', 'u', 'u', 'r', 'd', 'u', 'l', 'r', 'd', 'u', 'd', 'd', 'u', 'l', 'l', 'r', 'd', 'l', 'r', 'r', 'u', 'l', 'd', 'r', 'u', 'd', 'u', 'u', 'd', 'l', 'd', 'r', 'l', 'u', 'd', 'r', 'u', 'd', 'u', 'd', 'l', 'l', 'r', 'r', 'l', 'u', 'r', 'u', 'l', 'r', 'd', 'l', 'l', 'd', 'u', 'd', 'r', 'l', 'r', 'r', 'u', 'd', 'u', 'u', 'l', 'l', 'd', 'd', 'r', 'l', 'r', 'u', 'u', 'd', 'l', 'r', 'l', 'r', 'r', 'd', 'u', 'u', 'd', 'l', 'u', 'r', 'd', 'u', 'd', 'l', 'u', 'd', 'l', 'u']\n",
            "[1, 2, 3]\n",
            "[4, 5, 6]\n",
            "[0, 7, 8]\n",
            "['r', 'u', 'u', 'd', 'u']\n",
            "[1, 0, 3]\n",
            "[4, 2, 6]\n",
            "[7, 5, 8]\n"
          ],
          "name": "stdout"
        }
      ]
    },
    {
      "cell_type": "code",
      "metadata": {
        "id": "Rc_8ohYvNIq-"
      },
      "source": [
        "def ApplyMoves(actions, state):\r\n",
        "  for action in actions:\r\n",
        "    state = Result(state, action)\r\n",
        "  return state"
      ],
      "execution_count": 42,
      "outputs": []
    },
    {
      "cell_type": "code",
      "metadata": {
        "colab": {
          "base_uri": "https://localhost:8080/"
        },
        "id": "Wv7MGqh8NXqy",
        "outputId": "63eaa778-7e3f-4de4-9edb-da5c39661981"
      },
      "source": [
        "PrintState(InitialState)\r\n",
        "print(['r','r'])\r\n",
        "PrintState(ApplyMoves(['r','r'],InitialState))"
      ],
      "execution_count": 43,
      "outputs": [
        {
          "output_type": "stream",
          "text": [
            "[1, 2, 3]\n",
            "[4, 5, 6]\n",
            "[0, 7, 8]\n",
            "['r', 'r']\n",
            "[1, 2, 3]\n",
            "[4, 5, 6]\n",
            "[7, 8, 0]\n"
          ],
          "name": "stdout"
        }
      ]
    },
    {
      "cell_type": "code",
      "metadata": {
        "id": "_VS2KzQbOHlO"
      },
      "source": [
        "def ReverseMoves(actions):\r\n",
        "  ret = [Opposite[a] for a in actions]\r\n",
        "  ret.reverse()\r\n",
        "  return ret"
      ],
      "execution_count": 44,
      "outputs": []
    },
    {
      "cell_type": "code",
      "metadata": {
        "colab": {
          "base_uri": "https://localhost:8080/"
        },
        "id": "tp_pqYBXOsqS",
        "outputId": "dbe8b8e6-d2ed-44ac-e006-f0b3997f0204"
      },
      "source": [
        "state1, sol = RandomWalk(GoalState, 5)\r\n",
        "PrintState(state1)\r\n",
        "print (sol)\r\n",
        "print(ReverseMoves(sol))\r\n",
        "PrintState (ApplyMoves(ReverseMoves(sol), state1))\r\n"
      ],
      "execution_count": 45,
      "outputs": [
        {
          "output_type": "stream",
          "text": [
            "[1, 5, 2]\n",
            "[4, 3, 0]\n",
            "[7, 8, 6]\n",
            "['u', 'u', 'l', 'd', 'r']\n",
            "['l', 'u', 'r', 'd', 'd']\n",
            "[1, 2, 3]\n",
            "[4, 5, 6]\n",
            "[7, 8, 0]\n"
          ],
          "name": "stdout"
        }
      ]
    },
    {
      "cell_type": "markdown",
      "metadata": {
        "id": "8ABBDMJLROdo"
      },
      "source": [
        "## Problem Class\r\n",
        "\r\n",
        "INITIAL = InitialState  \r\n",
        "IsGoal = Goal Test  \r\n",
        "Actions = Actions List  \r\n",
        "Result = Action Behavior  \r\n",
        "ActionCost = Action Cost  "
      ]
    },
    {
      "cell_type": "code",
      "metadata": {
        "id": "fo6sq7myRQpE"
      },
      "source": [
        "class Problem(object): pass"
      ],
      "execution_count": 46,
      "outputs": []
    },
    {
      "cell_type": "markdown",
      "metadata": {
        "id": "aAHXlWteQ2LN"
      },
      "source": [
        "## Node"
      ]
    },
    {
      "cell_type": "code",
      "metadata": {
        "id": "URRYlfS9Q3vx"
      },
      "source": [
        "class Node(object):\r\n",
        "  def __init__(self, state, parent=None, action=None, path_cost=0 ):\r\n",
        "    self.State=state\r\n",
        "    self.Parent=parent\r\n",
        "    self.Action=action\r\n",
        "    self.PathCost = path_cost\r\n",
        "\r\n",
        "  def __str__(self):\r\n",
        "    action = \"<none>\" if not self.Action else self.Action\r\n",
        "    return str(self.State) + \", \" + action\r\n",
        "  def __repr__(self):\r\n",
        "    action = \"<none>\" if not self.Action else self.Action\r\n",
        "    return str(self.State) + \", \" + action\r\n",
        "  def __lt__(self, other):\r\n",
        "    return self.PathCost < other.PathCost;"
      ],
      "execution_count": 47,
      "outputs": []
    },
    {
      "cell_type": "markdown",
      "metadata": {
        "id": "LpzKnx4rkxL9"
      },
      "source": [
        "## Expand "
      ]
    },
    {
      "cell_type": "code",
      "metadata": {
        "id": "CRj9UnyHdDo_"
      },
      "source": [
        "def Expand(problem, node):\r\n",
        "  ret = []\r\n",
        "  s = node.State\r\n",
        "  for action in problem.Actions(s):\r\n",
        "    sPrime = problem.Result(s, action)\r\n",
        "    cost =node.PathCost + problem.ActionCost(s,action,sPrime)\r\n",
        "    ret.append(Node(sPrime, node, action, cost))\r\n",
        "  return ret\r\n",
        " "
      ],
      "execution_count": 48,
      "outputs": []
    },
    {
      "cell_type": "markdown",
      "metadata": {
        "id": "Ee2ZYxjVlBSl"
      },
      "source": [
        "## Breadth-First Search"
      ]
    },
    {
      "cell_type": "code",
      "metadata": {
        "id": "DZoCxoGzkt4E"
      },
      "source": [
        "def BreadthFirstSearch(problem):\r\n",
        "  node = Node(tuple(problem.INITIAL))\r\n",
        "  if problem.IsGoal(node.State):\r\n",
        "    return node, 0\r\n",
        "  Frontier = []\r\n",
        "  Frontier.append(node)\r\n",
        "  reached = set()\r\n",
        "  reached.add(tuple(problem.INITIAL))\r\n",
        "  nodesExpanded = 0\r\n",
        "  while (Frontier):\r\n",
        "    ### print([str(n) for n in Frontier])\r\n",
        "    node = Frontier.pop(0)\r\n",
        "    ### print(node)\r\n",
        "    for child in Expand(problem, node):\r\n",
        "      s = tuple(child.State)\r\n",
        "      ### print (s, \"IsGoal=\", problem.IsGoal(s))\r\n",
        "      if problem.IsGoal(s):\r\n",
        "        return child, nodesExpanded\r\n",
        "      if s not in reached:\r\n",
        "        reached.add(s)\r\n",
        "        Frontier.append(child)\r\n",
        "    nodesExpanded += 1\r\n",
        "    if nodesExpanded > 500000:\r\n",
        "      break;\r\n",
        "  return None, nodesExpanded"
      ],
      "execution_count": 49,
      "outputs": []
    },
    {
      "cell_type": "markdown",
      "metadata": {
        "id": "AoX48XG6lFOf"
      },
      "source": [
        "## Best-First Search"
      ]
    },
    {
      "cell_type": "code",
      "metadata": {
        "id": "lUIAdr_qa1KT"
      },
      "source": [
        "def BestFirstSearch(problem, f):\r\n",
        "  node = Node(tuple(problem.INITIAL))\r\n",
        "  Frontier = []\r\n",
        "  heapq.heappush(Frontier,(f(node), node))\r\n",
        "  reached = {}\r\n",
        "  reached[tuple(problem.INITIAL)]=node\r\n",
        "  nodesExpanded = 0\r\n",
        "  while (Frontier):\r\n",
        "    ##print([(x, str(n)) for (x,n) in Frontier])\r\n",
        "    fValue, node = heapq.heappop(Frontier)\r\n",
        "    ##print (node.State, \"IsGoal=\", problem.IsGoal(tuple(node.State)))\r\n",
        "    if problem.IsGoal(tuple(node.State)):\r\n",
        "      return node, nodesExpanded    ### print(node)\r\n",
        "    for child in Expand(problem, node):\r\n",
        "      s = tuple(child.State)\r\n",
        "      if s not in reached or child.PathCost < reached[s].PathCost:\r\n",
        "        reached[s] = child\r\n",
        "        heapq.heappush(Frontier, (f(child), child))\r\n",
        "    nodesExpanded += 1\r\n",
        "    if nodesExpanded > 500000:\r\n",
        "      break;\r\n",
        "  return None, nodesExpanded"
      ],
      "execution_count": 50,
      "outputs": []
    },
    {
      "cell_type": "markdown",
      "metadata": {
        "id": "kRjolRYslOa4"
      },
      "source": [
        "## Problem 1"
      ]
    },
    {
      "cell_type": "code",
      "metadata": {
        "colab": {
          "base_uri": "https://localhost:8080/"
        },
        "id": "dLWDIbmsRGY3",
        "outputId": "003689e5-9dba-411e-9bfa-2024f7ae022d"
      },
      "source": [
        "TileSliding = Problem()\r\n",
        "TileSliding.INITIAL = InitialState\r\n",
        "TileSliding.IsGoal = lambda s: s==(1,2,3,4,5,6,7,8,0)\r\n",
        "TileSliding.Actions = Actions\r\n",
        "TileSliding.Result=Result\r\n",
        "TileSliding.ActionCost = lambda s, a, sPrime: 1\r\n",
        "print( TileSliding.IsGoal((1,2,3,4,5,6,7,8,0)) )\r\n",
        "print( Node(InitialState) )\r\n",
        "print(1+TileSliding.ActionCost(1,2,3))"
      ],
      "execution_count": 51,
      "outputs": [
        {
          "output_type": "stream",
          "text": [
            "True\n",
            "[1, 2, 3, 4, 5, 6, 0, 7, 8], <none>\n",
            "2\n"
          ],
          "name": "stdout"
        }
      ]
    },
    {
      "cell_type": "code",
      "metadata": {
        "colab": {
          "base_uri": "https://localhost:8080/"
        },
        "id": "6VoIEO4c1gHz",
        "outputId": "cc1c55d4-5124-4eb4-daa4-6fb4297624ca"
      },
      "source": [
        "TileSliding.INITIAL = [1,2,3,4,5,6,0,7,8]\r\n",
        "ret, cost = BreadthFirstSearch(TileSliding)\r\n",
        "print (ret, cost)"
      ],
      "execution_count": 52,
      "outputs": [
        {
          "output_type": "stream",
          "text": [
            "[1, 2, 3, 4, 5, 6, 7, 8, 0], r 2\n"
          ],
          "name": "stdout"
        }
      ]
    },
    {
      "cell_type": "code",
      "metadata": {
        "id": "3hsBKY7Fle3w"
      },
      "source": [
        "def Solution(node):\r\n",
        "  if node.Parent==None: \r\n",
        "    return []\r\n",
        "  return Solution(node.Parent) + [node.Action]\r\n"
      ],
      "execution_count": 53,
      "outputs": []
    },
    {
      "cell_type": "code",
      "metadata": {
        "colab": {
          "base_uri": "https://localhost:8080/"
        },
        "id": "rtr7Vr84NAfY",
        "outputId": "8a555165-0a47-43ef-d58f-34630a5ab335"
      },
      "source": [
        "sol = Solution(ret)\r\n",
        "print (sol)\r\n",
        "print (TileSliding.INITIAL)\r\n",
        "print (ApplyMoves(sol, TileSliding.INITIAL))"
      ],
      "execution_count": 54,
      "outputs": [
        {
          "output_type": "stream",
          "text": [
            "['r', 'r']\n",
            "[1, 2, 3, 4, 5, 6, 0, 7, 8]\n",
            "[1, 2, 3, 4, 5, 6, 7, 8, 0]\n"
          ],
          "name": "stdout"
        }
      ]
    },
    {
      "cell_type": "code",
      "metadata": {
        "colab": {
          "base_uri": "https://localhost:8080/"
        },
        "id": "RDE3dNP8NOU7",
        "outputId": "45f3f74b-3bda-4fb0-9e19-8e9485a5c2be"
      },
      "source": [
        "TileSliding.INITIAL = [1,2,3,4,0,6,7,5,8]\r\n",
        "ret, cost = BreadthFirstSearch(TileSliding)\r\n",
        "print (ret, cost)"
      ],
      "execution_count": 55,
      "outputs": [
        {
          "output_type": "stream",
          "text": [
            "[1, 2, 3, 4, 5, 6, 7, 8, 0], r 2\n"
          ],
          "name": "stdout"
        }
      ]
    },
    {
      "cell_type": "code",
      "metadata": {
        "colab": {
          "base_uri": "https://localhost:8080/"
        },
        "id": "YBkLupiYNyZ_",
        "outputId": "2e1ed97d-d0f4-4cb9-a81d-0fb4199098f6"
      },
      "source": [
        "sol = Solution(ret)\r\n",
        "print (sol)\r\n",
        "print (TileSliding.INITIAL)\r\n",
        "print (ApplyMoves(sol, TileSliding.INITIAL))"
      ],
      "execution_count": 56,
      "outputs": [
        {
          "output_type": "stream",
          "text": [
            "['d', 'r']\n",
            "[1, 2, 3, 4, 0, 6, 7, 5, 8]\n",
            "[1, 2, 3, 4, 5, 6, 7, 8, 0]\n"
          ],
          "name": "stdout"
        }
      ]
    },
    {
      "cell_type": "code",
      "metadata": {
        "colab": {
          "base_uri": "https://localhost:8080/"
        },
        "id": "GXdlMLxwhxMF",
        "outputId": "21f00257-79b6-49bf-d05f-6c272c8c177a"
      },
      "source": [
        "UniformCostF = lambda n: n.PathCost\r\n",
        "TileSliding.INITIAL = [1,2,3,4,0,6,7,5,8]\r\n",
        "ret, cost = BestFirstSearch(TileSliding, UniformCostF)\r\n",
        "print (ret)\r\n",
        "sol = Solution(ret)\r\n",
        "print (sol)\r\n",
        "print (TileSliding.INITIAL)\r\n",
        "print (ApplyMoves(sol, TileSliding.INITIAL))\r\n",
        "print (\"Nodes Expanded=\", cost)"
      ],
      "execution_count": 57,
      "outputs": [
        {
          "output_type": "stream",
          "text": [
            "[1, 2, 3, 4, 5, 6, 7, 8, 0], r\n",
            "['d', 'r']\n",
            "[1, 2, 3, 4, 0, 6, 7, 5, 8]\n",
            "[1, 2, 3, 4, 5, 6, 7, 8, 0]\n",
            "Nodes Expanded= 8\n"
          ],
          "name": "stdout"
        }
      ]
    },
    {
      "cell_type": "markdown",
      "metadata": {
        "id": "bu6svMo0n9Pc"
      },
      "source": [
        "# Problem 2"
      ]
    },
    {
      "cell_type": "code",
      "metadata": {
        "colab": {
          "base_uri": "https://localhost:8080/"
        },
        "id": "rXzEVLYEn8m1",
        "outputId": "13d34479-51ab-4315-b670-2743ab320f9d"
      },
      "source": [
        "state1, sol = RandomWalk(GoalState, 500)\r\n",
        "PrintState(state1)\r\n",
        "print (sol)\r\n",
        "print(ReverseMoves(sol))\r\n",
        "PrintState (ApplyMoves(ReverseMoves(sol), state1))"
      ],
      "execution_count": 58,
      "outputs": [
        {
          "output_type": "stream",
          "text": [
            "[8, 2, 5]\n",
            "[4, 0, 3]\n",
            "[6, 7, 1]\n",
            "['u', 'u', 'l', 'r', 'l', 'd', 'u', 'r', 'l', 'd', 'r', 'd', 'l', 'l', 'u', 'r', 'u', 'l', 'r', 'l', 'd', 'd', 'r', 'l', 'u', 'r', 'l', 'u', 'd', 'd', 'u', 'r', 'l', 'u', 'd', 'u', 'd', 'u', 'r', 'r', 'd', 'u', 'l', 'r', 'd', 'd', 'u', 'd', 'u', 'u', 'd', 'l', 'd', 'r', 'l', 'u', 'd', 'u', 'l', 'u', 'r', 'r', 'd', 'u', 'l', 'r', 'l', 'd', 'u', 'l', 'r', 'd', 'l', 'r', 'u', 'l', 'd', 'u', 'd', 'r', 'l', 'u', 'r', 'l', 'r', 'r', 'd', 'u', 'd', 'd', 'l', 'r', 'l', 'l', 'u', 'd', 'u', 'u', 'r', 'l', 'r', 'l', 'r', 'd', 'd', 'u', 'd', 'r', 'u', 'l', 'r', 'd', 'l', 'r', 'l', 'l', 'u', 'd', 'u', 'u', 'd', 'd', 'u', 'd', 'u', 'u', 'd', 'd', 'u', 'd', 'r', 'l', 'u', 'r', 'd', 'r', 'l', 'r', 'u', 'd', 'l', 'u', 'u', 'd', 'l', 'u', 'r', 'l', 'd', 'd', 'u', 'r', 'r', 'd', 'l', 'r', 'l', 'l', 'r', 'l', 'u', 'r', 'l', 'd', 'u', 'r', 'r', 'u', 'l', 'l', 'r', 'd', 'd', 'r', 'u', 'l', 'u', 'l', 'd', 'u', 'd', 'r', 'r', 'd', 'l', 'u', 'd', 'r', 'l', 'r', 'u', 'u', 'd', 'u', 'd', 'u', 'd', 'l', 'u', 'r', 'd', 'u', 'l', 'r', 'l', 'd', 'l', 'r', 'u', 'l', 'd', 'u', 'd', 'u', 'd', 'd', 'u', 'd', 'u', 'u', 'd', 'r', 'u', 'd', 'u', 'r', 'l', 'r', 'd', 'u', 'l', 'r', 'l', 'r', 'd', 'u', 'd', 'l', 'd', 'r', 'u', 'u', 'l', 'r', 'l', 'd', 'r', 'd', 'u', 'u', 'l', 'l', 'r', 'd', 'l', 'r', 'r', 'd', 'u', 'd', 'u', 'l', 'l', 'r', 'u', 'd', 'u', 'l', 'd', 'u', 'r', 'r', 'l', 'l', 'r', 'd', 'd', 'u', 'l', 'd', 'r', 'r', 'u', 'u', 'l', 'd', 'l', 'd', 'u', 'r', 'd', 'u', 'u', 'd', 'l', 'u', 'r', 'l', 'd', 'u', 'd', 'd', 'r', 'u', 'l', 'u', 'd', 'r', 'l', 'd', 'u', 'u', 'd', 'r', 'u', 'l', 'r', 'l', 'r', 'l', 'r', 'l', 'd', 'd', 'r', 'u', 'r', 'u', 'l', 'd', 'u', 'r', 'd', 'l', 'd', 'u', 'd', 'u', 'r', 'd', 'u', 'u', 'l', 'l', 'd', 'u', 'r', 'r', 'd', 'd', 'u', 'd', 'u', 'd', 'l', 'u', 'd', 'l', 'u', 'u', 'd', 'u', 'r', 'l', 'd', 'r', 'r', 'l', 'd', 'r', 'l', 'u', 'r', 'l', 'u', 'r', 'l', 'r', 'd', 'l', 'r', 'u', 'd', 'd', 'l', 'u', 'r', 'd', 'l', 'l', 'r', 'r', 'u', 'd', 'u', 'l', 'u', 'd', 'u', 'l', 'r', 'd', 'l', 'r', 'd', 'l', 'r', 'r', 'u', 'u', 'l', 'd', 'd', 'l', 'r', 'r', 'u', 'l', 'd', 'u', 'l', 'd', 'r', 'u', 'r', 'u', 'l', 'l', 'r', 'l', 'd', 'd', 'u', 'u', 'r', 'l', 'd', 'r', 'l', 'd', 'u', 'u', 'd', 'r', 'r', 'l', 'd', 'u', 'r', 'u', 'l', 'l', 'd', 'r', 'u', 'd', 'u', 'r', 'l', 'l', 'r', 'd', 'r', 'd', 'l', 'l', 'u', 'd', 'r', 'u', 'l', 'u', 'r', 'l', 'r', 'd', 'd', 'r', 'u', 'd', 'u', 'l', 'u', 'd', 'r', 'd', 'u', 'd', 'l', 'l', 'r', 'r', 'l', 'l', 'r', 'l', 'r', 'l', 'r', 'u']\n",
            "['d', 'l', 'r', 'l', 'r', 'l', 'r', 'r', 'l', 'l', 'r', 'r', 'u', 'd', 'u', 'l', 'u', 'd', 'r', 'd', 'u', 'd', 'l', 'u', 'u', 'l', 'r', 'l', 'd', 'r', 'd', 'l', 'u', 'd', 'r', 'r', 'u', 'l', 'u', 'l', 'r', 'r', 'l', 'd', 'u', 'd', 'l', 'u', 'r', 'r', 'd', 'l', 'd', 'u', 'r', 'l', 'l', 'u', 'd', 'd', 'u', 'r', 'l', 'u', 'r', 'l', 'd', 'd', 'u', 'u', 'r', 'l', 'r', 'r', 'd', 'l', 'd', 'l', 'u', 'r', 'd', 'u', 'r', 'd', 'l', 'l', 'r', 'u', 'u', 'r', 'd', 'd', 'l', 'l', 'r', 'u', 'l', 'r', 'u', 'l', 'r', 'd', 'u', 'd', 'r', 'd', 'u', 'd', 'l', 'l', 'r', 'r', 'u', 'l', 'd', 'r', 'u', 'u', 'd', 'l', 'r', 'u', 'l', 'r', 'l', 'd', 'r', 'l', 'd', 'r', 'l', 'u', 'r', 'l', 'l', 'u', 'r', 'l', 'd', 'u', 'd', 'd', 'r', 'u', 'd', 'r', 'u', 'd', 'u', 'd', 'u', 'u', 'l', 'l', 'd', 'u', 'r', 'r', 'd', 'd', 'u', 'l', 'd', 'u', 'd', 'u', 'r', 'u', 'l', 'd', 'u', 'r', 'd', 'l', 'd', 'l', 'u', 'u', 'r', 'l', 'r', 'l', 'r', 'l', 'r', 'd', 'l', 'u', 'd', 'd', 'u', 'r', 'l', 'u', 'd', 'r', 'd', 'l', 'u', 'u', 'd', 'u', 'r', 'l', 'd', 'r', 'u', 'd', 'd', 'u', 'l', 'd', 'u', 'r', 'u', 'r', 'd', 'd', 'l', 'l', 'u', 'r', 'd', 'u', 'u', 'l', 'r', 'r', 'l', 'l', 'd', 'u', 'r', 'd', 'u', 'd', 'l', 'r', 'r', 'd', 'u', 'd', 'u', 'l', 'l', 'r', 'u', 'l', 'r', 'r', 'd', 'd', 'u', 'l', 'u', 'r', 'l', 'r', 'd', 'd', 'l', 'u', 'r', 'u', 'd', 'u', 'l', 'r', 'l', 'r', 'd', 'u', 'l', 'r', 'l', 'd', 'u', 'd', 'l', 'u', 'd', 'd', 'u', 'd', 'u', 'u', 'd', 'u', 'd', 'u', 'r', 'd', 'l', 'r', 'u', 'r', 'l', 'r', 'd', 'u', 'l', 'd', 'r', 'u', 'd', 'u', 'd', 'u', 'd', 'd', 'l', 'r', 'l', 'u', 'd', 'r', 'u', 'l', 'l', 'u', 'd', 'u', 'r', 'd', 'r', 'd', 'l', 'u', 'u', 'l', 'r', 'r', 'd', 'l', 'l', 'd', 'u', 'r', 'l', 'd', 'r', 'l', 'r', 'r', 'l', 'r', 'u', 'l', 'l', 'd', 'u', 'u', 'r', 'l', 'd', 'r', 'u', 'd', 'd', 'r', 'u', 'd', 'l', 'r', 'l', 'u', 'l', 'd', 'r', 'l', 'u', 'd', 'u', 'u', 'd', 'd', 'u', 'd', 'u', 'u', 'd', 'd', 'u', 'd', 'r', 'r', 'l', 'r', 'u', 'l', 'r', 'd', 'l', 'u', 'd', 'u', 'u', 'l', 'r', 'l', 'r', 'l', 'd', 'd', 'u', 'd', 'r', 'r', 'l', 'r', 'u', 'u', 'd', 'u', 'l', 'l', 'r', 'l', 'd', 'r', 'l', 'u', 'd', 'u', 'r', 'd', 'l', 'r', 'u', 'l', 'r', 'd', 'u', 'r', 'l', 'r', 'd', 'u', 'l', 'l', 'd', 'r', 'd', 'u', 'd', 'r', 'l', 'u', 'r', 'u', 'd', 'd', 'u', 'd', 'u', 'u', 'l', 'r', 'd', 'u', 'l', 'l', 'd', 'u', 'd', 'u', 'd', 'r', 'l', 'd', 'u', 'u', 'd', 'r', 'l', 'd', 'r', 'l', 'u', 'u', 'r', 'l', 'r', 'd', 'l', 'd', 'r', 'r', 'u', 'l', 'u', 'r', 'l', 'd', 'u', 'r', 'l', 'r', 'd', 'd']\n",
            "[1, 2, 3]\n",
            "[4, 5, 6]\n",
            "[7, 8, 0]\n"
          ],
          "name": "stdout"
        }
      ]
    },
    {
      "cell_type": "code",
      "metadata": {
        "colab": {
          "base_uri": "https://localhost:8080/"
        },
        "id": "tKnMcesqoCss",
        "outputId": "25b8f8a2-222f-44ac-fb0f-a2a6a0075945"
      },
      "source": [
        "TileSliding.INITIAL = state1\r\n",
        "ret, cost = BreadthFirstSearch(TileSliding)\r\n",
        "print (ret)\r\n",
        "sol = Solution(ret)\r\n",
        "print (sol)\r\n",
        "print (TileSliding.INITIAL)\r\n",
        "print (ApplyMoves(sol, TileSliding.INITIAL))\r\n",
        "print (\"Length of solution: \", len(sol))\r\n",
        "print (\"Nodes Expanded=\", cost)"
      ],
      "execution_count": 59,
      "outputs": [
        {
          "output_type": "stream",
          "text": [
            "[1, 2, 3, 4, 5, 6, 7, 8, 0], r\n",
            "['d', 'l', 'u', 'u', 'r', 'r', 'd', 'd', 'l', 'u', 'l', 'd', 'r', 'u', 'r', 'd', 'l', 'l', 'u', 'r', 'u', 'l', 'd', 'd', 'r', 'r']\n",
            "[8, 2, 5, 4, 0, 3, 6, 7, 1]\n",
            "[1, 2, 3, 4, 5, 6, 7, 8, 0]\n",
            "Length of solution:  26\n",
            "Nodes Expanded= 155749\n"
          ],
          "name": "stdout"
        }
      ]
    },
    {
      "cell_type": "code",
      "metadata": {
        "colab": {
          "base_uri": "https://localhost:8080/"
        },
        "id": "k24bl418eL5m",
        "outputId": "98fcff8a-6a48-4eb6-d2b3-9c8ff5f5d3d2"
      },
      "source": [
        "UniformCostF = lambda n: n.PathCost\r\n",
        "TileSliding.INITIAL = state1\r\n",
        "ret, cost = BestFirstSearch(TileSliding, UniformCostF)\r\n",
        "print (ret)\r\n",
        "sol = Solution(ret)\r\n",
        "print (sol)\r\n",
        "print (TileSliding.INITIAL)\r\n",
        "print (ApplyMoves(sol, TileSliding.INITIAL))\r\n",
        "print (\"Length of solution: \", len(sol))\r\n",
        "print (\"Nodes Expanded=\", cost)"
      ],
      "execution_count": 60,
      "outputs": [
        {
          "output_type": "stream",
          "text": [
            "[1, 2, 3, 4, 5, 6, 7, 8, 0], r\n",
            "['d', 'l', 'u', 'u', 'r', 'r', 'd', 'd', 'l', 'u', 'l', 'd', 'r', 'u', 'r', 'd', 'l', 'l', 'u', 'r', 'u', 'l', 'd', 'd', 'r', 'r']\n",
            "[8, 2, 5, 4, 0, 3, 6, 7, 1]\n",
            "[1, 2, 3, 4, 5, 6, 7, 8, 0]\n",
            "Length of solution:  26\n",
            "Nodes Expanded= 168998\n"
          ],
          "name": "stdout"
        }
      ]
    },
    {
      "cell_type": "markdown",
      "metadata": {
        "id": "TFLhS5QmxRz2"
      },
      "source": [
        "# Domain 2"
      ]
    },
    {
      "cell_type": "code",
      "metadata": {
        "id": "PqDD8fsrxXK7"
      },
      "source": [
        "VectorWorldDim = 10\r\n",
        "VectorWorld = Problem()\r\n",
        "VectorWorld.INITIAL = [0]\r\n",
        "VectorWorld.IsGoal = lambda s: s==[3,] or s==(3,)\r\n",
        "VectorWorld.Actions = lambda s: ['Left', 'Right']\r\n",
        "## TileSliding.Result=VectorWorldResult\r\n",
        "VectorWorld.ActionCost = lambda s, a, sPrime: 1"
      ],
      "execution_count": 61,
      "outputs": []
    },
    {
      "cell_type": "code",
      "metadata": {
        "id": "uWNR8AQJyCN7"
      },
      "source": [
        "def VectorWorldResult(state, action):\r\n",
        "  if action=='Left':\r\n",
        "    return [(state[0]+VectorWorldDim-1)%VectorWorldDim]\r\n",
        "  else:\r\n",
        "    return [(state[0]+1)%VectorWorldDim]\r\n",
        "VectorWorld.Result=VectorWorldResult\r\n",
        "  "
      ],
      "execution_count": 62,
      "outputs": []
    },
    {
      "cell_type": "code",
      "metadata": {
        "colab": {
          "base_uri": "https://localhost:8080/"
        },
        "id": "Ox26cyPP2xba",
        "outputId": "f55a3ffd-cf0b-47d6-f9c1-3cc469dd2a94"
      },
      "source": [
        "print (VectorWorld.IsGoal((3,)))"
      ],
      "execution_count": 63,
      "outputs": [
        {
          "output_type": "stream",
          "text": [
            "True\n"
          ],
          "name": "stdout"
        }
      ]
    },
    {
      "cell_type": "code",
      "metadata": {
        "colab": {
          "base_uri": "https://localhost:8080/"
        },
        "id": "SBfeM9Vbykci",
        "outputId": "53a64f28-87f4-42cb-b00d-79504f3415af"
      },
      "source": [
        "ret, cost = BreadthFirstSearch(VectorWorld)\r\n",
        "print (\"ret=\", ret)\r\n",
        "sol = Solution(ret)\r\n",
        "print (sol)\r\n"
      ],
      "execution_count": 64,
      "outputs": [
        {
          "output_type": "stream",
          "text": [
            "ret= [3], Right\n",
            "['Right', 'Right', 'Right']\n"
          ],
          "name": "stdout"
        }
      ]
    },
    {
      "cell_type": "code",
      "metadata": {
        "id": "dAbJ75Ym4WmP"
      },
      "source": [
        "VectorWorld.INITIAL = [8]"
      ],
      "execution_count": 65,
      "outputs": []
    },
    {
      "cell_type": "code",
      "metadata": {
        "colab": {
          "base_uri": "https://localhost:8080/"
        },
        "id": "QGO1VglP4Zq6",
        "outputId": "c9118d46-e747-44c8-e8b3-efa71b59a157"
      },
      "source": [
        "ret, cost = BreadthFirstSearch(VectorWorld)\r\n",
        "print (\"ret=\", ret)\r\n",
        "sol = Solution(ret)\r\n",
        "print (sol)"
      ],
      "execution_count": 66,
      "outputs": [
        {
          "output_type": "stream",
          "text": [
            "ret= [3], Left\n",
            "['Left', 'Left', 'Left', 'Left', 'Left']\n"
          ],
          "name": "stdout"
        }
      ]
    }
  ]
}