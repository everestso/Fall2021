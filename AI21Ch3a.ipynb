{
  "nbformat": 4,
  "nbformat_minor": 0,
  "metadata": {
    "colab": {
      "name": "AI21Ch3a.ipynb",
      "provenance": [],
      "collapsed_sections": [],
      "authorship_tag": "ABX9TyMd/fyqdaOYdgRmtGR61eFO",
      "include_colab_link": true
    },
    "kernelspec": {
      "name": "python3",
      "display_name": "Python 3"
    }
  },
  "cells": [
    {
      "cell_type": "markdown",
      "metadata": {
        "id": "view-in-github",
        "colab_type": "text"
      },
      "source": [
        "<a href=\"https://colab.research.google.com/github/everestso/Spring2021/blob/main/AI21Ch3a.ipynb\" target=\"_parent\"><img src=\"https://colab.research.google.com/assets/colab-badge.svg\" alt=\"Open In Colab\"/></a>"
      ]
    },
    {
      "cell_type": "code",
      "metadata": {
        "id": "Gbe5KqWcISTq"
      },
      "source": [
        "import random"
      ],
      "execution_count": null,
      "outputs": []
    },
    {
      "cell_type": "markdown",
      "metadata": {
        "id": "PHnbnN2uV8zr"
      },
      "source": [
        "# Initial State Space"
      ]
    },
    {
      "cell_type": "code",
      "metadata": {
        "id": "jPCNOa4W-5yq"
      },
      "source": [
        "StateDimension=3\r\n",
        "InitialState = [1,2,3,4,5,6,0,7,8]\r\n",
        "GoalState=[1,2,3,4,5,6,7,8,0]\r\n",
        "Actions = lambda s: ['u', 'd', 'l', 'r']\r\n",
        "Opposite=dict([('u','d'),('d','u'),('l','r'),('r','l')])"
      ],
      "execution_count": null,
      "outputs": []
    },
    {
      "cell_type": "code",
      "metadata": {
        "id": "XjnzkkC8_HE8"
      },
      "source": [
        "def Result(state, action):\r\n",
        "  i = state.index(0)\r\n",
        "  newState = list(state)\r\n",
        "  row,col=i//StateDimension, i % StateDimension\r\n",
        "  if ( (action=='u' and row==0) or\r\n",
        "       (action=='d' and row==StateDimension-1) or\r\n",
        "       (action=='l' and col==0) or\r\n",
        "       (action=='r' and col==StateDimension-1)):\r\n",
        "      return newState\r\n",
        "  if action=='u':\r\n",
        "    l,r = row*StateDimension+col, (row-1)*StateDimension+col\r\n",
        "  elif action=='d':\r\n",
        "    l,r = row*StateDimension+col, (row+1)*StateDimension+col\r\n",
        "  elif action=='l':\r\n",
        "    l,r = row*StateDimension+col, row*StateDimension+col-1\r\n",
        "  elif action=='r' :\r\n",
        "    l,r = row*StateDimension+col, row*StateDimension+col+1\r\n",
        "  newState[l], newState[r] = newState[r], newState[l] \r\n",
        "  return newState\r\n",
        "\r\n",
        "def PrintState(s):\r\n",
        "  for i in range(0,len(s),StateDimension):\r\n",
        "    print(s[i:i+StateDimension])\r\n",
        "\r\n",
        "def LegalMove(state, action):\r\n",
        "  i = state.index(0)\r\n",
        "  row,col=i//StateDimension, i % StateDimension\r\n",
        "  newState = state.copy()\r\n",
        "  if ( (action=='u' and row==0) or\r\n",
        "       (action=='d' and row==StateDimension-1) or\r\n",
        "       (action=='l' and col==0) or\r\n",
        "       (action=='r' and col==StateDimension-1)):\r\n",
        "      return False\r\n",
        "  return True\r\n"
      ],
      "execution_count": null,
      "outputs": []
    },
    {
      "cell_type": "code",
      "metadata": {
        "colab": {
          "base_uri": "https://localhost:8080/"
        },
        "id": "bE7MrTAI_t6i",
        "outputId": "3e567186-be13-4d80-a3c9-d49b821ccf31"
      },
      "source": [
        "PrintState(InitialState)"
      ],
      "execution_count": null,
      "outputs": [
        {
          "output_type": "stream",
          "text": [
            "[1, 2, 3]\n",
            "[4, 5, 6]\n",
            "[0, 7, 8]\n"
          ],
          "name": "stdout"
        }
      ]
    },
    {
      "cell_type": "code",
      "metadata": {
        "colab": {
          "base_uri": "https://localhost:8080/"
        },
        "id": "wRULKFeXVcp3",
        "outputId": "13c4efe6-0e4c-4ce3-96c1-3077aedf1a0d"
      },
      "source": [
        "PrintState(GoalState)"
      ],
      "execution_count": null,
      "outputs": [
        {
          "output_type": "stream",
          "text": [
            "[1, 2, 3]\n",
            "[4, 5, 6]\n",
            "[7, 8, 0]\n"
          ],
          "name": "stdout"
        }
      ]
    },
    {
      "cell_type": "code",
      "metadata": {
        "colab": {
          "base_uri": "https://localhost:8080/"
        },
        "id": "j-EYW_gqGZtl",
        "outputId": "566f8b02-5f0e-408c-84b2-86ef5216c328"
      },
      "source": [
        "state1 = Result(InitialState, 'd')\r\n",
        "PrintState(state1)"
      ],
      "execution_count": null,
      "outputs": [
        {
          "output_type": "stream",
          "text": [
            "[1, 2, 3]\n",
            "[4, 5, 6]\n",
            "[0, 7, 8]\n"
          ],
          "name": "stdout"
        }
      ]
    },
    {
      "cell_type": "code",
      "metadata": {
        "id": "1RVh0-S9IFiy"
      },
      "source": [
        "def RandomWalk(state, steps):\r\n",
        "  actionSequence = []\r\n",
        "  for i in range(steps):\r\n",
        "    action = None\r\n",
        "    while action==None:\r\n",
        "      action = random.choice(Actions(state))\r\n",
        "      action = action if LegalMove(state, action) else None\r\n",
        "    state = Result(state, action)\r\n",
        "    actionSequence.append(action)\r\n",
        "  return state, actionSequence\r\n",
        "\r\n"
      ],
      "execution_count": null,
      "outputs": []
    },
    {
      "cell_type": "code",
      "metadata": {
        "colab": {
          "base_uri": "https://localhost:8080/"
        },
        "id": "wcn5POkxKlER",
        "outputId": "d88fceb2-1ce6-425c-efe0-e07e53fcab07"
      },
      "source": [
        "state1, sol = RandomWalk(InitialState, 150)\r\n",
        "PrintState(state1)\r\n",
        "print (sol)"
      ],
      "execution_count": null,
      "outputs": [
        {
          "output_type": "stream",
          "text": [
            "[6, 5, 2]\n",
            "[7, 1, 8]\n",
            "[4, 3, 0]\n",
            "['r', 'l', 'r', 'u', 'l', 'u', 'r', 'l', 'r', 'd', 'u', 'r', 'd', 'u', 'l', 'd', 'l', 'u', 'r', 'r', 'd', 'd', 'u', 'u', 'd', 'd', 'u', 'u', 'l', 'd', 'r', 'u', 'd', 'u', 'l', 'l', 'd', 'r', 'd', 'u', 'd', 'l', 'u', 'u', 'r', 'd', 'u', 'r', 'd', 'd', 'l', 'u', 'u', 'r', 'd', 'l', 'u', 'd', 'l', 'd', 'u', 'd', 'r', 'l', 'r', 'r', 'l', 'u', 'l', 'd', 'u', 'r', 'l', 'd', 'r', 'l', 'r', 'r', 'l', 'r', 'u', 'd', 'u', 'u', 'l', 'd', 'd', 'u', 'l', 'r', 'u', 'd', 'l', 'u', 'r', 'l', 'd', 'd', 'u', 'u', 'r', 'l', 'r', 'd', 'u', 'd', 'l', 'u', 'd', 'd', 'u', 'r', 'l', 'r', 'r', 'u', 'l', 'd', 'l', 'd', 'u', 'r', 'd', 'l', 'u', 'r', 'l', 'd', 'u', 'r', 'd', 'r', 'u', 'u', 'l', 'd', 'r', 'd', 'l', 'r', 'u', 'u', 'l', 'd', 'l', 'r', 'r', 'l', 'd', 'r']\n"
          ],
          "name": "stdout"
        }
      ]
    },
    {
      "cell_type": "code",
      "metadata": {
        "id": "Rc_8ohYvNIq-"
      },
      "source": [
        "def ApplyMoves(actions, state):\r\n",
        "  for action in actions:\r\n",
        "    state = Result(state, action)\r\n",
        "  return state"
      ],
      "execution_count": null,
      "outputs": []
    },
    {
      "cell_type": "code",
      "metadata": {
        "colab": {
          "base_uri": "https://localhost:8080/"
        },
        "id": "Wv7MGqh8NXqy",
        "outputId": "bdc74a2c-dd4f-4114-e253-d7035b40779d"
      },
      "source": [
        "PrintState(ApplyMoves(['r','r'],InitialState))"
      ],
      "execution_count": null,
      "outputs": [
        {
          "output_type": "stream",
          "text": [
            "[1, 2, 3]\n",
            "[4, 5, 6]\n",
            "[7, 8, 0]\n"
          ],
          "name": "stdout"
        }
      ]
    },
    {
      "cell_type": "code",
      "metadata": {
        "id": "_VS2KzQbOHlO"
      },
      "source": [
        "def ReverseMoves(actions):\r\n",
        "  ret = [Opposite[a] for a in actions]\r\n",
        "  ret.reverse()\r\n",
        "  return ret"
      ],
      "execution_count": null,
      "outputs": []
    },
    {
      "cell_type": "code",
      "metadata": {
        "colab": {
          "base_uri": "https://localhost:8080/"
        },
        "id": "tp_pqYBXOsqS",
        "outputId": "b23ee740-d859-4bbc-e093-60186cbdda05"
      },
      "source": [
        "state1, sol = RandomWalk(GoalState, 5)\r\n",
        "PrintState(state1)\r\n",
        "print (sol)\r\n",
        "print(ReverseMoves(sol))\r\n",
        "PrintState (ApplyMoves(ReverseMoves(sol), state1))\r\n"
      ],
      "execution_count": null,
      "outputs": [
        {
          "output_type": "stream",
          "text": [
            "[1, 0, 3]\n",
            "[4, 2, 6]\n",
            "[7, 5, 8]\n",
            "['u', 'd', 'l', 'u', 'u']\n",
            "['d', 'd', 'r', 'u', 'd']\n",
            "[1, 2, 3]\n",
            "[4, 5, 6]\n",
            "[7, 8, 0]\n"
          ],
          "name": "stdout"
        }
      ]
    },
    {
      "cell_type": "markdown",
      "metadata": {
        "id": "5pbaZzk5cQ19"
      },
      "source": [
        ""
      ]
    },
    {
      "cell_type": "code",
      "metadata": {
        "colab": {
          "base_uri": "https://localhost:8080/"
        },
        "id": "WPi8bXxtXxhz",
        "outputId": "7b6207bc-1dbb-442b-f902-ae52f4c347b6"
      },
      "source": [
        "class Problem(object): pass\r\n",
        "class Node(object):\r\n",
        "  def __init__(self, state, parent=None, action=None, path_cost=0 ):\r\n",
        "    self.State=state\r\n",
        "    self.Parent=parent\r\n",
        "    self.Action=action\r\n",
        "    self.PathCost = path_cost\r\n",
        "\r\n",
        "  def __str__(self):\r\n",
        "    action = \"<none>\" if not self.Action else self.Action\r\n",
        "    return str(self.State) + \", \" + action\r\n",
        "  def __rpr__(self):\r\n",
        "    action = \"<none>\" if not self.Action else self.Action\r\n",
        "    return str(self.State) + \", \" + action\r\n",
        "\r\n",
        "\r\n",
        "TileSliding = Problem()\r\n",
        "TileSliding.INITIAL = InitialState\r\n",
        "TileSliding.IsGoal = lambda s: s==(1,2,3,4,5,6,7,8,0)\r\n",
        "TileSliding.Actions = Actions\r\n",
        "TileSliding.Result=Result\r\n",
        "TileSliding.ActionCost = lambda s, a, sPrime: 1\r\n",
        "print( TileSliding.IsGoal((1,2,3,4,5,6,7,8,0)) )\r\n",
        "print( Node(InitialState) )\r\n",
        "print(1+TileSliding.ActionCost(1,2,3))"
      ],
      "execution_count": null,
      "outputs": [
        {
          "output_type": "stream",
          "text": [
            "True\n",
            "[1, 2, 3, 4, 5, 6, 0, 7, 8], <none>\n",
            "2\n"
          ],
          "name": "stdout"
        }
      ]
    },
    {
      "cell_type": "code",
      "metadata": {
        "colab": {
          "base_uri": "https://localhost:8080/"
        },
        "id": "CRj9UnyHdDo_",
        "outputId": "f1b3e0b0-df05-42a7-de03-09fd74ece5c3"
      },
      "source": [
        "def Expand(problem, node):\r\n",
        "  ret = []\r\n",
        "  s = node.State\r\n",
        "  for action in problem.Actions(s):\r\n",
        "    sPrime = problem.Result(s, action)\r\n",
        "    cost =node.PathCost + problem.ActionCost(s,action,sPrime)\r\n",
        "    ret.append(Node(sPrime, node, action, cost))\r\n",
        "  return ret\r\n",
        "\r\n",
        "def BreadthFirstSearch(problem):\r\n",
        "  node = Node(tuple(problem.INITIAL))\r\n",
        "  if problem.IsGoal(node.State):\r\n",
        "    return node\r\n",
        "  Frontier = []\r\n",
        "  Frontier.append(node)\r\n",
        "  reached = set()\r\n",
        "  reached.add(tuple(problem.INITIAL))\r\n",
        "  nodesExpanded = 0\r\n",
        "  while (Frontier):\r\n",
        "    print([str(n) for n in Frontier])\r\n",
        "    node = Frontier.pop(0)\r\n",
        "    print(node)\r\n",
        "    for child in Expand(problem, node):\r\n",
        "      s = tuple(child.State)\r\n",
        "      if problem.IsGoal(s):\r\n",
        "        return child\r\n",
        "      if s not in reached:\r\n",
        "        reached.add(s)\r\n",
        "        Frontier.append(child)\r\n",
        "    nodesExpanded += 1\r\n",
        "    if nodesExpanded > 20:\r\n",
        "      break;\r\n",
        "  return None\r\n",
        "  \r\n",
        "ret = BreadthFirstSearch(TileSliding)\r\n",
        "print (ret)\r\n"
      ],
      "execution_count": null,
      "outputs": [
        {
          "output_type": "stream",
          "text": [
            "['(1, 2, 3, 4, 5, 6, 0, 7, 8), <none>']\n",
            "(1, 2, 3, 4, 5, 6, 0, 7, 8), <none>\n",
            "['[1, 2, 3, 0, 5, 6, 4, 7, 8], u', '[1, 2, 3, 4, 5, 6, 7, 0, 8], r']\n",
            "[1, 2, 3, 0, 5, 6, 4, 7, 8], u\n",
            "['[1, 2, 3, 4, 5, 6, 7, 0, 8], r', '[0, 2, 3, 1, 5, 6, 4, 7, 8], u', '[1, 2, 3, 5, 0, 6, 4, 7, 8], r']\n",
            "[1, 2, 3, 4, 5, 6, 7, 0, 8], r\n",
            "[1, 2, 3, 4, 5, 6, 7, 8, 0], r\n"
          ],
          "name": "stdout"
        }
      ]
    },
    {
      "cell_type": "code",
      "metadata": {
        "colab": {
          "base_uri": "https://localhost:8080/"
        },
        "id": "3hsBKY7Fle3w",
        "outputId": "b9ddaa0d-de96-4c5a-874a-781c546e6823"
      },
      "source": [
        "def Solution(node):\r\n",
        "  if node.Parent==None: \r\n",
        "    return []\r\n",
        "  return Solution(node.Parent) + [node.Action]\r\n",
        "\r\n",
        "sol = Solution(ret)\r\n",
        "print (sol)\r\n",
        "print (TileSliding.INITIAL)\r\n",
        "print (ApplyMoves(sol, TileSliding.INITIAL))"
      ],
      "execution_count": null,
      "outputs": [
        {
          "output_type": "stream",
          "text": [
            "['r', 'r']\n",
            "[1, 2, 3, 4, 5, 6, 0, 7, 8]\n",
            "[1, 2, 3, 4, 5, 6, 7, 8, 0]\n"
          ],
          "name": "stdout"
        }
      ]
    },
    {
      "cell_type": "markdown",
      "metadata": {
        "id": "bu6svMo0n9Pc"
      },
      "source": [
        "# Problem 2"
      ]
    },
    {
      "cell_type": "code",
      "metadata": {
        "colab": {
          "base_uri": "https://localhost:8080/"
        },
        "id": "rXzEVLYEn8m1",
        "outputId": "b5b9bbff-d68c-40a5-bc27-a8d8705bd652"
      },
      "source": [
        "state1, sol = RandomWalk(GoalState, 10)\r\n",
        "PrintState(state1)\r\n",
        "print (sol)\r\n",
        "print(ReverseMoves(sol))\r\n",
        "PrintState (ApplyMoves(ReverseMoves(sol), state1))"
      ],
      "execution_count": null,
      "outputs": [
        {
          "output_type": "stream",
          "text": [
            "[1, 2, 3]\n",
            "[4, 8, 5]\n",
            "[0, 7, 6]\n",
            "['u', 'l', 'd', 'l', 'r', 'r', 'l', 'l', 'u', 'd']\n",
            "['u', 'd', 'r', 'r', 'l', 'l', 'r', 'u', 'r', 'd']\n",
            "[1, 2, 3]\n",
            "[4, 5, 6]\n",
            "[7, 8, 0]\n"
          ],
          "name": "stdout"
        }
      ]
    },
    {
      "cell_type": "code",
      "metadata": {
        "colab": {
          "base_uri": "https://localhost:8080/"
        },
        "id": "tKnMcesqoCss",
        "outputId": "b18e0d41-c944-469a-f1c9-9f4572ebdb6b"
      },
      "source": [
        "TileSliding.INITIAL = state1\r\n",
        "ret = BreadthFirstSearch(TileSliding)\r\n",
        "print (ret)\r\n",
        "sol = Solution(ret)\r\n",
        "print (sol)\r\n",
        "print (TileSliding.INITIAL)\r\n",
        "print (ApplyMoves(sol, TileSliding.INITIAL))"
      ],
      "execution_count": null,
      "outputs": [
        {
          "output_type": "stream",
          "text": [
            "['(1, 2, 3, 4, 8, 5, 0, 7, 6), <none>']\n",
            "(1, 2, 3, 4, 8, 5, 0, 7, 6), <none>\n",
            "['[1, 2, 3, 0, 8, 5, 4, 7, 6], u', '[1, 2, 3, 4, 8, 5, 7, 0, 6], r']\n",
            "[1, 2, 3, 0, 8, 5, 4, 7, 6], u\n",
            "['[1, 2, 3, 4, 8, 5, 7, 0, 6], r', '[0, 2, 3, 1, 8, 5, 4, 7, 6], u', '[1, 2, 3, 8, 0, 5, 4, 7, 6], r']\n",
            "[1, 2, 3, 4, 8, 5, 7, 0, 6], r\n",
            "['[0, 2, 3, 1, 8, 5, 4, 7, 6], u', '[1, 2, 3, 8, 0, 5, 4, 7, 6], r', '[1, 2, 3, 4, 0, 5, 7, 8, 6], u', '[1, 2, 3, 4, 8, 5, 7, 6, 0], r']\n",
            "[0, 2, 3, 1, 8, 5, 4, 7, 6], u\n",
            "['[1, 2, 3, 8, 0, 5, 4, 7, 6], r', '[1, 2, 3, 4, 0, 5, 7, 8, 6], u', '[1, 2, 3, 4, 8, 5, 7, 6, 0], r', '[2, 0, 3, 1, 8, 5, 4, 7, 6], r']\n",
            "[1, 2, 3, 8, 0, 5, 4, 7, 6], r\n",
            "['[1, 2, 3, 4, 0, 5, 7, 8, 6], u', '[1, 2, 3, 4, 8, 5, 7, 6, 0], r', '[2, 0, 3, 1, 8, 5, 4, 7, 6], r', '[1, 0, 3, 8, 2, 5, 4, 7, 6], u', '[1, 2, 3, 8, 7, 5, 4, 0, 6], d', '[1, 2, 3, 8, 5, 0, 4, 7, 6], r']\n",
            "[1, 2, 3, 4, 0, 5, 7, 8, 6], u\n",
            "['[1, 2, 3, 4, 8, 5, 7, 6, 0], r', '[2, 0, 3, 1, 8, 5, 4, 7, 6], r', '[1, 0, 3, 8, 2, 5, 4, 7, 6], u', '[1, 2, 3, 8, 7, 5, 4, 0, 6], d', '[1, 2, 3, 8, 5, 0, 4, 7, 6], r', '[1, 0, 3, 4, 2, 5, 7, 8, 6], u', '[1, 2, 3, 0, 4, 5, 7, 8, 6], l', '[1, 2, 3, 4, 5, 0, 7, 8, 6], r']\n",
            "[1, 2, 3, 4, 8, 5, 7, 6, 0], r\n",
            "['[2, 0, 3, 1, 8, 5, 4, 7, 6], r', '[1, 0, 3, 8, 2, 5, 4, 7, 6], u', '[1, 2, 3, 8, 7, 5, 4, 0, 6], d', '[1, 2, 3, 8, 5, 0, 4, 7, 6], r', '[1, 0, 3, 4, 2, 5, 7, 8, 6], u', '[1, 2, 3, 0, 4, 5, 7, 8, 6], l', '[1, 2, 3, 4, 5, 0, 7, 8, 6], r', '[1, 2, 3, 4, 8, 0, 7, 6, 5], u']\n",
            "[2, 0, 3, 1, 8, 5, 4, 7, 6], r\n",
            "['[1, 0, 3, 8, 2, 5, 4, 7, 6], u', '[1, 2, 3, 8, 7, 5, 4, 0, 6], d', '[1, 2, 3, 8, 5, 0, 4, 7, 6], r', '[1, 0, 3, 4, 2, 5, 7, 8, 6], u', '[1, 2, 3, 0, 4, 5, 7, 8, 6], l', '[1, 2, 3, 4, 5, 0, 7, 8, 6], r', '[1, 2, 3, 4, 8, 0, 7, 6, 5], u', '[2, 8, 3, 1, 0, 5, 4, 7, 6], d', '[2, 3, 0, 1, 8, 5, 4, 7, 6], r']\n",
            "[1, 0, 3, 8, 2, 5, 4, 7, 6], u\n",
            "['[1, 2, 3, 8, 7, 5, 4, 0, 6], d', '[1, 2, 3, 8, 5, 0, 4, 7, 6], r', '[1, 0, 3, 4, 2, 5, 7, 8, 6], u', '[1, 2, 3, 0, 4, 5, 7, 8, 6], l', '[1, 2, 3, 4, 5, 0, 7, 8, 6], r', '[1, 2, 3, 4, 8, 0, 7, 6, 5], u', '[2, 8, 3, 1, 0, 5, 4, 7, 6], d', '[2, 3, 0, 1, 8, 5, 4, 7, 6], r', '[0, 1, 3, 8, 2, 5, 4, 7, 6], l', '[1, 3, 0, 8, 2, 5, 4, 7, 6], r']\n",
            "[1, 2, 3, 8, 7, 5, 4, 0, 6], d\n",
            "['[1, 2, 3, 8, 5, 0, 4, 7, 6], r', '[1, 0, 3, 4, 2, 5, 7, 8, 6], u', '[1, 2, 3, 0, 4, 5, 7, 8, 6], l', '[1, 2, 3, 4, 5, 0, 7, 8, 6], r', '[1, 2, 3, 4, 8, 0, 7, 6, 5], u', '[2, 8, 3, 1, 0, 5, 4, 7, 6], d', '[2, 3, 0, 1, 8, 5, 4, 7, 6], r', '[0, 1, 3, 8, 2, 5, 4, 7, 6], l', '[1, 3, 0, 8, 2, 5, 4, 7, 6], r', '[1, 2, 3, 8, 7, 5, 0, 4, 6], l', '[1, 2, 3, 8, 7, 5, 4, 6, 0], r']\n",
            "[1, 2, 3, 8, 5, 0, 4, 7, 6], r\n",
            "['[1, 0, 3, 4, 2, 5, 7, 8, 6], u', '[1, 2, 3, 0, 4, 5, 7, 8, 6], l', '[1, 2, 3, 4, 5, 0, 7, 8, 6], r', '[1, 2, 3, 4, 8, 0, 7, 6, 5], u', '[2, 8, 3, 1, 0, 5, 4, 7, 6], d', '[2, 3, 0, 1, 8, 5, 4, 7, 6], r', '[0, 1, 3, 8, 2, 5, 4, 7, 6], l', '[1, 3, 0, 8, 2, 5, 4, 7, 6], r', '[1, 2, 3, 8, 7, 5, 0, 4, 6], l', '[1, 2, 3, 8, 7, 5, 4, 6, 0], r', '[1, 2, 0, 8, 5, 3, 4, 7, 6], u', '[1, 2, 3, 8, 5, 6, 4, 7, 0], d']\n",
            "[1, 0, 3, 4, 2, 5, 7, 8, 6], u\n",
            "['[1, 2, 3, 0, 4, 5, 7, 8, 6], l', '[1, 2, 3, 4, 5, 0, 7, 8, 6], r', '[1, 2, 3, 4, 8, 0, 7, 6, 5], u', '[2, 8, 3, 1, 0, 5, 4, 7, 6], d', '[2, 3, 0, 1, 8, 5, 4, 7, 6], r', '[0, 1, 3, 8, 2, 5, 4, 7, 6], l', '[1, 3, 0, 8, 2, 5, 4, 7, 6], r', '[1, 2, 3, 8, 7, 5, 0, 4, 6], l', '[1, 2, 3, 8, 7, 5, 4, 6, 0], r', '[1, 2, 0, 8, 5, 3, 4, 7, 6], u', '[1, 2, 3, 8, 5, 6, 4, 7, 0], d', '[0, 1, 3, 4, 2, 5, 7, 8, 6], l', '[1, 3, 0, 4, 2, 5, 7, 8, 6], r']\n",
            "[1, 2, 3, 0, 4, 5, 7, 8, 6], l\n",
            "['[1, 2, 3, 4, 5, 0, 7, 8, 6], r', '[1, 2, 3, 4, 8, 0, 7, 6, 5], u', '[2, 8, 3, 1, 0, 5, 4, 7, 6], d', '[2, 3, 0, 1, 8, 5, 4, 7, 6], r', '[0, 1, 3, 8, 2, 5, 4, 7, 6], l', '[1, 3, 0, 8, 2, 5, 4, 7, 6], r', '[1, 2, 3, 8, 7, 5, 0, 4, 6], l', '[1, 2, 3, 8, 7, 5, 4, 6, 0], r', '[1, 2, 0, 8, 5, 3, 4, 7, 6], u', '[1, 2, 3, 8, 5, 6, 4, 7, 0], d', '[0, 1, 3, 4, 2, 5, 7, 8, 6], l', '[1, 3, 0, 4, 2, 5, 7, 8, 6], r', '[0, 2, 3, 1, 4, 5, 7, 8, 6], u', '[1, 2, 3, 7, 4, 5, 0, 8, 6], d']\n",
            "[1, 2, 3, 4, 5, 0, 7, 8, 6], r\n",
            "[1, 2, 3, 4, 5, 6, 7, 8, 0], d\n",
            "['r', 'u', 'r', 'd']\n",
            "[1, 2, 3, 4, 8, 5, 0, 7, 6]\n",
            "[1, 2, 3, 4, 5, 6, 7, 8, 0]\n"
          ],
          "name": "stdout"
        }
      ]
    }
  ]
}