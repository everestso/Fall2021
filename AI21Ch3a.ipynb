{
  "nbformat": 4,
  "nbformat_minor": 0,
  "metadata": {
    "colab": {
      "name": "AI21Ch3a.ipynb",
      "provenance": [],
      "collapsed_sections": [],
      "authorship_tag": "ABX9TyOyz5T83A75u+YEC5I7ywEm",
      "include_colab_link": true
    },
    "kernelspec": {
      "name": "python3",
      "display_name": "Python 3"
    }
  },
  "cells": [
    {
      "cell_type": "markdown",
      "metadata": {
        "id": "view-in-github",
        "colab_type": "text"
      },
      "source": [
        "<a href=\"https://colab.research.google.com/github/everestso/Spring2021/blob/main/AI21Ch3a.ipynb\" target=\"_parent\"><img src=\"https://colab.research.google.com/assets/colab-badge.svg\" alt=\"Open In Colab\"/></a>"
      ]
    },
    {
      "cell_type": "code",
      "metadata": {
        "id": "Gbe5KqWcISTq"
      },
      "source": [
        "import random"
      ],
      "execution_count": 43,
      "outputs": []
    },
    {
      "cell_type": "markdown",
      "metadata": {
        "id": "PHnbnN2uV8zr"
      },
      "source": [
        "# Tile Sliding Domain: Initial State Space"
      ]
    },
    {
      "cell_type": "code",
      "metadata": {
        "id": "jPCNOa4W-5yq"
      },
      "source": [
        "StateDimension=3\r\n",
        "InitialState = [1,2,3,4,5,6,0,7,8]\r\n",
        "GoalState=[1,2,3,4,5,6,7,8,0]\r\n",
        "Actions = lambda s: ['u', 'd', 'l', 'r']\r\n",
        "Opposite=dict([('u','d'),('d','u'),('l','r'),('r','l')])"
      ],
      "execution_count": 44,
      "outputs": []
    },
    {
      "cell_type": "code",
      "metadata": {
        "id": "XjnzkkC8_HE8"
      },
      "source": [
        "def Result(state, action):\r\n",
        "  i = state.index(0)\r\n",
        "  newState = list(state)\r\n",
        "  row,col=i//StateDimension, i % StateDimension\r\n",
        "  if ( (action=='u' and row==0) or\r\n",
        "       (action=='d' and row==StateDimension-1) or\r\n",
        "       (action=='l' and col==0) or\r\n",
        "       (action=='r' and col==StateDimension-1)):\r\n",
        "      return newState\r\n",
        "  if action=='u':\r\n",
        "    l,r = row*StateDimension+col, (row-1)*StateDimension+col\r\n",
        "  elif action=='d':\r\n",
        "    l,r = row*StateDimension+col, (row+1)*StateDimension+col\r\n",
        "  elif action=='l':\r\n",
        "    l,r = row*StateDimension+col, row*StateDimension+col-1\r\n",
        "  elif action=='r' :\r\n",
        "    l,r = row*StateDimension+col, row*StateDimension+col+1\r\n",
        "  newState[l], newState[r] = newState[r], newState[l] \r\n",
        "  return newState\r\n",
        "\r\n",
        "def PrintState(s):\r\n",
        "  for i in range(0,len(s),StateDimension):\r\n",
        "    print(s[i:i+StateDimension])\r\n",
        "\r\n",
        "def LegalMove(state, action):\r\n",
        "  i = state.index(0)\r\n",
        "  row,col=i//StateDimension, i % StateDimension\r\n",
        "  newState = state.copy()\r\n",
        "  if ( (action=='u' and row==0) or\r\n",
        "       (action=='d' and row==StateDimension-1) or\r\n",
        "       (action=='l' and col==0) or\r\n",
        "       (action=='r' and col==StateDimension-1)):\r\n",
        "      return False\r\n",
        "  return True\r\n"
      ],
      "execution_count": 45,
      "outputs": []
    },
    {
      "cell_type": "code",
      "metadata": {
        "colab": {
          "base_uri": "https://localhost:8080/"
        },
        "id": "bE7MrTAI_t6i",
        "outputId": "61530262-7461-4b62-d50e-1ef71d6e6aa5"
      },
      "source": [
        "PrintState(InitialState)"
      ],
      "execution_count": 46,
      "outputs": [
        {
          "output_type": "stream",
          "text": [
            "[1, 2, 3]\n",
            "[4, 5, 6]\n",
            "[0, 7, 8]\n"
          ],
          "name": "stdout"
        }
      ]
    },
    {
      "cell_type": "code",
      "metadata": {
        "colab": {
          "base_uri": "https://localhost:8080/"
        },
        "id": "wRULKFeXVcp3",
        "outputId": "e7ef70a9-42c9-4193-ea1a-bccc764dd133"
      },
      "source": [
        "PrintState(GoalState)"
      ],
      "execution_count": 47,
      "outputs": [
        {
          "output_type": "stream",
          "text": [
            "[1, 2, 3]\n",
            "[4, 5, 6]\n",
            "[7, 8, 0]\n"
          ],
          "name": "stdout"
        }
      ]
    },
    {
      "cell_type": "code",
      "metadata": {
        "colab": {
          "base_uri": "https://localhost:8080/"
        },
        "id": "j-EYW_gqGZtl",
        "outputId": "d5493037-aa24-4187-c67d-69aaf584cfd8"
      },
      "source": [
        "state1 = Result(InitialState, 'd')\r\n",
        "PrintState(state1)"
      ],
      "execution_count": 48,
      "outputs": [
        {
          "output_type": "stream",
          "text": [
            "[1, 2, 3]\n",
            "[4, 5, 6]\n",
            "[0, 7, 8]\n"
          ],
          "name": "stdout"
        }
      ]
    },
    {
      "cell_type": "code",
      "metadata": {
        "id": "1RVh0-S9IFiy"
      },
      "source": [
        "def RandomWalk(state, steps):\r\n",
        "  actionSequence = []\r\n",
        "  for i in range(steps):\r\n",
        "    action = None\r\n",
        "    while action==None:\r\n",
        "      action = random.choice(Actions(state))\r\n",
        "      action = action if LegalMove(state, action) else None\r\n",
        "    state = Result(state, action)\r\n",
        "    actionSequence.append(action)\r\n",
        "  return state, actionSequence\r\n",
        "\r\n"
      ],
      "execution_count": 49,
      "outputs": []
    },
    {
      "cell_type": "code",
      "metadata": {
        "colab": {
          "base_uri": "https://localhost:8080/"
        },
        "id": "wcn5POkxKlER",
        "outputId": "605ed1fd-f7fd-4a53-9052-8af59e6356ce"
      },
      "source": [
        "state1, sol = RandomWalk(InitialState, 150)\r\n",
        "PrintState(state1)\r\n",
        "print (sol)"
      ],
      "execution_count": 50,
      "outputs": [
        {
          "output_type": "stream",
          "text": [
            "[4, 6, 0]\n",
            "[3, 5, 1]\n",
            "[8, 7, 2]\n",
            "['u', 'u', 'r', 'r', 'l', 'd', 'l', 'r', 'u', 'r', 'd', 'd', 'l', 'u', 'r', 'u', 'l', 'l', 'r', 'l', 'd', 'r', 'r', 'd', 'l', 'r', 'l', 'u', 'r', 'u', 'd', 'u', 'l', 'r', 'l', 'd', 'l', 'u', 'd', 'r', 'l', 'u', 'r', 'd', 'd', 'u', 'u', 'd', 'd', 'l', 'r', 'l', 'u', 'u', 'r', 'd', 'r', 'd', 'u', 'l', 'd', 'l', 'u', 'r', 'l', 'u', 'r', 'l', 'd', 'r', 'l', 'd', 'r', 'u', 'd', 'l', 'u', 'r', 'u', 'r', 'd', 'd', 'l', 'l', 'r', 'r', 'l', 'u', 'd', 'l', 'u', 'd', 'u', 'r', 'l', 'r', 'r', 'l', 'l', 'd', 'u', 'd', 'r', 'r', 'u', 'd', 'u', 'u', 'd', 'd', 'u', 'l', 'u', 'd', 'u', 'r', 'd', 'd', 'l', 'r', 'u', 'd', 'l', 'r', 'l', 'u', 'd', 'u', 'r', 'd', 'u', 'd', 'l', 'u', 'l', 'u', 'r', 'l', 'r', 'd', 'd', 'r', 'l', 'u', 'd', 'l', 'u', 'u', 'r', 'r']\n"
          ],
          "name": "stdout"
        }
      ]
    },
    {
      "cell_type": "code",
      "metadata": {
        "id": "Rc_8ohYvNIq-"
      },
      "source": [
        "def ApplyMoves(actions, state):\r\n",
        "  for action in actions:\r\n",
        "    state = Result(state, action)\r\n",
        "  return state"
      ],
      "execution_count": 51,
      "outputs": []
    },
    {
      "cell_type": "code",
      "metadata": {
        "colab": {
          "base_uri": "https://localhost:8080/"
        },
        "id": "Wv7MGqh8NXqy",
        "outputId": "2c11f9bc-b0af-48f6-9771-bbffd43855fe"
      },
      "source": [
        "PrintState(ApplyMoves(['r','r'],InitialState))"
      ],
      "execution_count": 52,
      "outputs": [
        {
          "output_type": "stream",
          "text": [
            "[1, 2, 3]\n",
            "[4, 5, 6]\n",
            "[7, 8, 0]\n"
          ],
          "name": "stdout"
        }
      ]
    },
    {
      "cell_type": "code",
      "metadata": {
        "id": "_VS2KzQbOHlO"
      },
      "source": [
        "def ReverseMoves(actions):\r\n",
        "  ret = [Opposite[a] for a in actions]\r\n",
        "  ret.reverse()\r\n",
        "  return ret"
      ],
      "execution_count": 53,
      "outputs": []
    },
    {
      "cell_type": "code",
      "metadata": {
        "colab": {
          "base_uri": "https://localhost:8080/"
        },
        "id": "tp_pqYBXOsqS",
        "outputId": "4b126f34-712f-4ed0-ff79-1e84b10658a8"
      },
      "source": [
        "state1, sol = RandomWalk(GoalState, 5)\r\n",
        "PrintState(state1)\r\n",
        "print (sol)\r\n",
        "print(ReverseMoves(sol))\r\n",
        "PrintState (ApplyMoves(ReverseMoves(sol), state1))\r\n"
      ],
      "execution_count": 54,
      "outputs": [
        {
          "output_type": "stream",
          "text": [
            "[2, 0, 3]\n",
            "[1, 4, 5]\n",
            "[7, 8, 6]\n",
            "['u', 'l', 'l', 'u', 'r']\n",
            "['l', 'd', 'r', 'r', 'd']\n",
            "[1, 2, 3]\n",
            "[4, 5, 6]\n",
            "[7, 8, 0]\n"
          ],
          "name": "stdout"
        }
      ]
    },
    {
      "cell_type": "markdown",
      "metadata": {
        "id": "5pbaZzk5cQ19"
      },
      "source": [
        ""
      ]
    },
    {
      "cell_type": "code",
      "metadata": {
        "colab": {
          "base_uri": "https://localhost:8080/"
        },
        "id": "WPi8bXxtXxhz",
        "outputId": "6aa42c84-a2c8-40a0-b3ab-20ec49f1f38e"
      },
      "source": [
        "class Problem(object): pass\r\n",
        "class Node(object):\r\n",
        "  def __init__(self, state, parent=None, action=None, path_cost=0 ):\r\n",
        "    self.State=state\r\n",
        "    self.Parent=parent\r\n",
        "    self.Action=action\r\n",
        "    self.PathCost = path_cost\r\n",
        "\r\n",
        "  def __str__(self):\r\n",
        "    action = \"<none>\" if not self.Action else self.Action\r\n",
        "    return str(self.State) + \", \" + action\r\n",
        "  def __rpr__(self):\r\n",
        "    action = \"<none>\" if not self.Action else self.Action\r\n",
        "    return str(self.State) + \", \" + action\r\n",
        "\r\n",
        "\r\n",
        "TileSliding = Problem()\r\n",
        "TileSliding.INITIAL = InitialState\r\n",
        "TileSliding.IsGoal = lambda s: s==(1,2,3,4,5,6,7,8,0)\r\n",
        "TileSliding.Actions = Actions\r\n",
        "TileSliding.Result=Result\r\n",
        "TileSliding.ActionCost = lambda s, a, sPrime: 1\r\n",
        "print( TileSliding.IsGoal((1,2,3,4,5,6,7,8,0)) )\r\n",
        "print( Node(InitialState) )\r\n",
        "print(1+TileSliding.ActionCost(1,2,3))"
      ],
      "execution_count": 55,
      "outputs": [
        {
          "output_type": "stream",
          "text": [
            "True\n",
            "[1, 2, 3, 4, 5, 6, 0, 7, 8], <none>\n",
            "2\n"
          ],
          "name": "stdout"
        }
      ]
    },
    {
      "cell_type": "code",
      "metadata": {
        "colab": {
          "base_uri": "https://localhost:8080/"
        },
        "id": "CRj9UnyHdDo_",
        "outputId": "60147c35-bf35-4c7a-9591-e84a465884df"
      },
      "source": [
        "def Expand(problem, node):\r\n",
        "  ret = []\r\n",
        "  s = node.State\r\n",
        "  for action in problem.Actions(s):\r\n",
        "    sPrime = problem.Result(s, action)\r\n",
        "    cost =node.PathCost + problem.ActionCost(s,action,sPrime)\r\n",
        "    ret.append(Node(sPrime, node, action, cost))\r\n",
        "  return ret\r\n",
        "\r\n",
        "def BreadthFirstSearch(problem):\r\n",
        "  node = Node(tuple(problem.INITIAL))\r\n",
        "  if problem.IsGoal(node.State):\r\n",
        "    return node, 0\r\n",
        "  Frontier = []\r\n",
        "  Frontier.append(node)\r\n",
        "  reached = set()\r\n",
        "  reached.add(tuple(problem.INITIAL))\r\n",
        "  nodesExpanded = 0\r\n",
        "  while (Frontier):\r\n",
        "    ##print([str(n) for n in Frontier])\r\n",
        "    node = Frontier.pop(0)\r\n",
        "    ##print(node)\r\n",
        "    for child in Expand(problem, node):\r\n",
        "      s = tuple(child.State)\r\n",
        "      if problem.IsGoal(s):\r\n",
        "        return child, nodesExpanded\r\n",
        "      if s not in reached:\r\n",
        "        reached.add(s)\r\n",
        "        Frontier.append(child)\r\n",
        "    nodesExpanded += 1\r\n",
        "    if nodesExpanded > 50000:\r\n",
        "      break;\r\n",
        "  return None, nodesExpanded\r\n",
        "  \r\n",
        "ret, cost = BreadthFirstSearch(TileSliding)\r\n",
        "print (ret)\r\n"
      ],
      "execution_count": 78,
      "outputs": [
        {
          "output_type": "stream",
          "text": [
            "[1, 2, 3, 4, 5, 6, 7, 8, 0], r\n"
          ],
          "name": "stdout"
        }
      ]
    },
    {
      "cell_type": "code",
      "metadata": {
        "colab": {
          "base_uri": "https://localhost:8080/"
        },
        "id": "3hsBKY7Fle3w",
        "outputId": "09ee086a-eafc-4c9b-dc75-6e87bbc46d7d"
      },
      "source": [
        "def Solution(node):\r\n",
        "  if node.Parent==None: \r\n",
        "    return []\r\n",
        "  return Solution(node.Parent) + [node.Action]\r\n",
        "\r\n",
        "sol = Solution(ret)\r\n",
        "print (sol)\r\n",
        "print (TileSliding.INITIAL)\r\n",
        "print (ApplyMoves(sol, TileSliding.INITIAL))"
      ],
      "execution_count": 67,
      "outputs": [
        {
          "output_type": "stream",
          "text": [
            "['l', 'u', 'u', 'l', 'd', 'r', 'u', 'r', 'd', 'd']\n",
            "[5, 4, 2, 1, 8, 3, 7, 6, 0]\n",
            "[1, 2, 3, 4, 5, 6, 7, 8, 0]\n"
          ],
          "name": "stdout"
        }
      ]
    },
    {
      "cell_type": "markdown",
      "metadata": {
        "id": "bu6svMo0n9Pc"
      },
      "source": [
        "# Problem 2"
      ]
    },
    {
      "cell_type": "code",
      "metadata": {
        "colab": {
          "base_uri": "https://localhost:8080/"
        },
        "id": "rXzEVLYEn8m1",
        "outputId": "b60fa727-1933-4b42-e0db-7b26071c98e7"
      },
      "source": [
        "state1, sol = RandomWalk(GoalState, 200)\r\n",
        "PrintState(state1)\r\n",
        "print (sol)\r\n",
        "print(ReverseMoves(sol))\r\n",
        "PrintState (ApplyMoves(ReverseMoves(sol), state1))"
      ],
      "execution_count": 74,
      "outputs": [
        {
          "output_type": "stream",
          "text": [
            "[4, 7, 2]\n",
            "[6, 0, 3]\n",
            "[5, 1, 8]\n",
            "['u', 'd', 'l', 'u', 'l', 'd', 'u', 'u', 'd', 'u', 'r', 'l', 'r', 'r', 'l', 'r', 'd', 'd', 'u', 'd', 'l', 'u', 'r', 'u', 'l', 'l', 'r', 'd', 'r', 'u', 'l', 'l', 'd', 'd', 'u', 'u', 'd', 'd', 'u', 'd', 'r', 'u', 'l', 'u', 'd', 'r', 'l', 'r', 'l', 'r', 'u', 'l', 'r', 'l', 'r', 'd', 'l', 'd', 'r', 'r', 'l', 'r', 'u', 'u', 'l', 'l', 'r', 'l', 'r', 'd', 'u', 'd', 'l', 'd', 'u', 'd', 'u', 'd', 'u', 'r', 'r', 'l', 'l', 'd', 'u', 'r', 'r', 'd', 'l', 'u', 'u', 'r', 'd', 'd', 'u', 'u', 'l', 'd', 'd', 'r', 'l', 'u', 'l', 'd', 'u', 'u', 'd', 'u', 'd', 'r', 'r', 'u', 'l', 'r', 'l', 'r', 'd', 'd', 'u', 'd', 'u', 'l', 'd', 'r', 'l', 'r', 'u', 'u', 'd', 'u', 'd', 'u', 'l', 'l', 'r', 'd', 'u', 'l', 'd', 'u', 'd', 'd', 'u', 'u', 'd', 'r', 'l', 'd', 'u', 'r', 'r', 'u', 'l', 'r', 'l', 'r', 'l', 'r', 'd', 'l', 'l', 'd', 'r', 'u', 'r', 'u', 'd', 'l', 'u', 'r', 'd', 'd', 'u', 'd', 'u', 'd', 'u', 'u', 'l', 'd', 'u', 'r', 'd', 'l', 'l', 'r', 'r', 'd', 'l', 'r', 'u', 'd', 'l', 'l', 'u', 'd', 'r', 'u', 'd', 'u']\n",
            "['d', 'u', 'd', 'l', 'u', 'd', 'r', 'r', 'u', 'd', 'l', 'r', 'u', 'l', 'l', 'r', 'r', 'u', 'l', 'd', 'u', 'r', 'd', 'd', 'u', 'd', 'u', 'd', 'u', 'u', 'l', 'd', 'r', 'u', 'd', 'l', 'd', 'l', 'u', 'r', 'r', 'u', 'l', 'r', 'l', 'r', 'l', 'r', 'd', 'l', 'l', 'd', 'u', 'r', 'l', 'u', 'd', 'd', 'u', 'u', 'd', 'u', 'r', 'd', 'u', 'l', 'r', 'r', 'd', 'u', 'd', 'u', 'd', 'd', 'l', 'r', 'l', 'u', 'r', 'd', 'u', 'd', 'u', 'u', 'l', 'r', 'l', 'r', 'd', 'l', 'l', 'u', 'd', 'u', 'd', 'd', 'u', 'r', 'd', 'r', 'l', 'u', 'u', 'r', 'd', 'd', 'u', 'u', 'l', 'd', 'd', 'r', 'u', 'l', 'l', 'd', 'u', 'r', 'r', 'l', 'l', 'd', 'u', 'd', 'u', 'd', 'u', 'r', 'u', 'd', 'u', 'l', 'r', 'l', 'r', 'r', 'd', 'd', 'l', 'r', 'l', 'l', 'u', 'r', 'u', 'l', 'r', 'l', 'r', 'd', 'l', 'r', 'l', 'r', 'l', 'u', 'd', 'r', 'd', 'l', 'u', 'd', 'u', 'u', 'd', 'd', 'u', 'u', 'r', 'r', 'd', 'l', 'u', 'l', 'r', 'r', 'd', 'l', 'd', 'r', 'u', 'd', 'u', 'u', 'l', 'r', 'l', 'l', 'r', 'l', 'd', 'u', 'd', 'd', 'u', 'r', 'd', 'r', 'u', 'd']\n",
            "[1, 2, 3]\n",
            "[4, 5, 6]\n",
            "[7, 8, 0]\n"
          ],
          "name": "stdout"
        }
      ]
    },
    {
      "cell_type": "code",
      "metadata": {
        "colab": {
          "base_uri": "https://localhost:8080/"
        },
        "id": "tKnMcesqoCss",
        "outputId": "9dbcd2d4-cf39-4b9f-8b77-c1480466de87"
      },
      "source": [
        "TileSliding.INITIAL = state1\r\n",
        "ret, cost = BreadthFirstSearch(TileSliding)\r\n",
        "print (ret)\r\n",
        "sol = Solution(ret)\r\n",
        "print (sol)\r\n",
        "print (TileSliding.INITIAL)\r\n",
        "print (ApplyMoves(sol, TileSliding.INITIAL))\r\n",
        "print (\"Nodes Expanded=\", cost)"
      ],
      "execution_count": 79,
      "outputs": [
        {
          "output_type": "stream",
          "text": [
            "[1, 2, 3, 4, 5, 6, 7, 8, 0], r\n",
            "['u', 'l', 'd', 'r', 'd', 'l', 'u', 'u', 'r', 'd', 'l', 'u', 'r', 'r', 'd', 'l', 'd', 'r']\n",
            "[4, 7, 2, 6, 0, 3, 5, 1, 8]\n",
            "[1, 2, 3, 4, 5, 6, 7, 8, 0]\n",
            "Nodes Expanded= 15192\n"
          ],
          "name": "stdout"
        }
      ]
    }
  ]
}