{
  "nbformat": 4,
  "nbformat_minor": 0,
  "metadata": {
    "colab": {
      "name": "AI21Ch3a.ipynb",
      "provenance": [],
      "collapsed_sections": [],
      "authorship_tag": "ABX9TyM0y9Tc7s3zqEizzJpp4mHq",
      "include_colab_link": true
    },
    "kernelspec": {
      "name": "python3",
      "display_name": "Python 3"
    }
  },
  "cells": [
    {
      "cell_type": "markdown",
      "metadata": {
        "id": "view-in-github",
        "colab_type": "text"
      },
      "source": [
        "<a href=\"https://colab.research.google.com/github/everestso/Spring2021/blob/main/AI21Ch3a.ipynb\" target=\"_parent\"><img src=\"https://colab.research.google.com/assets/colab-badge.svg\" alt=\"Open In Colab\"/></a>"
      ]
    },
    {
      "cell_type": "code",
      "metadata": {
        "id": "Gbe5KqWcISTq"
      },
      "source": [
        "import random"
      ],
      "execution_count": 1,
      "outputs": []
    },
    {
      "cell_type": "markdown",
      "metadata": {
        "id": "PHnbnN2uV8zr"
      },
      "source": [
        "# Tile Sliding Domain: Initial State Space"
      ]
    },
    {
      "cell_type": "code",
      "metadata": {
        "id": "jPCNOa4W-5yq"
      },
      "source": [
        "StateDimension=3\r\n",
        "InitialState = [1,2,3,4,5,6,0,7,8]\r\n",
        "GoalState=[1,2,3,4,5,6,7,8,0]\r\n",
        "Actions = lambda s: ['u', 'd', 'l', 'r']\r\n",
        "Opposite=dict([('u','d'),('d','u'),('l','r'),('r','l')])"
      ],
      "execution_count": 2,
      "outputs": []
    },
    {
      "cell_type": "code",
      "metadata": {
        "id": "XjnzkkC8_HE8"
      },
      "source": [
        "def Result(state, action):\r\n",
        "  i = state.index(0)\r\n",
        "  newState = list(state)\r\n",
        "  row,col=i//StateDimension, i % StateDimension\r\n",
        "  if ( (action=='u' and row==0) or\r\n",
        "       (action=='d' and row==StateDimension-1) or\r\n",
        "       (action=='l' and col==0) or\r\n",
        "       (action=='r' and col==StateDimension-1)):\r\n",
        "      return newState\r\n",
        "  if action=='u':\r\n",
        "    l,r = row*StateDimension+col, (row-1)*StateDimension+col\r\n",
        "  elif action=='d':\r\n",
        "    l,r = row*StateDimension+col, (row+1)*StateDimension+col\r\n",
        "  elif action=='l':\r\n",
        "    l,r = row*StateDimension+col, row*StateDimension+col-1\r\n",
        "  elif action=='r' :\r\n",
        "    l,r = row*StateDimension+col, row*StateDimension+col+1\r\n",
        "  newState[l], newState[r] = newState[r], newState[l] \r\n",
        "  return newState\r\n",
        "\r\n",
        "def PrintState(s):\r\n",
        "  for i in range(0,len(s),StateDimension):\r\n",
        "    print(s[i:i+StateDimension])\r\n",
        "\r\n",
        "def LegalMove(state, action):\r\n",
        "  i = state.index(0)\r\n",
        "  row,col=i//StateDimension, i % StateDimension\r\n",
        "  newState = state.copy()\r\n",
        "  if ( (action=='u' and row==0) or\r\n",
        "       (action=='d' and row==StateDimension-1) or\r\n",
        "       (action=='l' and col==0) or\r\n",
        "       (action=='r' and col==StateDimension-1)):\r\n",
        "      return False\r\n",
        "  return True\r\n"
      ],
      "execution_count": 3,
      "outputs": []
    },
    {
      "cell_type": "code",
      "metadata": {
        "colab": {
          "base_uri": "https://localhost:8080/"
        },
        "id": "bE7MrTAI_t6i",
        "outputId": "88aae8c6-d465-450e-9b37-5b135f159d50"
      },
      "source": [
        "PrintState(InitialState)"
      ],
      "execution_count": 4,
      "outputs": [
        {
          "output_type": "stream",
          "text": [
            "[1, 2, 3]\n",
            "[4, 5, 6]\n",
            "[0, 7, 8]\n"
          ],
          "name": "stdout"
        }
      ]
    },
    {
      "cell_type": "code",
      "metadata": {
        "colab": {
          "base_uri": "https://localhost:8080/"
        },
        "id": "wRULKFeXVcp3",
        "outputId": "1a988cc2-13cf-498c-ef19-fedd2cae32f7"
      },
      "source": [
        "PrintState(GoalState)"
      ],
      "execution_count": 5,
      "outputs": [
        {
          "output_type": "stream",
          "text": [
            "[1, 2, 3]\n",
            "[4, 5, 6]\n",
            "[7, 8, 0]\n"
          ],
          "name": "stdout"
        }
      ]
    },
    {
      "cell_type": "code",
      "metadata": {
        "colab": {
          "base_uri": "https://localhost:8080/"
        },
        "id": "j-EYW_gqGZtl",
        "outputId": "27208462-81ac-4fe7-d547-5eb8631a5837"
      },
      "source": [
        "state1 = Result(InitialState, 'u')\r\n",
        "PrintState(state1)"
      ],
      "execution_count": 6,
      "outputs": [
        {
          "output_type": "stream",
          "text": [
            "[1, 2, 3]\n",
            "[0, 5, 6]\n",
            "[4, 7, 8]\n"
          ],
          "name": "stdout"
        }
      ]
    },
    {
      "cell_type": "code",
      "metadata": {
        "id": "1RVh0-S9IFiy"
      },
      "source": [
        "def RandomWalk(state, steps):\r\n",
        "  actionSequence = []\r\n",
        "  for i in range(steps):\r\n",
        "    action = None\r\n",
        "    while action==None:\r\n",
        "      action = random.choice(Actions(state))\r\n",
        "      action = action if LegalMove(state, action) else None\r\n",
        "    state = Result(state, action)\r\n",
        "    actionSequence.append(action)\r\n",
        "  return state, actionSequence\r\n",
        "\r\n"
      ],
      "execution_count": 7,
      "outputs": []
    },
    {
      "cell_type": "code",
      "metadata": {
        "colab": {
          "base_uri": "https://localhost:8080/"
        },
        "id": "wcn5POkxKlER",
        "outputId": "458f8e2c-7bda-4877-df6d-1160df042c77"
      },
      "source": [
        "state1, sol = RandomWalk(InitialState, 150)\r\n",
        "PrintState(state1)\r\n",
        "print (sol)"
      ],
      "execution_count": 8,
      "outputs": [
        {
          "output_type": "stream",
          "text": [
            "[4, 5, 0]\n",
            "[1, 3, 8]\n",
            "[7, 2, 6]\n",
            "['r', 'l', 'u', 'd', 'r', 'l', 'r', 'r', 'l', 'u', 'r', 'l', 'd', 'l', 'u', 'r', 'u', 'd', 'r', 'l', 'u', 'l', 'd', 'd', 'r', 'r', 'u', 'l', 'l', 'u', 'r', 'r', 'l', 'r', 'd', 'u', 'l', 'd', 'l', 'd', 'u', 'u', 'd', 'd', 'r', 'u', 'l', 'd', 'r', 'r', 'l', 'l', 'u', 'd', 'r', 'u', 'd', 'l', 'r', 'r', 'l', 'l', 'r', 'l', 'u', 'r', 'u', 'l', 'd', 'r', 'u', 'd', 'u', 'l', 'd', 'r', 'r', 'd', 'u', 'd', 'l', 'l', 'r', 'r', 'u', 'd', 'l', 'r', 'l', 'u', 'r', 'l', 'l', 'u', 'r', 'r', 'l', 'd', 'd', 'u', 'd', 'r', 'u', 'd', 'l', 'l', 'u', 'r', 'd', 'l', 'r', 'u', 'd', 'l', 'u', 'u', 'r', 'd', 'l', 'u', 'd', 'r', 'd', 'u', 'u', 'd', 'd', 'r', 'l', 'r', 'u', 'u', 'd', 'u', 'l', 'd', 'd', 'l', 'u', 'u', 'r', 'l', 'r', 'd', 'r', 'd', 'u', 'l', 'r', 'u']\n"
          ],
          "name": "stdout"
        }
      ]
    },
    {
      "cell_type": "code",
      "metadata": {
        "id": "Rc_8ohYvNIq-"
      },
      "source": [
        "def ApplyMoves(actions, state):\r\n",
        "  for action in actions:\r\n",
        "    state = Result(state, action)\r\n",
        "  return state"
      ],
      "execution_count": 9,
      "outputs": []
    },
    {
      "cell_type": "code",
      "metadata": {
        "colab": {
          "base_uri": "https://localhost:8080/"
        },
        "id": "Wv7MGqh8NXqy",
        "outputId": "42b31d37-2981-4608-fe96-8176f26a1b44"
      },
      "source": [
        "PrintState(ApplyMoves(['r','r'],InitialState))"
      ],
      "execution_count": 10,
      "outputs": [
        {
          "output_type": "stream",
          "text": [
            "[1, 2, 3]\n",
            "[4, 5, 6]\n",
            "[7, 8, 0]\n"
          ],
          "name": "stdout"
        }
      ]
    },
    {
      "cell_type": "code",
      "metadata": {
        "id": "_VS2KzQbOHlO"
      },
      "source": [
        "def ReverseMoves(actions):\r\n",
        "  ret = [Opposite[a] for a in actions]\r\n",
        "  ret.reverse()\r\n",
        "  return ret"
      ],
      "execution_count": 11,
      "outputs": []
    },
    {
      "cell_type": "code",
      "metadata": {
        "colab": {
          "base_uri": "https://localhost:8080/"
        },
        "id": "tp_pqYBXOsqS",
        "outputId": "c293e9c5-1735-46ec-9fb7-1241c5ee23a6"
      },
      "source": [
        "state1, sol = RandomWalk(GoalState, 5)\r\n",
        "PrintState(state1)\r\n",
        "print (sol)\r\n",
        "print(ReverseMoves(sol))\r\n",
        "PrintState (ApplyMoves(ReverseMoves(sol), state1))\r\n"
      ],
      "execution_count": 12,
      "outputs": [
        {
          "output_type": "stream",
          "text": [
            "[1, 2, 3]\n",
            "[4, 5, 0]\n",
            "[7, 8, 6]\n",
            "['u', 'd', 'u', 'l', 'r']\n",
            "['l', 'r', 'd', 'u', 'd']\n",
            "[1, 2, 3]\n",
            "[4, 5, 6]\n",
            "[7, 8, 0]\n"
          ],
          "name": "stdout"
        }
      ]
    },
    {
      "cell_type": "markdown",
      "metadata": {
        "id": "5pbaZzk5cQ19"
      },
      "source": [
        ""
      ]
    },
    {
      "cell_type": "code",
      "metadata": {
        "colab": {
          "base_uri": "https://localhost:8080/"
        },
        "id": "WPi8bXxtXxhz",
        "outputId": "31229181-96f0-40a0-993a-e73ab5004d70"
      },
      "source": [
        "class Problem(object): pass\r\n",
        "class Node(object):\r\n",
        "  def __init__(self, state, parent=None, action=None, path_cost=0 ):\r\n",
        "    self.State=state\r\n",
        "    self.Parent=parent\r\n",
        "    self.Action=action\r\n",
        "    self.PathCost = path_cost\r\n",
        "\r\n",
        "  def __str__(self):\r\n",
        "    action = \"<none>\" if not self.Action else self.Action\r\n",
        "    return str(self.State) + \", \" + action\r\n",
        "  def __rpr__(self):\r\n",
        "    action = \"<none>\" if not self.Action else self.Action\r\n",
        "    return str(self.State) + \", \" + action\r\n",
        "\r\n",
        "\r\n",
        "TileSliding = Problem()\r\n",
        "TileSliding.INITIAL = InitialState\r\n",
        "TileSliding.IsGoal = lambda s: s==(1,2,3,4,5,6,7,8,0)\r\n",
        "TileSliding.Actions = Actions\r\n",
        "TileSliding.Result=Result\r\n",
        "TileSliding.ActionCost = lambda s, a, sPrime: 1\r\n",
        "print( TileSliding.IsGoal((1,2,3,4,5,6,7,8,0)) )\r\n",
        "print( Node(InitialState) )\r\n",
        "print(1+TileSliding.ActionCost(1,2,3))"
      ],
      "execution_count": 13,
      "outputs": [
        {
          "output_type": "stream",
          "text": [
            "True\n",
            "[1, 2, 3, 4, 5, 6, 0, 7, 8], <none>\n",
            "2\n"
          ],
          "name": "stdout"
        }
      ]
    },
    {
      "cell_type": "code",
      "metadata": {
        "id": "CRj9UnyHdDo_"
      },
      "source": [
        "def Expand(problem, node):\r\n",
        "  ret = []\r\n",
        "  s = node.State\r\n",
        "  for action in problem.Actions(s):\r\n",
        "    sPrime = problem.Result(s, action)\r\n",
        "    cost =node.PathCost + problem.ActionCost(s,action,sPrime)\r\n",
        "    ret.append(Node(sPrime, node, action, cost))\r\n",
        "  return ret\r\n",
        "\r\n",
        "def BreadthFirstSearch(problem):\r\n",
        "  node = Node(tuple(problem.INITIAL))\r\n",
        "  if problem.IsGoal(node.State):\r\n",
        "    return node, 0\r\n",
        "  Frontier = []\r\n",
        "  Frontier.append(node)\r\n",
        "  reached = set()\r\n",
        "  reached.add(tuple(problem.INITIAL))\r\n",
        "  nodesExpanded = 0\r\n",
        "  while (Frontier):\r\n",
        "    ### print([str(n) for n in Frontier])\r\n",
        "    node = Frontier.pop(0)\r\n",
        "    ### print(node)\r\n",
        "    for child in Expand(problem, node):\r\n",
        "      s = tuple(child.State)\r\n",
        "      ### print (s, \"IsGoal=\", problem.IsGoal(s))\r\n",
        "      if problem.IsGoal(s):\r\n",
        "        return child, nodesExpanded\r\n",
        "      if s not in reached:\r\n",
        "        reached.add(s)\r\n",
        "        Frontier.append(child)\r\n",
        "    nodesExpanded += 1\r\n",
        "    if nodesExpanded > 500000:\r\n",
        "      break;\r\n",
        "  return None, nodesExpanded\r\n",
        "  "
      ],
      "execution_count": 14,
      "outputs": []
    },
    {
      "cell_type": "code",
      "metadata": {
        "colab": {
          "base_uri": "https://localhost:8080/"
        },
        "id": "6VoIEO4c1gHz",
        "outputId": "7788a64a-c178-4a27-9a69-cfa287e738d5"
      },
      "source": [
        "ret, cost = BreadthFirstSearch(TileSliding)\r\n",
        "print (ret)"
      ],
      "execution_count": 15,
      "outputs": [
        {
          "output_type": "stream",
          "text": [
            "[1, 2, 3, 4, 5, 6, 7, 8, 0], r\n"
          ],
          "name": "stdout"
        }
      ]
    },
    {
      "cell_type": "code",
      "metadata": {
        "colab": {
          "base_uri": "https://localhost:8080/"
        },
        "id": "3hsBKY7Fle3w",
        "outputId": "b6be89b5-d2c1-41c2-cf4c-858c0ced2510"
      },
      "source": [
        "def Solution(node):\r\n",
        "  if node.Parent==None: \r\n",
        "    return []\r\n",
        "  return Solution(node.Parent) + [node.Action]\r\n",
        "\r\n",
        "sol = Solution(ret)\r\n",
        "print (sol)\r\n",
        "print (TileSliding.INITIAL)\r\n",
        "print (ApplyMoves(sol, TileSliding.INITIAL))"
      ],
      "execution_count": 16,
      "outputs": [
        {
          "output_type": "stream",
          "text": [
            "['r', 'r']\n",
            "[1, 2, 3, 4, 5, 6, 0, 7, 8]\n",
            "[1, 2, 3, 4, 5, 6, 7, 8, 0]\n"
          ],
          "name": "stdout"
        }
      ]
    },
    {
      "cell_type": "markdown",
      "metadata": {
        "id": "bu6svMo0n9Pc"
      },
      "source": [
        "# Problem 2"
      ]
    },
    {
      "cell_type": "code",
      "metadata": {
        "colab": {
          "base_uri": "https://localhost:8080/"
        },
        "id": "rXzEVLYEn8m1",
        "outputId": "ea5d4f87-3bae-4b92-e75e-e5013ccd5389"
      },
      "source": [
        "state1, sol = RandomWalk(GoalState, 200)\r\n",
        "PrintState(state1)\r\n",
        "print (sol)\r\n",
        "print(ReverseMoves(sol))\r\n",
        "PrintState (ApplyMoves(ReverseMoves(sol), state1))"
      ],
      "execution_count": 17,
      "outputs": [
        {
          "output_type": "stream",
          "text": [
            "[5, 8, 7]\n",
            "[3, 0, 1]\n",
            "[4, 2, 6]\n",
            "['u', 'u', 'd', 'l', 'r', 'u', 'l', 'd', 'r', 'd', 'u', 'd', 'l', 'l', 'u', 'r', 'd', 'u', 'u', 'r', 'l', 'l', 'r', 'r', 'd', 'd', 'l', 'l', 'r', 'l', 'u', 'r', 'r', 'd', 'u', 'u', 'd', 'd', 'u', 'u', 'd', 'd', 'l', 'r', 'l', 'l', 'u', 'r', 'd', 'l', 'u', 'd', 'r', 'l', 'u', 'r', 'l', 'd', 'r', 'r', 'u', 'l', 'd', 'u', 'u', 'l', 'd', 'd', 'u', 'd', 'u', 'd', 'r', 'u', 'r', 'u', 'l', 'd', 'u', 'r', 'l', 'l', 'd', 'u', 'd', 'r', 'l', 'u', 'd', 'r', 'r', 'u', 'l', 'l', 'r', 'd', 'r', 'd', 'l', 'l', 'r', 'u', 'u', 'r', 'd', 'd', 'l', 'u', 'r', 'd', 'u', 'd', 'u', 'd', 'l', 'u', 'l', 'd', 'r', 'r', 'u', 'l', 'd', 'r', 'l', 'l', 'r', 'l', 'r', 'u', 'd', 'u', 'l', 'u', 'd', 'r', 'l', 'r', 'l', 'r', 'd', 'u', 'r', 'u', 'l', 'd', 'r', 'l', 'u', 'r', 'd', 'l', 'r', 'd', 'u', 'u', 'd', 'u', 'l', 'd', 'r', 'l', 'u', 'r', 'd', 'd', 'l', 'u', 'l', 'd', 'u', 'u', 'd', 'r', 'l', 'r', 'l', 'u', 'r', 'l', 'd', 'r', 'u', 'd', 'r', 'l', 'd', 'l', 'r', 'l', 'r', 'l', 'u', 'u', 'r', 'r', 'l', 'l', 'd', 'r']\n",
            "['l', 'u', 'r', 'r', 'l', 'l', 'd', 'd', 'r', 'l', 'r', 'l', 'r', 'u', 'r', 'l', 'u', 'd', 'l', 'u', 'r', 'l', 'd', 'r', 'l', 'r', 'l', 'u', 'd', 'd', 'u', 'r', 'd', 'r', 'u', 'u', 'l', 'd', 'r', 'l', 'u', 'r', 'd', 'u', 'd', 'd', 'u', 'l', 'r', 'u', 'l', 'd', 'r', 'l', 'u', 'r', 'd', 'l', 'd', 'u', 'l', 'r', 'l', 'r', 'l', 'u', 'd', 'r', 'd', 'u', 'd', 'l', 'r', 'l', 'r', 'r', 'l', 'u', 'r', 'd', 'l', 'l', 'u', 'r', 'd', 'r', 'u', 'd', 'u', 'd', 'u', 'l', 'd', 'r', 'u', 'u', 'l', 'd', 'd', 'l', 'r', 'r', 'u', 'l', 'u', 'l', 'r', 'r', 'd', 'l', 'l', 'u', 'd', 'r', 'l', 'u', 'd', 'u', 'r', 'r', 'l', 'd', 'u', 'r', 'd', 'l', 'd', 'l', 'u', 'd', 'u', 'd', 'u', 'u', 'r', 'd', 'd', 'u', 'r', 'd', 'l', 'l', 'u', 'r', 'l', 'd', 'r', 'l', 'u', 'd', 'r', 'u', 'l', 'd', 'r', 'r', 'l', 'r', 'u', 'u', 'd', 'd', 'u', 'u', 'd', 'd', 'u', 'l', 'l', 'd', 'r', 'l', 'r', 'r', 'u', 'u', 'l', 'l', 'r', 'r', 'l', 'd', 'd', 'u', 'l', 'd', 'r', 'r', 'u', 'd', 'u', 'l', 'u', 'r', 'd', 'l', 'r', 'u', 'd', 'd']\n",
            "[1, 2, 3]\n",
            "[4, 5, 6]\n",
            "[7, 8, 0]\n"
          ],
          "name": "stdout"
        }
      ]
    },
    {
      "cell_type": "code",
      "metadata": {
        "colab": {
          "base_uri": "https://localhost:8080/"
        },
        "id": "tKnMcesqoCss",
        "outputId": "86123765-4fa5-4522-ce7a-f959289c1b66"
      },
      "source": [
        "TileSliding.INITIAL = state1\r\n",
        "ret, cost = BreadthFirstSearch(TileSliding)\r\n",
        "print (ret)\r\n",
        "sol = Solution(ret)\r\n",
        "print (sol)\r\n",
        "print (TileSliding.INITIAL)\r\n",
        "print (ApplyMoves(sol, TileSliding.INITIAL))\r\n",
        "print (\"Nodes Expanded=\", cost)"
      ],
      "execution_count": 18,
      "outputs": [
        {
          "output_type": "stream",
          "text": [
            "[1, 2, 3, 4, 5, 6, 7, 8, 0], r\n",
            "['r', 'u', 'l', 'd', 'l', 'u', 'r', 'd', 'd', 'r', 'u', 'u', 'l', 'd', 'd', 'r', 'u', 'l', 'l', 'd', 'r', 'r']\n",
            "[5, 8, 7, 3, 0, 1, 4, 2, 6]\n",
            "[1, 2, 3, 4, 5, 6, 7, 8, 0]\n",
            "Nodes Expanded= 79035\n"
          ],
          "name": "stdout"
        }
      ]
    },
    {
      "cell_type": "markdown",
      "metadata": {
        "id": "TFLhS5QmxRz2"
      },
      "source": [
        "# Domain 2"
      ]
    },
    {
      "cell_type": "code",
      "metadata": {
        "id": "PqDD8fsrxXK7"
      },
      "source": [
        "VectorWorldDim = 10\r\n",
        "VectorWorld = Problem()\r\n",
        "VectorWorld.INITIAL = [0]\r\n",
        "VectorWorld.IsGoal = lambda s: s==[3,] or s==(3,)\r\n",
        "VectorWorld.Actions = lambda s: ['Left', 'Right']\r\n",
        "## TileSliding.Result=VectorWorldResult\r\n",
        "VectorWorld.ActionCost = lambda s, a, sPrime: 1"
      ],
      "execution_count": 19,
      "outputs": []
    },
    {
      "cell_type": "code",
      "metadata": {
        "id": "uWNR8AQJyCN7"
      },
      "source": [
        "def VectorWorldResult(state, action):\r\n",
        "  if action=='Left':\r\n",
        "    return [(state[0]+VectorWorldDim-1)%VectorWorldDim]\r\n",
        "  else:\r\n",
        "    return [(state[0]+1)%VectorWorldDim]\r\n",
        "VectorWorld.Result=VectorWorldResult\r\n",
        "  "
      ],
      "execution_count": 20,
      "outputs": []
    },
    {
      "cell_type": "code",
      "metadata": {
        "colab": {
          "base_uri": "https://localhost:8080/"
        },
        "id": "Ox26cyPP2xba",
        "outputId": "95545e34-dd6a-4bae-a788-5e1d52a35db1"
      },
      "source": [
        "print (VectorWorld.IsGoal((3,)))"
      ],
      "execution_count": 21,
      "outputs": [
        {
          "output_type": "stream",
          "text": [
            "True\n"
          ],
          "name": "stdout"
        }
      ]
    },
    {
      "cell_type": "code",
      "metadata": {
        "colab": {
          "base_uri": "https://localhost:8080/"
        },
        "id": "SBfeM9Vbykci",
        "outputId": "59653631-5aaf-4c58-96e4-f2a1a9d4859f"
      },
      "source": [
        "ret, cost = BreadthFirstSearch(VectorWorld)\r\n",
        "print (\"ret=\", ret)\r\n",
        "sol = Solution(ret)\r\n",
        "print (sol)\r\n"
      ],
      "execution_count": 22,
      "outputs": [
        {
          "output_type": "stream",
          "text": [
            "ret= [3], Right\n",
            "['Right', 'Right', 'Right']\n"
          ],
          "name": "stdout"
        }
      ]
    },
    {
      "cell_type": "code",
      "metadata": {
        "id": "dAbJ75Ym4WmP"
      },
      "source": [
        "VectorWorld.INITIAL = [8]"
      ],
      "execution_count": 23,
      "outputs": []
    },
    {
      "cell_type": "code",
      "metadata": {
        "colab": {
          "base_uri": "https://localhost:8080/"
        },
        "id": "QGO1VglP4Zq6",
        "outputId": "d43ecf71-b0bb-4344-84c5-2771ed5b0f56"
      },
      "source": [
        "ret, cost = BreadthFirstSearch(VectorWorld)\r\n",
        "print (\"ret=\", ret)\r\n",
        "sol = Solution(ret)\r\n",
        "print (sol)"
      ],
      "execution_count": 24,
      "outputs": [
        {
          "output_type": "stream",
          "text": [
            "ret= [3], Left\n",
            "['Left', 'Left', 'Left', 'Left', 'Left']\n"
          ],
          "name": "stdout"
        }
      ]
    }
  ]
}