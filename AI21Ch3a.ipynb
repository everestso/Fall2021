{
  "nbformat": 4,
  "nbformat_minor": 0,
  "metadata": {
    "colab": {
      "name": "AI21Ch3a.ipynb",
      "provenance": [],
      "collapsed_sections": [],
      "authorship_tag": "ABX9TyOWTDx28HGBMs5LlvOtqvaA",
      "include_colab_link": true
    },
    "kernelspec": {
      "name": "python3",
      "display_name": "Python 3"
    }
  },
  "cells": [
    {
      "cell_type": "markdown",
      "metadata": {
        "id": "view-in-github",
        "colab_type": "text"
      },
      "source": [
        "<a href=\"https://colab.research.google.com/github/everestso/Spring2021/blob/main/AI21Ch3a.ipynb\" target=\"_parent\"><img src=\"https://colab.research.google.com/assets/colab-badge.svg\" alt=\"Open In Colab\"/></a>"
      ]
    },
    {
      "cell_type": "code",
      "metadata": {
        "id": "Gbe5KqWcISTq"
      },
      "source": [
        "import random\r\n",
        "import heapq"
      ],
      "execution_count": 1,
      "outputs": []
    },
    {
      "cell_type": "markdown",
      "metadata": {
        "id": "PHnbnN2uV8zr"
      },
      "source": [
        "# Tile Sliding Domain: Initial State Space"
      ]
    },
    {
      "cell_type": "code",
      "metadata": {
        "id": "jPCNOa4W-5yq"
      },
      "source": [
        "StateDimension=3\r\n",
        "InitialState = [1,2,3,4,5,6,0,7,8]\r\n",
        "GoalState=[1,2,3,4,5,6,7,8,0]\r\n",
        "Actions = lambda s: ['u', 'd', 'l', 'r']\r\n",
        "Opposite=dict([('u','d'),('d','u'),('l','r'),('r','l'), (None, None)])"
      ],
      "execution_count": 2,
      "outputs": []
    },
    {
      "cell_type": "code",
      "metadata": {
        "id": "XjnzkkC8_HE8"
      },
      "source": [
        "def Result(state, action):\r\n",
        "  i = state.index(0)\r\n",
        "  newState = list(state)\r\n",
        "  row,col=i//StateDimension, i % StateDimension\r\n",
        "  if ( (action=='u' and row==0) or\r\n",
        "       (action=='d' and row==StateDimension-1) or\r\n",
        "       (action=='l' and col==0) or\r\n",
        "       (action=='r' and col==StateDimension-1)):\r\n",
        "      return newState\r\n",
        "  if action=='u':\r\n",
        "    l,r = row*StateDimension+col, (row-1)*StateDimension+col\r\n",
        "  elif action=='d':\r\n",
        "    l,r = row*StateDimension+col, (row+1)*StateDimension+col\r\n",
        "  elif action=='l':\r\n",
        "    l,r = row*StateDimension+col, row*StateDimension+col-1\r\n",
        "  elif action=='r' :\r\n",
        "    l,r = row*StateDimension+col, row*StateDimension+col+1\r\n",
        "  newState[l], newState[r] = newState[r], newState[l] \r\n",
        "  return newState\r\n",
        "\r\n",
        "def PrintState(s):\r\n",
        "  for i in range(0,len(s),StateDimension):\r\n",
        "    print(s[i:i+StateDimension])\r\n",
        "\r\n",
        "def LegalMove(state, action):\r\n",
        "  i = state.index(0)\r\n",
        "  row,col=i//StateDimension, i % StateDimension\r\n",
        "  newState = state.copy()\r\n",
        "  if ( (action=='u' and row==0) or\r\n",
        "       (action=='d' and row==StateDimension-1) or\r\n",
        "       (action=='l' and col==0) or\r\n",
        "       (action=='r' and col==StateDimension-1)):\r\n",
        "      return False\r\n",
        "  return True\r\n"
      ],
      "execution_count": 3,
      "outputs": []
    },
    {
      "cell_type": "code",
      "metadata": {
        "id": "4z6hE5HsNwHf"
      },
      "source": [
        "def SingleTileManhattanDistance(tile, left, right):\r\n",
        "  leftIndex = left.index(tile)\r\n",
        "  rightIndex = right.index(tile)\r\n",
        "  return (abs(leftIndex//StateDimension-rightIndex//StateDimension) +\r\n",
        "          abs(leftIndex%StateDimension-rightIndex%StateDimension))\r\n",
        "  \r\n",
        "def ManhattanDistance(left, right):\r\n",
        "  distances = [SingleTileManhattanDistance(tile, left, right) \r\n",
        "     for tile in range(1, StateDimension**2)]\r\n",
        "  ### print (\"Distances= \", distances)\r\n",
        "  return sum(distances)\r\n"
      ],
      "execution_count": 4,
      "outputs": []
    },
    {
      "cell_type": "code",
      "metadata": {
        "id": "7PE_gAdLSY_z"
      },
      "source": [
        "def OutOfPlace(left, right):\r\n",
        "  distances = [left[i]!=right[i] and right[i] != 0\r\n",
        "     for i in range(StateDimension**2)]\r\n",
        "  return sum(distances)"
      ],
      "execution_count": 5,
      "outputs": []
    },
    {
      "cell_type": "code",
      "metadata": {
        "colab": {
          "base_uri": "https://localhost:8080/"
        },
        "id": "bE7MrTAI_t6i",
        "outputId": "4caf82b3-a4d5-446e-9b01-bfb550fcc69d"
      },
      "source": [
        "PrintState(InitialState)"
      ],
      "execution_count": 6,
      "outputs": [
        {
          "output_type": "stream",
          "text": [
            "[1, 2, 3]\n",
            "[4, 5, 6]\n",
            "[0, 7, 8]\n"
          ],
          "name": "stdout"
        }
      ]
    },
    {
      "cell_type": "code",
      "metadata": {
        "colab": {
          "base_uri": "https://localhost:8080/"
        },
        "id": "wRULKFeXVcp3",
        "outputId": "b856c35c-ef8d-481c-ee1d-6ce5da8c2bc7"
      },
      "source": [
        "PrintState(GoalState)"
      ],
      "execution_count": 7,
      "outputs": [
        {
          "output_type": "stream",
          "text": [
            "[1, 2, 3]\n",
            "[4, 5, 6]\n",
            "[7, 8, 0]\n"
          ],
          "name": "stdout"
        }
      ]
    },
    {
      "cell_type": "code",
      "metadata": {
        "colab": {
          "base_uri": "https://localhost:8080/"
        },
        "id": "Ke12RA7cPaS9",
        "outputId": "adc1755a-bbf0-42c1-9376-06db58f12708"
      },
      "source": [
        "print(\"ManhattanDistance=  \", ManhattanDistance(InitialState, GoalState))\r\n",
        "print(\"OutOfPlace= \", OutOfPlace(InitialState, GoalState))\r\n"
      ],
      "execution_count": 8,
      "outputs": [
        {
          "output_type": "stream",
          "text": [
            "ManhattanDistance=   2\n",
            "OutOfPlace=  2\n"
          ],
          "name": "stdout"
        }
      ]
    },
    {
      "cell_type": "code",
      "metadata": {
        "colab": {
          "base_uri": "https://localhost:8080/"
        },
        "id": "j-EYW_gqGZtl",
        "outputId": "8b7a5c68-351c-4359-be2a-b06adc1f810c"
      },
      "source": [
        "PrintState(InitialState)\r\n",
        "print()\r\n",
        "state1 = Result(InitialState, 'u')\r\n",
        "PrintState(state1)\r\n",
        "print()\r\n",
        "state1 = Result(state1, 'r')\r\n",
        "PrintState(state1)"
      ],
      "execution_count": 9,
      "outputs": [
        {
          "output_type": "stream",
          "text": [
            "[1, 2, 3]\n",
            "[4, 5, 6]\n",
            "[0, 7, 8]\n",
            "\n",
            "[1, 2, 3]\n",
            "[0, 5, 6]\n",
            "[4, 7, 8]\n",
            "\n",
            "[1, 2, 3]\n",
            "[5, 0, 6]\n",
            "[4, 7, 8]\n"
          ],
          "name": "stdout"
        }
      ]
    },
    {
      "cell_type": "markdown",
      "metadata": {
        "id": "Mp0tnomdTFoC"
      },
      "source": [
        "# Random Walk\r\n",
        "\r\n",
        "Take some random moves from a state and return the new state and the sequence of moves.\r\n",
        "\r\n",
        "Do not include moves undoing last move, or having no effect."
      ]
    },
    {
      "cell_type": "code",
      "metadata": {
        "id": "1RVh0-S9IFiy"
      },
      "source": [
        "def RandomWalk(state, steps):\r\n",
        "  actionSequence = []\r\n",
        "  actionLast = None\r\n",
        "  for i in range(steps):\r\n",
        "    action = None\r\n",
        "    while action==None:\r\n",
        "      action = random.choice(Actions(state))\r\n",
        "      action = action if (LegalMove(state, action) \r\n",
        "          and action!= Opposite[actionLast]) else None\r\n",
        "    actionLast = action\r\n",
        "    state = Result(state, action)\r\n",
        "    actionSequence.append(action)\r\n",
        "  return state, actionSequence\r\n",
        "\r\n"
      ],
      "execution_count": 10,
      "outputs": []
    },
    {
      "cell_type": "code",
      "metadata": {
        "colab": {
          "base_uri": "https://localhost:8080/"
        },
        "id": "wcn5POkxKlER",
        "outputId": "9a82ed7c-d88c-4c91-fecf-cf3dddc78c8c"
      },
      "source": [
        "state1, sol = RandomWalk(InitialState, 150)\r\n",
        "PrintState(state1)\r\n",
        "print (ManhattanDistance(state1, GoalState), sol)\r\n",
        "\r\n",
        "state1, sol = RandomWalk(InitialState, 5)\r\n",
        "PrintState(InitialState)\r\n",
        "print (sol)\r\n",
        "PrintState(state1)"
      ],
      "execution_count": 11,
      "outputs": [
        {
          "output_type": "stream",
          "text": [
            "[1, 3, 5]\n",
            "[6, 0, 2]\n",
            "[7, 4, 8]\n",
            "10 ['r', 'r', 'u', 'l', 'l', 'd', 'r', 'u', 'u', 'l', 'd', 'd', 'r', 'r', 'u', 'l', 'd', 'l', 'u', 'r', 'd', 'l', 'u', 'u', 'r', 'r', 'd', 'l', 'u', 'l', 'd', 'r', 'r', 'd', 'l', 'l', 'u', 'u', 'r', 'r', 'd', 'd', 'l', 'u', 'l', 'u', 'r', 'd', 'l', 'd', 'r', 'r', 'u', 'u', 'l', 'l', 'd', 'd', 'r', 'r', 'u', 'l', 'u', 'l', 'd', 'd', 'r', 'u', 'u', 'r', 'd', 'l', 'l', 'd', 'r', 'r', 'u', 'l', 'u', 'r', 'd', 'l', 'd', 'l', 'u', 'u', 'r', 'd', 'd', 'l', 'u', 'r', 'r', 'u', 'l', 'd', 'd', 'l', 'u', 'u', 'r', 'r', 'd', 'd', 'l', 'u', 'r', 'd', 'l', 'l', 'u', 'u', 'r', 'r', 'd', 'l', 'l', 'u', 'r', 'r', 'd', 'd', 'l', 'l', 'u', 'r', 'd', 'l', 'u', 'u', 'r', 'd', 'r', 'd', 'l', 'u', 'r', 'd', 'l', 'l', 'u', 'u', 'r', 'r', 'd', 'l', 'l', 'd', 'r', 'u']\n",
            "[1, 2, 3]\n",
            "[4, 5, 6]\n",
            "[0, 7, 8]\n",
            "['u', 'u', 'r', 'r', 'd']\n",
            "[2, 3, 6]\n",
            "[1, 5, 0]\n",
            "[4, 7, 8]\n"
          ],
          "name": "stdout"
        }
      ]
    },
    {
      "cell_type": "code",
      "metadata": {
        "id": "Rc_8ohYvNIq-"
      },
      "source": [
        "def ApplyMoves(actions, state):\r\n",
        "  for action in actions:\r\n",
        "    state = Result(state, action)\r\n",
        "  return state"
      ],
      "execution_count": 12,
      "outputs": []
    },
    {
      "cell_type": "code",
      "metadata": {
        "colab": {
          "base_uri": "https://localhost:8080/"
        },
        "id": "Wv7MGqh8NXqy",
        "outputId": "ad22e0a6-179e-4200-83e9-3191a819cd6a"
      },
      "source": [
        "PrintState(InitialState)\r\n",
        "print(['r','r'])\r\n",
        "PrintState(ApplyMoves(['r','r'],InitialState))"
      ],
      "execution_count": 13,
      "outputs": [
        {
          "output_type": "stream",
          "text": [
            "[1, 2, 3]\n",
            "[4, 5, 6]\n",
            "[0, 7, 8]\n",
            "['r', 'r']\n",
            "[1, 2, 3]\n",
            "[4, 5, 6]\n",
            "[7, 8, 0]\n"
          ],
          "name": "stdout"
        }
      ]
    },
    {
      "cell_type": "code",
      "metadata": {
        "id": "_VS2KzQbOHlO"
      },
      "source": [
        "def ReverseMoves(actions):\r\n",
        "  ret = [Opposite[a] for a in actions]\r\n",
        "  ret.reverse()\r\n",
        "  return ret"
      ],
      "execution_count": 14,
      "outputs": []
    },
    {
      "cell_type": "code",
      "metadata": {
        "colab": {
          "base_uri": "https://localhost:8080/"
        },
        "id": "tp_pqYBXOsqS",
        "outputId": "e296ff6b-7f33-4f22-a7f7-57342a634edc"
      },
      "source": [
        "state1, sol = RandomWalk(GoalState, 5)\r\n",
        "PrintState(state1)\r\n",
        "print (sol)\r\n",
        "print(ReverseMoves(sol))\r\n",
        "PrintState (ApplyMoves(ReverseMoves(sol), state1))\r\n"
      ],
      "execution_count": 15,
      "outputs": [
        {
          "output_type": "stream",
          "text": [
            "[1, 2, 3]\n",
            "[7, 4, 5]\n",
            "[8, 0, 6]\n",
            "['u', 'l', 'l', 'd', 'r']\n",
            "['l', 'u', 'r', 'r', 'd']\n",
            "[1, 2, 3]\n",
            "[4, 5, 6]\n",
            "[7, 8, 0]\n"
          ],
          "name": "stdout"
        }
      ]
    },
    {
      "cell_type": "markdown",
      "metadata": {
        "id": "8ABBDMJLROdo"
      },
      "source": [
        "## Problem Class\r\n",
        "\r\n",
        "INITIAL = InitialState  \r\n",
        "IsGoal = Goal Test  \r\n",
        "Actions = Actions List  \r\n",
        "Result = Action Behavior  \r\n",
        "ActionCost = Action Cost  "
      ]
    },
    {
      "cell_type": "code",
      "metadata": {
        "id": "fo6sq7myRQpE"
      },
      "source": [
        "class Problem(object): pass"
      ],
      "execution_count": 16,
      "outputs": []
    },
    {
      "cell_type": "markdown",
      "metadata": {
        "id": "aAHXlWteQ2LN"
      },
      "source": [
        "## Node"
      ]
    },
    {
      "cell_type": "code",
      "metadata": {
        "id": "URRYlfS9Q3vx"
      },
      "source": [
        "class Node(object):\r\n",
        "  def __init__(self, state, parent=None, action=None, path_cost=0 ):\r\n",
        "    self.State=state\r\n",
        "    self.Parent=parent\r\n",
        "    self.Action=action\r\n",
        "    self.PathCost = path_cost\r\n",
        "\r\n",
        "  def __str__(self):\r\n",
        "    action = \"<none>\" if not self.Action else self.Action\r\n",
        "    return str(self.State) + \", \" + action\r\n",
        "  def __repr__(self):\r\n",
        "    action = \"<none>\" if not self.Action else self.Action\r\n",
        "    return str(self.State) + \", \" + action\r\n",
        "  def __lt__(self, other):\r\n",
        "    return self.PathCost < other.PathCost;"
      ],
      "execution_count": 17,
      "outputs": []
    },
    {
      "cell_type": "markdown",
      "metadata": {
        "id": "LpzKnx4rkxL9"
      },
      "source": [
        "## Expand "
      ]
    },
    {
      "cell_type": "code",
      "metadata": {
        "id": "CRj9UnyHdDo_"
      },
      "source": [
        "def Expand(problem, node):\r\n",
        "  ret = []\r\n",
        "  s = node.State\r\n",
        "  for action in problem.Actions(s):\r\n",
        "    sPrime = problem.Result(s, action)\r\n",
        "    cost =node.PathCost + problem.ActionCost(s,action,sPrime)\r\n",
        "    ret.append(Node(sPrime, node, action, cost))\r\n",
        "  return ret\r\n",
        " "
      ],
      "execution_count": 18,
      "outputs": []
    },
    {
      "cell_type": "markdown",
      "metadata": {
        "id": "Ee2ZYxjVlBSl"
      },
      "source": [
        "## Breadth-First Search"
      ]
    },
    {
      "cell_type": "code",
      "metadata": {
        "id": "DZoCxoGzkt4E"
      },
      "source": [
        "def BreadthFirstSearch(problem):\r\n",
        "  node = Node(tuple(problem.INITIAL))\r\n",
        "  if problem.IsGoal(node.State):\r\n",
        "    return node, 0\r\n",
        "  Frontier = []\r\n",
        "  Frontier.append(node)\r\n",
        "  reached = set()\r\n",
        "  reached.add(tuple(problem.INITIAL))\r\n",
        "  nodesExpanded = 0\r\n",
        "  while (Frontier):\r\n",
        "    ### print([str(n) for n in Frontier])\r\n",
        "    node = Frontier.pop(0)\r\n",
        "    ### print(node)\r\n",
        "    for child in Expand(problem, node):\r\n",
        "      s = tuple(child.State)\r\n",
        "      ### print (s, \"IsGoal=\", problem.IsGoal(s))\r\n",
        "      if problem.IsGoal(s):\r\n",
        "        return child, nodesExpanded\r\n",
        "      if s not in reached:\r\n",
        "        reached.add(s)\r\n",
        "        Frontier.append(child)\r\n",
        "    nodesExpanded += 1\r\n",
        "    if nodesExpanded > 500000:\r\n",
        "      break;\r\n",
        "  return None, nodesExpanded"
      ],
      "execution_count": 19,
      "outputs": []
    },
    {
      "cell_type": "markdown",
      "metadata": {
        "id": "AoX48XG6lFOf"
      },
      "source": [
        "## Best-First Search"
      ]
    },
    {
      "cell_type": "code",
      "metadata": {
        "id": "lUIAdr_qa1KT"
      },
      "source": [
        "def BestFirstSearch(problem, f):\r\n",
        "  node = Node(tuple(problem.INITIAL))\r\n",
        "  Frontier = []\r\n",
        "  heapq.heappush(Frontier,(f(node), node))\r\n",
        "  reached = {}\r\n",
        "  reached[tuple(problem.INITIAL)]=node\r\n",
        "  nodesExpanded = 0\r\n",
        "  while (Frontier):\r\n",
        "    ##print([(x, str(n)) for (x,n) in Frontier])\r\n",
        "    fValue, node = heapq.heappop(Frontier)\r\n",
        "    ##print (node.State, \"IsGoal=\", problem.IsGoal(tuple(node.State)))\r\n",
        "    if problem.IsGoal(tuple(node.State)):\r\n",
        "      return node, nodesExpanded    ### print(node)\r\n",
        "    for child in Expand(problem, node):\r\n",
        "      s = tuple(child.State)\r\n",
        "      if s not in reached or child.PathCost < reached[s].PathCost:\r\n",
        "        reached[s] = child\r\n",
        "        heapq.heappush(Frontier, (f(child), child))\r\n",
        "    nodesExpanded += 1\r\n",
        "    if nodesExpanded > 500000:\r\n",
        "      break;\r\n",
        "  return None, nodesExpanded"
      ],
      "execution_count": 20,
      "outputs": []
    },
    {
      "cell_type": "markdown",
      "metadata": {
        "id": "kRjolRYslOa4"
      },
      "source": [
        "## Problem 1"
      ]
    },
    {
      "cell_type": "code",
      "metadata": {
        "colab": {
          "base_uri": "https://localhost:8080/"
        },
        "id": "dLWDIbmsRGY3",
        "outputId": "50870049-7332-497b-9cfb-22f7c5acc5f1"
      },
      "source": [
        "TileSliding = Problem()\r\n",
        "TileSliding.INITIAL = InitialState\r\n",
        "TileSliding.IsGoal = lambda s: s==(1,2,3,4,5,6,7,8,0)\r\n",
        "TileSliding.Actions = Actions\r\n",
        "TileSliding.Result=Result\r\n",
        "TileSliding.ActionCost = lambda s, a, sPrime: 1\r\n",
        "print( TileSliding.IsGoal((1,2,3,4,5,6,7,8,0)) )\r\n",
        "print( Node(InitialState) )\r\n",
        "print(1+TileSliding.ActionCost(1,2,3))"
      ],
      "execution_count": 21,
      "outputs": [
        {
          "output_type": "stream",
          "text": [
            "True\n",
            "[1, 2, 3, 4, 5, 6, 0, 7, 8], <none>\n",
            "2\n"
          ],
          "name": "stdout"
        }
      ]
    },
    {
      "cell_type": "code",
      "metadata": {
        "colab": {
          "base_uri": "https://localhost:8080/"
        },
        "id": "6VoIEO4c1gHz",
        "outputId": "2675ed97-7a48-42f0-989e-d35c0cfd44e2"
      },
      "source": [
        "TileSliding.INITIAL = [1,2,3,4,5,6,0,7,8]\r\n",
        "ret, cost = BreadthFirstSearch(TileSliding)\r\n",
        "print (ret, cost)"
      ],
      "execution_count": 22,
      "outputs": [
        {
          "output_type": "stream",
          "text": [
            "[1, 2, 3, 4, 5, 6, 7, 8, 0], r 2\n"
          ],
          "name": "stdout"
        }
      ]
    },
    {
      "cell_type": "code",
      "metadata": {
        "id": "3hsBKY7Fle3w"
      },
      "source": [
        "def Solution(node):\r\n",
        "  if node.Parent==None: \r\n",
        "    return []\r\n",
        "  return Solution(node.Parent) + [node.Action]\r\n"
      ],
      "execution_count": 23,
      "outputs": []
    },
    {
      "cell_type": "code",
      "metadata": {
        "colab": {
          "base_uri": "https://localhost:8080/"
        },
        "id": "rtr7Vr84NAfY",
        "outputId": "db5f8ab0-0398-4c0d-d158-be76417b4981"
      },
      "source": [
        "sol = Solution(ret)\r\n",
        "print (sol)\r\n",
        "print (TileSliding.INITIAL)\r\n",
        "print (ApplyMoves(sol, TileSliding.INITIAL))"
      ],
      "execution_count": 24,
      "outputs": [
        {
          "output_type": "stream",
          "text": [
            "['r', 'r']\n",
            "[1, 2, 3, 4, 5, 6, 0, 7, 8]\n",
            "[1, 2, 3, 4, 5, 6, 7, 8, 0]\n"
          ],
          "name": "stdout"
        }
      ]
    },
    {
      "cell_type": "code",
      "metadata": {
        "colab": {
          "base_uri": "https://localhost:8080/"
        },
        "id": "RDE3dNP8NOU7",
        "outputId": "13ef9b43-7d4e-4ea6-b42e-5f55874deec7"
      },
      "source": [
        "TileSliding.INITIAL = [1,2,3,4,0,6,7,5,8]\r\n",
        "ret, cost = BreadthFirstSearch(TileSliding)\r\n",
        "print (ret, cost)"
      ],
      "execution_count": 25,
      "outputs": [
        {
          "output_type": "stream",
          "text": [
            "[1, 2, 3, 4, 5, 6, 7, 8, 0], r 2\n"
          ],
          "name": "stdout"
        }
      ]
    },
    {
      "cell_type": "code",
      "metadata": {
        "colab": {
          "base_uri": "https://localhost:8080/"
        },
        "id": "YBkLupiYNyZ_",
        "outputId": "eafc1547-e461-40fb-e598-3ae7eafc68e6"
      },
      "source": [
        "sol = Solution(ret)\r\n",
        "print (sol)\r\n",
        "print (TileSliding.INITIAL)\r\n",
        "print (ApplyMoves(sol, TileSliding.INITIAL))"
      ],
      "execution_count": 26,
      "outputs": [
        {
          "output_type": "stream",
          "text": [
            "['d', 'r']\n",
            "[1, 2, 3, 4, 0, 6, 7, 5, 8]\n",
            "[1, 2, 3, 4, 5, 6, 7, 8, 0]\n"
          ],
          "name": "stdout"
        }
      ]
    },
    {
      "cell_type": "code",
      "metadata": {
        "colab": {
          "base_uri": "https://localhost:8080/"
        },
        "id": "GXdlMLxwhxMF",
        "outputId": "967bf657-6887-457d-ac38-5f78bdd86e1f"
      },
      "source": [
        "UniformCostF = lambda n: n.PathCost\r\n",
        "AStarF = lambda n: n.PathCost+ManhattanDistance(n.State, GoalState)\r\n",
        "TileSliding.INITIAL = [1,2,3,4,0,6,7,5,8]\r\n",
        "ret, cost = BestFirstSearch(TileSliding, UniformCostF)\r\n",
        "print (ret)\r\n",
        "sol = Solution(ret)\r\n",
        "print (sol)\r\n",
        "print (TileSliding.INITIAL)\r\n",
        "print (ApplyMoves(sol, TileSliding.INITIAL))\r\n",
        "print (\"Nodes Expanded=\", cost)"
      ],
      "execution_count": 27,
      "outputs": [
        {
          "output_type": "stream",
          "text": [
            "[1, 2, 3, 4, 5, 6, 7, 8, 0], r\n",
            "['d', 'r']\n",
            "[1, 2, 3, 4, 0, 6, 7, 5, 8]\n",
            "[1, 2, 3, 4, 5, 6, 7, 8, 0]\n",
            "Nodes Expanded= 8\n"
          ],
          "name": "stdout"
        }
      ]
    },
    {
      "cell_type": "markdown",
      "metadata": {
        "id": "bu6svMo0n9Pc"
      },
      "source": [
        "# Problem 2"
      ]
    },
    {
      "cell_type": "code",
      "metadata": {
        "colab": {
          "base_uri": "https://localhost:8080/"
        },
        "id": "rXzEVLYEn8m1",
        "outputId": "fe31d608-3f4b-4486-a9ba-6b716b44575a"
      },
      "source": [
        "state1, sol = RandomWalk(GoalState, 300)\r\n",
        "PrintState(state1)\r\n",
        "print (sol)\r\n",
        "print(ReverseMoves(sol))\r\n",
        "PrintState (ApplyMoves(ReverseMoves(sol), state1))"
      ],
      "execution_count": 28,
      "outputs": [
        {
          "output_type": "stream",
          "text": [
            "[7, 4, 0]\n",
            "[6, 3, 1]\n",
            "[8, 5, 2]\n",
            "['u', 'u', 'l', 'l', 'd', 'd', 'r', 'u', 'l', 'd', 'r', 'u', 'r', 'd', 'l', 'l', 'u', 'u', 'r', 'd', 'r', 'd', 'l', 'l', 'u', 'u', 'r', 'r', 'd', 'd', 'l', 'u', 'u', 'r', 'd', 'd', 'l', 'u', 'u', 'r', 'd', 'd', 'l', 'u', 'r', 'u', 'l', 'd', 'r', 'd', 'l', 'l', 'u', 'u', 'r', 'd', 'r', 'd', 'l', 'u', 'l', 'u', 'r', 'r', 'd', 'd', 'l', 'u', 'r', 'u', 'l', 'd', 'r', 'd', 'l', 'l', 'u', 'u', 'r', 'd', 'l', 'u', 'r', 'd', 'd', 'r', 'u', 'u', 'l', 'l', 'd', 'r', 'd', 'l', 'u', 'r', 'd', 'l', 'u', 'u', 'r', 'd', 'l', 'u', 'r', 'd', 'r', 'u', 'l', 'd', 'd', 'l', 'u', 'r', 'u', 'r', 'd', 'l', 'u', 'r', 'd', 'l', 'd', 'l', 'u', 'r', 'u', 'r', 'd', 'l', 'd', 'l', 'u', 'r', 'u', 'l', 'd', 'r', 'u', 'r', 'd', 'd', 'l', 'l', 'u', 'r', 'r', 'u', 'l', 'd', 'l', 'u', 'r', 'd', 'l', 'u', 'r', 'd', 'r', 'u', 'l', 'd', 'd', 'r', 'u', 'u', 'l', 'l', 'd', 'd', 'r', 'u', 'r', 'd', 'l', 'u', 'u', 'r', 'd', 'd', 'l', 'l', 'u', 'u', 'r', 'd', 'l', 'd', 'r', 'r', 'u', 'l', 'u', 'l', 'd', 'r', 'd', 'l', 'u', 'u', 'r', 'r', 'd', 'd', 'l', 'l', 'u', 'r', 'r', 'd', 'l', 'l', 'u', 'r', 'r', 'u', 'l', 'd', 'r', 'u', 'l', 'l', 'd', 'd', 'r', 'u', 'l', 'd', 'r', 'r', 'u', 'u', 'l', 'l', 'd', 'r', 'd', 'l', 'u', 'r', 'u', 'l', 'd', 'd', 'r', 'r', 'u', 'u', 'l', 'l', 'd', 'r', 'r', 'u', 'l', 'd', 'd', 'r', 'u', 'u', 'l', 'd', 'r', 'u', 'l', 'd', 'd', 'r', 'u', 'l', 'l', 'u', 'r', 'd', 'l', 'u', 'r', 'd', 'd', 'r', 'u', 'u', 'l', 'l', 'd', 'r', 'd', 'l', 'u', 'r', 'u', 'r', 'd', 'd', 'l', 'l', 'u', 'u', 'r', 'r']\n",
            "['l', 'l', 'd', 'd', 'r', 'r', 'u', 'u', 'l', 'd', 'l', 'd', 'r', 'u', 'l', 'u', 'r', 'r', 'd', 'd', 'l', 'u', 'u', 'l', 'd', 'r', 'u', 'l', 'd', 'r', 'r', 'd', 'l', 'u', 'u', 'r', 'd', 'l', 'u', 'r', 'd', 'd', 'l', 'u', 'u', 'r', 'd', 'l', 'l', 'u', 'r', 'r', 'd', 'd', 'l', 'l', 'u', 'u', 'r', 'd', 'l', 'd', 'r', 'u', 'l', 'u', 'r', 'r', 'd', 'd', 'l', 'l', 'u', 'r', 'd', 'l', 'u', 'u', 'r', 'r', 'd', 'l', 'u', 'r', 'd', 'l', 'l', 'd', 'r', 'r', 'u', 'l', 'l', 'd', 'r', 'r', 'u', 'u', 'l', 'l', 'd', 'd', 'r', 'u', 'l', 'u', 'r', 'd', 'r', 'd', 'l', 'l', 'u', 'r', 'u', 'l', 'd', 'd', 'r', 'r', 'u', 'u', 'l', 'd', 'd', 'r', 'u', 'l', 'd', 'l', 'u', 'u', 'r', 'r', 'd', 'd', 'l', 'u', 'u', 'r', 'd', 'l', 'u', 'l', 'd', 'r', 'u', 'l', 'd', 'r', 'u', 'r', 'd', 'l', 'l', 'd', 'r', 'r', 'u', 'u', 'l', 'd', 'l', 'u', 'r', 'd', 'l', 'd', 'r', 'u', 'r', 'u', 'l', 'd', 'l', 'd', 'r', 'u', 'r', 'u', 'l', 'd', 'r', 'u', 'l', 'd', 'l', 'd', 'r', 'u', 'u', 'r', 'd', 'l', 'u', 'l', 'd', 'r', 'u', 'l', 'd', 'd', 'r', 'u', 'l', 'd', 'r', 'u', 'l', 'u', 'r', 'r', 'd', 'd', 'l', 'u', 'u', 'l', 'd', 'r', 'u', 'l', 'd', 'd', 'r', 'r', 'u', 'l', 'u', 'r', 'd', 'l', 'd', 'r', 'u', 'u', 'l', 'l', 'd', 'r', 'd', 'r', 'u', 'l', 'u', 'l', 'd', 'd', 'r', 'r', 'u', 'l', 'u', 'r', 'd', 'l', 'd', 'r', 'u', 'u', 'l', 'd', 'd', 'r', 'u', 'u', 'l', 'd', 'd', 'r', 'u', 'u', 'l', 'l', 'd', 'd', 'r', 'r', 'u', 'l', 'u', 'l', 'd', 'd', 'r', 'r', 'u', 'l', 'd', 'l', 'u', 'r', 'd', 'l', 'u', 'u', 'r', 'r', 'd', 'd']\n",
            "[1, 2, 3]\n",
            "[4, 5, 6]\n",
            "[7, 8, 0]\n"
          ],
          "name": "stdout"
        }
      ]
    },
    {
      "cell_type": "code",
      "metadata": {
        "colab": {
          "base_uri": "https://localhost:8080/"
        },
        "id": "tKnMcesqoCss",
        "outputId": "884c7eda-76ff-472e-f951-8c6795202ae8"
      },
      "source": [
        "TileSliding.INITIAL = state1\r\n",
        "ret, cost = BreadthFirstSearch(TileSliding)\r\n",
        "print (ret)\r\n",
        "sol = Solution(ret)\r\n",
        "print (sol)\r\n",
        "print (TileSliding.INITIAL)\r\n",
        "print (ApplyMoves(sol, TileSliding.INITIAL))\r\n",
        "print (\"Length of solution: \", len(sol))\r\n",
        "print (\"Nodes Expanded=\", cost)"
      ],
      "execution_count": 29,
      "outputs": [
        {
          "output_type": "stream",
          "text": [
            "[1, 2, 3, 4, 5, 6, 7, 8, 0], d\n",
            "['d', 'l', 'l', 'u', 'r', 'r', 'd', 'd', 'l', 'u', 'r', 'd', 'l', 'l', 'u', 'u', 'r', 'd', 'r', 'd']\n",
            "[7, 4, 0, 6, 3, 1, 8, 5, 2]\n",
            "[1, 2, 3, 4, 5, 6, 7, 8, 0]\n",
            "Length of solution:  20\n",
            "Nodes Expanded= 32126\n"
          ],
          "name": "stdout"
        }
      ]
    },
    {
      "cell_type": "code",
      "metadata": {
        "colab": {
          "base_uri": "https://localhost:8080/"
        },
        "id": "k24bl418eL5m",
        "outputId": "9b1a7dab-7f50-45a7-a6b3-39398f1078ce"
      },
      "source": [
        "UniformCostF = lambda n: n.PathCost\r\n",
        "TileSliding.INITIAL = state1\r\n",
        "ret, cost = BestFirstSearch(TileSliding, UniformCostF)\r\n",
        "print (ret)\r\n",
        "sol = Solution(ret)\r\n",
        "print (sol)\r\n",
        "print (TileSliding.INITIAL)\r\n",
        "print (ApplyMoves(sol, TileSliding.INITIAL))\r\n",
        "print (\"Length of solution: \", len(sol))\r\n",
        "print (\"Nodes Expanded=\", cost)"
      ],
      "execution_count": 30,
      "outputs": [
        {
          "output_type": "stream",
          "text": [
            "[1, 2, 3, 4, 5, 6, 7, 8, 0], d\n",
            "['d', 'l', 'l', 'u', 'r', 'r', 'd', 'd', 'l', 'u', 'r', 'd', 'l', 'l', 'u', 'u', 'r', 'd', 'r', 'd']\n",
            "[7, 4, 0, 6, 3, 1, 8, 5, 2]\n",
            "[1, 2, 3, 4, 5, 6, 7, 8, 0]\n",
            "Length of solution:  20\n",
            "Nodes Expanded= 43525\n"
          ],
          "name": "stdout"
        }
      ]
    },
    {
      "cell_type": "markdown",
      "metadata": {
        "id": "tdtWdXGlXFGG"
      },
      "source": [
        "# Problem List"
      ]
    },
    {
      "cell_type": "code",
      "metadata": {
        "colab": {
          "base_uri": "https://localhost:8080/"
        },
        "id": "iDhmyFXQXI3N",
        "outputId": "b1402a8e-c19f-48a7-a091-c7a949c7f229"
      },
      "source": [
        "findNum = 10\r\n",
        "randomWalkDistance = 300\r\n",
        "problemList = []\r\n",
        "for i in range(10):\r\n",
        "  state1, sol = RandomWalk(GoalState, 300)\r\n",
        "  problemList.append(state1)\r\n",
        "print (problemList)"
      ],
      "execution_count": 31,
      "outputs": [
        {
          "output_type": "stream",
          "text": [
            "[[1, 5, 6, 3, 8, 2, 0, 4, 7], [0, 7, 5, 6, 2, 3, 4, 8, 1], [7, 4, 3, 2, 1, 6, 0, 8, 5], [7, 4, 8, 2, 6, 5, 1, 3, 0], [8, 4, 0, 6, 1, 5, 7, 2, 3], [0, 7, 1, 5, 2, 8, 4, 6, 3], [0, 2, 5, 1, 6, 3, 8, 4, 7], [8, 4, 1, 6, 7, 2, 0, 3, 5], [8, 4, 3, 1, 0, 7, 2, 6, 5], [7, 4, 6, 1, 3, 2, 5, 8, 0]]\n"
          ],
          "name": "stdout"
        }
      ]
    },
    {
      "cell_type": "markdown",
      "metadata": {
        "id": "TpdrxwA8UvFn"
      },
      "source": [
        "### Breadth First Search w/ Test Problems"
      ]
    },
    {
      "cell_type": "code",
      "metadata": {
        "colab": {
          "base_uri": "https://localhost:8080/"
        },
        "id": "xrni2RRIXkfU",
        "outputId": "97d4857e-15eb-4038-f0e7-c1c3b36cfa00"
      },
      "source": [
        "testProblems = [[5, 3, 0, 4, 7, 6, 2, 1, 8], [3, 2, 0, 1, 5, 4, 7, 8, 6], [0, 1, 3, 8, 5, 2, 6, 7, 4], \r\n",
        "                [3, 7, 6, 2, 4, 1, 8, 5, 0], [6, 7, 5, 8, 0, 1, 2, 3, 4], [7, 4, 6, 8, 0, 1, 3, 2, 5], \r\n",
        "                [0, 1, 8, 3, 5, 2, 6, 4, 7], [0, 4, 6, 5, 8, 1, 7, 2, 3], [1, 5, 7, 6, 0, 3, 4, 2, 8], \r\n",
        "                [0, 2, 4, 1, 7, 6, 3, 5, 8]]\r\n",
        "\r\n",
        "Solutions = []\r\n",
        "for s in testProblems:\r\n",
        "  TileSliding.INITIAL = s\r\n",
        "  ret, cost = BreadthFirstSearch(TileSliding)\r\n",
        "  sol = Solution(ret)\r\n",
        "  print (sol)\r\n",
        "  print (\"-----------------------\")\r\n",
        "  print (TileSliding.INITIAL,'\\n')\r\n",
        "  print (ApplyMoves(sol, TileSliding.INITIAL))\r\n",
        "  print (\"Length of solution: \", len(sol))\r\n",
        "  print (\"Nodes Expanded=\", cost) \r\n",
        "  print (\"-----------------------\")\r\n",
        "  Solutions.append((''.join(map(str, s)), ''.join(sol), cost))\r\n",
        "print (\"-------\")\r\n",
        "print (Solutions)\r\n"
      ],
      "execution_count": 32,
      "outputs": [
        {
          "output_type": "stream",
          "text": [
            "['l', 'd', 'l', 'd', 'r', 'u', 'u', 'l', 'd', 'd', 'r', 'u', 'u', 'l', 'd', 'd', 'r', 'r']\n",
            "-----------------------\n",
            "[5, 3, 0, 4, 7, 6, 2, 1, 8] \n",
            "\n",
            "[1, 2, 3, 4, 5, 6, 7, 8, 0]\n",
            "Length of solution:  18\n",
            "Nodes Expanded= 15775\n",
            "-----------------------\n",
            "['l', 'd', 'r', 'u', 'l', 'l', 'd', 'r', 'r', 'u', 'l', 'd', 'r', 'd']\n",
            "-----------------------\n",
            "[3, 2, 0, 1, 5, 4, 7, 8, 6] \n",
            "\n",
            "[1, 2, 3, 4, 5, 6, 7, 8, 0]\n",
            "Length of solution:  14\n",
            "Nodes Expanded= 2645\n",
            "-----------------------\n",
            "['d', 'd', 'r', 'u', 'r', 'd', 'l', 'l', 'u', 'u', 'r', 'd', 'd', 'l', 'u', 'r', 'r', 'd', 'l', 'l', 'u', 'r', 'r', 'd']\n",
            "-----------------------\n",
            "[0, 1, 3, 8, 5, 2, 6, 7, 4] \n",
            "\n",
            "[1, 2, 3, 4, 5, 6, 7, 8, 0]\n",
            "Length of solution:  24\n",
            "Nodes Expanded= 99562\n",
            "-----------------------\n",
            "['u', 'l', 'u', 'l', 'd', 'r', 'r', 'u', 'l', 'd', 'd', 'r', 'u', 'l', 'd', 'l', 'u', 'r', 'u', 'l', 'd', 'r', 'r', 'd']\n",
            "-----------------------\n",
            "[3, 7, 6, 2, 4, 1, 8, 5, 0] \n",
            "\n",
            "[1, 2, 3, 4, 5, 6, 7, 8, 0]\n",
            "Length of solution:  24\n",
            "Nodes Expanded= 102839\n",
            "-----------------------\n",
            "['u', 'r', 'd', 'l', 'd', 'r', 'u', 'l', 'l', 'u', 'r', 'r', 'd', 'l', 'l', 'd', 'r', 'r', 'u', 'l', 'l', 'u', 'r', 'd', 'l', 'd', 'r', 'r']\n",
            "-----------------------\n",
            "[6, 7, 5, 8, 0, 1, 2, 3, 4] \n",
            "\n",
            "[1, 2, 3, 4, 5, 6, 7, 8, 0]\n",
            "Length of solution:  28\n",
            "Nodes Expanded= 176504\n",
            "-----------------------\n",
            "['d', 'l', 'u', 'u', 'r', 'd', 'r', 'u', 'l', 'd', 'd', 'r', 'u', 'l', 'd', 'l', 'u', 'u', 'r', 'r', 'd', 'd']\n",
            "-----------------------\n",
            "[7, 4, 6, 8, 0, 1, 3, 2, 5] \n",
            "\n",
            "[1, 2, 3, 4, 5, 6, 7, 8, 0]\n",
            "Length of solution:  22\n",
            "Nodes Expanded= 70228\n",
            "-----------------------\n",
            "['r', 'r', 'd', 'l', 'l', 'd', 'r', 'r', 'u', 'l', 'u', 'r', 'd', 'l', 'l', 'd', 'r', 'r', 'u', 'l', 'd', 'r']\n",
            "-----------------------\n",
            "[0, 1, 8, 3, 5, 2, 6, 4, 7] \n",
            "\n",
            "[1, 2, 3, 4, 5, 6, 7, 8, 0]\n",
            "Length of solution:  22\n",
            "Nodes Expanded= 71840\n",
            "-----------------------\n",
            "['r', 'r', 'd', 'l', 'd', 'r', 'u', 'l', 'u', 'r', 'd', 'l', 'd', 'r', 'u', 'l', 'l', 'u', 'r', 'r', 'd', 'd']\n",
            "-----------------------\n",
            "[0, 4, 6, 5, 8, 1, 7, 2, 3] \n",
            "\n",
            "[1, 2, 3, 4, 5, 6, 7, 8, 0]\n",
            "Length of solution:  22\n",
            "Nodes Expanded= 71233\n",
            "-----------------------\n",
            "['d', 'r', 'u', 'u', 'l', 'd', 'r', 'd', 'l', 'u', 'l', 'u', 'r', 'r', 'd', 'l', 'u', 'l', 'd', 'd', 'r', 'r']\n",
            "-----------------------\n",
            "[1, 5, 7, 6, 0, 3, 4, 2, 8] \n",
            "\n",
            "[1, 2, 3, 4, 5, 6, 7, 8, 0]\n",
            "Length of solution:  22\n",
            "Nodes Expanded= 72942\n",
            "-----------------------\n",
            "['d', 'd', 'r', 'u', 'l', 'd', 'r', 'r', 'u', 'l', 'l', 'u', 'r', 'r', 'd', 'l', 'u', 'l', 'd', 'r', 'r', 'd']\n",
            "-----------------------\n",
            "[0, 2, 4, 1, 7, 6, 3, 5, 8] \n",
            "\n",
            "[1, 2, 3, 4, 5, 6, 7, 8, 0]\n",
            "Length of solution:  22\n",
            "Nodes Expanded= 56648\n",
            "-----------------------\n",
            "-------\n",
            "[('530476218', 'ldldruulddruulddrr', 15775), ('320154786', 'ldrulldrruldrd', 2645), ('013852674', 'ddrurdlluurddlurrdllurrd', 99562), ('376241850', 'ululdrrulddruldluruldrrd', 102839), ('675801234', 'urdldrullurrdlldrrullurdldrr', 176504), ('746801325', 'dluurdrulddruldluurrdd', 70228), ('018352647', 'rrdlldrrulurdlldrruldr', 71840), ('046581723', 'rrdldrulurdldrullurrdd', 71233), ('157603428', 'druuldrdlulurrdlulddrr', 72942), ('024176358', 'ddruldrrullurrdluldrrd', 56648)]\n"
          ],
          "name": "stdout"
        }
      ]
    },
    {
      "cell_type": "markdown",
      "metadata": {
        "id": "YLVN3sTkU0jw"
      },
      "source": [
        "### Uniform Cost Search w/ Test Problems"
      ]
    },
    {
      "cell_type": "code",
      "metadata": {
        "colab": {
          "base_uri": "https://localhost:8080/"
        },
        "id": "LsWVfbeLRYfO",
        "outputId": "8a792c22-bd2c-4f5a-fa73-f1747b47c514"
      },
      "source": [
        "UniformCostF = lambda n: n.PathCost\r\n",
        "testProblems = [[5, 3, 0, 4, 7, 6, 2, 1, 8], [3, 2, 0, 1, 5, 4, 7, 8, 6], [0, 1, 3, 8, 5, 2, 6, 7, 4], \r\n",
        "                [3, 7, 6, 2, 4, 1, 8, 5, 0], [6, 7, 5, 8, 0, 1, 2, 3, 4], [7, 4, 6, 8, 0, 1, 3, 2, 5], \r\n",
        "                [0, 1, 8, 3, 5, 2, 6, 4, 7], [0, 4, 6, 5, 8, 1, 7, 2, 3], [1, 5, 7, 6, 0, 3, 4, 2, 8], \r\n",
        "                [0, 2, 4, 1, 7, 6, 3, 5, 8]]\r\n",
        "\r\n",
        "Solutions = []\r\n",
        "for s in testProblems:\r\n",
        "  TileSliding.INITIAL = s\r\n",
        "  ret, cost = BestFirstSearch(TileSliding, UniformCostF)\r\n",
        "  sol = Solution(ret)\r\n",
        "  print (sol)\r\n",
        "  print (\"-----------------------\")\r\n",
        "  print (TileSliding.INITIAL,'\\n')\r\n",
        "  print (ApplyMoves(sol, TileSliding.INITIAL))\r\n",
        "  print (\"Length of solution: \", len(sol))\r\n",
        "  print (\"Nodes Expanded=\", cost) \r\n",
        "  print (\"-----------------------\")\r\n",
        "  Solutions.append((''.join(map(str, s)), ''.join(sol), cost))\r\n",
        "print (\"-------\")\r\n",
        "print (Solutions)"
      ],
      "execution_count": 33,
      "outputs": [
        {
          "output_type": "stream",
          "text": [
            "['l', 'l', 'd', 'd', 'r', 'u', 'u', 'l', 'd', 'd', 'r', 'u', 'u', 'l', 'd', 'r', 'd', 'r']\n",
            "-----------------------\n",
            "[5, 3, 0, 4, 7, 6, 2, 1, 8] \n",
            "\n",
            "[1, 2, 3, 4, 5, 6, 7, 8, 0]\n",
            "Length of solution:  18\n",
            "Nodes Expanded= 22919\n",
            "-----------------------\n",
            "['l', 'd', 'r', 'u', 'l', 'l', 'd', 'r', 'r', 'u', 'l', 'd', 'r', 'd']\n",
            "-----------------------\n",
            "[3, 2, 0, 1, 5, 4, 7, 8, 6] \n",
            "\n",
            "[1, 2, 3, 4, 5, 6, 7, 8, 0]\n",
            "Length of solution:  14\n",
            "Nodes Expanded= 4754\n",
            "-----------------------\n",
            "['r', 'd', 'd', 'l', 'u', 'r', 'r', 'd', 'l', 'l', 'u', 'u', 'r', 'd', 'r', 'u', 'l', 'l', 'd', 'r', 'u', 'r', 'd', 'd']\n",
            "-----------------------\n",
            "[0, 1, 3, 8, 5, 2, 6, 7, 4] \n",
            "\n",
            "[1, 2, 3, 4, 5, 6, 7, 8, 0]\n",
            "Length of solution:  24\n",
            "Nodes Expanded= 120796\n",
            "-----------------------\n",
            "['u', 'l', 'u', 'l', 'd', 'r', 'r', 'u', 'l', 'd', 'd', 'r', 'u', 'l', 'd', 'l', 'u', 'r', 'u', 'l', 'd', 'r', 'r', 'd']\n",
            "-----------------------\n",
            "[3, 7, 6, 2, 4, 1, 8, 5, 0] \n",
            "\n",
            "[1, 2, 3, 4, 5, 6, 7, 8, 0]\n",
            "Length of solution:  24\n",
            "Nodes Expanded= 121538\n",
            "-----------------------\n",
            "['d', 'l', 'u', 'u', 'r', 'd', 'r', 'u', 'l', 'd', 'l', 'u', 'r', 'r', 'd', 'l', 'd', 'r', 'u', 'u', 'l', 'd', 'd', 'l', 'u', 'r', 'r', 'd']\n",
            "-----------------------\n",
            "[6, 7, 5, 8, 0, 1, 2, 3, 4] \n",
            "\n",
            "[1, 2, 3, 4, 5, 6, 7, 8, 0]\n",
            "Length of solution:  28\n",
            "Nodes Expanded= 179157\n",
            "-----------------------\n",
            "['d', 'l', 'u', 'u', 'r', 'd', 'r', 'u', 'l', 'd', 'd', 'r', 'u', 'l', 'd', 'l', 'u', 'u', 'r', 'r', 'd', 'd']\n",
            "-----------------------\n",
            "[7, 4, 6, 8, 0, 1, 3, 2, 5] \n",
            "\n",
            "[1, 2, 3, 4, 5, 6, 7, 8, 0]\n",
            "Length of solution:  22\n",
            "Nodes Expanded= 92946\n",
            "-----------------------\n",
            "['r', 'r', 'd', 'l', 'l', 'd', 'r', 'r', 'u', 'l', 'l', 'd', 'r', 'u', 'u', 'r', 'd', 'd', 'l', 'u', 'r', 'd']\n",
            "-----------------------\n",
            "[0, 1, 8, 3, 5, 2, 6, 4, 7] \n",
            "\n",
            "[1, 2, 3, 4, 5, 6, 7, 8, 0]\n",
            "Length of solution:  22\n",
            "Nodes Expanded= 72788\n",
            "-----------------------\n",
            "['r', 'r', 'd', 'l', 'd', 'r', 'u', 'l', 'u', 'r', 'd', 'l', 'd', 'r', 'u', 'l', 'l', 'u', 'r', 'r', 'd', 'd']\n",
            "-----------------------\n",
            "[0, 4, 6, 5, 8, 1, 7, 2, 3] \n",
            "\n",
            "[1, 2, 3, 4, 5, 6, 7, 8, 0]\n",
            "Length of solution:  22\n",
            "Nodes Expanded= 82015\n",
            "-----------------------\n",
            "['r', 'u', 'l', 'd', 'r', 'd', 'l', 'u', 'l', 'd', 'r', 'u', 'r', 'd', 'l', 'u', 'r', 'u', 'l', 'd', 'r', 'd']\n",
            "-----------------------\n",
            "[1, 5, 7, 6, 0, 3, 4, 2, 8] \n",
            "\n",
            "[1, 2, 3, 4, 5, 6, 7, 8, 0]\n",
            "Length of solution:  22\n",
            "Nodes Expanded= 86853\n",
            "-----------------------\n",
            "['d', 'r', 'd', 'l', 'u', 'u', 'r', 'd', 'd', 'r', 'u', 'u', 'l', 'd', 'r', 'u', 'l', 'l', 'd', 'r', 'r', 'd']\n",
            "-----------------------\n",
            "[0, 2, 4, 1, 7, 6, 3, 5, 8] \n",
            "\n",
            "[1, 2, 3, 4, 5, 6, 7, 8, 0]\n",
            "Length of solution:  22\n",
            "Nodes Expanded= 77754\n",
            "-----------------------\n",
            "-------\n",
            "[('530476218', 'llddruulddruuldrdr', 22919), ('320154786', 'ldrulldrruldrd', 4754), ('013852674', 'rddlurrdlluurdrulldrurdd', 120796), ('376241850', 'ululdrrulddruldluruldrrd', 121538), ('675801234', 'dluurdruldlurrdldruulddlurrd', 179157), ('746801325', 'dluurdrulddruldluurrdd', 92946), ('018352647', 'rrdlldrrulldruurddlurd', 72788), ('046581723', 'rrdldrulurdldrullurrdd', 82015), ('157603428', 'ruldrdluldrurdluruldrd', 86853), ('024176358', 'drdluurddruuldrulldrrd', 77754)]\n"
          ],
          "name": "stdout"
        }
      ]
    },
    {
      "cell_type": "markdown",
      "metadata": {
        "id": "p8yiFsHoU6sf"
      },
      "source": [
        "### AStar using ManhattanDistance w/ Test Problems"
      ]
    },
    {
      "cell_type": "code",
      "metadata": {
        "colab": {
          "base_uri": "https://localhost:8080/"
        },
        "id": "6VD8LuUJRhxU",
        "outputId": "b652997e-932b-430e-f6c7-471867a4df52"
      },
      "source": [
        "AStarFb = lambda n: n.PathCost + Manhattan(n.State, GoalState)\r\n",
        "testProblems = [[5, 3, 0, 4, 7, 6, 2, 1, 8], [3, 2, 0, 1, 5, 4, 7, 8, 6], [0, 1, 3, 8, 5, 2, 6, 7, 4], \r\n",
        "                [3, 7, 6, 2, 4, 1, 8, 5, 0], [6, 7, 5, 8, 0, 1, 2, 3, 4], [7, 4, 6, 8, 0, 1, 3, 2, 5], \r\n",
        "                [0, 1, 8, 3, 5, 2, 6, 4, 7], [0, 4, 6, 5, 8, 1, 7, 2, 3], [1, 5, 7, 6, 0, 3, 4, 2, 8], \r\n",
        "                [0, 2, 4, 1, 7, 6, 3, 5, 8]]\r\n",
        "\r\n",
        "Solutions = []\r\n",
        "for s in testProblems:\r\n",
        "  TileSliding.INITIAL = s\r\n",
        "  ret, cost = BestFirstSearch(TileSliding, AStarF)\r\n",
        "  sol = Solution(ret)\r\n",
        "  print (sol)\r\n",
        "  print (\"-----------------------\")\r\n",
        "  print (TileSliding.INITIAL,'\\n')\r\n",
        "  print (ApplyMoves(sol, TileSliding.INITIAL))\r\n",
        "  print (\"Length of solution: \", len(sol))\r\n",
        "  print (\"Nodes Expanded=\", cost) \r\n",
        "  print (\"-----------------------\")\r\n",
        "  Solutions.append((''.join(map(str, s)), ''.join(sol), cost))\r\n",
        "print (\"-------\")\r\n",
        "print (Solutions)"
      ],
      "execution_count": 43,
      "outputs": [
        {
          "output_type": "stream",
          "text": [
            "['l', 'l', 'd', 'd', 'r', 'u', 'u', 'l', 'd', 'd', 'r', 'u', 'u', 'l', 'd', 'r', 'd', 'r']\n",
            "-----------------------\n",
            "[5, 3, 0, 4, 7, 6, 2, 1, 8] \n",
            "\n",
            "[1, 2, 3, 4, 5, 6, 7, 8, 0]\n",
            "Length of solution:  18\n",
            "Nodes Expanded= 251\n",
            "-----------------------\n",
            "['l', 'd', 'r', 'u', 'l', 'l', 'd', 'r', 'r', 'u', 'l', 'd', 'r', 'd']\n",
            "-----------------------\n",
            "[3, 2, 0, 1, 5, 4, 7, 8, 6] \n",
            "\n",
            "[1, 2, 3, 4, 5, 6, 7, 8, 0]\n",
            "Length of solution:  14\n",
            "Nodes Expanded= 92\n",
            "-----------------------\n",
            "['d', 'd', 'r', 'u', 'r', 'd', 'l', 'l', 'u', 'u', 'r', 'd', 'd', 'l', 'u', 'r', 'r', 'd', 'l', 'l', 'u', 'r', 'r', 'd']\n",
            "-----------------------\n",
            "[0, 1, 3, 8, 5, 2, 6, 7, 4] \n",
            "\n",
            "[1, 2, 3, 4, 5, 6, 7, 8, 0]\n",
            "Length of solution:  24\n",
            "Nodes Expanded= 2798\n",
            "-----------------------\n",
            "['u', 'l', 'u', 'l', 'd', 'r', 'r', 'u', 'l', 'd', 'd', 'r', 'u', 'l', 'd', 'l', 'u', 'r', 'u', 'l', 'd', 'r', 'r', 'd']\n",
            "-----------------------\n",
            "[3, 7, 6, 2, 4, 1, 8, 5, 0] \n",
            "\n",
            "[1, 2, 3, 4, 5, 6, 7, 8, 0]\n",
            "Length of solution:  24\n",
            "Nodes Expanded= 1769\n",
            "-----------------------\n",
            "['d', 'l', 'u', 'u', 'r', 'd', 'r', 'u', 'l', 'd', 'l', 'u', 'r', 'r', 'd', 'l', 'd', 'r', 'u', 'u', 'l', 'd', 'd', 'l', 'u', 'r', 'r', 'd']\n",
            "-----------------------\n",
            "[6, 7, 5, 8, 0, 1, 2, 3, 4] \n",
            "\n",
            "[1, 2, 3, 4, 5, 6, 7, 8, 0]\n",
            "Length of solution:  28\n",
            "Nodes Expanded= 7654\n",
            "-----------------------\n",
            "['d', 'l', 'u', 'u', 'r', 'd', 'r', 'u', 'l', 'd', 'd', 'r', 'u', 'l', 'd', 'l', 'u', 'u', 'r', 'r', 'd', 'd']\n",
            "-----------------------\n",
            "[7, 4, 6, 8, 0, 1, 3, 2, 5] \n",
            "\n",
            "[1, 2, 3, 4, 5, 6, 7, 8, 0]\n",
            "Length of solution:  22\n",
            "Nodes Expanded= 641\n",
            "-----------------------\n",
            "['r', 'r', 'd', 'l', 'l', 'd', 'r', 'r', 'u', 'l', 'u', 'r', 'd', 'l', 'l', 'd', 'r', 'r', 'u', 'l', 'd', 'r']\n",
            "-----------------------\n",
            "[0, 1, 8, 3, 5, 2, 6, 4, 7] \n",
            "\n",
            "[1, 2, 3, 4, 5, 6, 7, 8, 0]\n",
            "Length of solution:  22\n",
            "Nodes Expanded= 570\n",
            "-----------------------\n",
            "['r', 'r', 'd', 'l', 'd', 'r', 'u', 'l', 'u', 'r', 'd', 'l', 'd', 'r', 'u', 'l', 'l', 'u', 'r', 'r', 'd', 'd']\n",
            "-----------------------\n",
            "[0, 4, 6, 5, 8, 1, 7, 2, 3] \n",
            "\n",
            "[1, 2, 3, 4, 5, 6, 7, 8, 0]\n",
            "Length of solution:  22\n",
            "Nodes Expanded= 1020\n",
            "-----------------------\n",
            "['r', 'u', 'l', 'd', 'd', 'r', 'u', 'u', 'l', 'd', 'd', 'r', 'u', 'l', 'l', 'd', 'r', 'r', 'u', 'l', 'd', 'r']\n",
            "-----------------------\n",
            "[1, 5, 7, 6, 0, 3, 4, 2, 8] \n",
            "\n",
            "[1, 2, 3, 4, 5, 6, 7, 8, 0]\n",
            "Length of solution:  22\n",
            "Nodes Expanded= 1378\n",
            "-----------------------\n",
            "['d', 'r', 'd', 'l', 'u', 'r', 'd', 'r', 'u', 'l', 'l', 'u', 'r', 'r', 'd', 'l', 'u', 'l', 'd', 'r', 'r', 'd']\n",
            "-----------------------\n",
            "[0, 2, 4, 1, 7, 6, 3, 5, 8] \n",
            "\n",
            "[1, 2, 3, 4, 5, 6, 7, 8, 0]\n",
            "Length of solution:  22\n",
            "Nodes Expanded= 1090\n",
            "-----------------------\n",
            "-------\n",
            "[('530476218', 'llddruulddruuldrdr', 251), ('320154786', 'ldrulldrruldrd', 92), ('013852674', 'ddrurdlluurddlurrdllurrd', 2798), ('376241850', 'ululdrrulddruldluruldrrd', 1769), ('675801234', 'dluurdruldlurrdldruulddlurrd', 7654), ('746801325', 'dluurdrulddruldluurrdd', 641), ('018352647', 'rrdlldrrulurdlldrruldr', 570), ('046581723', 'rrdldrulurdldrullurrdd', 1020), ('157603428', 'rulddruulddrulldrruldr', 1378), ('024176358', 'drdlurdrullurrdluldrrd', 1090)]\n"
          ],
          "name": "stdout"
        }
      ]
    },
    {
      "cell_type": "markdown",
      "metadata": {
        "id": "dluzNjyYVBSl"
      },
      "source": [
        "### AStar using OutOfPlace w/ Test Problems"
      ]
    },
    {
      "cell_type": "code",
      "metadata": {
        "colab": {
          "base_uri": "https://localhost:8080/"
        },
        "id": "m7icYl-JUGbR",
        "outputId": "180b55bc-3d50-414b-ede3-319a59b83b78"
      },
      "source": [
        "AStarFb = lambda n: n.PathCost + OutOfPlace(n.State, GoalState)\r\n",
        "testProblems = [[5, 3, 0, 4, 7, 6, 2, 1, 8], [3, 2, 0, 1, 5, 4, 7, 8, 6], [0, 1, 3, 8, 5, 2, 6, 7, 4], \r\n",
        "                [3, 7, 6, 2, 4, 1, 8, 5, 0], [6, 7, 5, 8, 0, 1, 2, 3, 4], [7, 4, 6, 8, 0, 1, 3, 2, 5], \r\n",
        "                [0, 1, 8, 3, 5, 2, 6, 4, 7], [0, 4, 6, 5, 8, 1, 7, 2, 3], [1, 5, 7, 6, 0, 3, 4, 2, 8], \r\n",
        "                [0, 2, 4, 1, 7, 6, 3, 5, 8]]\r\n",
        "\r\n",
        "Solutions = []\r\n",
        "for s in testProblems:\r\n",
        "  TileSliding.INITIAL = s\r\n",
        "  ret, cost = BestFirstSearch(TileSliding, AStarFb)\r\n",
        "  sol = Solution(ret)\r\n",
        "  print (sol)\r\n",
        "  print (\"-----------------------\")\r\n",
        "  print (TileSliding.INITIAL,'\\n')\r\n",
        "  print (ApplyMoves(sol, TileSliding.INITIAL))\r\n",
        "  print (\"Length of solution: \", len(sol))\r\n",
        "  print (\"Nodes Expanded=\", cost) \r\n",
        "  print (\"-----------------------\")\r\n",
        "  Solutions.append((''.join(map(str, s)), ''.join(sol), cost))\r\n",
        "print (\"-------\")\r\n",
        "print (Solutions)"
      ],
      "execution_count": 44,
      "outputs": [
        {
          "output_type": "stream",
          "text": [
            "['l', 'd', 'l', 'd', 'r', 'u', 'u', 'l', 'd', 'd', 'r', 'u', 'u', 'l', 'd', 'd', 'r', 'r']\n",
            "-----------------------\n",
            "[5, 3, 0, 4, 7, 6, 2, 1, 8] \n",
            "\n",
            "[1, 2, 3, 4, 5, 6, 7, 8, 0]\n",
            "Length of solution:  18\n",
            "Nodes Expanded= 1319\n",
            "-----------------------\n",
            "['l', 'd', 'r', 'u', 'l', 'l', 'd', 'r', 'r', 'u', 'l', 'd', 'r', 'd']\n",
            "-----------------------\n",
            "[3, 2, 0, 1, 5, 4, 7, 8, 6] \n",
            "\n",
            "[1, 2, 3, 4, 5, 6, 7, 8, 0]\n",
            "Length of solution:  14\n",
            "Nodes Expanded= 242\n",
            "-----------------------\n",
            "['d', 'd', 'r', 'u', 'r', 'd', 'l', 'l', 'u', 'u', 'r', 'd', 'd', 'l', 'u', 'r', 'r', 'd', 'l', 'l', 'u', 'r', 'r', 'd']\n",
            "-----------------------\n",
            "[0, 1, 3, 8, 5, 2, 6, 7, 4] \n",
            "\n",
            "[1, 2, 3, 4, 5, 6, 7, 8, 0]\n",
            "Length of solution:  24\n",
            "Nodes Expanded= 18751\n",
            "-----------------------\n",
            "['u', 'l', 'u', 'l', 'd', 'r', 'r', 'u', 'l', 'd', 'd', 'r', 'u', 'l', 'd', 'l', 'u', 'r', 'u', 'l', 'd', 'r', 'r', 'd']\n",
            "-----------------------\n",
            "[3, 7, 6, 2, 4, 1, 8, 5, 0] \n",
            "\n",
            "[1, 2, 3, 4, 5, 6, 7, 8, 0]\n",
            "Length of solution:  24\n",
            "Nodes Expanded= 17913\n",
            "-----------------------\n",
            "['r', 'd', 'l', 'u', 'l', 'd', 'r', 'u', 'r', 'd', 'l', 'u', 'u', 'l', 'd', 'd', 'r', 'u', 'u', 'r', 'd', 'l', 'u', 'l', 'd', 'd', 'r', 'r']\n",
            "-----------------------\n",
            "[6, 7, 5, 8, 0, 1, 2, 3, 4] \n",
            "\n",
            "[1, 2, 3, 4, 5, 6, 7, 8, 0]\n",
            "Length of solution:  28\n",
            "Nodes Expanded= 82106\n",
            "-----------------------\n",
            "['d', 'l', 'u', 'u', 'r', 'd', 'r', 'u', 'l', 'd', 'd', 'r', 'u', 'l', 'd', 'l', 'u', 'u', 'r', 'r', 'd', 'd']\n",
            "-----------------------\n",
            "[7, 4, 6, 8, 0, 1, 3, 2, 5] \n",
            "\n",
            "[1, 2, 3, 4, 5, 6, 7, 8, 0]\n",
            "Length of solution:  22\n",
            "Nodes Expanded= 9167\n",
            "-----------------------\n",
            "['r', 'r', 'd', 'l', 'l', 'd', 'r', 'r', 'u', 'l', 'u', 'r', 'd', 'l', 'l', 'd', 'r', 'r', 'u', 'l', 'd', 'r']\n",
            "-----------------------\n",
            "[0, 1, 8, 3, 5, 2, 6, 4, 7] \n",
            "\n",
            "[1, 2, 3, 4, 5, 6, 7, 8, 0]\n",
            "Length of solution:  22\n",
            "Nodes Expanded= 7533\n",
            "-----------------------\n",
            "['r', 'r', 'd', 'l', 'd', 'r', 'u', 'l', 'u', 'r', 'd', 'l', 'd', 'r', 'u', 'l', 'l', 'u', 'r', 'r', 'd', 'd']\n",
            "-----------------------\n",
            "[0, 4, 6, 5, 8, 1, 7, 2, 3] \n",
            "\n",
            "[1, 2, 3, 4, 5, 6, 7, 8, 0]\n",
            "Length of solution:  22\n",
            "Nodes Expanded= 8021\n",
            "-----------------------\n",
            "['r', 'u', 'l', 'd', 'd', 'r', 'u', 'u', 'l', 'd', 'd', 'r', 'u', 'l', 'l', 'd', 'r', 'r', 'u', 'l', 'd', 'r']\n",
            "-----------------------\n",
            "[1, 5, 7, 6, 0, 3, 4, 2, 8] \n",
            "\n",
            "[1, 2, 3, 4, 5, 6, 7, 8, 0]\n",
            "Length of solution:  22\n",
            "Nodes Expanded= 10011\n",
            "-----------------------\n",
            "['d', 'r', 'd', 'r', 'u', 'u', 'l', 'd', 'r', 'd', 'l', 'l', 'u', 'r', 'd', 'r', 'u', 'l', 'u', 'r', 'd', 'd']\n",
            "-----------------------\n",
            "[0, 2, 4, 1, 7, 6, 3, 5, 8] \n",
            "\n",
            "[1, 2, 3, 4, 5, 6, 7, 8, 0]\n",
            "Length of solution:  22\n",
            "Nodes Expanded= 8014\n",
            "-----------------------\n",
            "-------\n",
            "[('530476218', 'ldldruulddruulddrr', 1319), ('320154786', 'ldrulldrruldrd', 242), ('013852674', 'ddrurdlluurddlurrdllurrd', 18751), ('376241850', 'ululdrrulddruldluruldrrd', 17913), ('675801234', 'rdluldrurdluulddruurdlulddrr', 82106), ('746801325', 'dluurdrulddruldluurrdd', 9167), ('018352647', 'rrdlldrrulurdlldrruldr', 7533), ('046581723', 'rrdldrulurdldrullurrdd', 8021), ('157603428', 'rulddruulddrulldrruldr', 10011), ('024176358', 'drdruuldrdllurdrulurdd', 8014)]\n"
          ],
          "name": "stdout"
        }
      ]
    },
    {
      "cell_type": "markdown",
      "metadata": {
        "id": "TEBWJx6DwN-r"
      },
      "source": [
        "### Best First Search -- Greedy"
      ]
    },
    {
      "cell_type": "code",
      "metadata": {
        "colab": {
          "base_uri": "https://localhost:8080/"
        },
        "id": "fI27-Y5ivXdw",
        "outputId": "0e78f087-b7ea-433a-9fa2-3aad3e5d5b03"
      },
      "source": [
        "### Best First\r\n",
        "bestFirstSearchf = lambda n: OutOfPlace(n.State, GoalState)\r\n",
        "testProblems = [[5, 3, 0, 4, 7, 6, 2, 1, 8], [3, 2, 0, 1, 5, 4, 7, 8, 6], [0, 1, 3, 8, 5, 2, 6, 7, 4], \r\n",
        "                [3, 7, 6, 2, 4, 1, 8, 5, 0], [6, 7, 5, 8, 0, 1, 2, 3, 4], [7, 4, 6, 8, 0, 1, 3, 2, 5], \r\n",
        "                [0, 1, 8, 3, 5, 2, 6, 4, 7], [0, 4, 6, 5, 8, 1, 7, 2, 3], [1, 5, 7, 6, 0, 3, 4, 2, 8], \r\n",
        "                [0, 2, 4, 1, 7, 6, 3, 5, 8]]\r\n",
        "\r\n",
        "Solutions = []\r\n",
        "for s in testProblems:\r\n",
        "  TileSliding.INITIAL = s\r\n",
        "  ret, cost = BestFirstSearch(TileSliding, bestFirstSearchf)\r\n",
        "  sol = Solution(ret)\r\n",
        "  print (sol)\r\n",
        "  print (\"-----------------------\")\r\n",
        "  print (TileSliding.INITIAL,'\\n')\r\n",
        "  print (ApplyMoves(sol, TileSliding.INITIAL))\r\n",
        "  print (\"Length of solution: \", len(sol))\r\n",
        "  print (\"Nodes Expanded=\", cost) \r\n",
        "  print (\"-----------------------\")\r\n",
        "  Solutions.append((''.join(map(str, s)), ''.join(sol), cost))\r\n",
        "print (\"-------\")\r\n",
        "print (Solutions)"
      ],
      "execution_count": 45,
      "outputs": [
        {
          "output_type": "stream",
          "text": [
            "['l', 'l', 'd', 'd', 'r', 'u', 'u', 'l', 'd', 'd', 'r', 'u', 'u', 'l', 'd', 'r', 'd', 'r']\n",
            "-----------------------\n",
            "[5, 3, 0, 4, 7, 6, 2, 1, 8] \n",
            "\n",
            "[1, 2, 3, 4, 5, 6, 7, 8, 0]\n",
            "Length of solution:  18\n",
            "Nodes Expanded= 52\n",
            "-----------------------\n",
            "['l', 'l', 'd', 'r', 'u', 'r', 'd', 'l', 'l', 'u', 'r', 'r', 'd', 'l', 'u', 'l', 'd', 'r', 'r', 'd']\n",
            "-----------------------\n",
            "[3, 2, 0, 1, 5, 4, 7, 8, 6] \n",
            "\n",
            "[1, 2, 3, 4, 5, 6, 7, 8, 0]\n",
            "Length of solution:  20\n",
            "Nodes Expanded= 196\n",
            "-----------------------\n",
            "['r', 'd', 'd', 'l', 'u', 'r', 'r', 'd', 'l', 'l', 'u', 'r', 'r', 'd', 'l', 'l', 'u', 'r', 'u', 'l', 'd', 'd', 'r', 'u', 'l', 'u', 'r', 'd', 'd', 'r']\n",
            "-----------------------\n",
            "[0, 1, 3, 8, 5, 2, 6, 7, 4] \n",
            "\n",
            "[1, 2, 3, 4, 5, 6, 7, 8, 0]\n",
            "Length of solution:  30\n",
            "Nodes Expanded= 380\n",
            "-----------------------\n",
            "['u', 'u', 'l', 'l', 'd', 'r', 'd', 'r', 'u', 'u', 'l', 'd', 'd', 'l', 'u', 'r', 'u', 'l', 'd', 'r', 'r', 'd', 'l', 'u', 'l', 'd', 'r', 'r']\n",
            "-----------------------\n",
            "[3, 7, 6, 2, 4, 1, 8, 5, 0] \n",
            "\n",
            "[1, 2, 3, 4, 5, 6, 7, 8, 0]\n",
            "Length of solution:  28\n",
            "Nodes Expanded= 609\n",
            "-----------------------\n",
            "['l', 'd', 'r', 'u', 'r', 'u', 'l', 'l', 'd', 'r', 'r', 'u', 'l', 'l', 'd', 'r', 'd', 'l', 'u', 'r', 'r', 'd', 'l', 'l', 'u', 'r', 'd', 'l', 'u', 'r', 'r', 'd', 'l', 'u', 'r', 'u', 'l', 'd', 'd', 'r', 'u', 'l', 'u', 'r', 'd', 'l', 'l', 'u', 'r', 'r', 'd', 'l', 'u', 'l', 'd', 'r', 'r', 'd']\n",
            "-----------------------\n",
            "[6, 7, 5, 8, 0, 1, 2, 3, 4] \n",
            "\n",
            "[1, 2, 3, 4, 5, 6, 7, 8, 0]\n",
            "Length of solution:  58\n",
            "Nodes Expanded= 1753\n",
            "-----------------------\n",
            "['r', 'u', 'l', 'd', 'l', 'u', 'r', 'd', 'd', 'l', 'u', 'r', 'd', 'r', 'u', 'l', 'u', 'r', 'd', 'd', 'l', 'u', 'u', 'l', 'd', 'r', 'u', 'r', 'd', 'l', 'u', 'l', 'd', 'r', 'r', 'u', 'l', 'd', 'l', 'u', 'r', 'r', 'd', 'd', 'l', 'u', 'r', 'u', 'l', 'd', 'd', 'r', 'u', 'l', 'u', 'r', 'd', 'd']\n",
            "-----------------------\n",
            "[7, 4, 6, 8, 0, 1, 3, 2, 5] \n",
            "\n",
            "[1, 2, 3, 4, 5, 6, 7, 8, 0]\n",
            "Length of solution:  58\n",
            "Nodes Expanded= 365\n",
            "-----------------------\n",
            "['r', 'd', 'r', 'u', 'l', 'd', 'l', 'd', 'r', 'r', 'u', 'l', 'l', 'd', 'r', 'u', 'r', 'u', 'l', 'd', 'd', 'r', 'u', 'l', 'u', 'r', 'd', 'd', 'l', 'u', 'r', 'u', 'l', 'd', 'd', 'r', 'u', 'l', 'u', 'r', 'd', 'd']\n",
            "-----------------------\n",
            "[0, 1, 8, 3, 5, 2, 6, 4, 7] \n",
            "\n",
            "[1, 2, 3, 4, 5, 6, 7, 8, 0]\n",
            "Length of solution:  42\n",
            "Nodes Expanded= 696\n",
            "-----------------------\n",
            "['r', 'd', 'l', 'u', 'r', 'r', 'd', 'd', 'l', 'u', 'u', 'r', 'd', 'l', 'd', 'l', 'u', 'u', 'r', 'd', 'l', 'd', 'r', 'u', 'u', 'r', 'd', 'd', 'l', 'u', 'r', 'u', 'l', 'd', 'd', 'r']\n",
            "-----------------------\n",
            "[0, 4, 6, 5, 8, 1, 7, 2, 3] \n",
            "\n",
            "[1, 2, 3, 4, 5, 6, 7, 8, 0]\n",
            "Length of solution:  36\n",
            "Nodes Expanded= 386\n",
            "-----------------------\n",
            "['u', 'r', 'd', 'l', 'l', 'd', 'r', 'u', 'r', 'd', 'l', 'u', 'u', 'r', 'd', 'l', 'd', 'r', 'u', 'u', 'l', 'd', 'd', 'r', 'u', 'l', 'u', 'l', 'd', 'd', 'r', 'u', 'l', 'u', 'r', 'd', 'd', 'r']\n",
            "-----------------------\n",
            "[1, 5, 7, 6, 0, 3, 4, 2, 8] \n",
            "\n",
            "[1, 2, 3, 4, 5, 6, 7, 8, 0]\n",
            "Length of solution:  38\n",
            "Nodes Expanded= 1232\n",
            "-----------------------\n",
            "['d', 'r', 'd', 'l', 'u', 'r', 'd', 'r', 'u', 'l', 'l', 'u', 'r', 'r', 'd', 'l', 'u', 'l', 'd', 'r', 'r', 'd']\n",
            "-----------------------\n",
            "[0, 2, 4, 1, 7, 6, 3, 5, 8] \n",
            "\n",
            "[1, 2, 3, 4, 5, 6, 7, 8, 0]\n",
            "Length of solution:  22\n",
            "Nodes Expanded= 111\n",
            "-----------------------\n",
            "-------\n",
            "[('530476218', 'llddruulddruuldrdr', 52), ('320154786', 'lldrurdllurrdluldrrd', 196), ('013852674', 'rddlurrdllurrdllurulddrulurddr', 380), ('376241850', 'uulldrdruulddluruldrrdluldrr', 609), ('675801234', 'ldrurulldrrulldrdlurrdllurdlurrdlurulddrulurdllurrdluldrrd', 1753), ('746801325', 'ruldlurddlurdrulurddluuldrurdluldrruldlurrddlurulddrulurdd', 365), ('018352647', 'rdruldldrrulldrurulddrulurddlurulddrulurdd', 696), ('046581723', 'rdlurrddluurdldluurdldruurddlurulddr', 386), ('157603428', 'urdlldrurdluurdldruulddrululddrulurddr', 1232), ('024176358', 'drdlurdrullurrdluldrrd', 111)]\n"
          ],
          "name": "stdout"
        }
      ]
    },
    {
      "cell_type": "code",
      "metadata": {
        "colab": {
          "base_uri": "https://localhost:8080/"
        },
        "id": "rQw9QKTCMvBY",
        "outputId": "84ee3def-78b4-4ea9-fde8-ce90a4f7fb2d"
      },
      "source": [
        "### Best First\r\n",
        "bestFirstSearchf = lambda n: ManhattanDistance(n.State, GoalState)\r\n",
        "testProblems = [[5, 3, 0, 4, 7, 6, 2, 1, 8], [3, 2, 0, 1, 5, 4, 7, 8, 6], [0, 1, 3, 8, 5, 2, 6, 7, 4], \r\n",
        "                [3, 7, 6, 2, 4, 1, 8, 5, 0], [6, 7, 5, 8, 0, 1, 2, 3, 4], [7, 4, 6, 8, 0, 1, 3, 2, 5], \r\n",
        "                [0, 1, 8, 3, 5, 2, 6, 4, 7], [0, 4, 6, 5, 8, 1, 7, 2, 3], [1, 5, 7, 6, 0, 3, 4, 2, 8], \r\n",
        "                [0, 2, 4, 1, 7, 6, 3, 5, 8]]\r\n",
        "\r\n",
        "Solutions = []\r\n",
        "for s in testProblems:\r\n",
        "  TileSliding.INITIAL = s\r\n",
        "  ret, cost = BestFirstSearch(TileSliding, bestFirstSearchf)\r\n",
        "  sol = Solution(ret)\r\n",
        "  print (sol)\r\n",
        "  print (\"-----------------------\")\r\n",
        "  print (TileSliding.INITIAL,'\\n')\r\n",
        "  print (ApplyMoves(sol, TileSliding.INITIAL))\r\n",
        "  print (\"Length of solution: \", len(sol))\r\n",
        "  print (\"Nodes Expanded=\", cost) \r\n",
        "  print (\"-----------------------\")\r\n",
        "  Solutions.append((''.join(map(str, s)), ''.join(sol), cost))\r\n",
        "print (\"-------\")\r\n",
        "print (Solutions)"
      ],
      "execution_count": 46,
      "outputs": [
        {
          "output_type": "stream",
          "text": [
            "['l', 'l', 'd', 'd', 'r', 'u', 'l', 'd', 'r', 'u', 'l', 'u', 'r', 'd', 'd', 'l', 'u', 'u', 'r', 'd', 'l', 'd', 'r', 'r']\n",
            "-----------------------\n",
            "[5, 3, 0, 4, 7, 6, 2, 1, 8] \n",
            "\n",
            "[1, 2, 3, 4, 5, 6, 7, 8, 0]\n",
            "Length of solution:  24\n",
            "Nodes Expanded= 263\n",
            "-----------------------\n",
            "['l', 'l', 'd', 'r', 'u', 'r', 'd', 'l', 'l', 'u', 'r', 'r', 'd', 'l', 'u', 'l', 'd', 'r', 'r', 'd']\n",
            "-----------------------\n",
            "[3, 2, 0, 1, 5, 4, 7, 8, 6] \n",
            "\n",
            "[1, 2, 3, 4, 5, 6, 7, 8, 0]\n",
            "Length of solution:  20\n",
            "Nodes Expanded= 193\n",
            "-----------------------\n",
            "['r', 'd', 'l', 'd', 'r', 'u', 'u', 'r', 'd', 'd', 'l', 'u', 'r', 'u', 'l', 'd', 'l', 'u', 'r', 'r', 'd', 'l', 'd', 'r', 'u', 'u', 'l', 'l', 'd', 'r', 'r', 'u', 'l', 'd', 'l', 'u', 'r', 'r', 'd', 'l', 'u', 'l', 'd', 'r', 'r', 'd']\n",
            "-----------------------\n",
            "[0, 1, 3, 8, 5, 2, 6, 7, 4] \n",
            "\n",
            "[1, 2, 3, 4, 5, 6, 7, 8, 0]\n",
            "Length of solution:  46\n",
            "Nodes Expanded= 412\n",
            "-----------------------\n",
            "['u', 'u', 'l', 'l', 'd', 'r', 'd', 'r', 'u', 'u', 'l', 'd', 'd', 'l', 'u', 'r', 'u', 'l', 'd', 'r', 'r', 'd', 'l', 'u', 'l', 'd', 'r', 'r']\n",
            "-----------------------\n",
            "[3, 7, 6, 2, 4, 1, 8, 5, 0] \n",
            "\n",
            "[1, 2, 3, 4, 5, 6, 7, 8, 0]\n",
            "Length of solution:  28\n",
            "Nodes Expanded= 38\n",
            "-----------------------\n",
            "['u', 'r', 'd', 'd', 'l', 'u', 'l', 'd', 'r', 'u', 'u', 'l', 'd', 'r', 'u', 'r', 'd', 'l', 'l', 'u', 'r', 'r', 'd', 'l', 'u', 'l', 'd', 'r', 'r', 'd', 'l', 'u', 'r', 'u', 'l', 'd', 'd', 'r', 'u', 'u', 'l', 'l', 'd', 'r', 'r', 'u', 'l', 'd', 'l', 'u', 'r', 'r', 'd', 'd']\n",
            "-----------------------\n",
            "[6, 7, 5, 8, 0, 1, 2, 3, 4] \n",
            "\n",
            "[1, 2, 3, 4, 5, 6, 7, 8, 0]\n",
            "Length of solution:  54\n",
            "Nodes Expanded= 362\n",
            "-----------------------\n",
            "['l', 'u', 'r', 'd', 'd', 'l', 'u', 'u', 'r', 'd', 'r', 'd', 'l', 'u', 'r', 'u', 'l', 'l', 'd', 'r', 'u', 'r', 'd', 'd', 'l', 'u', 'l', 'u', 'r', 'r', 'd', 'd', 'l', 'u', 'u', 'r', 'd', 'l', 'd', 'r', 'u', 'u', 'l', 'd', 'r', 'd', 'l', 'l', 'u', 'r', 'u', 'l', 'd', 'd', 'r', 'r']\n",
            "-----------------------\n",
            "[7, 4, 6, 8, 0, 1, 3, 2, 5] \n",
            "\n",
            "[1, 2, 3, 4, 5, 6, 7, 8, 0]\n",
            "Length of solution:  56\n",
            "Nodes Expanded= 205\n",
            "-----------------------\n",
            "['d', 'd', 'r', 'r', 'u', 'u', 'l', 'l', 'd', 'd', 'r', 'r', 'u', 'l', 'd', 'r', 'u', 'u', 'l', 'd', 'r', 'u', 'l', 'd', 'l', 'u', 'r', 'r', 'd', 'd', 'l', 'u', 'l', 'd', 'r', 'r', 'u', 'l', 'l', 'd', 'r', 'r', 'u', 'l', 'd', 'l', 'u', 'r', 'r', 'd', 'l', 'u', 'l', 'd', 'r', 'r']\n",
            "-----------------------\n",
            "[0, 1, 8, 3, 5, 2, 6, 4, 7] \n",
            "\n",
            "[1, 2, 3, 4, 5, 6, 7, 8, 0]\n",
            "Length of solution:  56\n",
            "Nodes Expanded= 180\n",
            "-----------------------\n",
            "['r', 'd', 'r', 'u', 'l', 'd', 'l', 'u', 'r', 'r', 'd', 'd', 'l', 'u', 'u', 'r', 'd', 'd', 'l', 'u', 'r', 'u', 'l', 'd', 'r', 'd', 'l', 'u', 'r', 'u', 'l', 'd', 'd', 'r', 'u', 'l', 'u', 'r', 'd', 'd']\n",
            "-----------------------\n",
            "[0, 4, 6, 5, 8, 1, 7, 2, 3] \n",
            "\n",
            "[1, 2, 3, 4, 5, 6, 7, 8, 0]\n",
            "Length of solution:  40\n",
            "Nodes Expanded= 184\n",
            "-----------------------\n",
            "['u', 'r', 'd', 'l', 'l', 'd', 'r', 'r', 'u', 'l', 'u', 'r', 'd', 'd', 'l', 'u', 'r', 'u', 'l', 'l', 'd', 'd', 'r', 'u', 'l', 'u', 'r', 'd', 'd', 'r']\n",
            "-----------------------\n",
            "[1, 5, 7, 6, 0, 3, 4, 2, 8] \n",
            "\n",
            "[1, 2, 3, 4, 5, 6, 7, 8, 0]\n",
            "Length of solution:  30\n",
            "Nodes Expanded= 158\n",
            "-----------------------\n",
            "['d', 'r', 'd', 'l', 'u', 'r', 'd', 'r', 'u', 'l', 'l', 'u', 'r', 'r', 'd', 'l', 'u', 'l', 'd', 'r', 'r', 'd']\n",
            "-----------------------\n",
            "[0, 2, 4, 1, 7, 6, 3, 5, 8] \n",
            "\n",
            "[1, 2, 3, 4, 5, 6, 7, 8, 0]\n",
            "Length of solution:  22\n",
            "Nodes Expanded= 166\n",
            "-----------------------\n",
            "-------\n",
            "[('530476218', 'llddruldrulurddluurdldrr', 263), ('320154786', 'lldrurdllurrdluldrrd', 193), ('013852674', 'rdldruurddluruldlurrdldruulldrruldlurrdluldrrd', 412), ('376241850', 'uulldrdruulddluruldrrdluldrr', 38), ('675801234', 'urddluldruuldrurdllurrdluldrrdlurulddruulldrruldlurrdd', 362), ('746801325', 'lurddluurdrdlurulldrurddlulurrddluurdldruuldrdllurulddrr', 205), ('018352647', 'ddrruullddrruldruuldruldlurrddluldrrulldrruldlurrdluldrr', 180), ('046581723', 'rdruldlurrddluurddluruldrdlurulddrulurdd', 184), ('157603428', 'urdlldrrulurddlurullddrulurddr', 158), ('024176358', 'drdlurdrullurrdluldrrd', 166)]\n"
          ],
          "name": "stdout"
        }
      ]
    },
    {
      "cell_type": "markdown",
      "metadata": {
        "id": "TFLhS5QmxRz2"
      },
      "source": [
        "# Domain 2"
      ]
    },
    {
      "cell_type": "code",
      "metadata": {
        "id": "PqDD8fsrxXK7"
      },
      "source": [
        "VectorWorldDim = 10\r\n",
        "VectorWorld = Problem()\r\n",
        "VectorWorld.INITIAL = [0]\r\n",
        "VectorWorld.IsGoal = lambda s: s==[3,] or s==(3,)\r\n",
        "VectorWorld.Actions = lambda s: ['Left', 'Right']\r\n",
        "## TileSliding.Result=VectorWorldResult\r\n",
        "VectorWorld.ActionCost = lambda s, a, sPrime: 1"
      ],
      "execution_count": 37,
      "outputs": []
    },
    {
      "cell_type": "code",
      "metadata": {
        "id": "uWNR8AQJyCN7"
      },
      "source": [
        "def VectorWorldResult(state, action):\r\n",
        "  if action=='Left':\r\n",
        "    return [(state[0]+VectorWorldDim-1)%VectorWorldDim]\r\n",
        "  else:\r\n",
        "    return [(state[0]+1)%VectorWorldDim]\r\n",
        "VectorWorld.Result=VectorWorldResult\r\n",
        "  "
      ],
      "execution_count": 38,
      "outputs": []
    },
    {
      "cell_type": "code",
      "metadata": {
        "colab": {
          "base_uri": "https://localhost:8080/"
        },
        "id": "Ox26cyPP2xba",
        "outputId": "40387548-f024-4cf8-9ddd-7f016cbce708"
      },
      "source": [
        "print (VectorWorld.IsGoal((3,)))"
      ],
      "execution_count": 39,
      "outputs": [
        {
          "output_type": "stream",
          "text": [
            "True\n"
          ],
          "name": "stdout"
        }
      ]
    },
    {
      "cell_type": "code",
      "metadata": {
        "colab": {
          "base_uri": "https://localhost:8080/"
        },
        "id": "SBfeM9Vbykci",
        "outputId": "8e6689d5-f32d-4cff-cb33-ba656277774f"
      },
      "source": [
        "ret, cost = BreadthFirstSearch(VectorWorld)\r\n",
        "print (\"ret=\", ret)\r\n",
        "sol = Solution(ret)\r\n",
        "print (sol)\r\n"
      ],
      "execution_count": 40,
      "outputs": [
        {
          "output_type": "stream",
          "text": [
            "ret= [3], Right\n",
            "['Right', 'Right', 'Right']\n"
          ],
          "name": "stdout"
        }
      ]
    },
    {
      "cell_type": "code",
      "metadata": {
        "id": "dAbJ75Ym4WmP"
      },
      "source": [
        "VectorWorld.INITIAL = [8]"
      ],
      "execution_count": 41,
      "outputs": []
    },
    {
      "cell_type": "code",
      "metadata": {
        "colab": {
          "base_uri": "https://localhost:8080/"
        },
        "id": "QGO1VglP4Zq6",
        "outputId": "5a145a87-66f6-4645-9329-98768f258908"
      },
      "source": [
        "ret, cost = BreadthFirstSearch(VectorWorld)\r\n",
        "print (\"ret=\", ret)\r\n",
        "sol = Solution(ret)\r\n",
        "print (sol)"
      ],
      "execution_count": 42,
      "outputs": [
        {
          "output_type": "stream",
          "text": [
            "ret= [3], Left\n",
            "['Left', 'Left', 'Left', 'Left', 'Left']\n"
          ],
          "name": "stdout"
        }
      ]
    }
  ]
}