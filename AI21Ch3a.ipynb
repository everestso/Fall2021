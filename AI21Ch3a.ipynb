{
  "nbformat": 4,
  "nbformat_minor": 0,
  "metadata": {
    "colab": {
      "name": "AI21Ch3a.ipynb",
      "provenance": [],
      "collapsed_sections": [],
      "authorship_tag": "ABX9TyNTeLxSE70gKCVlWhALuqv4",
      "include_colab_link": true
    },
    "kernelspec": {
      "name": "python3",
      "display_name": "Python 3"
    }
  },
  "cells": [
    {
      "cell_type": "markdown",
      "metadata": {
        "id": "view-in-github",
        "colab_type": "text"
      },
      "source": [
        "<a href=\"https://colab.research.google.com/github/everestso/Spring2021/blob/main/AI21Ch3a.ipynb\" target=\"_parent\"><img src=\"https://colab.research.google.com/assets/colab-badge.svg\" alt=\"Open In Colab\"/></a>"
      ]
    },
    {
      "cell_type": "code",
      "metadata": {
        "id": "Gbe5KqWcISTq"
      },
      "source": [
        "import random\r\n",
        "import heapq"
      ],
      "execution_count": 1,
      "outputs": []
    },
    {
      "cell_type": "markdown",
      "metadata": {
        "id": "PHnbnN2uV8zr"
      },
      "source": [
        "# Tile Sliding Domain: Initial State Space"
      ]
    },
    {
      "cell_type": "code",
      "metadata": {
        "id": "jPCNOa4W-5yq"
      },
      "source": [
        "StateDimension=3\r\n",
        "InitialState = [1,2,3,4,5,6,0,7,8]\r\n",
        "GoalState=[1,2,3,4,5,6,7,8,0]\r\n",
        "Actions = lambda s: ['u', 'd', 'l', 'r']\r\n",
        "Opposite=dict([('u','d'),('d','u'),('l','r'),('r','l'), (None, None)])"
      ],
      "execution_count": 2,
      "outputs": []
    },
    {
      "cell_type": "code",
      "metadata": {
        "id": "XjnzkkC8_HE8"
      },
      "source": [
        "def Result(state, action):\r\n",
        "  i = state.index(0)\r\n",
        "  newState = list(state)\r\n",
        "  row,col=i//StateDimension, i % StateDimension\r\n",
        "  if ( (action=='u' and row==0) or\r\n",
        "       (action=='d' and row==StateDimension-1) or\r\n",
        "       (action=='l' and col==0) or\r\n",
        "       (action=='r' and col==StateDimension-1)):\r\n",
        "      return newState\r\n",
        "  if action=='u':\r\n",
        "    l,r = row*StateDimension+col, (row-1)*StateDimension+col\r\n",
        "  elif action=='d':\r\n",
        "    l,r = row*StateDimension+col, (row+1)*StateDimension+col\r\n",
        "  elif action=='l':\r\n",
        "    l,r = row*StateDimension+col, row*StateDimension+col-1\r\n",
        "  elif action=='r' :\r\n",
        "    l,r = row*StateDimension+col, row*StateDimension+col+1\r\n",
        "  newState[l], newState[r] = newState[r], newState[l] \r\n",
        "  return newState\r\n",
        "\r\n",
        "def PrintState(s):\r\n",
        "  for i in range(0,len(s),StateDimension):\r\n",
        "    print(s[i:i+StateDimension])\r\n",
        "\r\n",
        "def LegalMove(state, action):\r\n",
        "  i = state.index(0)\r\n",
        "  row,col=i//StateDimension, i % StateDimension\r\n",
        "  newState = state.copy()\r\n",
        "  if ( (action=='u' and row==0) or\r\n",
        "       (action=='d' and row==StateDimension-1) or\r\n",
        "       (action=='l' and col==0) or\r\n",
        "       (action=='r' and col==StateDimension-1)):\r\n",
        "      return False\r\n",
        "  return True\r\n"
      ],
      "execution_count": 3,
      "outputs": []
    },
    {
      "cell_type": "code",
      "metadata": {
        "colab": {
          "base_uri": "https://localhost:8080/"
        },
        "id": "bE7MrTAI_t6i",
        "outputId": "f31ef0c0-cafc-4feb-ee5b-1f9b3d02c5da"
      },
      "source": [
        "PrintState(InitialState)"
      ],
      "execution_count": 4,
      "outputs": [
        {
          "output_type": "stream",
          "text": [
            "[1, 2, 3]\n",
            "[4, 5, 6]\n",
            "[0, 7, 8]\n"
          ],
          "name": "stdout"
        }
      ]
    },
    {
      "cell_type": "code",
      "metadata": {
        "colab": {
          "base_uri": "https://localhost:8080/"
        },
        "id": "wRULKFeXVcp3",
        "outputId": "fee0234d-ce06-450f-bfb9-b4c2d39a2fc1"
      },
      "source": [
        "PrintState(GoalState)"
      ],
      "execution_count": 5,
      "outputs": [
        {
          "output_type": "stream",
          "text": [
            "[1, 2, 3]\n",
            "[4, 5, 6]\n",
            "[7, 8, 0]\n"
          ],
          "name": "stdout"
        }
      ]
    },
    {
      "cell_type": "code",
      "metadata": {
        "colab": {
          "base_uri": "https://localhost:8080/"
        },
        "id": "j-EYW_gqGZtl",
        "outputId": "a9a169cf-66cb-454a-d4fe-e49e42817b85"
      },
      "source": [
        "PrintState(InitialState)\r\n",
        "print()\r\n",
        "state1 = Result(InitialState, 'r')\r\n",
        "PrintState(state1)"
      ],
      "execution_count": 6,
      "outputs": [
        {
          "output_type": "stream",
          "text": [
            "[1, 2, 3]\n",
            "[4, 5, 6]\n",
            "[0, 7, 8]\n",
            "\n",
            "[1, 2, 3]\n",
            "[4, 5, 6]\n",
            "[7, 0, 8]\n"
          ],
          "name": "stdout"
        }
      ]
    },
    {
      "cell_type": "markdown",
      "metadata": {
        "id": "Mp0tnomdTFoC"
      },
      "source": [
        "# Random Walk\r\n",
        "\r\n",
        "Take some random moves from a state and return the new state and the inverse sequence of moves.\r\n",
        "\r\n",
        "Do not include moves undoing last move, or having no effect."
      ]
    },
    {
      "cell_type": "code",
      "metadata": {
        "id": "1RVh0-S9IFiy"
      },
      "source": [
        "def RandomWalk(state, steps):\r\n",
        "  actionSequence = []\r\n",
        "  for i in range(steps):\r\n",
        "    action = None\r\n",
        "    actionLast = None\r\n",
        "    while action==None:\r\n",
        "      action = random.choice(Actions(state))\r\n",
        "      action = action if (LegalMove(state, action) \r\n",
        "          and not action==Opposite[actionLast]) else None\r\n",
        "    state = Result(state, action)\r\n",
        "    actionSequence.append(action)\r\n",
        "  return state, actionSequence\r\n",
        "\r\n"
      ],
      "execution_count": 7,
      "outputs": []
    },
    {
      "cell_type": "code",
      "metadata": {
        "colab": {
          "base_uri": "https://localhost:8080/"
        },
        "id": "wcn5POkxKlER",
        "outputId": "13386303-e219-48b4-df4f-fa3ca5ebbeb5"
      },
      "source": [
        "state1, sol = RandomWalk(InitialState, 150)\r\n",
        "PrintState(state1)\r\n",
        "print (sol)\r\n",
        "\r\n",
        "state1, sol = RandomWalk(InitialState, 5)\r\n",
        "PrintState(InitialState)\r\n",
        "print (sol)\r\n",
        "PrintState(state1)"
      ],
      "execution_count": 8,
      "outputs": [
        {
          "output_type": "stream",
          "text": [
            "[1, 3, 5]\n",
            "[4, 0, 2]\n",
            "[7, 8, 6]\n",
            "['r', 'r', 'l', 'l', 'u', 'd', 'r', 'r', 'u', 'u', 'd', 'u', 'l', 'l', 'd', 'd', 'r', 'l', 'r', 'r', 'u', 'd', 'u', 'u', 'l', 'r', 'd', 'l', 'u', 'r', 'd', 'l', 'r', 'd', 'l', 'l', 'r', 'u', 'r', 'd', 'l', 'u', 'd', 'l', 'u', 'u', 'd', 'r', 'u', 'r', 'l', 'r', 'd', 'u', 'l', 'l', 'd', 'u', 'd', 'r', 'l', 'd', 'r', 'u', 'd', 'u', 'd', 'l', 'r', 'u', 'l', 'u', 'r', 'l', 'd', 'd', 'u', 'r', 'r', 'l', 'l', 'u', 'r', 'r', 'l', 'd', 'd', 'r', 'l', 'r', 'u', 'l', 'r', 'd', 'u', 'l', 'u', 'd', 'l', 'r', 'd', 'l', 'u', 'u', 'r', 'd', 'u', 'l', 'r', 'd', 'l', 'd', 'u', 'd', 'u', 'r', 'u', 'd', 'l', 'd', 'r', 'r', 'l', 'u', 'l', 'u', 'd', 'r', 'u', 'l', 'r', 'd', 'd', 'u', 'r', 'l', 'd', 'u', 'l', 'r', 'l', 'u', 'r', 'd', 'd', 'l', 'r', 'l', 'u', 'r']\n",
            "[1, 2, 3]\n",
            "[4, 5, 6]\n",
            "[0, 7, 8]\n",
            "['r', 'l', 'u', 'u', 'r']\n",
            "[2, 0, 3]\n",
            "[1, 5, 6]\n",
            "[4, 7, 8]\n"
          ],
          "name": "stdout"
        }
      ]
    },
    {
      "cell_type": "code",
      "metadata": {
        "id": "Rc_8ohYvNIq-"
      },
      "source": [
        "def ApplyMoves(actions, state):\r\n",
        "  for action in actions:\r\n",
        "    state = Result(state, action)\r\n",
        "  return state"
      ],
      "execution_count": 9,
      "outputs": []
    },
    {
      "cell_type": "code",
      "metadata": {
        "colab": {
          "base_uri": "https://localhost:8080/"
        },
        "id": "Wv7MGqh8NXqy",
        "outputId": "5d5ab67a-55cb-437a-855d-58d468f98c5f"
      },
      "source": [
        "PrintState(InitialState)\r\n",
        "print(['r','r'])\r\n",
        "PrintState(ApplyMoves(['r','r'],InitialState))"
      ],
      "execution_count": 10,
      "outputs": [
        {
          "output_type": "stream",
          "text": [
            "[1, 2, 3]\n",
            "[4, 5, 6]\n",
            "[0, 7, 8]\n",
            "['r', 'r']\n",
            "[1, 2, 3]\n",
            "[4, 5, 6]\n",
            "[7, 8, 0]\n"
          ],
          "name": "stdout"
        }
      ]
    },
    {
      "cell_type": "code",
      "metadata": {
        "id": "_VS2KzQbOHlO"
      },
      "source": [
        "def ReverseMoves(actions):\r\n",
        "  ret = [Opposite[a] for a in actions]\r\n",
        "  ret.reverse()\r\n",
        "  return ret"
      ],
      "execution_count": 11,
      "outputs": []
    },
    {
      "cell_type": "code",
      "metadata": {
        "colab": {
          "base_uri": "https://localhost:8080/"
        },
        "id": "tp_pqYBXOsqS",
        "outputId": "882b1ffe-0170-4544-f127-095f788b06ee"
      },
      "source": [
        "state1, sol = RandomWalk(GoalState, 5)\r\n",
        "PrintState(state1)\r\n",
        "print (sol)\r\n",
        "print(ReverseMoves(sol))\r\n",
        "PrintState (ApplyMoves(ReverseMoves(sol), state1))\r\n"
      ],
      "execution_count": 12,
      "outputs": [
        {
          "output_type": "stream",
          "text": [
            "[1, 2, 3]\n",
            "[4, 5, 6]\n",
            "[7, 0, 8]\n",
            "['u', 'd', 'u', 'd', 'l']\n",
            "['r', 'u', 'd', 'u', 'd']\n",
            "[1, 2, 3]\n",
            "[4, 5, 6]\n",
            "[7, 8, 0]\n"
          ],
          "name": "stdout"
        }
      ]
    },
    {
      "cell_type": "markdown",
      "metadata": {
        "id": "8ABBDMJLROdo"
      },
      "source": [
        "## Problem Class\r\n",
        "\r\n",
        "INITIAL = InitialState  \r\n",
        "IsGoal = Goal Test  \r\n",
        "Actions = Actions List  \r\n",
        "Result = Action Behavior  \r\n",
        "ActionCost = Action Cost  "
      ]
    },
    {
      "cell_type": "code",
      "metadata": {
        "id": "fo6sq7myRQpE"
      },
      "source": [
        "class Problem(object): pass"
      ],
      "execution_count": 13,
      "outputs": []
    },
    {
      "cell_type": "markdown",
      "metadata": {
        "id": "aAHXlWteQ2LN"
      },
      "source": [
        "## Node"
      ]
    },
    {
      "cell_type": "code",
      "metadata": {
        "id": "URRYlfS9Q3vx"
      },
      "source": [
        "class Node(object):\r\n",
        "  def __init__(self, state, parent=None, action=None, path_cost=0 ):\r\n",
        "    self.State=state\r\n",
        "    self.Parent=parent\r\n",
        "    self.Action=action\r\n",
        "    self.PathCost = path_cost\r\n",
        "\r\n",
        "  def __str__(self):\r\n",
        "    action = \"<none>\" if not self.Action else self.Action\r\n",
        "    return str(self.State) + \", \" + action\r\n",
        "  def __repr__(self):\r\n",
        "    action = \"<none>\" if not self.Action else self.Action\r\n",
        "    return str(self.State) + \", \" + action\r\n",
        "  def __lt__(self, other):\r\n",
        "    return self.PathCost < other.PathCost;"
      ],
      "execution_count": 14,
      "outputs": []
    },
    {
      "cell_type": "markdown",
      "metadata": {
        "id": "LpzKnx4rkxL9"
      },
      "source": [
        "## Expand "
      ]
    },
    {
      "cell_type": "code",
      "metadata": {
        "id": "CRj9UnyHdDo_"
      },
      "source": [
        "def Expand(problem, node):\r\n",
        "  ret = []\r\n",
        "  s = node.State\r\n",
        "  for action in problem.Actions(s):\r\n",
        "    sPrime = problem.Result(s, action)\r\n",
        "    cost =node.PathCost + problem.ActionCost(s,action,sPrime)\r\n",
        "    ret.append(Node(sPrime, node, action, cost))\r\n",
        "  return ret\r\n",
        " "
      ],
      "execution_count": 15,
      "outputs": []
    },
    {
      "cell_type": "markdown",
      "metadata": {
        "id": "Ee2ZYxjVlBSl"
      },
      "source": [
        "## Breadth-First Search"
      ]
    },
    {
      "cell_type": "code",
      "metadata": {
        "id": "DZoCxoGzkt4E"
      },
      "source": [
        "def BreadthFirstSearch(problem):\r\n",
        "  node = Node(tuple(problem.INITIAL))\r\n",
        "  if problem.IsGoal(node.State):\r\n",
        "    return node, 0\r\n",
        "  Frontier = []\r\n",
        "  Frontier.append(node)\r\n",
        "  reached = set()\r\n",
        "  reached.add(tuple(problem.INITIAL))\r\n",
        "  nodesExpanded = 0\r\n",
        "  while (Frontier):\r\n",
        "    ### print([str(n) for n in Frontier])\r\n",
        "    node = Frontier.pop(0)\r\n",
        "    ### print(node)\r\n",
        "    for child in Expand(problem, node):\r\n",
        "      s = tuple(child.State)\r\n",
        "      ### print (s, \"IsGoal=\", problem.IsGoal(s))\r\n",
        "      if problem.IsGoal(s):\r\n",
        "        return child, nodesExpanded\r\n",
        "      if s not in reached:\r\n",
        "        reached.add(s)\r\n",
        "        Frontier.append(child)\r\n",
        "    nodesExpanded += 1\r\n",
        "    if nodesExpanded > 500000:\r\n",
        "      break;\r\n",
        "  return None, nodesExpanded"
      ],
      "execution_count": 16,
      "outputs": []
    },
    {
      "cell_type": "markdown",
      "metadata": {
        "id": "AoX48XG6lFOf"
      },
      "source": [
        "## Best-First Search"
      ]
    },
    {
      "cell_type": "code",
      "metadata": {
        "id": "lUIAdr_qa1KT"
      },
      "source": [
        "def BestFirstSearch(problem, f):\r\n",
        "  node = Node(tuple(problem.INITIAL))\r\n",
        "  Frontier = []\r\n",
        "  heapq.heappush(Frontier,(f(node), node))\r\n",
        "  reached = {}\r\n",
        "  reached[tuple(problem.INITIAL)]=node\r\n",
        "  nodesExpanded = 0\r\n",
        "  while (Frontier):\r\n",
        "    ##print([(x, str(n)) for (x,n) in Frontier])\r\n",
        "    fValue, node = heapq.heappop(Frontier)\r\n",
        "    ##print (node.State, \"IsGoal=\", problem.IsGoal(tuple(node.State)))\r\n",
        "    if problem.IsGoal(tuple(node.State)):\r\n",
        "      return node, nodesExpanded    ### print(node)\r\n",
        "    for child in Expand(problem, node):\r\n",
        "      s = tuple(child.State)\r\n",
        "      if s not in reached or child.PathCost < reached[s].PathCost:\r\n",
        "        reached[s] = child\r\n",
        "        heapq.heappush(Frontier, (f(child), child))\r\n",
        "    nodesExpanded += 1\r\n",
        "    if nodesExpanded > 500000:\r\n",
        "      break;\r\n",
        "  return None, nodesExpanded"
      ],
      "execution_count": 17,
      "outputs": []
    },
    {
      "cell_type": "markdown",
      "metadata": {
        "id": "kRjolRYslOa4"
      },
      "source": [
        "## Problem 1"
      ]
    },
    {
      "cell_type": "code",
      "metadata": {
        "colab": {
          "base_uri": "https://localhost:8080/"
        },
        "id": "dLWDIbmsRGY3",
        "outputId": "a792068d-d2f0-442d-b697-efb02fb811a3"
      },
      "source": [
        "TileSliding = Problem()\r\n",
        "TileSliding.INITIAL = InitialState\r\n",
        "TileSliding.IsGoal = lambda s: s==(1,2,3,4,5,6,7,8,0)\r\n",
        "TileSliding.Actions = Actions\r\n",
        "TileSliding.Result=Result\r\n",
        "TileSliding.ActionCost = lambda s, a, sPrime: 1\r\n",
        "print( TileSliding.IsGoal((1,2,3,4,5,6,7,8,0)) )\r\n",
        "print( Node(InitialState) )\r\n",
        "print(1+TileSliding.ActionCost(1,2,3))"
      ],
      "execution_count": 18,
      "outputs": [
        {
          "output_type": "stream",
          "text": [
            "True\n",
            "[1, 2, 3, 4, 5, 6, 0, 7, 8], <none>\n",
            "2\n"
          ],
          "name": "stdout"
        }
      ]
    },
    {
      "cell_type": "code",
      "metadata": {
        "colab": {
          "base_uri": "https://localhost:8080/"
        },
        "id": "6VoIEO4c1gHz",
        "outputId": "5dd9d038-48e3-44f8-d660-bee2d8a33621"
      },
      "source": [
        "TileSliding.INITIAL = [1,2,3,4,5,6,0,7,8]\r\n",
        "ret, cost = BreadthFirstSearch(TileSliding)\r\n",
        "print (ret, cost)"
      ],
      "execution_count": 19,
      "outputs": [
        {
          "output_type": "stream",
          "text": [
            "[1, 2, 3, 4, 5, 6, 7, 8, 0], r 2\n"
          ],
          "name": "stdout"
        }
      ]
    },
    {
      "cell_type": "code",
      "metadata": {
        "id": "3hsBKY7Fle3w"
      },
      "source": [
        "def Solution(node):\r\n",
        "  if node.Parent==None: \r\n",
        "    return []\r\n",
        "  return Solution(node.Parent) + [node.Action]\r\n"
      ],
      "execution_count": 20,
      "outputs": []
    },
    {
      "cell_type": "code",
      "metadata": {
        "colab": {
          "base_uri": "https://localhost:8080/"
        },
        "id": "rtr7Vr84NAfY",
        "outputId": "7ec5bf8a-10d6-4e2a-b743-f683e1e9567d"
      },
      "source": [
        "sol = Solution(ret)\r\n",
        "print (sol)\r\n",
        "print (TileSliding.INITIAL)\r\n",
        "print (ApplyMoves(sol, TileSliding.INITIAL))"
      ],
      "execution_count": 21,
      "outputs": [
        {
          "output_type": "stream",
          "text": [
            "['r', 'r']\n",
            "[1, 2, 3, 4, 5, 6, 0, 7, 8]\n",
            "[1, 2, 3, 4, 5, 6, 7, 8, 0]\n"
          ],
          "name": "stdout"
        }
      ]
    },
    {
      "cell_type": "code",
      "metadata": {
        "colab": {
          "base_uri": "https://localhost:8080/"
        },
        "id": "RDE3dNP8NOU7",
        "outputId": "078afbb6-e45b-49d3-f80f-4bf6002f1396"
      },
      "source": [
        "TileSliding.INITIAL = [1,2,3,4,0,6,7,5,8]\r\n",
        "ret, cost = BreadthFirstSearch(TileSliding)\r\n",
        "print (ret, cost)"
      ],
      "execution_count": 22,
      "outputs": [
        {
          "output_type": "stream",
          "text": [
            "[1, 2, 3, 4, 5, 6, 7, 8, 0], r 2\n"
          ],
          "name": "stdout"
        }
      ]
    },
    {
      "cell_type": "code",
      "metadata": {
        "colab": {
          "base_uri": "https://localhost:8080/"
        },
        "id": "YBkLupiYNyZ_",
        "outputId": "50788d6d-7816-46a4-9e49-97653633c588"
      },
      "source": [
        "sol = Solution(ret)\r\n",
        "print (sol)\r\n",
        "print (TileSliding.INITIAL)\r\n",
        "print (ApplyMoves(sol, TileSliding.INITIAL))"
      ],
      "execution_count": 23,
      "outputs": [
        {
          "output_type": "stream",
          "text": [
            "['d', 'r']\n",
            "[1, 2, 3, 4, 0, 6, 7, 5, 8]\n",
            "[1, 2, 3, 4, 5, 6, 7, 8, 0]\n"
          ],
          "name": "stdout"
        }
      ]
    },
    {
      "cell_type": "code",
      "metadata": {
        "colab": {
          "base_uri": "https://localhost:8080/"
        },
        "id": "GXdlMLxwhxMF",
        "outputId": "9873e5e8-4179-4fa6-aa90-6819903eb262"
      },
      "source": [
        "UniformCostF = lambda n: n.PathCost\r\n",
        "TileSliding.INITIAL = [1,2,3,4,0,6,7,5,8]\r\n",
        "ret, cost = BestFirstSearch(TileSliding, UniformCostF)\r\n",
        "print (ret)\r\n",
        "sol = Solution(ret)\r\n",
        "print (sol)\r\n",
        "print (TileSliding.INITIAL)\r\n",
        "print (ApplyMoves(sol, TileSliding.INITIAL))\r\n",
        "print (\"Nodes Expanded=\", cost)"
      ],
      "execution_count": 24,
      "outputs": [
        {
          "output_type": "stream",
          "text": [
            "[1, 2, 3, 4, 5, 6, 7, 8, 0], r\n",
            "['d', 'r']\n",
            "[1, 2, 3, 4, 0, 6, 7, 5, 8]\n",
            "[1, 2, 3, 4, 5, 6, 7, 8, 0]\n",
            "Nodes Expanded= 8\n"
          ],
          "name": "stdout"
        }
      ]
    },
    {
      "cell_type": "markdown",
      "metadata": {
        "id": "bu6svMo0n9Pc"
      },
      "source": [
        "# Problem 2"
      ]
    },
    {
      "cell_type": "code",
      "metadata": {
        "colab": {
          "base_uri": "https://localhost:8080/"
        },
        "id": "rXzEVLYEn8m1",
        "outputId": "77adfbc4-09c8-47e5-992d-15146e2a0b64"
      },
      "source": [
        "state1, sol = RandomWalk(GoalState, 200)\r\n",
        "PrintState(state1)\r\n",
        "print (sol)\r\n",
        "print(ReverseMoves(sol))\r\n",
        "PrintState (ApplyMoves(ReverseMoves(sol), state1))"
      ],
      "execution_count": 25,
      "outputs": [
        {
          "output_type": "stream",
          "text": [
            "[8, 5, 7]\n",
            "[2, 1, 4]\n",
            "[0, 3, 6]\n",
            "['u', 'l', 'u', 'r', 'l', 'r', 'd', 'l', 'l', 'd', 'u', 'd', 'r', 'l', 'u', 'u', 'r', 'r', 'd', 'l', 'r', 'd', 'l', 'l', 'r', 'u', 'd', 'u', 'l', 'd', 'r', 'l', 'r', 'l', 'u', 'u', 'r', 'r', 'l', 'r', 'l', 'd', 'r', 'd', 'l', 'r', 'u', 'l', 'l', 'd', 'u', 'r', 'l', 'r', 'l', 'u', 'd', 'd', 'u', 'r', 'd', 'r', 'l', 'r', 'l', 'r', 'u', 'u', 'd', 'l', 'r', 'd', 'u', 'l', 'r', 'd', 'u', 'l', 'd', 'l', 'r', 'l', 'r', 'u', 'u', 'r', 'l', 'l', 'r', 'd', 'd', 'u', 'd', 'u', 'r', 'l', 'r', 'l', 'd', 'l', 'r', 'u', 'l', 'd', 'u', 'r', 'd', 'l', 'u', 'r', 'd', 'u', 'r', 'u', 'l', 'l', 'd', 'r', 'r', 'u', 'l', 'r', 'l', 'l', 'd', 'd', 'r', 'r', 'l', 'r', 'u', 'd', 'l', 'r', 'u', 'u', 'l', 'r', 'd', 'd', 'l', 'l', 'u', 'r', 'd', 'r', 'l', 'u', 'r', 'l', 'r', 'u', 'l', 'd', 'l', 'u', 'd', 'r', 'l', 'r', 'd', 'l', 'u', 'd', 'u', 'u', 'r', 'r', 'd', 'l', 'd', 'u', 'l', 'r', 'l', 'r', 'l', 'd', 'u', 'u', 'd', 'u', 'r', 'r', 'l', 'r', 'l', 'd', 'u', 'r', 'd', 'd', 'l', 'r', 'u', 'l', 'l', 'd', 'r', 'l']\n",
            "['r', 'l', 'u', 'r', 'r', 'd', 'l', 'r', 'u', 'u', 'l', 'd', 'u', 'r', 'l', 'r', 'l', 'l', 'd', 'u', 'd', 'd', 'u', 'r', 'l', 'r', 'l', 'r', 'd', 'u', 'r', 'u', 'l', 'l', 'd', 'd', 'u', 'd', 'r', 'u', 'l', 'r', 'l', 'u', 'd', 'r', 'u', 'r', 'd', 'l', 'r', 'l', 'd', 'r', 'l', 'u', 'l', 'd', 'r', 'r', 'u', 'u', 'l', 'r', 'd', 'd', 'l', 'r', 'u', 'd', 'l', 'r', 'l', 'l', 'u', 'u', 'r', 'r', 'l', 'r', 'd', 'l', 'l', 'u', 'r', 'r', 'd', 'l', 'd', 'u', 'l', 'd', 'r', 'u', 'l', 'd', 'u', 'r', 'd', 'l', 'r', 'u', 'r', 'l', 'r', 'l', 'd', 'u', 'd', 'u', 'u', 'l', 'r', 'r', 'l', 'd', 'd', 'l', 'r', 'l', 'r', 'u', 'r', 'd', 'u', 'l', 'r', 'd', 'u', 'l', 'r', 'u', 'd', 'd', 'l', 'r', 'l', 'r', 'l', 'u', 'l', 'd', 'u', 'u', 'd', 'r', 'l', 'r', 'l', 'd', 'u', 'r', 'r', 'd', 'l', 'r', 'u', 'l', 'u', 'r', 'l', 'r', 'l', 'l', 'd', 'd', 'r', 'l', 'r', 'l', 'u', 'r', 'd', 'u', 'd', 'l', 'r', 'r', 'u', 'l', 'r', 'u', 'l', 'l', 'd', 'd', 'r', 'l', 'u', 'd', 'u', 'r', 'r', 'u', 'l', 'r', 'l', 'd', 'r', 'd']\n",
            "[1, 2, 3]\n",
            "[4, 5, 6]\n",
            "[7, 8, 0]\n"
          ],
          "name": "stdout"
        }
      ]
    },
    {
      "cell_type": "code",
      "metadata": {
        "colab": {
          "base_uri": "https://localhost:8080/"
        },
        "id": "tKnMcesqoCss",
        "outputId": "fdc8ca24-f526-4cee-dced-a843392b713f"
      },
      "source": [
        "TileSliding.INITIAL = state1\r\n",
        "ret, cost = BreadthFirstSearch(TileSliding)\r\n",
        "print (ret)\r\n",
        "sol = Solution(ret)\r\n",
        "print (sol)\r\n",
        "print (TileSliding.INITIAL)\r\n",
        "print (ApplyMoves(sol, TileSliding.INITIAL))\r\n",
        "print (\"Length of solution: \", len(sol))\r\n",
        "print (\"Nodes Expanded=\", cost)"
      ],
      "execution_count": 26,
      "outputs": [
        {
          "output_type": "stream",
          "text": [
            "[1, 2, 3, 4, 5, 6, 7, 8, 0], d\n",
            "['u', 'u', 'r', 'r', 'd', 'l', 'd', 'l', 'u', 'u', 'r', 'r', 'd', 'l', 'l', 'u', 'r', 'r', 'd', 'l', 'd', 'l', 'u', 'u', 'r', 'd', 'r', 'd']\n",
            "[8, 5, 7, 2, 1, 4, 0, 3, 6]\n",
            "[1, 2, 3, 4, 5, 6, 7, 8, 0]\n",
            "Length of solution:  28\n",
            "Nodes Expanded= 172740\n"
          ],
          "name": "stdout"
        }
      ]
    },
    {
      "cell_type": "code",
      "metadata": {
        "colab": {
          "base_uri": "https://localhost:8080/"
        },
        "id": "k24bl418eL5m",
        "outputId": "94622caa-0703-4b9d-8b64-4b8e95e7f1b0"
      },
      "source": [
        "UniformCostF = lambda n: n.PathCost\r\n",
        "TileSliding.INITIAL = state1\r\n",
        "ret, cost = BestFirstSearch(TileSliding, UniformCostF)\r\n",
        "print (ret)\r\n",
        "sol = Solution(ret)\r\n",
        "print (sol)\r\n",
        "print (TileSliding.INITIAL)\r\n",
        "print (ApplyMoves(sol, TileSliding.INITIAL))\r\n",
        "print (\"Length of solution: \", len(sol))\r\n",
        "print (\"Nodes Expanded=\", cost)"
      ],
      "execution_count": 27,
      "outputs": [
        {
          "output_type": "stream",
          "text": [
            "[1, 2, 3, 4, 5, 6, 7, 8, 0], d\n",
            "['u', 'u', 'r', 'r', 'd', 'l', 'd', 'l', 'u', 'u', 'r', 'r', 'd', 'l', 'l', 'u', 'r', 'r', 'd', 'l', 'd', 'l', 'u', 'u', 'r', 'd', 'r', 'd']\n",
            "[8, 5, 7, 2, 1, 4, 0, 3, 6]\n",
            "[1, 2, 3, 4, 5, 6, 7, 8, 0]\n",
            "Length of solution:  28\n",
            "Nodes Expanded= 179544\n"
          ],
          "name": "stdout"
        }
      ]
    },
    {
      "cell_type": "markdown",
      "metadata": {
        "id": "TFLhS5QmxRz2"
      },
      "source": [
        "# Domain 2"
      ]
    },
    {
      "cell_type": "code",
      "metadata": {
        "id": "PqDD8fsrxXK7"
      },
      "source": [
        "VectorWorldDim = 10\r\n",
        "VectorWorld = Problem()\r\n",
        "VectorWorld.INITIAL = [0]\r\n",
        "VectorWorld.IsGoal = lambda s: s==[3,] or s==(3,)\r\n",
        "VectorWorld.Actions = lambda s: ['Left', 'Right']\r\n",
        "## TileSliding.Result=VectorWorldResult\r\n",
        "VectorWorld.ActionCost = lambda s, a, sPrime: 1"
      ],
      "execution_count": 28,
      "outputs": []
    },
    {
      "cell_type": "code",
      "metadata": {
        "id": "uWNR8AQJyCN7"
      },
      "source": [
        "def VectorWorldResult(state, action):\r\n",
        "  if action=='Left':\r\n",
        "    return [(state[0]+VectorWorldDim-1)%VectorWorldDim]\r\n",
        "  else:\r\n",
        "    return [(state[0]+1)%VectorWorldDim]\r\n",
        "VectorWorld.Result=VectorWorldResult\r\n",
        "  "
      ],
      "execution_count": 29,
      "outputs": []
    },
    {
      "cell_type": "code",
      "metadata": {
        "colab": {
          "base_uri": "https://localhost:8080/"
        },
        "id": "Ox26cyPP2xba",
        "outputId": "1ff15935-63ec-4c27-fa88-ef31b11c618b"
      },
      "source": [
        "print (VectorWorld.IsGoal((3,)))"
      ],
      "execution_count": 30,
      "outputs": [
        {
          "output_type": "stream",
          "text": [
            "True\n"
          ],
          "name": "stdout"
        }
      ]
    },
    {
      "cell_type": "code",
      "metadata": {
        "colab": {
          "base_uri": "https://localhost:8080/"
        },
        "id": "SBfeM9Vbykci",
        "outputId": "cd18a133-aedc-4267-aa2c-a89cf0ce6418"
      },
      "source": [
        "ret, cost = BreadthFirstSearch(VectorWorld)\r\n",
        "print (\"ret=\", ret)\r\n",
        "sol = Solution(ret)\r\n",
        "print (sol)\r\n"
      ],
      "execution_count": 31,
      "outputs": [
        {
          "output_type": "stream",
          "text": [
            "ret= [3], Right\n",
            "['Right', 'Right', 'Right']\n"
          ],
          "name": "stdout"
        }
      ]
    },
    {
      "cell_type": "code",
      "metadata": {
        "id": "dAbJ75Ym4WmP"
      },
      "source": [
        "VectorWorld.INITIAL = [8]"
      ],
      "execution_count": 32,
      "outputs": []
    },
    {
      "cell_type": "code",
      "metadata": {
        "colab": {
          "base_uri": "https://localhost:8080/"
        },
        "id": "QGO1VglP4Zq6",
        "outputId": "bfbb3720-fcbf-4da3-dbb2-4bbec3742678"
      },
      "source": [
        "ret, cost = BreadthFirstSearch(VectorWorld)\r\n",
        "print (\"ret=\", ret)\r\n",
        "sol = Solution(ret)\r\n",
        "print (sol)"
      ],
      "execution_count": 33,
      "outputs": [
        {
          "output_type": "stream",
          "text": [
            "ret= [3], Left\n",
            "['Left', 'Left', 'Left', 'Left', 'Left']\n"
          ],
          "name": "stdout"
        }
      ]
    }
  ]
}