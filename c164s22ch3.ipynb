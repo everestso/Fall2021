{
  "nbformat": 4,
  "nbformat_minor": 0,
  "metadata": {
    "colab": {
      "name": "c164s22ch3.ipynb",
      "provenance": [],
      "collapsed_sections": [],
      "authorship_tag": "ABX9TyPWQo7r5XhNfazYhh6ma72h",
      "include_colab_link": true
    },
    "kernelspec": {
      "name": "python3",
      "display_name": "Python 3"
    },
    "language_info": {
      "name": "python"
    }
  },
  "cells": [
    {
      "cell_type": "markdown",
      "metadata": {
        "id": "view-in-github",
        "colab_type": "text"
      },
      "source": [
        "<a href=\"https://colab.research.google.com/github/everestso/Fall21Spring22/blob/main/c164s22ch3.ipynb\" target=\"_parent\"><img src=\"https://colab.research.google.com/assets/colab-badge.svg\" alt=\"Open In Colab\"/></a>"
      ]
    },
    {
      "cell_type": "markdown",
      "source": [
        "# Tile Sliding Domain"
      ],
      "metadata": {
        "id": "9FVyNdz0TgSw"
      }
    },
    {
      "cell_type": "code",
      "execution_count": 1,
      "metadata": {
        "id": "_fIiW0IpTb3z"
      },
      "outputs": [],
      "source": [
        "import random\n",
        "import heapq\n",
        "\n",
        "random.seed(13)"
      ]
    },
    {
      "cell_type": "code",
      "source": [
        "StateDimension=3\n",
        "# StateDimension=4\n",
        "#InitialState = [1,2,3,4,5,6,0,7,8]\n",
        "InitialState = \"123456078\"\n",
        "#GoalState=[1,2,3,4,5,6,7,8,0]\n",
        "GoalState = \"123456780\"\n",
        "# GoalState = \"123456789ABCDEF0\"\n",
        "Actions = lambda s: ['u', 'd', 'l', 'r']\n",
        "Opposite=dict([('u','d'),('d','u'),('l','r'),('r','l'), (None, None)])"
      ],
      "metadata": {
        "id": "RfvRdvY1Ti4J"
      },
      "execution_count": 2,
      "outputs": []
    },
    {
      "cell_type": "code",
      "source": [
        "def Result(state, action):\n",
        "  i = state.index('0')\n",
        "  newState = list(state)\n",
        "  row,col=i//StateDimension, i % StateDimension\n",
        "  if ( (action=='u' and row==0) or\n",
        "       (action=='d' and row==StateDimension-1) or\n",
        "       (action=='l' and col==0) or\n",
        "       (action=='r' and col==StateDimension-1)):\n",
        "      return newState\n",
        "  if action=='u':\n",
        "    l,r = row*StateDimension+col, (row-1)*StateDimension+col\n",
        "  elif action=='d':\n",
        "    l,r = row*StateDimension+col, (row+1)*StateDimension+col\n",
        "  elif action=='l':\n",
        "    l,r = row*StateDimension+col, row*StateDimension+col-1\n",
        "  elif action=='r' :\n",
        "    l,r = row*StateDimension+col, row*StateDimension+col+1\n",
        "  newState[l], newState[r] = newState[r], newState[l] \n",
        "  return ''.join(newState)\n",
        "\n",
        "def PrintState(s):\n",
        "  for i in range(0,len(s),StateDimension):\n",
        "    print(s[i:i+StateDimension])\n",
        "\n",
        "def LegalMove(state, action):\n",
        "  i = state.index('0')\n",
        "  row,col=i//StateDimension, i % StateDimension\n",
        "  if ( (action=='u' and row==0) or\n",
        "       (action=='d' and row==StateDimension-1) or\n",
        "       (action=='l' and col==0) or\n",
        "       (action=='r' and col==StateDimension-1)):\n",
        "      return False\n",
        "  return True"
      ],
      "metadata": {
        "id": "ssUlpNBFTnCA"
      },
      "execution_count": 3,
      "outputs": []
    },
    {
      "cell_type": "code",
      "source": [
        "def SingleTileManhattanDistance(tile, left, right):\n",
        "  leftIndex = left.index(tile)\n",
        "  rightIndex = right.index(tile)\n",
        "  return (abs(leftIndex//StateDimension-rightIndex//StateDimension) +\n",
        "          abs(leftIndex%StateDimension-rightIndex%StateDimension))\n",
        "  \n",
        "def ManhattanDistance(left, right):\n",
        "  distances = [SingleTileManhattanDistance(tile, left, right) \n",
        "     for tile in [str(c) for c in range(1, StateDimension**2)]]\n",
        "  ### print (\"Distances= \", distances)\n",
        "  return sum(distances)"
      ],
      "metadata": {
        "id": "IUVdCvNQTpbp"
      },
      "execution_count": 4,
      "outputs": []
    },
    {
      "cell_type": "code",
      "source": [
        "def OutOfPlace(left, right):\n",
        "  distances = [left[i]!=right[i] and right[i] != '0'\n",
        "     for i in range(StateDimension**2)]\n",
        "  return sum(distances)"
      ],
      "metadata": {
        "id": "hCnuAPnsTr44"
      },
      "execution_count": 5,
      "outputs": []
    },
    {
      "cell_type": "code",
      "source": [
        "PrintState(InitialState)"
      ],
      "metadata": {
        "colab": {
          "base_uri": "https://localhost:8080/"
        },
        "id": "87_AiyywTuMw",
        "outputId": "c6f8654d-c0ad-422b-a5a7-f4165fb17950"
      },
      "execution_count": 6,
      "outputs": [
        {
          "output_type": "stream",
          "name": "stdout",
          "text": [
            "123\n",
            "456\n",
            "078\n"
          ]
        }
      ]
    },
    {
      "cell_type": "code",
      "source": [
        "PrintState(GoalState)"
      ],
      "metadata": {
        "colab": {
          "base_uri": "https://localhost:8080/"
        },
        "id": "65i1Ru-CTwDI",
        "outputId": "742429e7-869f-47cb-ecc4-59bedb11cfe3"
      },
      "execution_count": 7,
      "outputs": [
        {
          "output_type": "stream",
          "name": "stdout",
          "text": [
            "123\n",
            "456\n",
            "780\n"
          ]
        }
      ]
    },
    {
      "cell_type": "code",
      "source": [
        "print(\"ManhattanDistance=  \", ManhattanDistance(InitialState, GoalState))\n",
        "print(\"OutOfPlace= \", OutOfPlace(InitialState, GoalState))"
      ],
      "metadata": {
        "colab": {
          "base_uri": "https://localhost:8080/"
        },
        "id": "f_xSxAvSTzdB",
        "outputId": "c92d08eb-6553-4db5-d36d-f9e0865c596a"
      },
      "execution_count": 8,
      "outputs": [
        {
          "output_type": "stream",
          "name": "stdout",
          "text": [
            "ManhattanDistance=   2\n",
            "OutOfPlace=  2\n"
          ]
        }
      ]
    },
    {
      "cell_type": "code",
      "source": [
        "PrintState(InitialState)\n",
        "print()\n",
        "state1 = Result(InitialState, 'u')\n",
        "PrintState(state1)\n",
        "print()\n",
        "state1 = Result(state1, 'r')\n",
        "PrintState(state1)"
      ],
      "metadata": {
        "colab": {
          "base_uri": "https://localhost:8080/"
        },
        "id": "ppFArHIHT1aw",
        "outputId": "d48ea171-79fc-4124-e4b9-34d4b5a43490"
      },
      "execution_count": 9,
      "outputs": [
        {
          "output_type": "stream",
          "name": "stdout",
          "text": [
            "123\n",
            "456\n",
            "078\n",
            "\n",
            "123\n",
            "056\n",
            "478\n",
            "\n",
            "123\n",
            "506\n",
            "478\n"
          ]
        }
      ]
    },
    {
      "cell_type": "markdown",
      "source": [
        "# Random Walk"
      ],
      "metadata": {
        "id": "ajRbmIksT25w"
      }
    },
    {
      "cell_type": "code",
      "source": [
        "def RandomWalk(state, steps):\n",
        "  actionSequence = []\n",
        "  actionLast = None\n",
        "  for i in range(steps):\n",
        "    action = None\n",
        "    while action==None:\n",
        "      action = random.choice(Actions(state))\n",
        "      action = action if (LegalMove(state, action) \n",
        "          and action!= Opposite[actionLast]) else None\n",
        "    actionLast = action\n",
        "    state = Result(state, action)\n",
        "    actionSequence.append(action)\n",
        "  return state, actionSequence"
      ],
      "metadata": {
        "id": "gcJKpo93T4hI"
      },
      "execution_count": 10,
      "outputs": []
    },
    {
      "cell_type": "code",
      "source": [
        "state1, sol = RandomWalk(InitialState, 50)\n",
        "PrintState(state1)\n",
        "print (ManhattanDistance(state1, GoalState), sol)\n",
        "\n",
        "state1, sol = RandomWalk(InitialState, 5)\n",
        "PrintState(InitialState)\n",
        "print (sol)\n",
        "PrintState(state1)"
      ],
      "metadata": {
        "colab": {
          "base_uri": "https://localhost:8080/"
        },
        "id": "xAwQFbz_T75Q",
        "outputId": "af8630d8-5a7d-4684-f8be-a4c4d13eed9d"
      },
      "execution_count": 11,
      "outputs": [
        {
          "output_type": "stream",
          "name": "stdout",
          "text": [
            "840\n",
            "627\n",
            "135\n",
            "18 ['u', 'u', 'r', 'd', 'l', 'd', 'r', 'r', 'u', 'l', 'l', 'd', 'r', 'r', 'u', 'u', 'l', 'd', 'r', 'd', 'l', 'u', 'u', 'l', 'd', 'd', 'r', 'u', 'r', 'u', 'l', 'l', 'd', 'r', 'r', 'd', 'l', 'u', 'r', 'd', 'l', 'l', 'u', 'r', 'r', 'u', 'l', 'd', 'r', 'u']\n",
            "123\n",
            "456\n",
            "078\n",
            "['r', 'u', 'u', 'l', 'd']\n",
            "413\n",
            "026\n",
            "758\n"
          ]
        }
      ]
    },
    {
      "cell_type": "code",
      "source": [
        "def ApplyMoves(actions, state):\n",
        "  for action in actions:\n",
        "    state = Result(state, action)\n",
        "  return state"
      ],
      "metadata": {
        "id": "OshLMceWT_iI"
      },
      "execution_count": 12,
      "outputs": []
    },
    {
      "cell_type": "code",
      "source": [
        "PrintState(InitialState)\n",
        "print(['r','r'])\n",
        "PrintState(ApplyMoves(['r','r'],InitialState))"
      ],
      "metadata": {
        "colab": {
          "base_uri": "https://localhost:8080/"
        },
        "id": "TejBYJKJUBnw",
        "outputId": "95f13835-3c59-4029-8f54-810195be7cbc"
      },
      "execution_count": 13,
      "outputs": [
        {
          "output_type": "stream",
          "name": "stdout",
          "text": [
            "123\n",
            "456\n",
            "078\n",
            "['r', 'r']\n",
            "123\n",
            "456\n",
            "780\n"
          ]
        }
      ]
    },
    {
      "cell_type": "code",
      "source": [
        "def ReverseMoves(actions):\n",
        "  ret = [Opposite[a] for a in actions]\n",
        "  ret.reverse()\n",
        "  return ret"
      ],
      "metadata": {
        "id": "90-CRQSGUEYo"
      },
      "execution_count": 14,
      "outputs": []
    },
    {
      "cell_type": "code",
      "source": [
        "state1, sol = RandomWalk(GoalState, 5)\n",
        "PrintState(state1)\n",
        "print (sol)\n",
        "print(ReverseMoves(sol))\n",
        "PrintState (ApplyMoves(ReverseMoves(sol), state1))"
      ],
      "metadata": {
        "id": "lwjBuD8MUGp3",
        "outputId": "6a2352e2-2b1e-46ba-eeef-f2467c60478f",
        "colab": {
          "base_uri": "https://localhost:8080/"
        }
      },
      "execution_count": 15,
      "outputs": [
        {
          "output_type": "stream",
          "name": "stdout",
          "text": [
            "203\n",
            "156\n",
            "478\n",
            "['l', 'l', 'u', 'u', 'r']\n",
            "['l', 'd', 'd', 'r', 'r']\n",
            "123\n",
            "456\n",
            "780\n"
          ]
        }
      ]
    },
    {
      "cell_type": "markdown",
      "source": [
        "# Example 1"
      ],
      "metadata": {
        "id": "NHyV2rT4BiIz"
      }
    },
    {
      "cell_type": "code",
      "source": [
        "Problems = [RandomWalk(GoalState, 5) for _ in range(10)]\n",
        "for i, s in Problems:\n",
        "  print ('\"', i, '\" , \"', ''.join(map(str, ReverseMoves(s))), '\",', \n",
        "         ManhattanDistance(i, GoalState), sep='')"
      ],
      "metadata": {
        "colab": {
          "base_uri": "https://localhost:8080/"
        },
        "id": "ZXf-fvmRBpHZ",
        "outputId": "26f12528-ee05-4a7d-cd07-ce2f487fd538"
      },
      "execution_count": 16,
      "outputs": [
        {
          "output_type": "stream",
          "name": "stdout",
          "text": [
            "\"123745806\" , \"lurrd\",5\n",
            "\"123746508\" , \"lurdr\",5\n",
            "\"412053786\" , \"urrdd\",5\n",
            "\"203156478\" , \"lddrr\",5\n",
            "\"413026758\" , \"urddr\",5\n",
            "\"413026758\" , \"urddr\",5\n",
            "\"203156478\" , \"lddrr\",5\n",
            "\"152430786\" , \"lurdd\",5\n",
            "\"152430786\" , \"lurdd\",5\n",
            "\"413026758\" , \"urddr\",5\n"
          ]
        }
      ]
    },
    {
      "cell_type": "code",
      "source": [
        "NewState = ApplyMoves(\"dldrr\", \"103526478\")\n",
        "print (NewState)\n",
        "PrintState(\"123456780\")\n",
        "print()\n",
        "PrintState(\"103526478\")\n",
        "print(OutOfPlace(\"103526478\", \"123456780\"))\n",
        "MD=[(1,0), (2, 1), (3, 0), (4, 1), (5, 1), (6, 0), (7, 1), (8, 1)]\n",
        "print(ManhattanDistance(\"103526478\", \"123456780\"))"
      ],
      "metadata": {
        "colab": {
          "base_uri": "https://localhost:8080/"
        },
        "id": "Zd6YIiylBjwZ",
        "outputId": "af92e541-e7f5-4245-a2d1-f0d832b78080"
      },
      "execution_count": 17,
      "outputs": [
        {
          "output_type": "stream",
          "name": "stdout",
          "text": [
            "123456780\n",
            "123\n",
            "456\n",
            "780\n",
            "\n",
            "103\n",
            "526\n",
            "478\n",
            "5\n",
            "5\n"
          ]
        }
      ]
    },
    {
      "cell_type": "code",
      "source": [
        "InitialState = \"412053786\"\n",
        "GoalState = \"123456780\"\n",
        "print (\"ManhattanDistance=\", ManhattanDistance(InitialState, GoalState))\n",
        "print (\"Out of Place= \", OutOfPlace(InitialState, GoalState))"
      ],
      "metadata": {
        "colab": {
          "base_uri": "https://localhost:8080/"
        },
        "id": "fVTZOaPjCNut",
        "outputId": "02cf41da-9fd0-4d49-ef69-26da8499b972"
      },
      "execution_count": 18,
      "outputs": [
        {
          "output_type": "stream",
          "name": "stdout",
          "text": [
            "ManhattanDistance= 5\n",
            "Out of Place=  5\n"
          ]
        }
      ]
    },
    {
      "cell_type": "markdown",
      "source": [
        "# Example 2"
      ],
      "metadata": {
        "id": "j2dQ_DJmDb8g"
      }
    },
    {
      "cell_type": "code",
      "source": [
        "Problems = [RandomWalk(GoalState, 100) for _ in range(20)]\n",
        "for i, s in Problems:\n",
        "  print ('\"', i, '\", ', ''.join(map(str, ReverseMoves(s))), '\",', \n",
        "         OutOfPlace(i, GoalState), \" \",  ManhattanDistance(i, GoalState), sep='')"
      ],
      "metadata": {
        "colab": {
          "base_uri": "https://localhost:8080/"
        },
        "id": "gGpC7L0-DY2Y",
        "outputId": "cfe0cc75-c2ce-4d93-aa78-30f081f16c87"
      },
      "execution_count": 19,
      "outputs": [
        {
          "output_type": "stream",
          "name": "stdout",
          "text": [
            "\"847503612\", druldruullddrrulurddlulurddrullurrddlulurrdldlurdruullddrruullddrrulurddllurulddrruuldrullddrrulurdd\",8 20\n",
            "\"241703685\", ldrrululddruruldlurrddluurdluldrdlurdruullddrurdllurdruulldrulddruruldlurdruldlurdrdlluurrdllurrdldr\",7 12\n",
            "\"068475321\", rrdldlurrulddluruldrulddruuldrurdlldruruldlurrddlurulddrululdrurddlluurrddluldrulurddrullurrddluurdd\",7 18\n",
            "\"523418760\", llururdluldrruldldruldrurdlluurrddlluurddluurddruulddrulldrrullurrddlluurrdldruuldlurdrdlluurdruldrd\",4 8\n",
            "\"041567832\", druldrulddrruulddluurdrdlluurdrdllurrdluldrurdluulddrrulldrrullurddlurrullddrruldruulldrrdluuldrurdd\",8 16\n",
            "\"813267450\", lluurrddlurdluulddruldrruuldldruldrruulddrululddrrulurdllurrddlulurrddlurullddruldruruldldrrululdrdr\",7 12\n",
            "\"240683517\", ldrdlluurrdlulddruldruulddruurddluurdldruuldlurdldrulurdrdllurrdluurddlluurdrullddrrulldrruuldlurddr\",8 14\n",
            "\"740862153\", llddrurulddrululdrdruulddruldlurdlurdlurdlurrdlluurdruldrdluuldrulddrrulurdllurrddluurddlluurdruldrd\",8 14\n",
            "\"068347251\", rdrdlluurrddlluurrddluulddrruuldrdluuldrdluurrddllurdruldluurddruulldrrdllururddllururddllurdluurdrd\",8 20\n",
            "\"854601732\", urddlluurddruldruulldrulddruulddrulurrdlulddruurddlurdllururddlulurrdlldrrululdrdruullddrulurdlurrdd\",7 18\n",
            "\"745132860\", llururddlluurrddllururdlldruulddruruldldrruuldlurddlurrdlluurrddluldruldruldrrulurdlulddruuldrruldrd\",8 14\n",
            "\"586304712\", urdldluurdldrruuldrulldrdruullddrrululdrdluurrddllurruldrdlulurrddlluruldrrdluruldlurddrulurdlulddrr\",7 16\n",
            "\"342781065\", rulurrdlldrulurddruulldruldrrdlluurrddlurulldrurddlurdlluurdrullddruldrrululddruurdlurddlurdluulddrr\",8 14\n",
            "\"237401586\", lurrdllurrddlulurddluurddluurrddlluurdrullddrruuldrdlluurrdldluurdrullddrrullurddlururdldluurdruldrd\",6 12\n",
            "\"032641587\", drurdlldrrulldrurdlluurdrulldrdlurdluurdrdluurdluldrulddrulurrddluldrruulldrdluurdrullddrurdluurdldr\",7 12\n",
            "\"715604238\", dlurrullddruuldrurddlulurdlurddluurdldrruulldrdruuldldruldrrulurddluulddrrulldrurullddruurddlulurrdd\",8 16\n",
            "\"354172086\", uruldrdluurdrdllurrullddrruldruuldruldrdlluruldrurdlurdlldrrulurdldrulldruuldrdruulddrululddruulddrr\",7 12\n",
            "\"012743586\", rrddllururddllurrullddrruldruullddruurdluldrdruullddrruulldrurdldluurrdldruldruldluurrddlluurdrdlurd\",7 8\n",
            "\"471603825\", rdluurdlldruurddluuldrurdlurdluldrurddlulurddluurrdldruuldrulldrrullddruurddlulurrdlldrruullddrruldr\",8 14\n",
            "\"251604873\", dluurddrullurddlurrulddlurdruulldrdrulldrruuldldrruulldrrulldrrullddruruldrdluulddrrulldruulddruldrr\",8 12\n"
          ]
        }
      ]
    },
    {
      "cell_type": "code",
      "source": [
        "InitialState = \"281607543\"\n",
        "GoalState = \"123456780\"\n",
        "print (\"ManhattanDistance=\", ManhattanDistance(InitialState, GoalState))\n",
        "print (\"Out of Place= \", OutOfPlace(InitialState, GoalState))"
      ],
      "metadata": {
        "colab": {
          "base_uri": "https://localhost:8080/"
        },
        "id": "sr2YbSd8Disw",
        "outputId": "ef2d3c1e-a5fb-41cf-f730-56453e9f6bcc"
      },
      "execution_count": 20,
      "outputs": [
        {
          "output_type": "stream",
          "name": "stdout",
          "text": [
            "ManhattanDistance= 16\n",
            "Out of Place=  8\n"
          ]
        }
      ]
    },
    {
      "cell_type": "code",
      "source": [
        "InitialState = \"076581324\"\n",
        "GoalState = \"123456780\"\n",
        "print (\"ManhattanDistance=\", ManhattanDistance(InitialState, GoalState))\n",
        "print (\"Out of Place= \", OutOfPlace(InitialState, GoalState))\n",
        "PrintState(InitialState)"
      ],
      "metadata": {
        "colab": {
          "base_uri": "https://localhost:8080/"
        },
        "id": "5vmBqZGqGvey",
        "outputId": "4cda6c00-401d-4fe2-9ffd-ed7820a5c69c"
      },
      "execution_count": 21,
      "outputs": [
        {
          "output_type": "stream",
          "name": "stdout",
          "text": [
            "ManhattanDistance= 18\n",
            "Out of Place=  8\n",
            "076\n",
            "581\n",
            "324\n"
          ]
        }
      ]
    },
    {
      "cell_type": "code",
      "source": [
        "sol = \"drdlurrullddruruldlurrddlluurrddluldrruulddruullddrruullddrurdlulurrddluurdlulddrulurdldrurdluuldrdr\"\n",
        "print (len(sol))\n",
        "print(ApplyMoves(sol, InitialState))"
      ],
      "metadata": {
        "colab": {
          "base_uri": "https://localhost:8080/"
        },
        "id": "tvcSVaToG-PG",
        "outputId": "68674c0c-a4c5-4322-8062-3ad3a735f5aa"
      },
      "execution_count": 22,
      "outputs": [
        {
          "output_type": "stream",
          "name": "stdout",
          "text": [
            "100\n",
            "123456780\n"
          ]
        }
      ]
    },
    {
      "cell_type": "markdown",
      "source": [
        "# Simple 15 Puzzle Test"
      ],
      "metadata": {
        "id": "wcOUk-mFXLPN"
      }
    },
    {
      "cell_type": "code",
      "source": [
        "GoalState = \"123456789ABCDEF0\"\n",
        "s15a = Result(GoalState, \"l\")\n",
        "s15b = Result(GoalState, \"u\")\n",
        "\n",
        "PrintState(GoalState)\n",
        "print()\n",
        "PrintState(s15a)\n",
        "print('')\n",
        "PrintState(s15b)"
      ],
      "metadata": {
        "colab": {
          "base_uri": "https://localhost:8080/"
        },
        "id": "7tliBdOyXPQk",
        "outputId": "a794fe0e-e40c-4b29-c5e7-a4a69a645239"
      },
      "execution_count": 23,
      "outputs": [
        {
          "output_type": "stream",
          "name": "stdout",
          "text": [
            "123\n",
            "456\n",
            "789\n",
            "ABC\n",
            "DEF\n",
            "0\n",
            "\n",
            "['1', '2', '3']\n",
            "['4', '5', '6']\n",
            "['7', '8', '9']\n",
            "['A', 'B', 'C']\n",
            "['D', 'E', 'F']\n",
            "['0']\n",
            "\n",
            "123\n",
            "456\n",
            "789\n",
            "ABC\n",
            "0EF\n",
            "D\n"
          ]
        }
      ]
    },
    {
      "cell_type": "markdown",
      "source": [
        "# Discussion"
      ],
      "metadata": {
        "id": "7JRFs_HWVNhc"
      }
    },
    {
      "cell_type": "code",
      "source": [
        "StateDimension=3\n",
        "s1 = \"821357064\"\n",
        "sol1=\"ruurdllurrdlurddllurrdllurrd\"\n",
        "r = ApplyMoves(sol1, s1)\n",
        "PrintState(r)"
      ],
      "metadata": {
        "colab": {
          "base_uri": "https://localhost:8080/"
        },
        "id": "0sZoWp-wVPbH",
        "outputId": "52d298f1-9934-442b-fd3b-256294d0a042"
      },
      "execution_count": 29,
      "outputs": [
        {
          "output_type": "stream",
          "name": "stdout",
          "text": [
            "123\n",
            "456\n",
            "780\n"
          ]
        }
      ]
    },
    {
      "cell_type": "code",
      "source": [
        "StateDimension=4\n",
        "s1 = \"13275AE069C4DF8B\"\n",
        "sol1=\"dluullddrrruuldrddlurdlluulurrrddd\"\n",
        "r = ApplyMoves(sol1, s1)\n",
        "PrintState(r)"
      ],
      "metadata": {
        "colab": {
          "base_uri": "https://localhost:8080/"
        },
        "id": "2VJ9ohw5VY5G",
        "outputId": "e34397e2-2e76-4ec1-dab7-b15a8d8e383e"
      },
      "execution_count": 24,
      "outputs": [
        {
          "output_type": "stream",
          "name": "stdout",
          "text": [
            "1234\n",
            "5678\n",
            "9ABC\n",
            "DEF0\n"
          ]
        }
      ]
    },
    {
      "cell_type": "code",
      "source": [
        "StateDimension=4\n",
        "s=\"FAC42B061D89E537\"\n",
        "sol1=\"LLURDLDRDRURDLUULDDRUUULLDRDDRUULURDRDDLLLURURRDLDR\".lower()\n",
        "sol2=\"ddluuuldddrruluuldddruulddruulddruurruldlurrdlddluldrruuurdlddruuuldddruldlurrdllluruurdddllurrdlurdluldrruulurdldruuldddrruldlurrdlluurddlurulddrulurddr\"\n",
        "print(len(sol1))\n",
        "print(len(sol2))\n",
        "\n",
        "r = ApplyMoves(sol1, s)\n",
        "print(\"------Solution 1-------\")\n",
        "PrintState(r)\n",
        "r = ApplyMoves(sol2, s)\n",
        "print(\"------Solution 2-------\")\n",
        "PrintState(r)\n",
        "\n"
      ],
      "metadata": {
        "colab": {
          "base_uri": "https://localhost:8080/"
        },
        "id": "INRBN3UNWezt",
        "outputId": "02738707-f2ab-4c58-bf6f-8f20c1090ef7"
      },
      "execution_count": 31,
      "outputs": [
        {
          "output_type": "stream",
          "name": "stdout",
          "text": [
            "51\n",
            "153\n",
            "------Solution 1-------\n",
            "1234\n",
            "5678\n",
            "9ABC\n",
            "DEF0\n",
            "------Solution 2-------\n",
            "1234\n",
            "5678\n",
            "9ABC\n",
            "DEF0\n"
          ]
        }
      ]
    }
  ]
}