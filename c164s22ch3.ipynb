{
  "nbformat": 4,
  "nbformat_minor": 0,
  "metadata": {
    "colab": {
      "name": "c164s22ch3.ipynb",
      "provenance": [],
      "collapsed_sections": [],
      "authorship_tag": "ABX9TyM8I7DEVkpLGuO2OoqP/SGS",
      "include_colab_link": true
    },
    "kernelspec": {
      "name": "python3",
      "display_name": "Python 3"
    },
    "language_info": {
      "name": "python"
    }
  },
  "cells": [
    {
      "cell_type": "markdown",
      "metadata": {
        "id": "view-in-github",
        "colab_type": "text"
      },
      "source": [
        "<a href=\"https://colab.research.google.com/github/everestso/Fall21Spring22/blob/main/c164s22ch3.ipynb\" target=\"_parent\"><img src=\"https://colab.research.google.com/assets/colab-badge.svg\" alt=\"Open In Colab\"/></a>"
      ]
    },
    {
      "cell_type": "markdown",
      "source": [
        "# Tile Sliding Domain"
      ],
      "metadata": {
        "id": "9FVyNdz0TgSw"
      }
    },
    {
      "cell_type": "code",
      "execution_count": null,
      "metadata": {
        "id": "_fIiW0IpTb3z"
      },
      "outputs": [],
      "source": [
        "import random\n",
        "import heapq\n",
        "\n",
        "random.seed(13)"
      ]
    },
    {
      "cell_type": "code",
      "source": [
        "StateDimension=3\n",
        "# StateDimension=4\n",
        "#InitialState = [1,2,3,4,5,6,0,7,8]\n",
        "InitialState = \"123456078\"\n",
        "#GoalState=[1,2,3,4,5,6,7,8,0]\n",
        "GoalState = \"123456780\"\n",
        "# GoalState = \"123456789ABCDEF0\"\n",
        "Actions = lambda s: ['u', 'd', 'l', 'r']\n",
        "Opposite=dict([('u','d'),('d','u'),('l','r'),('r','l'), (None, None)])"
      ],
      "metadata": {
        "id": "RfvRdvY1Ti4J"
      },
      "execution_count": null,
      "outputs": []
    },
    {
      "cell_type": "code",
      "source": [
        "def Result(state, action):\n",
        "  i = state.index('0')\n",
        "  newState = list(state)\n",
        "  row,col=i//StateDimension, i % StateDimension\n",
        "  if ( (action=='u' and row==0) or\n",
        "       (action=='d' and row==StateDimension-1) or\n",
        "       (action=='l' and col==0) or\n",
        "       (action=='r' and col==StateDimension-1)):\n",
        "      return newState\n",
        "  if action=='u':\n",
        "    l,r = row*StateDimension+col, (row-1)*StateDimension+col\n",
        "  elif action=='d':\n",
        "    l,r = row*StateDimension+col, (row+1)*StateDimension+col\n",
        "  elif action=='l':\n",
        "    l,r = row*StateDimension+col, row*StateDimension+col-1\n",
        "  elif action=='r' :\n",
        "    l,r = row*StateDimension+col, row*StateDimension+col+1\n",
        "  newState[l], newState[r] = newState[r], newState[l] \n",
        "  return ''.join(newState)\n",
        "\n",
        "def PrintState(s):\n",
        "  for i in range(0,len(s),StateDimension):\n",
        "    print(s[i:i+StateDimension])\n",
        "\n",
        "def LegalMove(state, action):\n",
        "  i = state.index('0')\n",
        "  row,col=i//StateDimension, i % StateDimension\n",
        "  if ( (action=='u' and row==0) or\n",
        "       (action=='d' and row==StateDimension-1) or\n",
        "       (action=='l' and col==0) or\n",
        "       (action=='r' and col==StateDimension-1)):\n",
        "      return False\n",
        "  return True"
      ],
      "metadata": {
        "id": "ssUlpNBFTnCA"
      },
      "execution_count": null,
      "outputs": []
    },
    {
      "cell_type": "code",
      "source": [
        "def SingleTileManhattanDistance(tile, left, right):\n",
        "  leftIndex = left.index(tile)\n",
        "  rightIndex = right.index(tile)\n",
        "  return (abs(leftIndex//StateDimension-rightIndex//StateDimension) +\n",
        "          abs(leftIndex%StateDimension-rightIndex%StateDimension))\n",
        "  \n",
        "def ManhattanDistance(left, right):\n",
        "  distances = [SingleTileManhattanDistance(tile, left, right) \n",
        "     for tile in [str(c) for c in range(1, StateDimension**2)]]\n",
        "  ### print (\"Distances= \", distances)\n",
        "  return sum(distances)"
      ],
      "metadata": {
        "id": "IUVdCvNQTpbp"
      },
      "execution_count": null,
      "outputs": []
    },
    {
      "cell_type": "code",
      "source": [
        "def OutOfPlace(left, right):\n",
        "  distances = [left[i]!=right[i] and right[i] != '0'\n",
        "     for i in range(StateDimension**2)]\n",
        "  return sum(distances)"
      ],
      "metadata": {
        "id": "hCnuAPnsTr44"
      },
      "execution_count": null,
      "outputs": []
    },
    {
      "cell_type": "code",
      "source": [
        "PrintState(InitialState)"
      ],
      "metadata": {
        "colab": {
          "base_uri": "https://localhost:8080/"
        },
        "id": "87_AiyywTuMw",
        "outputId": "d328ca14-5cea-4294-c774-fda79f286629"
      },
      "execution_count": null,
      "outputs": [
        {
          "output_type": "stream",
          "name": "stdout",
          "text": [
            "123\n",
            "456\n",
            "078\n"
          ]
        }
      ]
    },
    {
      "cell_type": "code",
      "source": [
        "PrintState(GoalState)"
      ],
      "metadata": {
        "colab": {
          "base_uri": "https://localhost:8080/"
        },
        "id": "65i1Ru-CTwDI",
        "outputId": "c5e30e45-5fa0-49d8-9946-383d3bc146e5"
      },
      "execution_count": null,
      "outputs": [
        {
          "output_type": "stream",
          "name": "stdout",
          "text": [
            "123\n",
            "456\n",
            "780\n"
          ]
        }
      ]
    },
    {
      "cell_type": "code",
      "source": [
        "print(\"ManhattanDistance=  \", ManhattanDistance(InitialState, GoalState))\n",
        "print(\"OutOfPlace= \", OutOfPlace(InitialState, GoalState))"
      ],
      "metadata": {
        "colab": {
          "base_uri": "https://localhost:8080/"
        },
        "id": "f_xSxAvSTzdB",
        "outputId": "04c8b147-df2f-4984-f58e-068d100094c2"
      },
      "execution_count": null,
      "outputs": [
        {
          "output_type": "stream",
          "name": "stdout",
          "text": [
            "ManhattanDistance=   2\n",
            "OutOfPlace=  2\n"
          ]
        }
      ]
    },
    {
      "cell_type": "code",
      "source": [
        "PrintState(InitialState)\n",
        "print()\n",
        "state1 = Result(InitialState, 'u')\n",
        "PrintState(state1)\n",
        "print()\n",
        "state1 = Result(state1, 'r')\n",
        "PrintState(state1)"
      ],
      "metadata": {
        "colab": {
          "base_uri": "https://localhost:8080/"
        },
        "id": "ppFArHIHT1aw",
        "outputId": "ccebe4c9-1c98-48ee-d6b5-6c29c6ed8861"
      },
      "execution_count": null,
      "outputs": [
        {
          "output_type": "stream",
          "name": "stdout",
          "text": [
            "123\n",
            "456\n",
            "078\n",
            "\n",
            "123\n",
            "056\n",
            "478\n",
            "\n",
            "123\n",
            "506\n",
            "478\n"
          ]
        }
      ]
    },
    {
      "cell_type": "markdown",
      "source": [
        "# Random Walk"
      ],
      "metadata": {
        "id": "ajRbmIksT25w"
      }
    },
    {
      "cell_type": "code",
      "source": [
        "def RandomWalk(state, steps):\n",
        "  actionSequence = []\n",
        "  actionLast = None\n",
        "  for i in range(steps):\n",
        "    action = None\n",
        "    while action==None:\n",
        "      action = random.choice(Actions(state))\n",
        "      action = action if (LegalMove(state, action) \n",
        "          and action!= Opposite[actionLast]) else None\n",
        "    actionLast = action\n",
        "    state = Result(state, action)\n",
        "    actionSequence.append(action)\n",
        "  return state, actionSequence"
      ],
      "metadata": {
        "id": "gcJKpo93T4hI"
      },
      "execution_count": null,
      "outputs": []
    },
    {
      "cell_type": "code",
      "source": [
        "state1, sol = RandomWalk(InitialState, 50)\n",
        "PrintState(state1)\n",
        "print (ManhattanDistance(state1, GoalState), sol)\n",
        "\n",
        "state1, sol = RandomWalk(InitialState, 5)\n",
        "PrintState(InitialState)\n",
        "print (sol)\n",
        "PrintState(state1)"
      ],
      "metadata": {
        "colab": {
          "base_uri": "https://localhost:8080/"
        },
        "id": "xAwQFbz_T75Q",
        "outputId": "b67daefb-27b8-4c9f-bb20-0dc4fdc97e4e"
      },
      "execution_count": null,
      "outputs": [
        {
          "output_type": "stream",
          "name": "stdout",
          "text": [
            "840\n",
            "627\n",
            "135\n",
            "18 ['u', 'u', 'r', 'd', 'l', 'd', 'r', 'r', 'u', 'l', 'l', 'd', 'r', 'r', 'u', 'u', 'l', 'd', 'r', 'd', 'l', 'u', 'u', 'l', 'd', 'd', 'r', 'u', 'r', 'u', 'l', 'l', 'd', 'r', 'r', 'd', 'l', 'u', 'r', 'd', 'l', 'l', 'u', 'r', 'r', 'u', 'l', 'd', 'r', 'u']\n",
            "123\n",
            "456\n",
            "078\n",
            "['r', 'u', 'u', 'l', 'd']\n",
            "413\n",
            "026\n",
            "758\n"
          ]
        }
      ]
    },
    {
      "cell_type": "code",
      "source": [
        "def ApplyMoves(actions, state):\n",
        "  for action in actions:\n",
        "    state = Result(state, action)\n",
        "  return state"
      ],
      "metadata": {
        "id": "OshLMceWT_iI"
      },
      "execution_count": null,
      "outputs": []
    },
    {
      "cell_type": "code",
      "source": [
        "PrintState(InitialState)\n",
        "print(['r','r'])\n",
        "PrintState(ApplyMoves(['r','r'],InitialState))"
      ],
      "metadata": {
        "colab": {
          "base_uri": "https://localhost:8080/"
        },
        "id": "TejBYJKJUBnw",
        "outputId": "00932a8b-113b-4183-eb39-141b52937dd8"
      },
      "execution_count": null,
      "outputs": [
        {
          "output_type": "stream",
          "name": "stdout",
          "text": [
            "123\n",
            "456\n",
            "078\n",
            "['r', 'r']\n",
            "123\n",
            "456\n",
            "780\n"
          ]
        }
      ]
    },
    {
      "cell_type": "code",
      "source": [
        "def ReverseMoves(actions):\n",
        "  ret = [Opposite[a] for a in actions]\n",
        "  ret.reverse()\n",
        "  return ret"
      ],
      "metadata": {
        "id": "90-CRQSGUEYo"
      },
      "execution_count": null,
      "outputs": []
    },
    {
      "cell_type": "code",
      "source": [
        "state1, sol = RandomWalk(GoalState, 5)\n",
        "PrintState(state1)\n",
        "print (sol)\n",
        "print(ReverseMoves(sol))\n",
        "PrintState (ApplyMoves(ReverseMoves(sol), state1))"
      ],
      "metadata": {
        "id": "lwjBuD8MUGp3",
        "outputId": "40017703-347e-4f2c-9e2c-d993f50e15c4",
        "colab": {
          "base_uri": "https://localhost:8080/"
        }
      },
      "execution_count": null,
      "outputs": [
        {
          "output_type": "stream",
          "name": "stdout",
          "text": [
            "203\n",
            "156\n",
            "478\n",
            "['l', 'l', 'u', 'u', 'r']\n",
            "['l', 'd', 'd', 'r', 'r']\n",
            "123\n",
            "456\n",
            "780\n"
          ]
        }
      ]
    },
    {
      "cell_type": "markdown",
      "source": [
        "# Example 1"
      ],
      "metadata": {
        "id": "NHyV2rT4BiIz"
      }
    },
    {
      "cell_type": "code",
      "source": [
        "Problems = [RandomWalk(GoalState, 5) for _ in range(10)]\n",
        "for i, s in Problems:\n",
        "  print ('\"', i, '\" , \"', ''.join(map(str, ReverseMoves(s))), '\",', \n",
        "         ManhattanDistance(i, GoalState), sep='')"
      ],
      "metadata": {
        "colab": {
          "base_uri": "https://localhost:8080/"
        },
        "id": "ZXf-fvmRBpHZ",
        "outputId": "7df7cf66-21c7-4f71-a53a-ddd91858ed11"
      },
      "execution_count": null,
      "outputs": [
        {
          "output_type": "stream",
          "name": "stdout",
          "text": [
            "\"103526478\" , \"dldrr\",5\n",
            "\"103526478\" , \"dldrr\",5\n",
            "\"135420786\" , \"uldrd\",5\n",
            "\"152043786\" , \"rurdd\",5\n",
            "\"203156478\" , \"lddrr\",5\n",
            "\"203156478\" , \"lddrr\",5\n",
            "\"123576408\" , \"uldrr\",5\n",
            "\"412053786\" , \"urrdd\",5\n",
            "\"152430786\" , \"lurdd\",5\n",
            "\"103526478\" , \"dldrr\",5\n"
          ]
        }
      ]
    },
    {
      "cell_type": "code",
      "source": [
        "NewState = ApplyMoves(\"dldrr\", \"103526478\")\n",
        "print (NewState)\n",
        "PrintState(\"123456780\")\n",
        "print()\n",
        "PrintState(\"103526478\")\n",
        "print(OutOfPlace(\"103526478\", \"123456780\"))\n",
        "MD=[(1,0), (2, 1), (3, 0), (4, 1), (5, 1), (6, 0), (7, 1), (8, 1)]\n",
        "print(ManhattanDistance(\"103526478\", \"123456780\"))"
      ],
      "metadata": {
        "colab": {
          "base_uri": "https://localhost:8080/"
        },
        "id": "Zd6YIiylBjwZ",
        "outputId": "1386ffe0-cb2d-4f8b-aec1-4d415fa10314"
      },
      "execution_count": null,
      "outputs": [
        {
          "output_type": "stream",
          "name": "stdout",
          "text": [
            "123456780\n",
            "123\n",
            "456\n",
            "780\n",
            "\n",
            "103\n",
            "526\n",
            "478\n",
            "5\n",
            "5\n"
          ]
        }
      ]
    },
    {
      "cell_type": "code",
      "source": [
        "InitialState = \"412053786\"\n",
        "GoalState = \"123456780\"\n",
        "print (\"ManhattanDistance=\", ManhattanDistance(InitialState, GoalState))\n",
        "print (\"Out of Place= \", OutOfPlace(InitialState, GoalState))"
      ],
      "metadata": {
        "colab": {
          "base_uri": "https://localhost:8080/"
        },
        "id": "fVTZOaPjCNut",
        "outputId": "c97bca42-d1cb-4e56-c32c-451c82dcc406"
      },
      "execution_count": null,
      "outputs": [
        {
          "output_type": "stream",
          "name": "stdout",
          "text": [
            "ManhattanDistance= 5\n",
            "Out of Place=  5\n"
          ]
        }
      ]
    },
    {
      "cell_type": "markdown",
      "source": [
        "# Example 2"
      ],
      "metadata": {
        "id": "j2dQ_DJmDb8g"
      }
    },
    {
      "cell_type": "code",
      "source": [
        "Problems = [RandomWalk(GoalState, 100) for _ in range(20)]\n",
        "for i, s in Problems:\n",
        "  print ('\"', i, '\", ', ''.join(map(str, ReverseMoves(s))), '\",', \n",
        "         OutOfPlace(i, GoalState), \" \",  ManhattanDistance(i, GoalState), sep='')"
      ],
      "metadata": {
        "colab": {
          "base_uri": "https://localhost:8080/"
        },
        "id": "gGpC7L0-DY2Y",
        "outputId": "accd3ad9-ce88-458a-f31e-7fa78388c724"
      },
      "execution_count": null,
      "outputs": [
        {
          "output_type": "stream",
          "name": "stdout",
          "text": [
            "\"567234081\", uurrddluurddllurrullddrurdluulddruulddrrululdrurdlurddlluurrdllurrddllururdlurdluldrdlurdlurrdllurdr\",7 18\n",
            "\"820453761\", llddrrullurrdlldrruldlurdluurrdlurddluurddluuldrrdllurdlurulddruuldrulddrruuldldrruulldrdrululddrurd\",4 10\n",
            "\"067312845\", ddrruuldrulddlurdlurdruullddrurulddrulldrruldruldruldlurruldldruuldrdruulddluurdlurrdllurrddlluurrdd\",8 18\n",
            "\"281607543\", uldrrdllurruldldruulddruurdldlurdruuldlurdlurdrdllururdlldrruullddruldrrulldruldrruuldrdlluurddlurrd\",8 16\n",
            "\"783245610\", uuldrulldrdluurdrulldrdlurrdlluurrddllurrdllurdlurdruullddruulddruuldrrdlluurdldrruuldrulldrrullddrr\",7 14\n",
            "\"348107625\", ulddrruulldrrdllurdruulldrruldrdlurdlluurrdlldruuldrrdluuldrrdlluruldrdrulldrrulldruurdldruldlururdd\",8 18\n",
            "\"358174026\", urdruullddrruullddrurdllurdlurulddrruullddrulurdldrurdlluurdrulldrurdlldruurdldluurrdlulddrrullurddr\",8 14\n",
            "\"624508173\", rulldrrdlluurrdldruldlururddlulurrdlldruruldrdllurruldlurdruldrdluldrruuldrulddluurddlurrulddluurrdd\",7 14\n",
            "\"364851027\", ruurdlurdldlurrdllurdruulldrrulddlururddluruldruldrullddruruldlurrddlluurdrdlluurddlururdllurdldrurd\",7 16\n",
            "\"234678051\", ruuldrdlurdruuldldrruldluurddlurdluurdrdluurdlurddllurulddruldrruullddrurdluldruldrulurdrullddrruldr\",8 16\n",
            "\"678245130\", uullddrrulldruruldrdlluurrdlulddrulurrddlurdluuldrrdluldruurddluuldrruldrulddlurruldrulddluurrdlldrr\",8 18\n",
            "\"231746580\", ulldrruullddrruullddruurdlulddrrululdrruldldrurullddrrululdrulddrurullddruuldrdrulurddlurdlluurdldrr\",6 8\n",
            "\"320847561\", dlurddlluurdldruuldrurddlurulldrulddrruulldrulddruurddlluurrdldlurdlurdlururdluldrrulldrdrulurddlurd\",7 16\n",
            "\"287135640\", uldrullurrddluruldldrurulddlururdllurrddlurdlluurrdlurddluuldrurddlluurrdldrululdrdruullddrruulldrrd\",8 16\n",
            "\"316207548\", ldrurdllururdlldruulddrruuldrdluldrurdluurdlldrruulldrrullddruulddruurddluulddrruuldlurrddlluurdldrr\",8 14\n",
            "\"140673285\", ldldrruullddrruullddrrulldruldruurdlldrruullddrruulldrrulddluurdrdluldrrulldrulurrddluulddrruldlurrd\",6 12\n",
            "\"134507628\", rdluuldrurddlluurdruldlurrddluldruuldrrdllurdlurrdlurdlluruldrurddlulurrdldlurdrullurdldrurdlurulddr\",7 14\n",
            "\"178402635\", uldrulddrrulurdluldrdlurdrullurdrdlluurdldrrululdrdlurdruulldrdruuldrdlluurrddllurrdluldruurdllurddr\",6 16\n",
            "\"837256410\", ulurdlldrruulldrurdldlurrulddruuldlurrddlurulldrruldlurrdldruuldrdllurrdlulurrdllurrddluruldldrruldr\",6 14\n",
            "\"360125748\", ddlluurdlurddlurdluurrddlulurrddluldrruldluurrdldruullddrurdlulurdldruurdldlurrdlluurrddluldrulurrdd\",7 10\n"
          ]
        }
      ]
    },
    {
      "cell_type": "code",
      "source": [
        "InitialState = \"281607543\"\n",
        "GoalState = \"123456780\"\n",
        "print (\"ManhattanDistance=\", ManhattanDistance(InitialState, GoalState))\n",
        "print (\"Out of Place= \", OutOfPlace(InitialState, GoalState))"
      ],
      "metadata": {
        "colab": {
          "base_uri": "https://localhost:8080/"
        },
        "id": "sr2YbSd8Disw",
        "outputId": "50edd001-3ee9-4eb4-af45-418ae31fa146"
      },
      "execution_count": null,
      "outputs": [
        {
          "output_type": "stream",
          "name": "stdout",
          "text": [
            "ManhattanDistance= 16\n",
            "Out of Place=  8\n"
          ]
        }
      ]
    },
    {
      "cell_type": "code",
      "source": [
        "InitialState = \"076581324\"\n",
        "GoalState = \"123456780\"\n",
        "print (\"ManhattanDistance=\", ManhattanDistance(InitialState, GoalState))\n",
        "print (\"Out of Place= \", OutOfPlace(InitialState, GoalState))\n",
        "PrintState(InitialState)"
      ],
      "metadata": {
        "colab": {
          "base_uri": "https://localhost:8080/"
        },
        "id": "5vmBqZGqGvey",
        "outputId": "bc5115f2-873c-4e14-c367-a529e79b4e25"
      },
      "execution_count": null,
      "outputs": [
        {
          "output_type": "stream",
          "name": "stdout",
          "text": [
            "ManhattanDistance= 18\n",
            "Out of Place=  8\n",
            "076\n",
            "581\n",
            "324\n"
          ]
        }
      ]
    },
    {
      "cell_type": "code",
      "source": [
        "sol = \"drdlurrullddruruldlurrddlluurrddluldrruulddruullddrruullddrurdlulurrddluurdlulddrulurdldrurdluuldrdr\"\n",
        "print (len(sol))\n",
        "print(ApplyMoves(sol, InitialState))"
      ],
      "metadata": {
        "colab": {
          "base_uri": "https://localhost:8080/"
        },
        "id": "tvcSVaToG-PG",
        "outputId": "b41535ad-8f17-4a7f-fa0d-5808db2e1ac9"
      },
      "execution_count": null,
      "outputs": [
        {
          "output_type": "stream",
          "name": "stdout",
          "text": [
            "100\n",
            "123456780\n"
          ]
        }
      ]
    },
    {
      "cell_type": "markdown",
      "source": [
        "# Simple 15 Puzzle Test"
      ],
      "metadata": {
        "id": "wcOUk-mFXLPN"
      }
    },
    {
      "cell_type": "code",
      "source": [
        "GoalState = \"123456789ABCDEF0\"\n",
        "s15a = Result(GoalState, \"l\")\n",
        "s15b = Result(GoalState, \"u\")\n",
        "\n",
        "PrintState(GoalState)\n",
        "print()\n",
        "PrintState(s15a)\n",
        "print('')\n",
        "PrintState(s15b)"
      ],
      "metadata": {
        "colab": {
          "base_uri": "https://localhost:8080/"
        },
        "id": "7tliBdOyXPQk",
        "outputId": "b04739fb-d65c-4cbc-db9b-88ba0fbfd37f"
      },
      "execution_count": null,
      "outputs": [
        {
          "output_type": "stream",
          "name": "stdout",
          "text": [
            "1234\n",
            "5678\n",
            "9ABC\n",
            "DEF0\n",
            "\n",
            "1234\n",
            "5678\n",
            "9ABC\n",
            "DE0F\n",
            "\n",
            "1234\n",
            "5678\n",
            "9AB0\n",
            "DEFC\n"
          ]
        }
      ]
    }
  ]
}