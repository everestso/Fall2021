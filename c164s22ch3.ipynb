{
  "nbformat": 4,
  "nbformat_minor": 0,
  "metadata": {
    "colab": {
      "name": "c164s22ch3.ipynb",
      "provenance": [],
      "collapsed_sections": [],
      "authorship_tag": "ABX9TyPqJFQzGuGgssrVZr1hJ/G/",
      "include_colab_link": true
    },
    "kernelspec": {
      "name": "python3",
      "display_name": "Python 3"
    },
    "language_info": {
      "name": "python"
    }
  },
  "cells": [
    {
      "cell_type": "markdown",
      "metadata": {
        "id": "view-in-github",
        "colab_type": "text"
      },
      "source": [
        "<a href=\"https://colab.research.google.com/github/everestso/Fall21Spring22/blob/main/c164s22ch3.ipynb\" target=\"_parent\"><img src=\"https://colab.research.google.com/assets/colab-badge.svg\" alt=\"Open In Colab\"/></a>"
      ]
    },
    {
      "cell_type": "markdown",
      "source": [
        "# Tile Sliding Domain"
      ],
      "metadata": {
        "id": "9FVyNdz0TgSw"
      }
    },
    {
      "cell_type": "code",
      "execution_count": 32,
      "metadata": {
        "id": "_fIiW0IpTb3z"
      },
      "outputs": [],
      "source": [
        "import random\n",
        "import heapq\n",
        "\n",
        "random.seed(13)"
      ]
    },
    {
      "cell_type": "code",
      "source": [
        "StateDimension=3\n",
        "# StateDimension=4\n",
        "#InitialState = [1,2,3,4,5,6,0,7,8]\n",
        "InitialState = \"123456078\"\n",
        "#GoalState=[1,2,3,4,5,6,7,8,0]\n",
        "GoalState = \"123456780\"\n",
        "# GoalState = \"123456789ABCDEF0\"\n",
        "Actions = lambda s: ['u', 'd', 'l', 'r']\n",
        "Opposite=dict([('u','d'),('d','u'),('l','r'),('r','l'), (None, None)])"
      ],
      "metadata": {
        "id": "RfvRdvY1Ti4J"
      },
      "execution_count": 33,
      "outputs": []
    },
    {
      "cell_type": "code",
      "source": [
        "def Result(state, action):\n",
        "  i = state.index('0')\n",
        "  newState = list(state)\n",
        "  row,col=i//StateDimension, i % StateDimension\n",
        "  if ( (action=='u' and row==0) or\n",
        "       (action=='d' and row==StateDimension-1) or\n",
        "       (action=='l' and col==0) or\n",
        "       (action=='r' and col==StateDimension-1)):\n",
        "      return newState\n",
        "  if action=='u':\n",
        "    l,r = row*StateDimension+col, (row-1)*StateDimension+col\n",
        "  elif action=='d':\n",
        "    l,r = row*StateDimension+col, (row+1)*StateDimension+col\n",
        "  elif action=='l':\n",
        "    l,r = row*StateDimension+col, row*StateDimension+col-1\n",
        "  elif action=='r' :\n",
        "    l,r = row*StateDimension+col, row*StateDimension+col+1\n",
        "  newState[l], newState[r] = newState[r], newState[l] \n",
        "  return ''.join(newState)\n",
        "\n",
        "def PrintState(s):\n",
        "  for i in range(0,len(s),StateDimension):\n",
        "    print(s[i:i+StateDimension])\n",
        "\n",
        "def LegalMove(state, action):\n",
        "  i = state.index('0')\n",
        "  row,col=i//StateDimension, i % StateDimension\n",
        "  if ( (action=='u' and row==0) or\n",
        "       (action=='d' and row==StateDimension-1) or\n",
        "       (action=='l' and col==0) or\n",
        "       (action=='r' and col==StateDimension-1)):\n",
        "      return False\n",
        "  return True"
      ],
      "metadata": {
        "id": "ssUlpNBFTnCA"
      },
      "execution_count": 34,
      "outputs": []
    },
    {
      "cell_type": "code",
      "source": [
        "def SingleTileManhattanDistance(tile, left, right):\n",
        "  leftIndex = left.index(tile)\n",
        "  rightIndex = right.index(tile)\n",
        "  return (abs(leftIndex//StateDimension-rightIndex//StateDimension) +\n",
        "          abs(leftIndex%StateDimension-rightIndex%StateDimension))\n",
        "  \n",
        "def ManhattanDistance(left, right):\n",
        "  distances = [SingleTileManhattanDistance(tile, left, right) \n",
        "     for tile in [str(c) for c in range(1, StateDimension**2)]]\n",
        "  ### print (\"Distances= \", distances)\n",
        "  return sum(distances)"
      ],
      "metadata": {
        "id": "IUVdCvNQTpbp"
      },
      "execution_count": 35,
      "outputs": []
    },
    {
      "cell_type": "code",
      "source": [
        "def OutOfPlace(left, right):\n",
        "  distances = [left[i]!=right[i] and right[i] != '0'\n",
        "     for i in range(StateDimension**2)]\n",
        "  return sum(distances)"
      ],
      "metadata": {
        "id": "hCnuAPnsTr44"
      },
      "execution_count": 36,
      "outputs": []
    },
    {
      "cell_type": "code",
      "source": [
        "PrintState(InitialState)"
      ],
      "metadata": {
        "colab": {
          "base_uri": "https://localhost:8080/"
        },
        "id": "87_AiyywTuMw",
        "outputId": "e14277ae-18bf-450a-e0f3-558943d36ef1"
      },
      "execution_count": 37,
      "outputs": [
        {
          "output_type": "stream",
          "name": "stdout",
          "text": [
            "123\n",
            "456\n",
            "078\n"
          ]
        }
      ]
    },
    {
      "cell_type": "code",
      "source": [
        "PrintState(GoalState)"
      ],
      "metadata": {
        "colab": {
          "base_uri": "https://localhost:8080/"
        },
        "id": "65i1Ru-CTwDI",
        "outputId": "80bf697e-56ce-480b-f237-0c9f3382d732"
      },
      "execution_count": 38,
      "outputs": [
        {
          "output_type": "stream",
          "name": "stdout",
          "text": [
            "123\n",
            "456\n",
            "780\n"
          ]
        }
      ]
    },
    {
      "cell_type": "code",
      "source": [
        "print(\"ManhattanDistance=  \", ManhattanDistance(InitialState, GoalState))\n",
        "print(\"OutOfPlace= \", OutOfPlace(InitialState, GoalState))"
      ],
      "metadata": {
        "colab": {
          "base_uri": "https://localhost:8080/"
        },
        "id": "f_xSxAvSTzdB",
        "outputId": "e3feab50-a18d-46d7-9c0d-b94f449bbebc"
      },
      "execution_count": 39,
      "outputs": [
        {
          "output_type": "stream",
          "name": "stdout",
          "text": [
            "ManhattanDistance=   2\n",
            "OutOfPlace=  2\n"
          ]
        }
      ]
    },
    {
      "cell_type": "code",
      "source": [
        "PrintState(InitialState)\n",
        "print()\n",
        "state1 = Result(InitialState, 'u')\n",
        "PrintState(state1)\n",
        "print()\n",
        "state1 = Result(state1, 'r')\n",
        "PrintState(state1)"
      ],
      "metadata": {
        "colab": {
          "base_uri": "https://localhost:8080/"
        },
        "id": "ppFArHIHT1aw",
        "outputId": "50cc8baa-6fc7-4905-ee4e-6163c53f6597"
      },
      "execution_count": 40,
      "outputs": [
        {
          "output_type": "stream",
          "name": "stdout",
          "text": [
            "123\n",
            "456\n",
            "078\n",
            "\n",
            "123\n",
            "056\n",
            "478\n",
            "\n",
            "123\n",
            "506\n",
            "478\n"
          ]
        }
      ]
    },
    {
      "cell_type": "markdown",
      "source": [
        "# Random Walk"
      ],
      "metadata": {
        "id": "ajRbmIksT25w"
      }
    },
    {
      "cell_type": "code",
      "source": [
        "def RandomWalk(state, steps):\n",
        "  actionSequence = []\n",
        "  actionLast = None\n",
        "  for i in range(steps):\n",
        "    action = None\n",
        "    while action==None:\n",
        "      action = random.choice(Actions(state))\n",
        "      action = action if (LegalMove(state, action) \n",
        "          and action!= Opposite[actionLast]) else None\n",
        "    actionLast = action\n",
        "    state = Result(state, action)\n",
        "    actionSequence.append(action)\n",
        "  return state, actionSequence"
      ],
      "metadata": {
        "id": "gcJKpo93T4hI"
      },
      "execution_count": 41,
      "outputs": []
    },
    {
      "cell_type": "code",
      "source": [
        "state1, sol = RandomWalk(InitialState, 50)\n",
        "PrintState(state1)\n",
        "print (ManhattanDistance(state1, GoalState), sol)\n",
        "\n",
        "state1, sol = RandomWalk(InitialState, 5)\n",
        "PrintState(InitialState)\n",
        "print (sol)\n",
        "PrintState(state1)"
      ],
      "metadata": {
        "colab": {
          "base_uri": "https://localhost:8080/"
        },
        "id": "xAwQFbz_T75Q",
        "outputId": "25d889af-4a0d-4e1c-cf78-61ace04ef2b2"
      },
      "execution_count": 42,
      "outputs": [
        {
          "output_type": "stream",
          "name": "stdout",
          "text": [
            "840\n",
            "627\n",
            "135\n",
            "18 ['u', 'u', 'r', 'd', 'l', 'd', 'r', 'r', 'u', 'l', 'l', 'd', 'r', 'r', 'u', 'u', 'l', 'd', 'r', 'd', 'l', 'u', 'u', 'l', 'd', 'd', 'r', 'u', 'r', 'u', 'l', 'l', 'd', 'r', 'r', 'd', 'l', 'u', 'r', 'd', 'l', 'l', 'u', 'r', 'r', 'u', 'l', 'd', 'r', 'u']\n",
            "123\n",
            "456\n",
            "078\n",
            "['r', 'u', 'u', 'l', 'd']\n",
            "413\n",
            "026\n",
            "758\n"
          ]
        }
      ]
    },
    {
      "cell_type": "code",
      "source": [
        "def ApplyMoves(actions, state):\n",
        "  for action in actions:\n",
        "    state = Result(state, action)\n",
        "  return state"
      ],
      "metadata": {
        "id": "OshLMceWT_iI"
      },
      "execution_count": 43,
      "outputs": []
    },
    {
      "cell_type": "code",
      "source": [
        "PrintState(InitialState)\n",
        "print(['r','r'])\n",
        "PrintState(ApplyMoves(['r','r'],InitialState))"
      ],
      "metadata": {
        "colab": {
          "base_uri": "https://localhost:8080/"
        },
        "id": "TejBYJKJUBnw",
        "outputId": "234b5825-0901-493f-8ad0-66d73ae4e309"
      },
      "execution_count": 44,
      "outputs": [
        {
          "output_type": "stream",
          "name": "stdout",
          "text": [
            "123\n",
            "456\n",
            "078\n",
            "['r', 'r']\n",
            "123\n",
            "456\n",
            "780\n"
          ]
        }
      ]
    },
    {
      "cell_type": "code",
      "source": [
        "def ReverseMoves(actions):\n",
        "  ret = [Opposite[a] for a in actions]\n",
        "  ret.reverse()\n",
        "  return ret"
      ],
      "metadata": {
        "id": "90-CRQSGUEYo"
      },
      "execution_count": 45,
      "outputs": []
    },
    {
      "cell_type": "code",
      "source": [
        "state1, sol = RandomWalk(GoalState, 5)\n",
        "PrintState(state1)\n",
        "print (sol)\n",
        "print(ReverseMoves(sol))\n",
        "PrintState (ApplyMoves(ReverseMoves(sol), state1))"
      ],
      "metadata": {
        "id": "lwjBuD8MUGp3",
        "outputId": "a6f3d799-fa55-4b12-fdcd-fb61b83f4323",
        "colab": {
          "base_uri": "https://localhost:8080/"
        }
      },
      "execution_count": 46,
      "outputs": [
        {
          "output_type": "stream",
          "name": "stdout",
          "text": [
            "203\n",
            "156\n",
            "478\n",
            "['l', 'l', 'u', 'u', 'r']\n",
            "['l', 'd', 'd', 'r', 'r']\n",
            "123\n",
            "456\n",
            "780\n"
          ]
        }
      ]
    },
    {
      "cell_type": "markdown",
      "source": [
        "# Example 1"
      ],
      "metadata": {
        "id": "NHyV2rT4BiIz"
      }
    },
    {
      "cell_type": "code",
      "source": [
        "Problems = [RandomWalk(GoalState, 5) for _ in range(10)]\n",
        "for i, s in Problems:\n",
        "  print ('\"', i, '\" , \"', ''.join(map(str, ReverseMoves(s))), '\",', \n",
        "         ManhattanDistance(i, GoalState), sep='')"
      ],
      "metadata": {
        "colab": {
          "base_uri": "https://localhost:8080/"
        },
        "id": "ZXf-fvmRBpHZ",
        "outputId": "dfd34ee5-5fd1-4c94-ea41-112fb1c20a6b"
      },
      "execution_count": 47,
      "outputs": [
        {
          "output_type": "stream",
          "name": "stdout",
          "text": [
            "\"123745806\" , \"lurrd\",5\n",
            "\"123746508\" , \"lurdr\",5\n",
            "\"412053786\" , \"urrdd\",5\n",
            "\"203156478\" , \"lddrr\",5\n",
            "\"413026758\" , \"urddr\",5\n",
            "\"413026758\" , \"urddr\",5\n",
            "\"203156478\" , \"lddrr\",5\n",
            "\"152430786\" , \"lurdd\",5\n",
            "\"152430786\" , \"lurdd\",5\n",
            "\"413026758\" , \"urddr\",5\n"
          ]
        }
      ]
    },
    {
      "cell_type": "code",
      "source": [
        "NewState = ApplyMoves(\"dldrr\", \"103526478\")\n",
        "print (NewState)\n",
        "PrintState(\"123456780\")\n",
        "print()\n",
        "PrintState(\"103526478\")\n",
        "print(OutOfPlace(\"103526478\", \"123456780\"))\n",
        "MD=[(1,0), (2, 1), (3, 0), (4, 1), (5, 1), (6, 0), (7, 1), (8, 1)]\n",
        "print(ManhattanDistance(\"103526478\", \"123456780\"))"
      ],
      "metadata": {
        "colab": {
          "base_uri": "https://localhost:8080/"
        },
        "id": "Zd6YIiylBjwZ",
        "outputId": "b2f47881-6e91-4c5b-b542-eef7561502b8"
      },
      "execution_count": 48,
      "outputs": [
        {
          "output_type": "stream",
          "name": "stdout",
          "text": [
            "123456780\n",
            "123\n",
            "456\n",
            "780\n",
            "\n",
            "103\n",
            "526\n",
            "478\n",
            "5\n",
            "5\n"
          ]
        }
      ]
    },
    {
      "cell_type": "code",
      "source": [
        "InitialState = \"412053786\"\n",
        "GoalState = \"123456780\"\n",
        "print (\"ManhattanDistance=\", ManhattanDistance(InitialState, GoalState))\n",
        "print (\"Out of Place= \", OutOfPlace(InitialState, GoalState))"
      ],
      "metadata": {
        "colab": {
          "base_uri": "https://localhost:8080/"
        },
        "id": "fVTZOaPjCNut",
        "outputId": "b262bf27-3cde-4867-8d6a-3e50378cc6fc"
      },
      "execution_count": 49,
      "outputs": [
        {
          "output_type": "stream",
          "name": "stdout",
          "text": [
            "ManhattanDistance= 5\n",
            "Out of Place=  5\n"
          ]
        }
      ]
    },
    {
      "cell_type": "markdown",
      "source": [
        "# Example 2"
      ],
      "metadata": {
        "id": "j2dQ_DJmDb8g"
      }
    },
    {
      "cell_type": "code",
      "source": [
        "Problems = [RandomWalk(GoalState, 100) for _ in range(20)]\n",
        "for i, s in Problems:\n",
        "  print ('\"', i, '\", ', ''.join(map(str, ReverseMoves(s))), '\",', \n",
        "         OutOfPlace(i, GoalState), \" \",  ManhattanDistance(i, GoalState), sep='')"
      ],
      "metadata": {
        "colab": {
          "base_uri": "https://localhost:8080/"
        },
        "id": "gGpC7L0-DY2Y",
        "outputId": "53120c4a-0018-40d5-dfb2-857184175b35"
      },
      "execution_count": 50,
      "outputs": [
        {
          "output_type": "stream",
          "name": "stdout",
          "text": [
            "\"847503612\", druldruullddrrulurddlulurddrullurrddlulurrdldlurdruullddrruullddrrulurddllurulddrruuldrullddrrulurdd\",8 20\n",
            "\"241703685\", ldrrululddruruldlurrddluurdluldrdlurdruullddrurdllurdruulldrulddruruldlurdruldlurdrdlluurrdllurrdldr\",7 12\n",
            "\"068475321\", rrdldlurrulddluruldrulddruuldrurdlldruruldlurrddlurulddrululdrurddlluurrddluldrulurddrullurrddluurdd\",7 18\n",
            "\"523418760\", llururdluldrruldldruldrurdlluurrddlluurddluurddruulddrulldrrullurrddlluurrdldruuldlurdrdlluurdruldrd\",4 8\n",
            "\"041567832\", druldrulddrruulddluurdrdlluurdrdllurrdluldrurdluulddrrulldrrullurddlurrullddrruldruulldrrdluuldrurdd\",8 16\n",
            "\"813267450\", lluurrddlurdluulddruldrruuldldruldrruulddrululddrrulurdllurrddlulurrddlurullddruldruruldldrrululdrdr\",7 12\n",
            "\"240683517\", ldrdlluurrdlulddruldruulddruurddluurdldruuldlurdldrulurdrdllurrdluurddlluurdrullddrrulldrruuldlurddr\",8 14\n",
            "\"740862153\", llddrurulddrululdrdruulddruldlurdlurdlurdlurrdlluurdruldrdluuldrulddrrulurdllurrddluurddlluurdruldrd\",8 14\n",
            "\"068347251\", rdrdlluurrddlluurrddluulddrruuldrdluuldrdluurrddllurdruldluurddruulldrrdllururddllururddllurdluurdrd\",8 20\n",
            "\"854601732\", urddlluurddruldruulldrulddruulddrulurrdlulddruurddlurdllururddlulurrdlldrrululdrdruullddrulurdlurrdd\",7 18\n",
            "\"745132860\", llururddlluurrddllururdlldruulddruruldldrruuldlurddlurrdlluurrddluldruldruldrrulurdlulddruuldrruldrd\",8 14\n",
            "\"586304712\", urdldluurdldrruuldrulldrdruullddrrululdrdluurrddllurruldrdlulurrddlluruldrrdluruldlurddrulurdlulddrr\",7 16\n",
            "\"342781065\", rulurrdlldrulurddruulldruldrrdlluurrddlurulldrurddlurdlluurdrullddruldrrululddruurdlurddlurdluulddrr\",8 14\n",
            "\"237401586\", lurrdllurrddlulurddluurddluurrddlluurdrullddrruuldrdlluurrdldluurdrullddrrullurddlururdldluurdruldrd\",6 12\n",
            "\"032641587\", drurdlldrrulldrurdlluurdrulldrdlurdluurdrdluurdluldrulddrulurrddluldrruulldrdluurdrullddrurdluurdldr\",7 12\n",
            "\"715604238\", dlurrullddruuldrurddlulurdlurddluurdldrruulldrdruuldldruldrrulurddluulddrrulldrurullddruurddlulurrdd\",8 16\n",
            "\"354172086\", uruldrdluurdrdllurrullddrruldruuldruldrdlluruldrurdlurdlldrrulurdldrulldruuldrdruulddrululddruulddrr\",7 12\n",
            "\"012743586\", rrddllururddllurrullddrruldruullddruurdluldrdruullddrruulldrurdldluurrdldruldruldluurrddlluurdrdlurd\",7 8\n",
            "\"471603825\", rdluurdlldruurddluuldrurdlurdluldrurddlulurddluurrdldruuldrulldrrullddruurddlulurrdlldrruullddrruldr\",8 14\n",
            "\"251604873\", dluurddrullurddlurrulddlurdruulldrdrulldrruuldldrruulldrrulldrrullddruruldrdluulddrrulldruulddruldrr\",8 12\n"
          ]
        }
      ]
    },
    {
      "cell_type": "code",
      "source": [
        "InitialState = \"281607543\"\n",
        "GoalState = \"123456780\"\n",
        "print (\"ManhattanDistance=\", ManhattanDistance(InitialState, GoalState))\n",
        "print (\"Out of Place= \", OutOfPlace(InitialState, GoalState))"
      ],
      "metadata": {
        "colab": {
          "base_uri": "https://localhost:8080/"
        },
        "id": "sr2YbSd8Disw",
        "outputId": "0a554208-214e-40e9-a30e-854ac6842c07"
      },
      "execution_count": 51,
      "outputs": [
        {
          "output_type": "stream",
          "name": "stdout",
          "text": [
            "ManhattanDistance= 16\n",
            "Out of Place=  8\n"
          ]
        }
      ]
    },
    {
      "cell_type": "code",
      "source": [
        "InitialState = \"076581324\"\n",
        "GoalState = \"123456780\"\n",
        "print (\"ManhattanDistance=\", ManhattanDistance(InitialState, GoalState))\n",
        "print (\"Out of Place= \", OutOfPlace(InitialState, GoalState))\n",
        "PrintState(InitialState)"
      ],
      "metadata": {
        "colab": {
          "base_uri": "https://localhost:8080/"
        },
        "id": "5vmBqZGqGvey",
        "outputId": "371c3c3a-6cd4-434c-aee8-e2bc717c793e"
      },
      "execution_count": 52,
      "outputs": [
        {
          "output_type": "stream",
          "name": "stdout",
          "text": [
            "ManhattanDistance= 18\n",
            "Out of Place=  8\n",
            "076\n",
            "581\n",
            "324\n"
          ]
        }
      ]
    },
    {
      "cell_type": "code",
      "source": [
        "sol = \"drdlurrullddruruldlurrddlluurrddluldrruulddruullddrruullddrurdlulurrddluurdlulddrulurdldrurdluuldrdr\"\n",
        "print (len(sol))\n",
        "print(ApplyMoves(sol, InitialState))"
      ],
      "metadata": {
        "colab": {
          "base_uri": "https://localhost:8080/"
        },
        "id": "tvcSVaToG-PG",
        "outputId": "1d28f865-589c-4865-b5b5-a5106cd4b9bc"
      },
      "execution_count": 53,
      "outputs": [
        {
          "output_type": "stream",
          "name": "stdout",
          "text": [
            "100\n",
            "123456780\n"
          ]
        }
      ]
    },
    {
      "cell_type": "markdown",
      "source": [
        "# Simple 15 Puzzle Test"
      ],
      "metadata": {
        "id": "wcOUk-mFXLPN"
      }
    },
    {
      "cell_type": "code",
      "source": [
        "GoalState = \"123456789ABCDEF0\"\n",
        "s15a = Result(GoalState, \"l\")\n",
        "s15b = Result(GoalState, \"u\")\n",
        "\n",
        "PrintState(GoalState)\n",
        "print()\n",
        "PrintState(s15a)\n",
        "print('')\n",
        "PrintState(s15b)"
      ],
      "metadata": {
        "colab": {
          "base_uri": "https://localhost:8080/"
        },
        "id": "7tliBdOyXPQk",
        "outputId": "9eccf50c-3357-4f67-a1b9-bc08d09898b5"
      },
      "execution_count": 54,
      "outputs": [
        {
          "output_type": "stream",
          "name": "stdout",
          "text": [
            "123\n",
            "456\n",
            "789\n",
            "ABC\n",
            "DEF\n",
            "0\n",
            "\n",
            "['1', '2', '3']\n",
            "['4', '5', '6']\n",
            "['7', '8', '9']\n",
            "['A', 'B', 'C']\n",
            "['D', 'E', 'F']\n",
            "['0']\n",
            "\n",
            "123\n",
            "456\n",
            "789\n",
            "ABC\n",
            "0EF\n",
            "D\n"
          ]
        }
      ]
    },
    {
      "cell_type": "markdown",
      "source": [
        "# Discussion"
      ],
      "metadata": {
        "id": "7JRFs_HWVNhc"
      }
    },
    {
      "cell_type": "code",
      "source": [
        "StateDimension=3\n",
        "s1 = \"821357064\"\n",
        "sol1=\"ruurdllurrdlurddllurrdllurrd\"\n",
        "r = ApplyMoves(sol1, s1)\n",
        "PrintState(r)"
      ],
      "metadata": {
        "colab": {
          "base_uri": "https://localhost:8080/"
        },
        "id": "0sZoWp-wVPbH",
        "outputId": "855a14cb-35f1-441b-e882-a3123d1e213a"
      },
      "execution_count": 55,
      "outputs": [
        {
          "output_type": "stream",
          "name": "stdout",
          "text": [
            "123\n",
            "456\n",
            "780\n"
          ]
        }
      ]
    },
    {
      "cell_type": "code",
      "source": [
        "StateDimension=4\n",
        "s1 = \"13275AE069C4DF8B\"\n",
        "sol1=\"dluullddrrruuldrddlurdlluulurrrddd\"\n",
        "r = ApplyMoves(sol1, s1)\n",
        "PrintState(r)"
      ],
      "metadata": {
        "colab": {
          "base_uri": "https://localhost:8080/"
        },
        "id": "2VJ9ohw5VY5G",
        "outputId": "e4f4dda2-3c06-4dc3-fd18-4c4ab7cc4b4a"
      },
      "execution_count": 56,
      "outputs": [
        {
          "output_type": "stream",
          "name": "stdout",
          "text": [
            "1234\n",
            "5678\n",
            "9ABC\n",
            "DEF0\n"
          ]
        }
      ]
    },
    {
      "cell_type": "code",
      "source": [
        "StateDimension=4\n",
        "s=\"FAC42B061D89E537\"\n",
        "sol1=\"LLURDLDRDRURDLUULDDRUUULLDRDDRUULURDRDDLLLURURRDLDR\".lower()\n",
        "sol2=\"ddluuuldddrruluuldddruulddruulddruurruldlurrdlddluldrruuurdlddruuuldddruldlurrdllluruurdddllurrdlurdluldrruulurdldruuldddrruldlurrdlluurddlurulddrulurddr\"\n",
        "print(len(sol1))\n",
        "print(len(sol2))\n",
        "\n",
        "r = ApplyMoves(sol1, s)\n",
        "print(\"------Solution 1-------\")\n",
        "PrintState(r)\n",
        "r = ApplyMoves(sol2, s)\n",
        "print(\"------Solution 2-------\")\n",
        "PrintState(r)\n",
        "\n"
      ],
      "metadata": {
        "colab": {
          "base_uri": "https://localhost:8080/"
        },
        "id": "INRBN3UNWezt",
        "outputId": "8978eebe-55dc-47ea-b1a9-eff141d51f78"
      },
      "execution_count": 57,
      "outputs": [
        {
          "output_type": "stream",
          "name": "stdout",
          "text": [
            "51\n",
            "153\n",
            "------Solution 1-------\n",
            "1234\n",
            "5678\n",
            "9ABC\n",
            "DEF0\n",
            "------Solution 2-------\n",
            "1234\n",
            "5678\n",
            "9ABC\n",
            "DEF0\n"
          ]
        }
      ]
    },
    {
      "cell_type": "markdown",
      "source": [
        "## Assignment Challenge Problems"
      ],
      "metadata": {
        "id": "b_2nAEAIaak1"
      }
    },
    {
      "cell_type": "code",
      "source": [
        "StateDimension=4\n",
        "s=\"71A92CE03DB4658F\t\"\n",
        "sol1=\"LLLDDRURURDLDRULLULURRRDDLUULDDRUULDLDDRURULLDRRRD\".lower()\n",
        "print(len(sol1))\n",
        "\n",
        "r = ApplyMoves(sol1, s)\n",
        "PrintState(r)"
      ],
      "metadata": {
        "colab": {
          "base_uri": "https://localhost:8080/"
        },
        "id": "7g6jgO7ibZ32",
        "outputId": "6ebdf786-0958-4ade-cf8f-b83eeec4e57d"
      },
      "execution_count": 62,
      "outputs": [
        {
          "output_type": "stream",
          "name": "stdout",
          "text": [
            "50\n",
            "1234\n",
            "5678\n",
            "9ABC\n",
            "DEF0\n",
            "\t\n"
          ]
        }
      ]
    },
    {
      "cell_type": "code",
      "source": [
        "StateDimension=4\n",
        "s=\"02348697DF5A1EBC\"\n",
        "sol1=\"RDDRDLULDRUURDLULDDRRURULLULDDRRRULDRD\".lower()\n",
        "print(len(sol1))\n",
        "\n",
        "r = ApplyMoves(sol1, s)\n",
        "PrintState(r)"
      ],
      "metadata": {
        "colab": {
          "base_uri": "https://localhost:8080/"
        },
        "id": "fO7rYJD-bNrt",
        "outputId": "cf0ec579-cef4-4a87-8021-3c92e78298a1"
      },
      "execution_count": 61,
      "outputs": [
        {
          "output_type": "stream",
          "name": "stdout",
          "text": [
            "38\n",
            "1234\n",
            "5678\n",
            "9ABC\n",
            "DEF0\n"
          ]
        }
      ]
    },
    {
      "cell_type": "code",
      "source": [
        "StateDimension=4\n",
        "s=\"39A1D0EC7BF86452\"\n",
        "sol1=\"DLUURRRDDLLDRRULULDDRUULURDLLURDDDLUURDDRUURULLDDRRULDDR\".lower()\n",
        "print(len(sol1))\n",
        "\n",
        "r = ApplyMoves(sol1, s)\n",
        "PrintState(r)"
      ],
      "metadata": {
        "colab": {
          "base_uri": "https://localhost:8080/"
        },
        "id": "RMTwbPSJbAsc",
        "outputId": "0136bca4-a70d-48f7-85e7-ab66c8bbba6c"
      },
      "execution_count": 60,
      "outputs": [
        {
          "output_type": "stream",
          "name": "stdout",
          "text": [
            "56\n",
            "1234\n",
            "5678\n",
            "9ABC\n",
            "DEF0\n"
          ]
        }
      ]
    },
    {
      "cell_type": "code",
      "source": [
        "StateDimension=4\n",
        "s=\"EAB480FC19D56237\"\n",
        "sol1=\"LDRRUULLDDRDRURULLDRULDDLUURURDDLDRRUULDLUURDDDLUURDRD\".lower()\n",
        "print(len(sol1))\n",
        "\n",
        "r = ApplyMoves(sol1, s)\n",
        "PrintState(r)"
      ],
      "metadata": {
        "colab": {
          "base_uri": "https://localhost:8080/"
        },
        "id": "7X3aKWX8a0HC",
        "outputId": "e5c8557a-d2b2-4ed0-a642-8ff0c7c04ecc"
      },
      "execution_count": 59,
      "outputs": [
        {
          "output_type": "stream",
          "name": "stdout",
          "text": [
            "54\n",
            "1234\n",
            "5678\n",
            "9ABC\n",
            "DEF0\n"
          ]
        }
      ]
    },
    {
      "cell_type": "code",
      "source": [
        "StateDimension=4\n",
        "s=\"7DB13C52F46E80A9\"\n",
        "sol1=\"RULLDRRRULLUULDRRURDDLLLURDDRRULULULDRURRDLLLURRDLDDLURDRR\".lower()\n",
        "print(len(sol1))\n",
        "\n",
        "r = ApplyMoves(sol1, s)\n",
        "PrintState(r)\n"
      ],
      "metadata": {
        "colab": {
          "base_uri": "https://localhost:8080/"
        },
        "id": "i8OoFyQAaeDM",
        "outputId": "303d660d-2e31-4fde-c25a-78ad2fbf762c"
      },
      "execution_count": 58,
      "outputs": [
        {
          "output_type": "stream",
          "name": "stdout",
          "text": [
            "58\n",
            "1234\n",
            "5678\n",
            "9ABC\n",
            "DEF0\n"
          ]
        }
      ]
    }
  ]
}