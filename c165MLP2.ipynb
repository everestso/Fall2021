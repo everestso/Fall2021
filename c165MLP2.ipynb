{
  "nbformat": 4,
  "nbformat_minor": 0,
  "metadata": {
    "colab": {
      "name": "c165MLP2.ipynb",
      "provenance": [],
      "collapsed_sections": [],
      "authorship_tag": "ABX9TyNhCr3/WC2t91ZD/GGWb0Lg",
      "include_colab_link": true
    },
    "kernelspec": {
      "name": "python3",
      "display_name": "Python 3"
    },
    "language_info": {
      "name": "python"
    }
  },
  "cells": [
    {
      "cell_type": "markdown",
      "metadata": {
        "id": "view-in-github",
        "colab_type": "text"
      },
      "source": [
        "<a href=\"https://colab.research.google.com/github/everestso/Fall2021/blob/main/c165MLP2.ipynb\" target=\"_parent\"><img src=\"https://colab.research.google.com/assets/colab-badge.svg\" alt=\"Open In Colab\"/></a>"
      ]
    },
    {
      "cell_type": "code",
      "metadata": {
        "id": "2wXeMg7DPIkd"
      },
      "source": [
        "data = [((0,0),0), ((0,1),1), ((1,0),1), ((1,1),0)]\n"
      ],
      "execution_count": 1,
      "outputs": []
    },
    {
      "cell_type": "code",
      "metadata": {
        "id": "IKRCkdopPO3D"
      },
      "source": [
        "import matplotlib.pyplot as plt\n",
        "from sklearn.neural_network import MLPClassifier, MLPRegressor\n",
        "from sklearn.linear_model import LogisticRegression\n",
        "from sklearn.linear_model import LinearRegression\n",
        "import numpy as np"
      ],
      "execution_count": 2,
      "outputs": []
    },
    {
      "cell_type": "code",
      "metadata": {
        "colab": {
          "base_uri": "https://localhost:8080/"
        },
        "id": "8oq8ZEEhPTeX",
        "outputId": "3a5765c0-9111-4d43-ac7f-e70b104e8e64"
      },
      "source": [
        "clf = MLPClassifier(\n",
        "                activation='logistic',\n",
        "                max_iter=10000000,\n",
        "                hidden_layer_sizes=(2,),\n",
        "                solver='lbfgs')\n",
        "X= [x for x,y in data]\n",
        "Y= [y for x,y in data]\n",
        "print (X)\n",
        "print (Y)\n",
        "clf.fit(X,Y)\n",
        "Predict = clf.predict(X)\n",
        "PredictProb = clf.predict_proba(X)\n",
        "print(Predict)\n",
        "print(PredictProb)\n",
        "print(clf.coefs_)\n",
        "print(clf.intercepts_)"
      ],
      "execution_count": 70,
      "outputs": [
        {
          "output_type": "stream",
          "name": "stdout",
          "text": [
            "[(0, 0), (0, 1), (1, 0), (1, 1)]\n",
            "[0, 1, 1, 0]\n",
            "[0 0 1 1]\n",
            "[[0.99858771 0.00141229]\n",
            " [0.50045966 0.49954034]\n",
            " [0.00129603 0.99870397]\n",
            " [0.49954033 0.50045967]]\n",
            "[array([[ 4.62245227, -4.92232147],\n",
            "       [10.15044136, 10.1073792 ]]), array([[ 8.05523709],\n",
            "       [-8.38499766]])]\n",
            "[array([-1.7686401 ,  3.22574771]), array([0.32975254])]\n"
          ]
        }
      ]
    },
    {
      "cell_type": "code",
      "metadata": {
        "colab": {
          "base_uri": "https://localhost:8080/"
        },
        "id": "fJIJNvdGPa5_",
        "outputId": "1af9e556-008c-4b01-fa75-32d187f901c2"
      },
      "source": [
        "Predict = clf.predict(X)\n",
        "PredictProb = clf.predict_proba(X)\n",
        "print(Predict)\n",
        "print(PredictProb)"
      ],
      "execution_count": 71,
      "outputs": [
        {
          "output_type": "stream",
          "name": "stdout",
          "text": [
            "[0 0 1 1]\n",
            "[[0.99858771 0.00141229]\n",
            " [0.50045966 0.49954034]\n",
            " [0.00129603 0.99870397]\n",
            " [0.49954033 0.50045967]]\n"
          ]
        }
      ]
    },
    {
      "cell_type": "markdown",
      "metadata": {
        "id": "IG8j6yIxbvD5"
      },
      "source": [
        "Network <div style=\"text-align: left;\"><img src=\"https://raw.githubusercontent.com/everestso/Fall2021/main/FeedForwardNetwork2Units.png\" width=\"400\" height=\"400\" /></div> Network"
      ]
    },
    {
      "cell_type": "markdown",
      "metadata": {
        "id": "aL5ToJ23dV9F"
      },
      "source": [
        "Network <img src=\"https://raw.githubusercontent.com/everestso/Fall2021/main/FeedForwardNetwork2Units.png\" width=\"400\" height=\"400\" alt=\"Sunflower\" style=\"float: left; margin-left: 15px;\"> Network"
      ]
    },
    {
      "cell_type": "code",
      "metadata": {
        "colab": {
          "base_uri": "https://localhost:8080/"
        },
        "id": "24LcY0e6RAZX",
        "outputId": "a6e5330d-3d13-433f-825a-e3d2962ea74f"
      },
      "source": [
        "# W1\n",
        "W1 = clf.coefs_[0][:,0]\n",
        "W1=np.insert(W1, 0, clf.intercepts_[0][0])\n",
        "print(\"W1=\", W1)\n",
        "\n",
        "# W2\n",
        "W2 = clf.coefs_[0][:,1]\n",
        "W2=np.insert(W2, 0, clf.intercepts_[0][1])\n",
        "print(\"W2=\", W2)\n",
        "\n",
        "# V1\n",
        "V1 = clf.coefs_[1][:,0]\n",
        "V1 = np.insert(V1, 0, clf.intercepts_[1][0])\n",
        "print (\"V1=\", V1)"
      ],
      "execution_count": 79,
      "outputs": [
        {
          "output_type": "stream",
          "name": "stdout",
          "text": [
            "W1= [-1.7686401   4.62245227 10.15044136]\n",
            "W2= [ 3.22574771 -4.92232147 10.1073792 ]\n",
            "V1= [ 0.32975254  8.05523709 -8.38499766]\n"
          ]
        }
      ]
    },
    {
      "cell_type": "code",
      "metadata": {
        "id": "XEo-HvgwU_fX"
      },
      "source": [
        "F = lambda m, x: m[0] + m[1]*x[0] + m[2]*x[1]\n",
        "G = lambda y: 1/(1+np.exp(-y))"
      ],
      "execution_count": 73,
      "outputs": []
    },
    {
      "cell_type": "code",
      "metadata": {
        "colab": {
          "base_uri": "https://localhost:8080/"
        },
        "id": "rx5TEZRTVRyl",
        "outputId": "c0640244-ea1f-4b69-cca9-52872e74965a"
      },
      "source": [
        "X=(1,0)\n",
        "Z1 = G(F(W1, X))\n",
        "Z2 = G(F(W2, X))\n",
        "Y1 = G(F(V1, (Z1, Z2)))\n",
        "print(Y1)"
      ],
      "execution_count": 77,
      "outputs": [
        {
          "output_type": "stream",
          "name": "stdout",
          "text": [
            "0.9987039740622372\n"
          ]
        }
      ]
    },
    {
      "cell_type": "code",
      "metadata": {
        "id": "t96MC9_cV2tt"
      },
      "source": [
        "Ynet1 = lambda wa, wb, v, x: G( F( v, (G(F(wa, x)), G(F(wb, x)))))"
      ],
      "execution_count": 75,
      "outputs": []
    },
    {
      "cell_type": "code",
      "metadata": {
        "colab": {
          "base_uri": "https://localhost:8080/"
        },
        "id": "y7uzVJAfWPtA",
        "outputId": "0e1e3ee4-41e3-458d-e5a7-7c21f0aa3d4a"
      },
      "source": [
        "print(Ynet1(W1, W2, V1, X))\n",
        "P1 = [b for a,b in PredictProb ]\n",
        "P2 = [Ynet1(W1, W2, V1, x) for x,y in data]\n",
        "print(P1)\n",
        "print(P2)"
      ],
      "execution_count": 78,
      "outputs": [
        {
          "output_type": "stream",
          "name": "stdout",
          "text": [
            "0.9987039740622372\n",
            "[0.0014122913888897541, 0.4995403387570756, 0.9987039740622372, 0.5004596693293114]\n",
            "[0.0014122913888897528, 0.4995403387570756, 0.9987039740622372, 0.5004596693293113]\n"
          ]
        }
      ]
    }
  ]
}