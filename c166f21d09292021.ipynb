{
  "nbformat": 4,
  "nbformat_minor": 0,
  "metadata": {
    "colab": {
      "name": "c166f21d09292021.ipynb",
      "provenance": [],
      "authorship_tag": "ABX9TyOfDvgc1RL+/MFgWbzy/NTS",
      "include_colab_link": true
    },
    "kernelspec": {
      "name": "python3",
      "display_name": "Python 3"
    },
    "language_info": {
      "name": "python"
    }
  },
  "cells": [
    {
      "cell_type": "markdown",
      "metadata": {
        "id": "view-in-github",
        "colab_type": "text"
      },
      "source": [
        "<a href=\"https://colab.research.google.com/github/everestso/Fall2021/blob/main/c166f21d09292021.ipynb\" target=\"_parent\"><img src=\"https://colab.research.google.com/assets/colab-badge.svg\" alt=\"Open In Colab\"/></a>"
      ]
    },
    {
      "cell_type": "code",
      "metadata": {
        "id": "ys6kPY5HFd8Z"
      },
      "source": [
        "V0={}\n",
        "V0[(1,1)]=0\n",
        "V0[(1,2)]=0\n",
        "V0[(2,1)]=0\n",
        "V0[(2,2)]=0\n",
        "V0[(3,1)]=0\n",
        "V0[0] = 0"
      ],
      "execution_count": 11,
      "outputs": []
    },
    {
      "cell_type": "code",
      "metadata": {
        "colab": {
          "base_uri": "https://localhost:8080/"
        },
        "id": "feNEOSGiGa1T",
        "outputId": "1de44181-f6e2-4924-e6c2-8cec284979ab"
      },
      "source": [
        "V1={}\n",
        "V1[0]=0\n",
        "V1[(1,1)]=max(\n",
        "    0.2 * (0 +  V0[(1,2)]) + 0.8 * (0 +  V0[(2,1)]),\n",
        "    0.8 * (0 +  V0[(1,2)]) + 0.2 * (0 +  V0[(2,1)])\n",
        ")\n",
        "\n",
        "V1[(1,2)]=1.0 * (-2 + V0[0])\n",
        "V1[(2,1)]=max(\n",
        "    0.2 * (0 +  V0[(2,2)]) + 0.8 * (0 +  V0[(3,1)]),   ## down\n",
        "    0.8 * (0 +  V0[(2,2)]) + 0.2 * (0 +  V0[(3,1)])    ### right\n",
        ")\n",
        "V1[(2,2)]=1.0 * (-2 + V0[0])\n",
        "V1[(3,1)]=1.0 * (10 + V0[0])\n",
        "\n",
        "print (V1)"
      ],
      "execution_count": 16,
      "outputs": [
        {
          "output_type": "stream",
          "name": "stdout",
          "text": [
            "{0: 0, (1, 1): 0.0, (1, 2): -2.0, (2, 1): 0.0, (2, 2): -2.0, (3, 1): 10.0}\n"
          ]
        }
      ]
    },
    {
      "cell_type": "code",
      "metadata": {
        "colab": {
          "base_uri": "https://localhost:8080/"
        },
        "id": "UV_5vMMJJE5n",
        "outputId": "ca01ce86-ad18-4b93-f1c4-6fdf0797ac9c"
      },
      "source": [
        "V2={}\n",
        "V2[0] = 0\n",
        "V2[(1,1)]=max(\n",
        "    0.2 * (0 +  V1[(1,2)]) + 0.8 * (0 +  V1[(2,1)]),\n",
        "    0.8 * (0 +  V1[(1,2)]) + 0.2 * (0 +  V1[(2,1)])\n",
        ")\n",
        "\n",
        "V2[(1,2)]=1.0 * (-2 + V1[0])\n",
        "V2[(2,1)]=max(\n",
        "    0.2 * (0 +  V1[(2,2)]) + 0.8 * (0 +  V1[(3,1)]),   ## down\n",
        "    0.8 * (0 +  V1[(2,2)]) + 0.2 * (0 +  V1[(3,1)])    ### right\n",
        ")\n",
        "V2[(2,2)]=1.0 * (-2 + V1[0])\n",
        "V2[(3,1)]=1.0 * (10 + V1[0])\n",
        "\n",
        "print (V2)"
      ],
      "execution_count": 14,
      "outputs": [
        {
          "output_type": "stream",
          "name": "stdout",
          "text": [
            "{0: 0, (1, 1): -0.4, (1, 2): -2.0, (2, 1): 7.6, (2, 2): -2.0, (3, 1): 10.0}\n"
          ]
        }
      ]
    },
    {
      "cell_type": "code",
      "metadata": {
        "colab": {
          "base_uri": "https://localhost:8080/"
        },
        "id": "l0CdqqkoKHGH",
        "outputId": "0c0acc71-63f3-4d64-f21b-9fbe05e47439"
      },
      "source": [
        "V3={}\n",
        "V3[0] = 0\n",
        "V3[(1,1)]=max(\n",
        "    0.2 * (0 +  V2[(1,2)]) + 0.8 * (0 +  V2[(2,1)]),\n",
        "    0.8 * (0 +  V2[(1,2)]) + 0.2 * (0 +  V2[(2,1)])\n",
        ")\n",
        "\n",
        "V3[(1,2)]=1.0 * (-2 + V2[0])\n",
        "V3[(2,1)]=max(\n",
        "    0.2 * (0 +  V2[(2,2)]) + 0.8 * (0 +  V2[(3,1)]),   ## down\n",
        "    0.8 * (0 +  V2[(2,2)]) + 0.2 * (0 +  V2[(3,1)])    ### right\n",
        ")\n",
        "V3[(2,2)]=1.0 * (-2 + V2[0])\n",
        "V3[(3,1)]=1.0 * (10 + V2[0])\n",
        "\n",
        "print (V3)"
      ],
      "execution_count": 17,
      "outputs": [
        {
          "output_type": "stream",
          "name": "stdout",
          "text": [
            "{0: 0, (1, 1): 5.68, (1, 2): -2.0, (2, 1): 7.6, (2, 2): -2.0, (3, 1): 10.0}\n"
          ]
        }
      ]
    }
  ]
}